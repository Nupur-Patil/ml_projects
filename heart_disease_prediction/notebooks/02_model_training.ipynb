{
 "cells": [
  {
   "cell_type": "markdown",
   "metadata": {},
   "source": [
    "Oct 12th 2025"
   ]
  },
  {
   "cell_type": "markdown",
   "metadata": {},
   "source": [
    "## Objective:\n",
    "Use previously pre-processed data and fit a suite of classification models in a modular pipeline. The models chosen are logistic regression, Decision Tree and Random Forest. Optimise all 3 models for hyperparamters and evaluate performance using ROC-AUC curve and accuracy. Finally write the optimized model objects in artifacts."
   ]
  },
  {
   "cell_type": "markdown",
   "metadata": {},
   "source": [
    "## Setup"
   ]
  },
  {
   "cell_type": "code",
   "execution_count": 1,
   "metadata": {},
   "outputs": [],
   "source": [
    "import numpy as np\n",
    "import pandas as pd\n",
    "import os\n",
    "import matplotlib.pyplot as plt\n",
    "import seaborn as sns\n",
    "\n",
    "from sklearn.model_selection import cross_val_score, KFold, cross_validate, train_test_split, GridSearchCV\n",
    "from sklearn.preprocessing import StandardScaler\n",
    "from sklearn.linear_model import LogisticRegression\n",
    "from sklearn.pipeline import make_pipeline, Pipeline\n",
    "from sklearn.impute import KNNImputer\n",
    "from sklearn.metrics import RocCurveDisplay, accuracy_score, roc_curve, auc, confusion_matrix, ConfusionMatrixDisplay\n",
    "from sklearn.ensemble import RandomForestClassifier, GradientBoostingClassifier\n",
    "from sklearn.svm import SVC\n",
    "from sklearn.utils import resample\n",
    "from sklearn.decomposition import PCA\n",
    "import xgboost as xgb"
   ]
  },
  {
   "cell_type": "markdown",
   "metadata": {},
   "source": [
    "## Loading pre-processed data"
   ]
  },
  {
   "cell_type": "code",
   "execution_count": 2,
   "metadata": {},
   "outputs": [],
   "source": [
    "path_to_dataset = r'C:\\\\\\\\Users\\\\\\\\patil\\\\\\\\Documents\\\\\\\\GitHub\\\\\\\\ml_projects\\\\\\\\heart_disease_prediction\\\\\\\\data\\\\\\\\processed'\n",
    "filename = 'processed_data.csv'\n",
    "full_file_path = os.path.join(path_to_dataset, filename)\n",
    "df = pd.read_csv(full_file_path, index_col=False)"
   ]
  },
  {
   "cell_type": "code",
   "execution_count": 3,
   "metadata": {},
   "outputs": [
    {
     "data": {
      "text/html": [
       "<div>\n",
       "<style scoped>\n",
       "    .dataframe tbody tr th:only-of-type {\n",
       "        vertical-align: middle;\n",
       "    }\n",
       "\n",
       "    .dataframe tbody tr th {\n",
       "        vertical-align: top;\n",
       "    }\n",
       "\n",
       "    .dataframe thead th {\n",
       "        text-align: right;\n",
       "    }\n",
       "</style>\n",
       "<table border=\"1\" class=\"dataframe\">\n",
       "  <thead>\n",
       "    <tr style=\"text-align: right;\">\n",
       "      <th></th>\n",
       "      <th>age</th>\n",
       "      <th>sex</th>\n",
       "      <th>trestbps</th>\n",
       "      <th>chol</th>\n",
       "      <th>fbs</th>\n",
       "      <th>thalch</th>\n",
       "      <th>exang</th>\n",
       "      <th>oldpeak</th>\n",
       "      <th>ca</th>\n",
       "      <th>num</th>\n",
       "      <th>...</th>\n",
       "      <th>cp_typical angina</th>\n",
       "      <th>restecg_lv hypertrophy</th>\n",
       "      <th>restecg_normal</th>\n",
       "      <th>restecg_st-t abnormality</th>\n",
       "      <th>slope_downsloping</th>\n",
       "      <th>slope_flat</th>\n",
       "      <th>slope_upsloping</th>\n",
       "      <th>thal_fixed defect</th>\n",
       "      <th>thal_normal</th>\n",
       "      <th>thal_reversable defect</th>\n",
       "    </tr>\n",
       "  </thead>\n",
       "  <tbody>\n",
       "    <tr>\n",
       "      <th>0</th>\n",
       "      <td>63</td>\n",
       "      <td>1</td>\n",
       "      <td>145.0</td>\n",
       "      <td>233.0</td>\n",
       "      <td>1</td>\n",
       "      <td>150.0</td>\n",
       "      <td>0</td>\n",
       "      <td>2.3</td>\n",
       "      <td>0.0</td>\n",
       "      <td>0</td>\n",
       "      <td>...</td>\n",
       "      <td>1</td>\n",
       "      <td>1</td>\n",
       "      <td>0</td>\n",
       "      <td>0</td>\n",
       "      <td>1</td>\n",
       "      <td>0</td>\n",
       "      <td>0</td>\n",
       "      <td>1</td>\n",
       "      <td>0</td>\n",
       "      <td>0</td>\n",
       "    </tr>\n",
       "    <tr>\n",
       "      <th>1</th>\n",
       "      <td>67</td>\n",
       "      <td>1</td>\n",
       "      <td>160.0</td>\n",
       "      <td>286.0</td>\n",
       "      <td>0</td>\n",
       "      <td>108.0</td>\n",
       "      <td>1</td>\n",
       "      <td>1.5</td>\n",
       "      <td>3.0</td>\n",
       "      <td>1</td>\n",
       "      <td>...</td>\n",
       "      <td>0</td>\n",
       "      <td>1</td>\n",
       "      <td>0</td>\n",
       "      <td>0</td>\n",
       "      <td>0</td>\n",
       "      <td>1</td>\n",
       "      <td>0</td>\n",
       "      <td>0</td>\n",
       "      <td>1</td>\n",
       "      <td>0</td>\n",
       "    </tr>\n",
       "    <tr>\n",
       "      <th>2</th>\n",
       "      <td>67</td>\n",
       "      <td>1</td>\n",
       "      <td>120.0</td>\n",
       "      <td>229.0</td>\n",
       "      <td>0</td>\n",
       "      <td>129.0</td>\n",
       "      <td>1</td>\n",
       "      <td>2.6</td>\n",
       "      <td>2.0</td>\n",
       "      <td>1</td>\n",
       "      <td>...</td>\n",
       "      <td>0</td>\n",
       "      <td>1</td>\n",
       "      <td>0</td>\n",
       "      <td>0</td>\n",
       "      <td>0</td>\n",
       "      <td>1</td>\n",
       "      <td>0</td>\n",
       "      <td>0</td>\n",
       "      <td>0</td>\n",
       "      <td>1</td>\n",
       "    </tr>\n",
       "    <tr>\n",
       "      <th>3</th>\n",
       "      <td>37</td>\n",
       "      <td>1</td>\n",
       "      <td>130.0</td>\n",
       "      <td>250.0</td>\n",
       "      <td>0</td>\n",
       "      <td>187.0</td>\n",
       "      <td>0</td>\n",
       "      <td>3.5</td>\n",
       "      <td>0.0</td>\n",
       "      <td>0</td>\n",
       "      <td>...</td>\n",
       "      <td>0</td>\n",
       "      <td>0</td>\n",
       "      <td>1</td>\n",
       "      <td>0</td>\n",
       "      <td>1</td>\n",
       "      <td>0</td>\n",
       "      <td>0</td>\n",
       "      <td>0</td>\n",
       "      <td>1</td>\n",
       "      <td>0</td>\n",
       "    </tr>\n",
       "    <tr>\n",
       "      <th>4</th>\n",
       "      <td>41</td>\n",
       "      <td>0</td>\n",
       "      <td>130.0</td>\n",
       "      <td>204.0</td>\n",
       "      <td>0</td>\n",
       "      <td>172.0</td>\n",
       "      <td>0</td>\n",
       "      <td>1.4</td>\n",
       "      <td>0.0</td>\n",
       "      <td>0</td>\n",
       "      <td>...</td>\n",
       "      <td>0</td>\n",
       "      <td>1</td>\n",
       "      <td>0</td>\n",
       "      <td>0</td>\n",
       "      <td>0</td>\n",
       "      <td>0</td>\n",
       "      <td>1</td>\n",
       "      <td>0</td>\n",
       "      <td>1</td>\n",
       "      <td>0</td>\n",
       "    </tr>\n",
       "    <tr>\n",
       "      <th>...</th>\n",
       "      <td>...</td>\n",
       "      <td>...</td>\n",
       "      <td>...</td>\n",
       "      <td>...</td>\n",
       "      <td>...</td>\n",
       "      <td>...</td>\n",
       "      <td>...</td>\n",
       "      <td>...</td>\n",
       "      <td>...</td>\n",
       "      <td>...</td>\n",
       "      <td>...</td>\n",
       "      <td>...</td>\n",
       "      <td>...</td>\n",
       "      <td>...</td>\n",
       "      <td>...</td>\n",
       "      <td>...</td>\n",
       "      <td>...</td>\n",
       "      <td>...</td>\n",
       "      <td>...</td>\n",
       "      <td>...</td>\n",
       "      <td>...</td>\n",
       "    </tr>\n",
       "    <tr>\n",
       "      <th>915</th>\n",
       "      <td>54</td>\n",
       "      <td>0</td>\n",
       "      <td>127.0</td>\n",
       "      <td>333.0</td>\n",
       "      <td>1</td>\n",
       "      <td>154.0</td>\n",
       "      <td>0</td>\n",
       "      <td>0.0</td>\n",
       "      <td>NaN</td>\n",
       "      <td>1</td>\n",
       "      <td>...</td>\n",
       "      <td>0</td>\n",
       "      <td>0</td>\n",
       "      <td>0</td>\n",
       "      <td>1</td>\n",
       "      <td>0</td>\n",
       "      <td>1</td>\n",
       "      <td>0</td>\n",
       "      <td>0</td>\n",
       "      <td>1</td>\n",
       "      <td>0</td>\n",
       "    </tr>\n",
       "    <tr>\n",
       "      <th>916</th>\n",
       "      <td>62</td>\n",
       "      <td>1</td>\n",
       "      <td>NaN</td>\n",
       "      <td>139.0</td>\n",
       "      <td>0</td>\n",
       "      <td>NaN</td>\n",
       "      <td>1</td>\n",
       "      <td>NaN</td>\n",
       "      <td>NaN</td>\n",
       "      <td>0</td>\n",
       "      <td>...</td>\n",
       "      <td>1</td>\n",
       "      <td>0</td>\n",
       "      <td>0</td>\n",
       "      <td>1</td>\n",
       "      <td>0</td>\n",
       "      <td>1</td>\n",
       "      <td>0</td>\n",
       "      <td>0</td>\n",
       "      <td>0</td>\n",
       "      <td>1</td>\n",
       "    </tr>\n",
       "    <tr>\n",
       "      <th>917</th>\n",
       "      <td>55</td>\n",
       "      <td>1</td>\n",
       "      <td>122.0</td>\n",
       "      <td>223.0</td>\n",
       "      <td>1</td>\n",
       "      <td>100.0</td>\n",
       "      <td>0</td>\n",
       "      <td>0.0</td>\n",
       "      <td>NaN</td>\n",
       "      <td>1</td>\n",
       "      <td>...</td>\n",
       "      <td>0</td>\n",
       "      <td>0</td>\n",
       "      <td>0</td>\n",
       "      <td>1</td>\n",
       "      <td>0</td>\n",
       "      <td>1</td>\n",
       "      <td>0</td>\n",
       "      <td>1</td>\n",
       "      <td>0</td>\n",
       "      <td>0</td>\n",
       "    </tr>\n",
       "    <tr>\n",
       "      <th>918</th>\n",
       "      <td>58</td>\n",
       "      <td>1</td>\n",
       "      <td>NaN</td>\n",
       "      <td>385.0</td>\n",
       "      <td>1</td>\n",
       "      <td>NaN</td>\n",
       "      <td>0</td>\n",
       "      <td>NaN</td>\n",
       "      <td>NaN</td>\n",
       "      <td>0</td>\n",
       "      <td>...</td>\n",
       "      <td>0</td>\n",
       "      <td>1</td>\n",
       "      <td>0</td>\n",
       "      <td>0</td>\n",
       "      <td>0</td>\n",
       "      <td>1</td>\n",
       "      <td>0</td>\n",
       "      <td>0</td>\n",
       "      <td>0</td>\n",
       "      <td>1</td>\n",
       "    </tr>\n",
       "    <tr>\n",
       "      <th>919</th>\n",
       "      <td>62</td>\n",
       "      <td>1</td>\n",
       "      <td>120.0</td>\n",
       "      <td>254.0</td>\n",
       "      <td>0</td>\n",
       "      <td>93.0</td>\n",
       "      <td>1</td>\n",
       "      <td>0.0</td>\n",
       "      <td>NaN</td>\n",
       "      <td>1</td>\n",
       "      <td>...</td>\n",
       "      <td>0</td>\n",
       "      <td>1</td>\n",
       "      <td>0</td>\n",
       "      <td>0</td>\n",
       "      <td>0</td>\n",
       "      <td>1</td>\n",
       "      <td>0</td>\n",
       "      <td>0</td>\n",
       "      <td>0</td>\n",
       "      <td>1</td>\n",
       "    </tr>\n",
       "  </tbody>\n",
       "</table>\n",
       "<p>920 rows × 23 columns</p>\n",
       "</div>"
      ],
      "text/plain": [
       "     age  sex  trestbps   chol  fbs  thalch  exang  oldpeak   ca  num  ...  \\\n",
       "0     63    1     145.0  233.0    1   150.0      0      2.3  0.0    0  ...   \n",
       "1     67    1     160.0  286.0    0   108.0      1      1.5  3.0    1  ...   \n",
       "2     67    1     120.0  229.0    0   129.0      1      2.6  2.0    1  ...   \n",
       "3     37    1     130.0  250.0    0   187.0      0      3.5  0.0    0  ...   \n",
       "4     41    0     130.0  204.0    0   172.0      0      1.4  0.0    0  ...   \n",
       "..   ...  ...       ...    ...  ...     ...    ...      ...  ...  ...  ...   \n",
       "915   54    0     127.0  333.0    1   154.0      0      0.0  NaN    1  ...   \n",
       "916   62    1       NaN  139.0    0     NaN      1      NaN  NaN    0  ...   \n",
       "917   55    1     122.0  223.0    1   100.0      0      0.0  NaN    1  ...   \n",
       "918   58    1       NaN  385.0    1     NaN      0      NaN  NaN    0  ...   \n",
       "919   62    1     120.0  254.0    0    93.0      1      0.0  NaN    1  ...   \n",
       "\n",
       "     cp_typical angina  restecg_lv hypertrophy  restecg_normal  \\\n",
       "0                    1                       1               0   \n",
       "1                    0                       1               0   \n",
       "2                    0                       1               0   \n",
       "3                    0                       0               1   \n",
       "4                    0                       1               0   \n",
       "..                 ...                     ...             ...   \n",
       "915                  0                       0               0   \n",
       "916                  1                       0               0   \n",
       "917                  0                       0               0   \n",
       "918                  0                       1               0   \n",
       "919                  0                       1               0   \n",
       "\n",
       "     restecg_st-t abnormality  slope_downsloping  slope_flat  slope_upsloping  \\\n",
       "0                           0                  1           0                0   \n",
       "1                           0                  0           1                0   \n",
       "2                           0                  0           1                0   \n",
       "3                           0                  1           0                0   \n",
       "4                           0                  0           0                1   \n",
       "..                        ...                ...         ...              ...   \n",
       "915                         1                  0           1                0   \n",
       "916                         1                  0           1                0   \n",
       "917                         1                  0           1                0   \n",
       "918                         0                  0           1                0   \n",
       "919                         0                  0           1                0   \n",
       "\n",
       "     thal_fixed defect  thal_normal  thal_reversable defect  \n",
       "0                    1            0                       0  \n",
       "1                    0            1                       0  \n",
       "2                    0            0                       1  \n",
       "3                    0            1                       0  \n",
       "4                    0            1                       0  \n",
       "..                 ...          ...                     ...  \n",
       "915                  0            1                       0  \n",
       "916                  0            0                       1  \n",
       "917                  1            0                       0  \n",
       "918                  0            0                       1  \n",
       "919                  0            0                       1  \n",
       "\n",
       "[920 rows x 23 columns]"
      ]
     },
     "execution_count": 3,
     "metadata": {},
     "output_type": "execute_result"
    }
   ],
   "source": [
    "df"
   ]
  },
  {
   "cell_type": "code",
   "execution_count": 4,
   "metadata": {},
   "outputs": [
    {
     "data": {
      "text/plain": [
       "(920, 22)"
      ]
     },
     "execution_count": 4,
     "metadata": {},
     "output_type": "execute_result"
    }
   ],
   "source": [
    "x = df.drop('num', axis = 1)\n",
    "x = x.to_numpy()\n",
    "x.shape"
   ]
  },
  {
   "cell_type": "code",
   "execution_count": 5,
   "metadata": {},
   "outputs": [
    {
     "data": {
      "text/plain": [
       "(920,)"
      ]
     },
     "execution_count": 5,
     "metadata": {},
     "output_type": "execute_result"
    }
   ],
   "source": [
    "y = df['num'].to_numpy()\n",
    "y.shape"
   ]
  },
  {
   "cell_type": "markdown",
   "metadata": {},
   "source": [
    "##  Logistic Regression"
   ]
  },
  {
   "cell_type": "markdown",
   "metadata": {},
   "source": [
    "### Fit the model"
   ]
  },
  {
   "cell_type": "code",
   "execution_count": 126,
   "metadata": {},
   "outputs": [],
   "source": [
    "x_train, x_test, y_train, y_test = train_test_split(x, y, test_size=0.25, random_state=42, shuffle=True)"
   ]
  },
  {
   "cell_type": "code",
   "execution_count": 127,
   "metadata": {},
   "outputs": [],
   "source": [
    "scaler = StandardScaler()\n",
    "imputer = KNNImputer(n_neighbors=3)\n",
    "model = LogisticRegression(random_state=42)\n",
    "kf = KFold(n_splits = 4, shuffle = True, random_state = 42)"
   ]
  },
  {
   "cell_type": "code",
   "execution_count": 128,
   "metadata": {},
   "outputs": [],
   "source": [
    "pipeline = Pipeline(steps = [('imputer', imputer), ('scaler', scaler), ('classifier', model)])"
   ]
  },
  {
   "cell_type": "code",
   "execution_count": 129,
   "metadata": {},
   "outputs": [],
   "source": [
    "scores = cross_validate(estimator=pipeline, X=x_train, y=y_train, cv=kf, scoring='accuracy', return_train_score = True)"
   ]
  },
  {
   "cell_type": "code",
   "execution_count": 130,
   "metadata": {},
   "outputs": [
    {
     "data": {
      "text/plain": [
       "(0.8154447622532729, 0.8028296814087915)"
      ]
     },
     "execution_count": 130,
     "metadata": {},
     "output_type": "execute_result"
    }
   ],
   "source": [
    "scores['train_score'].mean(), scores['test_score'].mean()"
   ]
  },
  {
   "cell_type": "markdown",
   "metadata": {},
   "source": [
    "### ROC curve for Logistic Regression\n",
    "For ROC, we need to do train test split (cross val has 4 splits and ROC curve needs only 1 training and testing set"
   ]
  },
  {
   "cell_type": "code",
   "execution_count": 53,
   "metadata": {},
   "outputs": [],
   "source": [
    "x_train, x_test, y_train, y_test = train_test_split(x, y, test_size=0.25, random_state=42, shuffle=True)"
   ]
  },
  {
   "cell_type": "code",
   "execution_count": 55,
   "metadata": {},
   "outputs": [
    {
     "data": {
      "text/html": [
       "<style>#sk-container-id-1 {color: black;}#sk-container-id-1 pre{padding: 0;}#sk-container-id-1 div.sk-toggleable {background-color: white;}#sk-container-id-1 label.sk-toggleable__label {cursor: pointer;display: block;width: 100%;margin-bottom: 0;padding: 0.3em;box-sizing: border-box;text-align: center;}#sk-container-id-1 label.sk-toggleable__label-arrow:before {content: \"▸\";float: left;margin-right: 0.25em;color: #696969;}#sk-container-id-1 label.sk-toggleable__label-arrow:hover:before {color: black;}#sk-container-id-1 div.sk-estimator:hover label.sk-toggleable__label-arrow:before {color: black;}#sk-container-id-1 div.sk-toggleable__content {max-height: 0;max-width: 0;overflow: hidden;text-align: left;background-color: #f0f8ff;}#sk-container-id-1 div.sk-toggleable__content pre {margin: 0.2em;color: black;border-radius: 0.25em;background-color: #f0f8ff;}#sk-container-id-1 input.sk-toggleable__control:checked~div.sk-toggleable__content {max-height: 200px;max-width: 100%;overflow: auto;}#sk-container-id-1 input.sk-toggleable__control:checked~label.sk-toggleable__label-arrow:before {content: \"▾\";}#sk-container-id-1 div.sk-estimator input.sk-toggleable__control:checked~label.sk-toggleable__label {background-color: #d4ebff;}#sk-container-id-1 div.sk-label input.sk-toggleable__control:checked~label.sk-toggleable__label {background-color: #d4ebff;}#sk-container-id-1 input.sk-hidden--visually {border: 0;clip: rect(1px 1px 1px 1px);clip: rect(1px, 1px, 1px, 1px);height: 1px;margin: -1px;overflow: hidden;padding: 0;position: absolute;width: 1px;}#sk-container-id-1 div.sk-estimator {font-family: monospace;background-color: #f0f8ff;border: 1px dotted black;border-radius: 0.25em;box-sizing: border-box;margin-bottom: 0.5em;}#sk-container-id-1 div.sk-estimator:hover {background-color: #d4ebff;}#sk-container-id-1 div.sk-parallel-item::after {content: \"\";width: 100%;border-bottom: 1px solid gray;flex-grow: 1;}#sk-container-id-1 div.sk-label:hover label.sk-toggleable__label {background-color: #d4ebff;}#sk-container-id-1 div.sk-serial::before {content: \"\";position: absolute;border-left: 1px solid gray;box-sizing: border-box;top: 0;bottom: 0;left: 50%;z-index: 0;}#sk-container-id-1 div.sk-serial {display: flex;flex-direction: column;align-items: center;background-color: white;padding-right: 0.2em;padding-left: 0.2em;position: relative;}#sk-container-id-1 div.sk-item {position: relative;z-index: 1;}#sk-container-id-1 div.sk-parallel {display: flex;align-items: stretch;justify-content: center;background-color: white;position: relative;}#sk-container-id-1 div.sk-item::before, #sk-container-id-1 div.sk-parallel-item::before {content: \"\";position: absolute;border-left: 1px solid gray;box-sizing: border-box;top: 0;bottom: 0;left: 50%;z-index: -1;}#sk-container-id-1 div.sk-parallel-item {display: flex;flex-direction: column;z-index: 1;position: relative;background-color: white;}#sk-container-id-1 div.sk-parallel-item:first-child::after {align-self: flex-end;width: 50%;}#sk-container-id-1 div.sk-parallel-item:last-child::after {align-self: flex-start;width: 50%;}#sk-container-id-1 div.sk-parallel-item:only-child::after {width: 0;}#sk-container-id-1 div.sk-dashed-wrapped {border: 1px dashed gray;margin: 0 0.4em 0.5em 0.4em;box-sizing: border-box;padding-bottom: 0.4em;background-color: white;}#sk-container-id-1 div.sk-label label {font-family: monospace;font-weight: bold;display: inline-block;line-height: 1.2em;}#sk-container-id-1 div.sk-label-container {text-align: center;}#sk-container-id-1 div.sk-container {/* jupyter's `normalize.less` sets `[hidden] { display: none; }` but bootstrap.min.css set `[hidden] { display: none !important; }` so we also need the `!important` here to be able to override the default hidden behavior on the sphinx rendered scikit-learn.org. See: https://github.com/scikit-learn/scikit-learn/issues/21755 */display: inline-block !important;position: relative;}#sk-container-id-1 div.sk-text-repr-fallback {display: none;}</style><div id=\"sk-container-id-1\" class=\"sk-top-container\"><div class=\"sk-text-repr-fallback\"><pre>Pipeline(steps=[(&#x27;imputer&#x27;, KNNImputer(n_neighbors=3)),\n",
       "                (&#x27;scaler&#x27;, StandardScaler()),\n",
       "                (&#x27;classifier&#x27;, LogisticRegression(random_state=42))])</pre><b>In a Jupyter environment, please rerun this cell to show the HTML representation or trust the notebook. <br />On GitHub, the HTML representation is unable to render, please try loading this page with nbviewer.org.</b></div><div class=\"sk-container\" hidden><div class=\"sk-item sk-dashed-wrapped\"><div class=\"sk-label-container\"><div class=\"sk-label sk-toggleable\"><input class=\"sk-toggleable__control sk-hidden--visually\" id=\"sk-estimator-id-1\" type=\"checkbox\" ><label for=\"sk-estimator-id-1\" class=\"sk-toggleable__label sk-toggleable__label-arrow\">Pipeline</label><div class=\"sk-toggleable__content\"><pre>Pipeline(steps=[(&#x27;imputer&#x27;, KNNImputer(n_neighbors=3)),\n",
       "                (&#x27;scaler&#x27;, StandardScaler()),\n",
       "                (&#x27;classifier&#x27;, LogisticRegression(random_state=42))])</pre></div></div></div><div class=\"sk-serial\"><div class=\"sk-item\"><div class=\"sk-estimator sk-toggleable\"><input class=\"sk-toggleable__control sk-hidden--visually\" id=\"sk-estimator-id-2\" type=\"checkbox\" ><label for=\"sk-estimator-id-2\" class=\"sk-toggleable__label sk-toggleable__label-arrow\">KNNImputer</label><div class=\"sk-toggleable__content\"><pre>KNNImputer(n_neighbors=3)</pre></div></div></div><div class=\"sk-item\"><div class=\"sk-estimator sk-toggleable\"><input class=\"sk-toggleable__control sk-hidden--visually\" id=\"sk-estimator-id-3\" type=\"checkbox\" ><label for=\"sk-estimator-id-3\" class=\"sk-toggleable__label sk-toggleable__label-arrow\">StandardScaler</label><div class=\"sk-toggleable__content\"><pre>StandardScaler()</pre></div></div></div><div class=\"sk-item\"><div class=\"sk-estimator sk-toggleable\"><input class=\"sk-toggleable__control sk-hidden--visually\" id=\"sk-estimator-id-4\" type=\"checkbox\" ><label for=\"sk-estimator-id-4\" class=\"sk-toggleable__label sk-toggleable__label-arrow\">LogisticRegression</label><div class=\"sk-toggleable__content\"><pre>LogisticRegression(random_state=42)</pre></div></div></div></div></div></div></div>"
      ],
      "text/plain": [
       "Pipeline(steps=[('imputer', KNNImputer(n_neighbors=3)),\n",
       "                ('scaler', StandardScaler()),\n",
       "                ('classifier', LogisticRegression(random_state=42))])"
      ]
     },
     "execution_count": 55,
     "metadata": {},
     "output_type": "execute_result"
    }
   ],
   "source": [
    "pipeline = Pipeline(steps = [('imputer', imputer), ('scaler', scaler), ('classifier', model)])\n",
    "pipeline.fit(x_train, y_train)"
   ]
  },
  {
   "cell_type": "code",
   "execution_count": 58,
   "metadata": {},
   "outputs": [
    {
     "data": {
      "text/plain": [
       "0.8130434782608695"
      ]
     },
     "execution_count": 58,
     "metadata": {},
     "output_type": "execute_result"
    }
   ],
   "source": [
    "y_pred = pipeline.predict(x_test)\n",
    "test_accuracy = accuracy_score(y_test, y_pred)\n",
    "test_accuracy"
   ]
  },
  {
   "cell_type": "code",
   "execution_count": 89,
   "metadata": {},
   "outputs": [
    {
     "data": {
      "image/png": "[encoded data removed]",
      "text/plain": [
       "<Figure size 432x288 with 1 Axes>"
      ]
     },
     "metadata": {
      "needs_background": "light"
     },
     "output_type": "display_data"
    }
   ],
   "source": [
    "# plt.figure(figsize= (15,7.5))\n",
    "\n",
    "roc_display = RocCurveDisplay.from_estimator(estimator=pipeline, X = x_test, y = y_test, name= 'Logistic Regression Pipeline')"
   ]
  },
  {
   "cell_type": "code",
   "execution_count": 82,
   "metadata": {},
   "outputs": [],
   "source": [
    "y_pred = pipeline.predict_proba(x_test)[:, 1]"
   ]
  },
  {
   "cell_type": "code",
   "execution_count": 93,
   "metadata": {},
   "outputs": [
    {
     "name": "stdout",
     "output_type": "stream",
     "text": [
      "ROC AUC is  0.8852611940298508\n"
     ]
    }
   ],
   "source": [
    "fpr, tpr, thresholds = roc_curve(y_test, y_pred)\n",
    "roc_auc = auc(fpr, tpr)\n",
    "print('ROC AUC is ',roc_auc)"
   ]
  },
  {
   "cell_type": "code",
   "execution_count": 88,
   "metadata": {},
   "outputs": [
    {
     "data": {
      "text/plain": [
       "<matplotlib.legend.Legend at 0x16effc77640>"
      ]
     },
     "execution_count": 88,
     "metadata": {},
     "output_type": "execute_result"
    },
    {
     "data": {
      "image/png": "[encoded data removed]",
      "text/plain": [
       "<Figure size 1080x540 with 1 Axes>"
      ]
     },
     "metadata": {
      "needs_background": "light"
     },
     "output_type": "display_data"
    }
   ],
   "source": [
    "plt.figure(figsize=(15,7.5))\n",
    "plt.plot(fpr, tpr, label=f'ROC curve (AUC = {roc_auc:.4f})')\n",
    "plt.plot([0,1],[0,1], label='Random Guess (AUC = 0.5)')\n",
    "plt.xlabel('False Positive Rate (1 - Specificity)')\n",
    "plt.ylabel('True Positive Rate (Sensitivity/Recall)')\n",
    "plt.title('Receiver Operating Characteristic (ROC) Curve')\n",
    "plt.legend(loc='lower right')"
   ]
  },
  {
   "cell_type": "code",
   "execution_count": 91,
   "metadata": {
    "scrolled": true
   },
   "outputs": [
    {
     "data": {
      "text/html": [
       "<div>\n",
       "<style scoped>\n",
       "    .dataframe tbody tr th:only-of-type {\n",
       "        vertical-align: middle;\n",
       "    }\n",
       "\n",
       "    .dataframe tbody tr th {\n",
       "        vertical-align: top;\n",
       "    }\n",
       "\n",
       "    .dataframe thead th {\n",
       "        text-align: right;\n",
       "    }\n",
       "</style>\n",
       "<table border=\"1\" class=\"dataframe\">\n",
       "  <thead>\n",
       "    <tr style=\"text-align: right;\">\n",
       "      <th></th>\n",
       "      <th>fpr</th>\n",
       "      <th>tpr</th>\n",
       "      <th>threshold</th>\n",
       "      <th>dist_to_optimal</th>\n",
       "    </tr>\n",
       "  </thead>\n",
       "  <tbody>\n",
       "    <tr>\n",
       "      <th>0</th>\n",
       "      <td>0.000000</td>\n",
       "      <td>0.000000</td>\n",
       "      <td>inf</td>\n",
       "      <td>1.000000</td>\n",
       "    </tr>\n",
       "    <tr>\n",
       "      <th>1</th>\n",
       "      <td>0.000000</td>\n",
       "      <td>0.007463</td>\n",
       "      <td>0.983201</td>\n",
       "      <td>0.992537</td>\n",
       "    </tr>\n",
       "    <tr>\n",
       "      <th>2</th>\n",
       "      <td>0.000000</td>\n",
       "      <td>0.014925</td>\n",
       "      <td>0.980756</td>\n",
       "      <td>0.985075</td>\n",
       "    </tr>\n",
       "    <tr>\n",
       "      <th>3</th>\n",
       "      <td>0.010417</td>\n",
       "      <td>0.014925</td>\n",
       "      <td>0.976241</td>\n",
       "      <td>0.985130</td>\n",
       "    </tr>\n",
       "    <tr>\n",
       "      <th>4</th>\n",
       "      <td>0.010417</td>\n",
       "      <td>0.328358</td>\n",
       "      <td>0.908645</td>\n",
       "      <td>0.671723</td>\n",
       "    </tr>\n",
       "    <tr>\n",
       "      <th>5</th>\n",
       "      <td>0.031250</td>\n",
       "      <td>0.328358</td>\n",
       "      <td>0.901716</td>\n",
       "      <td>0.672368</td>\n",
       "    </tr>\n",
       "    <tr>\n",
       "      <th>6</th>\n",
       "      <td>0.031250</td>\n",
       "      <td>0.552239</td>\n",
       "      <td>0.777963</td>\n",
       "      <td>0.448850</td>\n",
       "    </tr>\n",
       "    <tr>\n",
       "      <th>7</th>\n",
       "      <td>0.052083</td>\n",
       "      <td>0.552239</td>\n",
       "      <td>0.772673</td>\n",
       "      <td>0.450780</td>\n",
       "    </tr>\n",
       "    <tr>\n",
       "      <th>8</th>\n",
       "      <td>0.052083</td>\n",
       "      <td>0.559701</td>\n",
       "      <td>0.768315</td>\n",
       "      <td>0.443368</td>\n",
       "    </tr>\n",
       "    <tr>\n",
       "      <th>9</th>\n",
       "      <td>0.062500</td>\n",
       "      <td>0.559701</td>\n",
       "      <td>0.763956</td>\n",
       "      <td>0.444712</td>\n",
       "    </tr>\n",
       "    <tr>\n",
       "      <th>10</th>\n",
       "      <td>0.062500</td>\n",
       "      <td>0.649254</td>\n",
       "      <td>0.724031</td>\n",
       "      <td>0.356271</td>\n",
       "    </tr>\n",
       "    <tr>\n",
       "      <th>11</th>\n",
       "      <td>0.072917</td>\n",
       "      <td>0.649254</td>\n",
       "      <td>0.719013</td>\n",
       "      <td>0.358245</td>\n",
       "    </tr>\n",
       "    <tr>\n",
       "      <th>12</th>\n",
       "      <td>0.072917</td>\n",
       "      <td>0.686567</td>\n",
       "      <td>0.681503</td>\n",
       "      <td>0.321803</td>\n",
       "    </tr>\n",
       "    <tr>\n",
       "      <th>13</th>\n",
       "      <td>0.093750</td>\n",
       "      <td>0.686567</td>\n",
       "      <td>0.676080</td>\n",
       "      <td>0.327153</td>\n",
       "    </tr>\n",
       "    <tr>\n",
       "      <th>14</th>\n",
       "      <td>0.093750</td>\n",
       "      <td>0.708955</td>\n",
       "      <td>0.673990</td>\n",
       "      <td>0.305771</td>\n",
       "    </tr>\n",
       "    <tr>\n",
       "      <th>15</th>\n",
       "      <td>0.104167</td>\n",
       "      <td>0.708955</td>\n",
       "      <td>0.671597</td>\n",
       "      <td>0.309124</td>\n",
       "    </tr>\n",
       "    <tr>\n",
       "      <th>16</th>\n",
       "      <td>0.104167</td>\n",
       "      <td>0.716418</td>\n",
       "      <td>0.668029</td>\n",
       "      <td>0.302108</td>\n",
       "    </tr>\n",
       "    <tr>\n",
       "      <th>17</th>\n",
       "      <td>0.114583</td>\n",
       "      <td>0.716418</td>\n",
       "      <td>0.667770</td>\n",
       "      <td>0.305856</td>\n",
       "    </tr>\n",
       "    <tr>\n",
       "      <th>18</th>\n",
       "      <td>0.114583</td>\n",
       "      <td>0.731343</td>\n",
       "      <td>0.666226</td>\n",
       "      <td>0.292072</td>\n",
       "    </tr>\n",
       "    <tr>\n",
       "      <th>19</th>\n",
       "      <td>0.166667</td>\n",
       "      <td>0.731343</td>\n",
       "      <td>0.644134</td>\n",
       "      <td>0.316155</td>\n",
       "    </tr>\n",
       "    <tr>\n",
       "      <th>20</th>\n",
       "      <td>0.166667</td>\n",
       "      <td>0.753731</td>\n",
       "      <td>0.628449</td>\n",
       "      <td>0.297365</td>\n",
       "    </tr>\n",
       "    <tr>\n",
       "      <th>21</th>\n",
       "      <td>0.177083</td>\n",
       "      <td>0.753731</td>\n",
       "      <td>0.620425</td>\n",
       "      <td>0.303326</td>\n",
       "    </tr>\n",
       "    <tr>\n",
       "      <th>22</th>\n",
       "      <td>0.177083</td>\n",
       "      <td>0.768657</td>\n",
       "      <td>0.607930</td>\n",
       "      <td>0.291339</td>\n",
       "    </tr>\n",
       "    <tr>\n",
       "      <th>23</th>\n",
       "      <td>0.197917</td>\n",
       "      <td>0.768657</td>\n",
       "      <td>0.563930</td>\n",
       "      <td>0.304452</td>\n",
       "    </tr>\n",
       "    <tr>\n",
       "      <th>24</th>\n",
       "      <td>0.197917</td>\n",
       "      <td>0.835821</td>\n",
       "      <td>0.493885</td>\n",
       "      <td>0.257149</td>\n",
       "    </tr>\n",
       "    <tr>\n",
       "      <th>25</th>\n",
       "      <td>0.229167</td>\n",
       "      <td>0.835821</td>\n",
       "      <td>0.453817</td>\n",
       "      <td>0.281908</td>\n",
       "    </tr>\n",
       "    <tr>\n",
       "      <th>26</th>\n",
       "      <td>0.229167</td>\n",
       "      <td>0.843284</td>\n",
       "      <td>0.446420</td>\n",
       "      <td>0.277628</td>\n",
       "    </tr>\n",
       "    <tr>\n",
       "      <th>27</th>\n",
       "      <td>0.239583</td>\n",
       "      <td>0.843284</td>\n",
       "      <td>0.443132</td>\n",
       "      <td>0.286287</td>\n",
       "    </tr>\n",
       "    <tr>\n",
       "      <th>28</th>\n",
       "      <td>0.239583</td>\n",
       "      <td>0.850746</td>\n",
       "      <td>0.427674</td>\n",
       "      <td>0.282271</td>\n",
       "    </tr>\n",
       "    <tr>\n",
       "      <th>29</th>\n",
       "      <td>0.260417</td>\n",
       "      <td>0.850746</td>\n",
       "      <td>0.420215</td>\n",
       "      <td>0.300156</td>\n",
       "    </tr>\n",
       "    <tr>\n",
       "      <th>30</th>\n",
       "      <td>0.260417</td>\n",
       "      <td>0.858209</td>\n",
       "      <td>0.418623</td>\n",
       "      <td>0.296516</td>\n",
       "    </tr>\n",
       "    <tr>\n",
       "      <th>31</th>\n",
       "      <td>0.270833</td>\n",
       "      <td>0.858209</td>\n",
       "      <td>0.406107</td>\n",
       "      <td>0.305705</td>\n",
       "    </tr>\n",
       "    <tr>\n",
       "      <th>32</th>\n",
       "      <td>0.270833</td>\n",
       "      <td>0.880597</td>\n",
       "      <td>0.370063</td>\n",
       "      <td>0.295986</td>\n",
       "    </tr>\n",
       "    <tr>\n",
       "      <th>33</th>\n",
       "      <td>0.312500</td>\n",
       "      <td>0.880597</td>\n",
       "      <td>0.352685</td>\n",
       "      <td>0.334534</td>\n",
       "    </tr>\n",
       "    <tr>\n",
       "      <th>34</th>\n",
       "      <td>0.312500</td>\n",
       "      <td>0.888060</td>\n",
       "      <td>0.351855</td>\n",
       "      <td>0.331944</td>\n",
       "    </tr>\n",
       "    <tr>\n",
       "      <th>35</th>\n",
       "      <td>0.333333</td>\n",
       "      <td>0.888060</td>\n",
       "      <td>0.337726</td>\n",
       "      <td>0.351627</td>\n",
       "    </tr>\n",
       "    <tr>\n",
       "      <th>36</th>\n",
       "      <td>0.333333</td>\n",
       "      <td>0.917910</td>\n",
       "      <td>0.318001</td>\n",
       "      <td>0.343293</td>\n",
       "    </tr>\n",
       "    <tr>\n",
       "      <th>37</th>\n",
       "      <td>0.343750</td>\n",
       "      <td>0.917910</td>\n",
       "      <td>0.308523</td>\n",
       "      <td>0.353416</td>\n",
       "    </tr>\n",
       "    <tr>\n",
       "      <th>38</th>\n",
       "      <td>0.343750</td>\n",
       "      <td>0.925373</td>\n",
       "      <td>0.306639</td>\n",
       "      <td>0.351757</td>\n",
       "    </tr>\n",
       "    <tr>\n",
       "      <th>39</th>\n",
       "      <td>0.354167</td>\n",
       "      <td>0.925373</td>\n",
       "      <td>0.297289</td>\n",
       "      <td>0.361944</td>\n",
       "    </tr>\n",
       "    <tr>\n",
       "      <th>40</th>\n",
       "      <td>0.354167</td>\n",
       "      <td>0.932836</td>\n",
       "      <td>0.287806</td>\n",
       "      <td>0.360479</td>\n",
       "    </tr>\n",
       "    <tr>\n",
       "      <th>41</th>\n",
       "      <td>0.458333</td>\n",
       "      <td>0.932836</td>\n",
       "      <td>0.215470</td>\n",
       "      <td>0.463228</td>\n",
       "    </tr>\n",
       "    <tr>\n",
       "      <th>42</th>\n",
       "      <td>0.458333</td>\n",
       "      <td>0.940299</td>\n",
       "      <td>0.209588</td>\n",
       "      <td>0.462205</td>\n",
       "    </tr>\n",
       "    <tr>\n",
       "      <th>43</th>\n",
       "      <td>0.572917</td>\n",
       "      <td>0.940299</td>\n",
       "      <td>0.153505</td>\n",
       "      <td>0.576019</td>\n",
       "    </tr>\n",
       "    <tr>\n",
       "      <th>44</th>\n",
       "      <td>0.572917</td>\n",
       "      <td>0.947761</td>\n",
       "      <td>0.153351</td>\n",
       "      <td>0.575293</td>\n",
       "    </tr>\n",
       "    <tr>\n",
       "      <th>45</th>\n",
       "      <td>0.583333</td>\n",
       "      <td>0.947761</td>\n",
       "      <td>0.153262</td>\n",
       "      <td>0.585668</td>\n",
       "    </tr>\n",
       "    <tr>\n",
       "      <th>46</th>\n",
       "      <td>0.583333</td>\n",
       "      <td>0.955224</td>\n",
       "      <td>0.151476</td>\n",
       "      <td>0.585049</td>\n",
       "    </tr>\n",
       "    <tr>\n",
       "      <th>47</th>\n",
       "      <td>0.593750</td>\n",
       "      <td>0.955224</td>\n",
       "      <td>0.146417</td>\n",
       "      <td>0.595436</td>\n",
       "    </tr>\n",
       "    <tr>\n",
       "      <th>48</th>\n",
       "      <td>0.593750</td>\n",
       "      <td>0.962687</td>\n",
       "      <td>0.142311</td>\n",
       "      <td>0.594921</td>\n",
       "    </tr>\n",
       "    <tr>\n",
       "      <th>49</th>\n",
       "      <td>0.614583</td>\n",
       "      <td>0.962687</td>\n",
       "      <td>0.140573</td>\n",
       "      <td>0.615715</td>\n",
       "    </tr>\n",
       "    <tr>\n",
       "      <th>50</th>\n",
       "      <td>0.614583</td>\n",
       "      <td>0.970149</td>\n",
       "      <td>0.140223</td>\n",
       "      <td>0.615308</td>\n",
       "    </tr>\n",
       "    <tr>\n",
       "      <th>51</th>\n",
       "      <td>0.625000</td>\n",
       "      <td>0.970149</td>\n",
       "      <td>0.123498</td>\n",
       "      <td>0.625712</td>\n",
       "    </tr>\n",
       "    <tr>\n",
       "      <th>52</th>\n",
       "      <td>0.625000</td>\n",
       "      <td>0.977612</td>\n",
       "      <td>0.119443</td>\n",
       "      <td>0.625401</td>\n",
       "    </tr>\n",
       "    <tr>\n",
       "      <th>53</th>\n",
       "      <td>0.697917</td>\n",
       "      <td>0.977612</td>\n",
       "      <td>0.084811</td>\n",
       "      <td>0.698276</td>\n",
       "    </tr>\n",
       "    <tr>\n",
       "      <th>54</th>\n",
       "      <td>0.697917</td>\n",
       "      <td>0.985075</td>\n",
       "      <td>0.081713</td>\n",
       "      <td>0.698076</td>\n",
       "    </tr>\n",
       "    <tr>\n",
       "      <th>55</th>\n",
       "      <td>0.718750</td>\n",
       "      <td>0.985075</td>\n",
       "      <td>0.078960</td>\n",
       "      <td>0.718905</td>\n",
       "    </tr>\n",
       "    <tr>\n",
       "      <th>56</th>\n",
       "      <td>0.718750</td>\n",
       "      <td>0.992537</td>\n",
       "      <td>0.077291</td>\n",
       "      <td>0.718789</td>\n",
       "    </tr>\n",
       "    <tr>\n",
       "      <th>57</th>\n",
       "      <td>0.833333</td>\n",
       "      <td>0.992537</td>\n",
       "      <td>0.059005</td>\n",
       "      <td>0.833367</td>\n",
       "    </tr>\n",
       "    <tr>\n",
       "      <th>58</th>\n",
       "      <td>0.833333</td>\n",
       "      <td>1.000000</td>\n",
       "      <td>0.056230</td>\n",
       "      <td>0.833333</td>\n",
       "    </tr>\n",
       "    <tr>\n",
       "      <th>59</th>\n",
       "      <td>1.000000</td>\n",
       "      <td>1.000000</td>\n",
       "      <td>0.010255</td>\n",
       "      <td>1.000000</td>\n",
       "    </tr>\n",
       "  </tbody>\n",
       "</table>\n",
       "</div>"
      ],
      "text/plain": [
       "         fpr       tpr  threshold  dist_to_optimal\n",
       "0   0.000000  0.000000        inf         1.000000\n",
       "1   0.000000  0.007463   0.983201         0.992537\n",
       "2   0.000000  0.014925   0.980756         0.985075\n",
       "3   0.010417  0.014925   0.976241         0.985130\n",
       "4   0.010417  0.328358   0.908645         0.671723\n",
       "5   0.031250  0.328358   0.901716         0.672368\n",
       "6   0.031250  0.552239   0.777963         0.448850\n",
       "7   0.052083  0.552239   0.772673         0.450780\n",
       "8   0.052083  0.559701   0.768315         0.443368\n",
       "9   0.062500  0.559701   0.763956         0.444712\n",
       "10  0.062500  0.649254   0.724031         0.356271\n",
       "11  0.072917  0.649254   0.719013         0.358245\n",
       "12  0.072917  0.686567   0.681503         0.321803\n",
       "13  0.093750  0.686567   0.676080         0.327153\n",
       "14  0.093750  0.708955   0.673990         0.305771\n",
       "15  0.104167  0.708955   0.671597         0.309124\n",
       "16  0.104167  0.716418   0.668029         0.302108\n",
       "17  0.114583  0.716418   0.667770         0.305856\n",
       "18  0.114583  0.731343   0.666226         0.292072\n",
       "19  0.166667  0.731343   0.644134         0.316155\n",
       "20  0.166667  0.753731   0.628449         0.297365\n",
       "21  0.177083  0.753731   0.620425         0.303326\n",
       "22  0.177083  0.768657   0.607930         0.291339\n",
       "23  0.197917  0.768657   0.563930         0.304452\n",
       "24  0.197917  0.835821   0.493885         0.257149\n",
       "25  0.229167  0.835821   0.453817         0.281908\n",
       "26  0.229167  0.843284   0.446420         0.277628\n",
       "27  0.239583  0.843284   0.443132         0.286287\n",
       "28  0.239583  0.850746   0.427674         0.282271\n",
       "29  0.260417  0.850746   0.420215         0.300156\n",
       "30  0.260417  0.858209   0.418623         0.296516\n",
       "31  0.270833  0.858209   0.406107         0.305705\n",
       "32  0.270833  0.880597   0.370063         0.295986\n",
       "33  0.312500  0.880597   0.352685         0.334534\n",
       "34  0.312500  0.888060   0.351855         0.331944\n",
       "35  0.333333  0.888060   0.337726         0.351627\n",
       "36  0.333333  0.917910   0.318001         0.343293\n",
       "37  0.343750  0.917910   0.308523         0.353416\n",
       "38  0.343750  0.925373   0.306639         0.351757\n",
       "39  0.354167  0.925373   0.297289         0.361944\n",
       "40  0.354167  0.932836   0.287806         0.360479\n",
       "41  0.458333  0.932836   0.215470         0.463228\n",
       "42  0.458333  0.940299   0.209588         0.462205\n",
       "43  0.572917  0.940299   0.153505         0.576019\n",
       "44  0.572917  0.947761   0.153351         0.575293\n",
       "45  0.583333  0.947761   0.153262         0.585668\n",
       "46  0.583333  0.955224   0.151476         0.585049\n",
       "47  0.593750  0.955224   0.146417         0.595436\n",
       "48  0.593750  0.962687   0.142311         0.594921\n",
       "49  0.614583  0.962687   0.140573         0.615715\n",
       "50  0.614583  0.970149   0.140223         0.615308\n",
       "51  0.625000  0.970149   0.123498         0.625712\n",
       "52  0.625000  0.977612   0.119443         0.625401\n",
       "53  0.697917  0.977612   0.084811         0.698276\n",
       "54  0.697917  0.985075   0.081713         0.698076\n",
       "55  0.718750  0.985075   0.078960         0.718905\n",
       "56  0.718750  0.992537   0.077291         0.718789\n",
       "57  0.833333  0.992537   0.059005         0.833367\n",
       "58  0.833333  1.000000   0.056230         0.833333\n",
       "59  1.000000  1.000000   0.010255         1.000000"
      ]
     },
     "execution_count": 91,
     "metadata": {},
     "output_type": "execute_result"
    }
   ],
   "source": [
    "curve = pd.DataFrame(data = {'fpr': fpr,'tpr':tpr, 'threshold':thresholds})\n",
    "curve['dist_to_optimal'] = np.sqrt((curve['fpr'] - 0)**2 + (curve['tpr'] - 1)**2)\n",
    "curve"
   ]
  },
  {
   "cell_type": "code",
   "execution_count": 95,
   "metadata": {},
   "outputs": [
    {
     "data": {
      "text/plain": [
       "24"
      ]
     },
     "execution_count": 95,
     "metadata": {},
     "output_type": "execute_result"
    }
   ],
   "source": [
    "curve['dist_to_optimal'].idxmin()"
   ]
  },
  {
   "cell_type": "code",
   "execution_count": 97,
   "metadata": {},
   "outputs": [
    {
     "data": {
      "text/plain": [
       "fpr                0.197917\n",
       "tpr                0.835821\n",
       "threshold          0.493885\n",
       "dist_to_optimal    0.257149\n",
       "Name: 24, dtype: float64"
      ]
     },
     "execution_count": 97,
     "metadata": {},
     "output_type": "execute_result"
    }
   ],
   "source": [
    "ideal_threshold = curve.loc[24]\n",
    "ideal_threshold"
   ]
  },
  {
   "cell_type": "markdown",
   "metadata": {},
   "source": [
    "### Predict with the best threshold value\n",
    "Although the threshold here is not very different from 0.5 (standard)"
   ]
  },
  {
   "cell_type": "code",
   "execution_count": 99,
   "metadata": {},
   "outputs": [
    {
     "data": {
      "text/plain": [
       "0.8217391304347826"
      ]
     },
     "execution_count": 99,
     "metadata": {},
     "output_type": "execute_result"
    }
   ],
   "source": [
    "y_prob = pipeline.predict_proba(x_test)[:,1]\n",
    "y_pred_opt_threshold = (y_prob >= ideal_threshold['threshold'])\n",
    "test_accuracy = accuracy_score(y_test, y_pred_opt_threshold)\n",
    "test_accuracy"
   ]
  },
  {
   "cell_type": "markdown",
   "metadata": {},
   "source": [
    "### Plot the confusion matrix"
   ]
  },
  {
   "cell_type": "code",
   "execution_count": 102,
   "metadata": {},
   "outputs": [
    {
     "data": {
      "image/png": "[encoded data removed]",
      "text/plain": [
       "<Figure size 432x288 with 2 Axes>"
      ]
     },
     "metadata": {
      "needs_background": "light"
     },
     "output_type": "display_data"
    }
   ],
   "source": [
    "disp = ConfusionMatrixDisplay.from_predictions(\n",
    "    y_test, \n",
    "    y_pred_opt_threshold, \n",
    "    cmap=plt.cm.Blues,\n",
    "    display_labels=['No HD', 'Yes HD'],\n",
    "    normalize=None # Set to 'true', 'pred', or 'all' to normalize the counts\n",
    ")\n",
    "\n",
    "disp.ax_.set_title('Confusion Matrix for Logistic Regression')\n",
    "plt.show()"
   ]
  },
  {
   "cell_type": "markdown",
   "metadata": {},
   "source": [
    "Performance metrics:\n",
    "1. Sensitivity (Recall): 83.5%\n",
    "2. Specificity: 80.2%\n",
    "3. Precision: 85.5%\n",
    "4. Accuracy: 82.17%"
   ]
  },
  {
   "cell_type": "markdown",
   "metadata": {},
   "source": [
    "### Reflections on Logistic Regression"
   ]
  },
  {
   "cell_type": "markdown",
   "metadata": {},
   "source": [
    "Cross val gave a test accuracy of 79.6%, which is more robust, however when test-train split was done the accuracy changed to 81.3% which is a minor change (shuffle was True for both cases as this is not randomly ordered dataset). We then drew the ROC AUC curve (AUC is 0.88) and found the ideal threshold (which was very close to 0.5) changing the predictions by switching threshold to ideal further improved the accuracy to 82.17%. We will compare this with other classification models."
   ]
  },
  {
   "cell_type": "markdown",
   "metadata": {},
   "source": [
    "## Random Forest"
   ]
  },
  {
   "cell_type": "markdown",
   "metadata": {},
   "source": [
    "### Fit the model"
   ]
  },
  {
   "cell_type": "code",
   "execution_count": 57,
   "metadata": {},
   "outputs": [],
   "source": [
    "x_train, x_test, y_train, y_test = train_test_split(x, y, test_size=0.25, random_state=42, shuffle=True)"
   ]
  },
  {
   "cell_type": "code",
   "execution_count": 58,
   "metadata": {},
   "outputs": [],
   "source": [
    "scaler = StandardScaler()\n",
    "imputer = KNNImputer(n_neighbors=3)\n",
    "kf = KFold(n_splits = 4, shuffle = True, random_state = 42)"
   ]
  },
  {
   "cell_type": "code",
   "execution_count": 59,
   "metadata": {},
   "outputs": [],
   "source": [
    "rf_model = RandomForestClassifier(\n",
    "    n_estimators=100,      \n",
    "    max_depth=None,        \n",
    "    min_samples_leaf=1,    \n",
    "    random_state=42,       \n",
    "    n_jobs=-1          \n",
    ")"
   ]
  },
  {
   "cell_type": "code",
   "execution_count": 60,
   "metadata": {},
   "outputs": [],
   "source": [
    "pipeline = Pipeline(steps = [('imputer', imputer), ('scaler', scaler), ('classifier', rf_model)])"
   ]
  },
  {
   "cell_type": "code",
   "execution_count": 61,
   "metadata": {},
   "outputs": [],
   "source": [
    "scores = cross_validate(estimator=pipeline, X=x_train, y=y_train, cv=kf, scoring='accuracy', return_train_score = True)"
   ]
  },
  {
   "cell_type": "code",
   "execution_count": 62,
   "metadata": {},
   "outputs": [
    {
     "data": {
      "text/plain": [
       "(1.0, 0.8071817448581798)"
      ]
     },
     "execution_count": 62,
     "metadata": {},
     "output_type": "execute_result"
    }
   ],
   "source": [
    "scores['train_score'].mean(), scores['test_score'].mean()"
   ]
  },
  {
   "cell_type": "markdown",
   "metadata": {},
   "source": [
    "### Hyper parameter tuning using Gridsearch CV"
   ]
  },
  {
   "cell_type": "code",
   "execution_count": 63,
   "metadata": {},
   "outputs": [],
   "source": [
    "param_grid = {\n",
    "    'classifier__n_estimators': [50, 100, 150, 200, 250],\n",
    "    'classifier__max_depth': [3,4,5,6,7,8, None],\n",
    "    'classifier__min_samples_leaf': [1, 5, 10]\n",
    "}\n",
    "\n",
    "grid_search = GridSearchCV(estimator= pipeline, param_grid=param_grid, scoring='accuracy', cv= kf, verbose=2)"
   ]
  },
  {
   "cell_type": "code",
   "execution_count": 64,
   "metadata": {
    "scrolled": true
   },
   "outputs": [
    {
     "name": "stdout",
     "output_type": "stream",
     "text": [
      "Fitting 4 folds for each of 105 candidates, totalling 420 fits\n",
      "[CV] END classifier__max_depth=3, classifier__min_samples_leaf=1, classifier__n_estimators=50; total time=   0.1s\n",
      "[CV] END classifier__max_depth=3, classifier__min_samples_leaf=1, classifier__n_estimators=50; total time=   0.1s\n",
      "[CV] END classifier__max_depth=3, classifier__min_samples_leaf=1, classifier__n_estimators=50; total time=   0.1s\n",
      "[CV] END classifier__max_depth=3, classifier__min_samples_leaf=1, classifier__n_estimators=50; total time=   0.1s\n",
      "[CV] END classifier__max_depth=3, classifier__min_samples_leaf=1, classifier__n_estimators=100; total time=   0.2s\n",
      "[CV] END classifier__max_depth=3, classifier__min_samples_leaf=1, classifier__n_estimators=100; total time=   0.2s\n",
      "[CV] END classifier__max_depth=3, classifier__min_samples_leaf=1, classifier__n_estimators=100; total time=   0.2s\n",
      "[CV] END classifier__max_depth=3, classifier__min_samples_leaf=1, classifier__n_estimators=100; total time=   0.2s\n",
      "[CV] END classifier__max_depth=3, classifier__min_samples_leaf=1, classifier__n_estimators=150; total time=   0.3s\n",
      "[CV] END classifier__max_depth=3, classifier__min_samples_leaf=1, classifier__n_estimators=150; total time=   0.2s\n",
      "[CV] END classifier__max_depth=3, classifier__min_samples_leaf=1, classifier__n_estimators=150; total time=   0.2s\n",
      "[CV] END classifier__max_depth=3, classifier__min_samples_leaf=1, classifier__n_estimators=150; total time=   0.2s\n",
      "[CV] END classifier__max_depth=3, classifier__min_samples_leaf=1, classifier__n_estimators=200; total time=   0.3s\n",
      "[CV] END classifier__max_depth=3, classifier__min_samples_leaf=1, classifier__n_estimators=200; total time=   0.3s\n",
      "[CV] END classifier__max_depth=3, classifier__min_samples_leaf=1, classifier__n_estimators=200; total time=   0.3s\n",
      "[CV] END classifier__max_depth=3, classifier__min_samples_leaf=1, classifier__n_estimators=200; total time=   0.3s\n",
      "[CV] END classifier__max_depth=3, classifier__min_samples_leaf=1, classifier__n_estimators=250; total time=   0.3s\n",
      "[CV] END classifier__max_depth=3, classifier__min_samples_leaf=1, classifier__n_estimators=250; total time=   0.3s\n",
      "[CV] END classifier__max_depth=3, classifier__min_samples_leaf=1, classifier__n_estimators=250; total time=   0.4s\n",
      "[CV] END classifier__max_depth=3, classifier__min_samples_leaf=1, classifier__n_estimators=250; total time=   0.4s\n",
      "[CV] END classifier__max_depth=3, classifier__min_samples_leaf=5, classifier__n_estimators=50; total time=   0.0s\n",
      "[CV] END classifier__max_depth=3, classifier__min_samples_leaf=5, classifier__n_estimators=50; total time=   0.0s\n",
      "[CV] END classifier__max_depth=3, classifier__min_samples_leaf=5, classifier__n_estimators=50; total time=   0.1s\n",
      "[CV] END classifier__max_depth=3, classifier__min_samples_leaf=5, classifier__n_estimators=50; total time=   0.0s\n",
      "[CV] END classifier__max_depth=3, classifier__min_samples_leaf=5, classifier__n_estimators=100; total time=   0.1s\n",
      "[CV] END classifier__max_depth=3, classifier__min_samples_leaf=5, classifier__n_estimators=100; total time=   0.1s\n",
      "[CV] END classifier__max_depth=3, classifier__min_samples_leaf=5, classifier__n_estimators=100; total time=   0.1s\n",
      "[CV] END classifier__max_depth=3, classifier__min_samples_leaf=5, classifier__n_estimators=100; total time=   0.1s\n",
      "[CV] END classifier__max_depth=3, classifier__min_samples_leaf=5, classifier__n_estimators=150; total time=   0.2s\n",
      "[CV] END classifier__max_depth=3, classifier__min_samples_leaf=5, classifier__n_estimators=150; total time=   0.2s\n",
      "[CV] END classifier__max_depth=3, classifier__min_samples_leaf=5, classifier__n_estimators=150; total time=   0.2s\n",
      "[CV] END classifier__max_depth=3, classifier__min_samples_leaf=5, classifier__n_estimators=150; total time=   0.2s\n",
      "[CV] END classifier__max_depth=3, classifier__min_samples_leaf=5, classifier__n_estimators=200; total time=   0.3s\n",
      "[CV] END classifier__max_depth=3, classifier__min_samples_leaf=5, classifier__n_estimators=200; total time=   0.3s\n",
      "[CV] END classifier__max_depth=3, classifier__min_samples_leaf=5, classifier__n_estimators=200; total time=   0.3s\n",
      "[CV] END classifier__max_depth=3, classifier__min_samples_leaf=5, classifier__n_estimators=200; total time=   0.3s\n",
      "[CV] END classifier__max_depth=3, classifier__min_samples_leaf=5, classifier__n_estimators=250; total time=   0.4s\n",
      "[CV] END classifier__max_depth=3, classifier__min_samples_leaf=5, classifier__n_estimators=250; total time=   0.3s\n",
      "[CV] END classifier__max_depth=3, classifier__min_samples_leaf=5, classifier__n_estimators=250; total time=   0.3s\n",
      "[CV] END classifier__max_depth=3, classifier__min_samples_leaf=5, classifier__n_estimators=250; total time=   0.4s\n",
      "[CV] END classifier__max_depth=3, classifier__min_samples_leaf=10, classifier__n_estimators=50; total time=   0.1s\n",
      "[CV] END classifier__max_depth=3, classifier__min_samples_leaf=10, classifier__n_estimators=50; total time=   0.1s\n",
      "[CV] END classifier__max_depth=3, classifier__min_samples_leaf=10, classifier__n_estimators=50; total time=   0.0s\n",
      "[CV] END classifier__max_depth=3, classifier__min_samples_leaf=10, classifier__n_estimators=50; total time=   0.1s\n",
      "[CV] END classifier__max_depth=3, classifier__min_samples_leaf=10, classifier__n_estimators=100; total time=   0.1s\n",
      "[CV] END classifier__max_depth=3, classifier__min_samples_leaf=10, classifier__n_estimators=100; total time=   0.1s\n",
      "[CV] END classifier__max_depth=3, classifier__min_samples_leaf=10, classifier__n_estimators=100; total time=   0.1s\n",
      "[CV] END classifier__max_depth=3, classifier__min_samples_leaf=10, classifier__n_estimators=100; total time=   0.1s\n",
      "[CV] END classifier__max_depth=3, classifier__min_samples_leaf=10, classifier__n_estimators=150; total time=   0.2s\n",
      "[CV] END classifier__max_depth=3, classifier__min_samples_leaf=10, classifier__n_estimators=150; total time=   0.2s\n",
      "[CV] END classifier__max_depth=3, classifier__min_samples_leaf=10, classifier__n_estimators=150; total time=   0.2s\n",
      "[CV] END classifier__max_depth=3, classifier__min_samples_leaf=10, classifier__n_estimators=150; total time=   0.3s\n",
      "[CV] END classifier__max_depth=3, classifier__min_samples_leaf=10, classifier__n_estimators=200; total time=   0.3s\n",
      "[CV] END classifier__max_depth=3, classifier__min_samples_leaf=10, classifier__n_estimators=200; total time=   0.3s\n",
      "[CV] END classifier__max_depth=3, classifier__min_samples_leaf=10, classifier__n_estimators=200; total time=   0.3s\n",
      "[CV] END classifier__max_depth=3, classifier__min_samples_leaf=10, classifier__n_estimators=200; total time=   0.3s\n",
      "[CV] END classifier__max_depth=3, classifier__min_samples_leaf=10, classifier__n_estimators=250; total time=   0.3s\n",
      "[CV] END classifier__max_depth=3, classifier__min_samples_leaf=10, classifier__n_estimators=250; total time=   0.4s\n",
      "[CV] END classifier__max_depth=3, classifier__min_samples_leaf=10, classifier__n_estimators=250; total time=   0.3s\n",
      "[CV] END classifier__max_depth=3, classifier__min_samples_leaf=10, classifier__n_estimators=250; total time=   0.4s\n",
      "[CV] END classifier__max_depth=4, classifier__min_samples_leaf=1, classifier__n_estimators=50; total time=   0.0s\n",
      "[CV] END classifier__max_depth=4, classifier__min_samples_leaf=1, classifier__n_estimators=50; total time=   0.1s\n",
      "[CV] END classifier__max_depth=4, classifier__min_samples_leaf=1, classifier__n_estimators=50; total time=   0.1s\n",
      "[CV] END classifier__max_depth=4, classifier__min_samples_leaf=1, classifier__n_estimators=50; total time=   0.1s\n",
      "[CV] END classifier__max_depth=4, classifier__min_samples_leaf=1, classifier__n_estimators=100; total time=   0.2s\n",
      "[CV] END classifier__max_depth=4, classifier__min_samples_leaf=1, classifier__n_estimators=100; total time=   0.2s\n",
      "[CV] END classifier__max_depth=4, classifier__min_samples_leaf=1, classifier__n_estimators=100; total time=   0.2s\n",
      "[CV] END classifier__max_depth=4, classifier__min_samples_leaf=1, classifier__n_estimators=100; total time=   0.1s\n",
      "[CV] END classifier__max_depth=4, classifier__min_samples_leaf=1, classifier__n_estimators=150; total time=   0.2s\n",
      "[CV] END classifier__max_depth=4, classifier__min_samples_leaf=1, classifier__n_estimators=150; total time=   0.2s\n",
      "[CV] END classifier__max_depth=4, classifier__min_samples_leaf=1, classifier__n_estimators=150; total time=   0.2s\n"
     ]
    },
    {
     "name": "stdout",
     "output_type": "stream",
     "text": [
      "[CV] END classifier__max_depth=4, classifier__min_samples_leaf=1, classifier__n_estimators=150; total time=   0.2s\n",
      "[CV] END classifier__max_depth=4, classifier__min_samples_leaf=1, classifier__n_estimators=200; total time=   0.3s\n",
      "[CV] END classifier__max_depth=4, classifier__min_samples_leaf=1, classifier__n_estimators=200; total time=   0.3s\n",
      "[CV] END classifier__max_depth=4, classifier__min_samples_leaf=1, classifier__n_estimators=200; total time=   0.3s\n",
      "[CV] END classifier__max_depth=4, classifier__min_samples_leaf=1, classifier__n_estimators=200; total time=   0.3s\n",
      "[CV] END classifier__max_depth=4, classifier__min_samples_leaf=1, classifier__n_estimators=250; total time=   0.5s\n",
      "[CV] END classifier__max_depth=4, classifier__min_samples_leaf=1, classifier__n_estimators=250; total time=   0.4s\n",
      "[CV] END classifier__max_depth=4, classifier__min_samples_leaf=1, classifier__n_estimators=250; total time=   0.4s\n",
      "[CV] END classifier__max_depth=4, classifier__min_samples_leaf=1, classifier__n_estimators=250; total time=   0.3s\n",
      "[CV] END classifier__max_depth=4, classifier__min_samples_leaf=5, classifier__n_estimators=50; total time=   0.1s\n",
      "[CV] END classifier__max_depth=4, classifier__min_samples_leaf=5, classifier__n_estimators=50; total time=   0.1s\n",
      "[CV] END classifier__max_depth=4, classifier__min_samples_leaf=5, classifier__n_estimators=50; total time=   0.0s\n",
      "[CV] END classifier__max_depth=4, classifier__min_samples_leaf=5, classifier__n_estimators=50; total time=   0.1s\n",
      "[CV] END classifier__max_depth=4, classifier__min_samples_leaf=5, classifier__n_estimators=100; total time=   0.1s\n",
      "[CV] END classifier__max_depth=4, classifier__min_samples_leaf=5, classifier__n_estimators=100; total time=   0.1s\n",
      "[CV] END classifier__max_depth=4, classifier__min_samples_leaf=5, classifier__n_estimators=100; total time=   0.1s\n",
      "[CV] END classifier__max_depth=4, classifier__min_samples_leaf=5, classifier__n_estimators=100; total time=   0.1s\n",
      "[CV] END classifier__max_depth=4, classifier__min_samples_leaf=5, classifier__n_estimators=150; total time=   0.2s\n",
      "[CV] END classifier__max_depth=4, classifier__min_samples_leaf=5, classifier__n_estimators=150; total time=   0.2s\n",
      "[CV] END classifier__max_depth=4, classifier__min_samples_leaf=5, classifier__n_estimators=150; total time=   0.2s\n",
      "[CV] END classifier__max_depth=4, classifier__min_samples_leaf=5, classifier__n_estimators=150; total time=   0.2s\n",
      "[CV] END classifier__max_depth=4, classifier__min_samples_leaf=5, classifier__n_estimators=200; total time=   0.3s\n",
      "[CV] END classifier__max_depth=4, classifier__min_samples_leaf=5, classifier__n_estimators=200; total time=   0.3s\n",
      "[CV] END classifier__max_depth=4, classifier__min_samples_leaf=5, classifier__n_estimators=200; total time=   0.3s\n",
      "[CV] END classifier__max_depth=4, classifier__min_samples_leaf=5, classifier__n_estimators=200; total time=   0.3s\n",
      "[CV] END classifier__max_depth=4, classifier__min_samples_leaf=5, classifier__n_estimators=250; total time=   0.4s\n",
      "[CV] END classifier__max_depth=4, classifier__min_samples_leaf=5, classifier__n_estimators=250; total time=   0.4s\n",
      "[CV] END classifier__max_depth=4, classifier__min_samples_leaf=5, classifier__n_estimators=250; total time=   0.4s\n",
      "[CV] END classifier__max_depth=4, classifier__min_samples_leaf=5, classifier__n_estimators=250; total time=   0.4s\n",
      "[CV] END classifier__max_depth=4, classifier__min_samples_leaf=10, classifier__n_estimators=50; total time=   0.1s\n",
      "[CV] END classifier__max_depth=4, classifier__min_samples_leaf=10, classifier__n_estimators=50; total time=   0.0s\n",
      "[CV] END classifier__max_depth=4, classifier__min_samples_leaf=10, classifier__n_estimators=50; total time=   0.1s\n",
      "[CV] END classifier__max_depth=4, classifier__min_samples_leaf=10, classifier__n_estimators=50; total time=   0.0s\n",
      "[CV] END classifier__max_depth=4, classifier__min_samples_leaf=10, classifier__n_estimators=100; total time=   0.1s\n",
      "[CV] END classifier__max_depth=4, classifier__min_samples_leaf=10, classifier__n_estimators=100; total time=   0.1s\n",
      "[CV] END classifier__max_depth=4, classifier__min_samples_leaf=10, classifier__n_estimators=100; total time=   0.2s\n",
      "[CV] END classifier__max_depth=4, classifier__min_samples_leaf=10, classifier__n_estimators=100; total time=   0.2s\n",
      "[CV] END classifier__max_depth=4, classifier__min_samples_leaf=10, classifier__n_estimators=150; total time=   0.2s\n",
      "[CV] END classifier__max_depth=4, classifier__min_samples_leaf=10, classifier__n_estimators=150; total time=   0.2s\n",
      "[CV] END classifier__max_depth=4, classifier__min_samples_leaf=10, classifier__n_estimators=150; total time=   0.2s\n",
      "[CV] END classifier__max_depth=4, classifier__min_samples_leaf=10, classifier__n_estimators=150; total time=   0.2s\n",
      "[CV] END classifier__max_depth=4, classifier__min_samples_leaf=10, classifier__n_estimators=200; total time=   0.3s\n",
      "[CV] END classifier__max_depth=4, classifier__min_samples_leaf=10, classifier__n_estimators=200; total time=   0.3s\n",
      "[CV] END classifier__max_depth=4, classifier__min_samples_leaf=10, classifier__n_estimators=200; total time=   0.3s\n",
      "[CV] END classifier__max_depth=4, classifier__min_samples_leaf=10, classifier__n_estimators=200; total time=   0.3s\n",
      "[CV] END classifier__max_depth=4, classifier__min_samples_leaf=10, classifier__n_estimators=250; total time=   0.4s\n",
      "[CV] END classifier__max_depth=4, classifier__min_samples_leaf=10, classifier__n_estimators=250; total time=   0.4s\n",
      "[CV] END classifier__max_depth=4, classifier__min_samples_leaf=10, classifier__n_estimators=250; total time=   0.4s\n",
      "[CV] END classifier__max_depth=4, classifier__min_samples_leaf=10, classifier__n_estimators=250; total time=   0.4s\n",
      "[CV] END classifier__max_depth=5, classifier__min_samples_leaf=1, classifier__n_estimators=50; total time=   0.1s\n",
      "[CV] END classifier__max_depth=5, classifier__min_samples_leaf=1, classifier__n_estimators=50; total time=   0.1s\n",
      "[CV] END classifier__max_depth=5, classifier__min_samples_leaf=1, classifier__n_estimators=50; total time=   0.1s\n",
      "[CV] END classifier__max_depth=5, classifier__min_samples_leaf=1, classifier__n_estimators=50; total time=   0.0s\n",
      "[CV] END classifier__max_depth=5, classifier__min_samples_leaf=1, classifier__n_estimators=100; total time=   0.2s\n",
      "[CV] END classifier__max_depth=5, classifier__min_samples_leaf=1, classifier__n_estimators=100; total time=   0.1s\n",
      "[CV] END classifier__max_depth=5, classifier__min_samples_leaf=1, classifier__n_estimators=100; total time=   0.1s\n",
      "[CV] END classifier__max_depth=5, classifier__min_samples_leaf=1, classifier__n_estimators=100; total time=   0.2s\n",
      "[CV] END classifier__max_depth=5, classifier__min_samples_leaf=1, classifier__n_estimators=150; total time=   0.3s\n",
      "[CV] END classifier__max_depth=5, classifier__min_samples_leaf=1, classifier__n_estimators=150; total time=   0.2s\n",
      "[CV] END classifier__max_depth=5, classifier__min_samples_leaf=1, classifier__n_estimators=150; total time=   0.2s\n",
      "[CV] END classifier__max_depth=5, classifier__min_samples_leaf=1, classifier__n_estimators=150; total time=   0.2s\n",
      "[CV] END classifier__max_depth=5, classifier__min_samples_leaf=1, classifier__n_estimators=200; total time=   0.3s\n",
      "[CV] END classifier__max_depth=5, classifier__min_samples_leaf=1, classifier__n_estimators=200; total time=   0.3s\n",
      "[CV] END classifier__max_depth=5, classifier__min_samples_leaf=1, classifier__n_estimators=200; total time=   0.3s\n",
      "[CV] END classifier__max_depth=5, classifier__min_samples_leaf=1, classifier__n_estimators=200; total time=   0.3s\n",
      "[CV] END classifier__max_depth=5, classifier__min_samples_leaf=1, classifier__n_estimators=250; total time=   0.4s\n",
      "[CV] END classifier__max_depth=5, classifier__min_samples_leaf=1, classifier__n_estimators=250; total time=   0.4s\n",
      "[CV] END classifier__max_depth=5, classifier__min_samples_leaf=1, classifier__n_estimators=250; total time=   0.4s\n",
      "[CV] END classifier__max_depth=5, classifier__min_samples_leaf=1, classifier__n_estimators=250; total time=   0.4s\n",
      "[CV] END classifier__max_depth=5, classifier__min_samples_leaf=5, classifier__n_estimators=50; total time=   0.1s\n",
      "[CV] END classifier__max_depth=5, classifier__min_samples_leaf=5, classifier__n_estimators=50; total time=   0.1s\n",
      "[CV] END classifier__max_depth=5, classifier__min_samples_leaf=5, classifier__n_estimators=50; total time=   0.0s\n"
     ]
    },
    {
     "name": "stdout",
     "output_type": "stream",
     "text": [
      "[CV] END classifier__max_depth=5, classifier__min_samples_leaf=5, classifier__n_estimators=50; total time=   0.0s\n",
      "[CV] END classifier__max_depth=5, classifier__min_samples_leaf=5, classifier__n_estimators=100; total time=   0.1s\n",
      "[CV] END classifier__max_depth=5, classifier__min_samples_leaf=5, classifier__n_estimators=100; total time=   0.1s\n",
      "[CV] END classifier__max_depth=5, classifier__min_samples_leaf=5, classifier__n_estimators=100; total time=   0.2s\n",
      "[CV] END classifier__max_depth=5, classifier__min_samples_leaf=5, classifier__n_estimators=100; total time=   0.2s\n",
      "[CV] END classifier__max_depth=5, classifier__min_samples_leaf=5, classifier__n_estimators=150; total time=   0.2s\n",
      "[CV] END classifier__max_depth=5, classifier__min_samples_leaf=5, classifier__n_estimators=150; total time=   0.2s\n",
      "[CV] END classifier__max_depth=5, classifier__min_samples_leaf=5, classifier__n_estimators=150; total time=   0.2s\n",
      "[CV] END classifier__max_depth=5, classifier__min_samples_leaf=5, classifier__n_estimators=150; total time=   0.2s\n",
      "[CV] END classifier__max_depth=5, classifier__min_samples_leaf=5, classifier__n_estimators=200; total time=   0.3s\n",
      "[CV] END classifier__max_depth=5, classifier__min_samples_leaf=5, classifier__n_estimators=200; total time=   0.3s\n",
      "[CV] END classifier__max_depth=5, classifier__min_samples_leaf=5, classifier__n_estimators=200; total time=   0.3s\n",
      "[CV] END classifier__max_depth=5, classifier__min_samples_leaf=5, classifier__n_estimators=200; total time=   0.3s\n",
      "[CV] END classifier__max_depth=5, classifier__min_samples_leaf=5, classifier__n_estimators=250; total time=   0.4s\n",
      "[CV] END classifier__max_depth=5, classifier__min_samples_leaf=5, classifier__n_estimators=250; total time=   0.4s\n",
      "[CV] END classifier__max_depth=5, classifier__min_samples_leaf=5, classifier__n_estimators=250; total time=   0.4s\n",
      "[CV] END classifier__max_depth=5, classifier__min_samples_leaf=5, classifier__n_estimators=250; total time=   0.4s\n",
      "[CV] END classifier__max_depth=5, classifier__min_samples_leaf=10, classifier__n_estimators=50; total time=   0.1s\n",
      "[CV] END classifier__max_depth=5, classifier__min_samples_leaf=10, classifier__n_estimators=50; total time=   0.1s\n",
      "[CV] END classifier__max_depth=5, classifier__min_samples_leaf=10, classifier__n_estimators=50; total time=   0.0s\n",
      "[CV] END classifier__max_depth=5, classifier__min_samples_leaf=10, classifier__n_estimators=50; total time=   0.1s\n",
      "[CV] END classifier__max_depth=5, classifier__min_samples_leaf=10, classifier__n_estimators=100; total time=   0.1s\n",
      "[CV] END classifier__max_depth=5, classifier__min_samples_leaf=10, classifier__n_estimators=100; total time=   0.2s\n",
      "[CV] END classifier__max_depth=5, classifier__min_samples_leaf=10, classifier__n_estimators=100; total time=   0.2s\n",
      "[CV] END classifier__max_depth=5, classifier__min_samples_leaf=10, classifier__n_estimators=100; total time=   0.1s\n",
      "[CV] END classifier__max_depth=5, classifier__min_samples_leaf=10, classifier__n_estimators=150; total time=   0.2s\n",
      "[CV] END classifier__max_depth=5, classifier__min_samples_leaf=10, classifier__n_estimators=150; total time=   0.3s\n",
      "[CV] END classifier__max_depth=5, classifier__min_samples_leaf=10, classifier__n_estimators=150; total time=   0.2s\n",
      "[CV] END classifier__max_depth=5, classifier__min_samples_leaf=10, classifier__n_estimators=150; total time=   0.2s\n",
      "[CV] END classifier__max_depth=5, classifier__min_samples_leaf=10, classifier__n_estimators=200; total time=   0.3s\n",
      "[CV] END classifier__max_depth=5, classifier__min_samples_leaf=10, classifier__n_estimators=200; total time=   0.3s\n",
      "[CV] END classifier__max_depth=5, classifier__min_samples_leaf=10, classifier__n_estimators=200; total time=   0.3s\n",
      "[CV] END classifier__max_depth=5, classifier__min_samples_leaf=10, classifier__n_estimators=200; total time=   0.3s\n",
      "[CV] END classifier__max_depth=5, classifier__min_samples_leaf=10, classifier__n_estimators=250; total time=   0.4s\n",
      "[CV] END classifier__max_depth=5, classifier__min_samples_leaf=10, classifier__n_estimators=250; total time=   0.4s\n",
      "[CV] END classifier__max_depth=5, classifier__min_samples_leaf=10, classifier__n_estimators=250; total time=   0.4s\n",
      "[CV] END classifier__max_depth=5, classifier__min_samples_leaf=10, classifier__n_estimators=250; total time=   0.4s\n",
      "[CV] END classifier__max_depth=6, classifier__min_samples_leaf=1, classifier__n_estimators=50; total time=   0.1s\n",
      "[CV] END classifier__max_depth=6, classifier__min_samples_leaf=1, classifier__n_estimators=50; total time=   0.0s\n",
      "[CV] END classifier__max_depth=6, classifier__min_samples_leaf=1, classifier__n_estimators=50; total time=   0.1s\n",
      "[CV] END classifier__max_depth=6, classifier__min_samples_leaf=1, classifier__n_estimators=50; total time=   0.1s\n",
      "[CV] END classifier__max_depth=6, classifier__min_samples_leaf=1, classifier__n_estimators=100; total time=   0.1s\n",
      "[CV] END classifier__max_depth=6, classifier__min_samples_leaf=1, classifier__n_estimators=100; total time=   0.2s\n",
      "[CV] END classifier__max_depth=6, classifier__min_samples_leaf=1, classifier__n_estimators=100; total time=   0.1s\n",
      "[CV] END classifier__max_depth=6, classifier__min_samples_leaf=1, classifier__n_estimators=100; total time=   0.1s\n",
      "[CV] END classifier__max_depth=6, classifier__min_samples_leaf=1, classifier__n_estimators=150; total time=   0.2s\n",
      "[CV] END classifier__max_depth=6, classifier__min_samples_leaf=1, classifier__n_estimators=150; total time=   0.2s\n",
      "[CV] END classifier__max_depth=6, classifier__min_samples_leaf=1, classifier__n_estimators=150; total time=   0.2s\n",
      "[CV] END classifier__max_depth=6, classifier__min_samples_leaf=1, classifier__n_estimators=150; total time=   0.2s\n",
      "[CV] END classifier__max_depth=6, classifier__min_samples_leaf=1, classifier__n_estimators=200; total time=   0.3s\n",
      "[CV] END classifier__max_depth=6, classifier__min_samples_leaf=1, classifier__n_estimators=200; total time=   0.3s\n",
      "[CV] END classifier__max_depth=6, classifier__min_samples_leaf=1, classifier__n_estimators=200; total time=   0.3s\n",
      "[CV] END classifier__max_depth=6, classifier__min_samples_leaf=1, classifier__n_estimators=200; total time=   0.3s\n",
      "[CV] END classifier__max_depth=6, classifier__min_samples_leaf=1, classifier__n_estimators=250; total time=   0.4s\n",
      "[CV] END classifier__max_depth=6, classifier__min_samples_leaf=1, classifier__n_estimators=250; total time=   0.4s\n",
      "[CV] END classifier__max_depth=6, classifier__min_samples_leaf=1, classifier__n_estimators=250; total time=   0.4s\n",
      "[CV] END classifier__max_depth=6, classifier__min_samples_leaf=1, classifier__n_estimators=250; total time=   0.4s\n",
      "[CV] END classifier__max_depth=6, classifier__min_samples_leaf=5, classifier__n_estimators=50; total time=   0.0s\n",
      "[CV] END classifier__max_depth=6, classifier__min_samples_leaf=5, classifier__n_estimators=50; total time=   0.0s\n",
      "[CV] END classifier__max_depth=6, classifier__min_samples_leaf=5, classifier__n_estimators=50; total time=   0.1s\n",
      "[CV] END classifier__max_depth=6, classifier__min_samples_leaf=5, classifier__n_estimators=50; total time=   0.1s\n",
      "[CV] END classifier__max_depth=6, classifier__min_samples_leaf=5, classifier__n_estimators=100; total time=   0.2s\n",
      "[CV] END classifier__max_depth=6, classifier__min_samples_leaf=5, classifier__n_estimators=100; total time=   0.2s\n",
      "[CV] END classifier__max_depth=6, classifier__min_samples_leaf=5, classifier__n_estimators=100; total time=   0.1s\n",
      "[CV] END classifier__max_depth=6, classifier__min_samples_leaf=5, classifier__n_estimators=100; total time=   0.1s\n",
      "[CV] END classifier__max_depth=6, classifier__min_samples_leaf=5, classifier__n_estimators=150; total time=   0.2s\n",
      "[CV] END classifier__max_depth=6, classifier__min_samples_leaf=5, classifier__n_estimators=150; total time=   0.2s\n",
      "[CV] END classifier__max_depth=6, classifier__min_samples_leaf=5, classifier__n_estimators=150; total time=   0.2s\n",
      "[CV] END classifier__max_depth=6, classifier__min_samples_leaf=5, classifier__n_estimators=150; total time=   0.2s\n",
      "[CV] END classifier__max_depth=6, classifier__min_samples_leaf=5, classifier__n_estimators=200; total time=   0.3s\n",
      "[CV] END classifier__max_depth=6, classifier__min_samples_leaf=5, classifier__n_estimators=200; total time=   0.3s\n",
      "[CV] END classifier__max_depth=6, classifier__min_samples_leaf=5, classifier__n_estimators=200; total time=   0.3s\n"
     ]
    },
    {
     "name": "stdout",
     "output_type": "stream",
     "text": [
      "[CV] END classifier__max_depth=6, classifier__min_samples_leaf=5, classifier__n_estimators=200; total time=   0.3s\n",
      "[CV] END classifier__max_depth=6, classifier__min_samples_leaf=5, classifier__n_estimators=250; total time=   0.4s\n",
      "[CV] END classifier__max_depth=6, classifier__min_samples_leaf=5, classifier__n_estimators=250; total time=   0.4s\n",
      "[CV] END classifier__max_depth=6, classifier__min_samples_leaf=5, classifier__n_estimators=250; total time=   0.4s\n",
      "[CV] END classifier__max_depth=6, classifier__min_samples_leaf=5, classifier__n_estimators=250; total time=   0.5s\n",
      "[CV] END classifier__max_depth=6, classifier__min_samples_leaf=10, classifier__n_estimators=50; total time=   0.1s\n",
      "[CV] END classifier__max_depth=6, classifier__min_samples_leaf=10, classifier__n_estimators=50; total time=   0.1s\n",
      "[CV] END classifier__max_depth=6, classifier__min_samples_leaf=10, classifier__n_estimators=50; total time=   0.1s\n",
      "[CV] END classifier__max_depth=6, classifier__min_samples_leaf=10, classifier__n_estimators=50; total time=   0.1s\n",
      "[CV] END classifier__max_depth=6, classifier__min_samples_leaf=10, classifier__n_estimators=100; total time=   0.2s\n",
      "[CV] END classifier__max_depth=6, classifier__min_samples_leaf=10, classifier__n_estimators=100; total time=   0.1s\n",
      "[CV] END classifier__max_depth=6, classifier__min_samples_leaf=10, classifier__n_estimators=100; total time=   0.2s\n",
      "[CV] END classifier__max_depth=6, classifier__min_samples_leaf=10, classifier__n_estimators=100; total time=   0.1s\n",
      "[CV] END classifier__max_depth=6, classifier__min_samples_leaf=10, classifier__n_estimators=150; total time=   0.2s\n",
      "[CV] END classifier__max_depth=6, classifier__min_samples_leaf=10, classifier__n_estimators=150; total time=   0.2s\n",
      "[CV] END classifier__max_depth=6, classifier__min_samples_leaf=10, classifier__n_estimators=150; total time=   0.2s\n",
      "[CV] END classifier__max_depth=6, classifier__min_samples_leaf=10, classifier__n_estimators=150; total time=   0.2s\n",
      "[CV] END classifier__max_depth=6, classifier__min_samples_leaf=10, classifier__n_estimators=200; total time=   0.4s\n",
      "[CV] END classifier__max_depth=6, classifier__min_samples_leaf=10, classifier__n_estimators=200; total time=   0.3s\n",
      "[CV] END classifier__max_depth=6, classifier__min_samples_leaf=10, classifier__n_estimators=200; total time=   0.3s\n",
      "[CV] END classifier__max_depth=6, classifier__min_samples_leaf=10, classifier__n_estimators=200; total time=   0.4s\n",
      "[CV] END classifier__max_depth=6, classifier__min_samples_leaf=10, classifier__n_estimators=250; total time=   0.4s\n",
      "[CV] END classifier__max_depth=6, classifier__min_samples_leaf=10, classifier__n_estimators=250; total time=   0.4s\n",
      "[CV] END classifier__max_depth=6, classifier__min_samples_leaf=10, classifier__n_estimators=250; total time=   0.4s\n",
      "[CV] END classifier__max_depth=6, classifier__min_samples_leaf=10, classifier__n_estimators=250; total time=   0.4s\n",
      "[CV] END classifier__max_depth=7, classifier__min_samples_leaf=1, classifier__n_estimators=50; total time=   0.1s\n",
      "[CV] END classifier__max_depth=7, classifier__min_samples_leaf=1, classifier__n_estimators=50; total time=   0.1s\n",
      "[CV] END classifier__max_depth=7, classifier__min_samples_leaf=1, classifier__n_estimators=50; total time=   0.1s\n",
      "[CV] END classifier__max_depth=7, classifier__min_samples_leaf=1, classifier__n_estimators=50; total time=   0.1s\n",
      "[CV] END classifier__max_depth=7, classifier__min_samples_leaf=1, classifier__n_estimators=100; total time=   0.2s\n",
      "[CV] END classifier__max_depth=7, classifier__min_samples_leaf=1, classifier__n_estimators=100; total time=   0.2s\n",
      "[CV] END classifier__max_depth=7, classifier__min_samples_leaf=1, classifier__n_estimators=100; total time=   0.2s\n",
      "[CV] END classifier__max_depth=7, classifier__min_samples_leaf=1, classifier__n_estimators=100; total time=   0.1s\n",
      "[CV] END classifier__max_depth=7, classifier__min_samples_leaf=1, classifier__n_estimators=150; total time=   0.2s\n",
      "[CV] END classifier__max_depth=7, classifier__min_samples_leaf=1, classifier__n_estimators=150; total time=   0.2s\n",
      "[CV] END classifier__max_depth=7, classifier__min_samples_leaf=1, classifier__n_estimators=150; total time=   0.2s\n",
      "[CV] END classifier__max_depth=7, classifier__min_samples_leaf=1, classifier__n_estimators=150; total time=   0.3s\n",
      "[CV] END classifier__max_depth=7, classifier__min_samples_leaf=1, classifier__n_estimators=200; total time=   0.3s\n",
      "[CV] END classifier__max_depth=7, classifier__min_samples_leaf=1, classifier__n_estimators=200; total time=   0.3s\n",
      "[CV] END classifier__max_depth=7, classifier__min_samples_leaf=1, classifier__n_estimators=200; total time=   0.3s\n",
      "[CV] END classifier__max_depth=7, classifier__min_samples_leaf=1, classifier__n_estimators=200; total time=   0.3s\n",
      "[CV] END classifier__max_depth=7, classifier__min_samples_leaf=1, classifier__n_estimators=250; total time=   0.4s\n",
      "[CV] END classifier__max_depth=7, classifier__min_samples_leaf=1, classifier__n_estimators=250; total time=   0.4s\n",
      "[CV] END classifier__max_depth=7, classifier__min_samples_leaf=1, classifier__n_estimators=250; total time=   0.5s\n",
      "[CV] END classifier__max_depth=7, classifier__min_samples_leaf=1, classifier__n_estimators=250; total time=   0.5s\n",
      "[CV] END classifier__max_depth=7, classifier__min_samples_leaf=5, classifier__n_estimators=50; total time=   0.1s\n",
      "[CV] END classifier__max_depth=7, classifier__min_samples_leaf=5, classifier__n_estimators=50; total time=   0.1s\n",
      "[CV] END classifier__max_depth=7, classifier__min_samples_leaf=5, classifier__n_estimators=50; total time=   0.1s\n",
      "[CV] END classifier__max_depth=7, classifier__min_samples_leaf=5, classifier__n_estimators=50; total time=   0.1s\n",
      "[CV] END classifier__max_depth=7, classifier__min_samples_leaf=5, classifier__n_estimators=100; total time=   0.1s\n",
      "[CV] END classifier__max_depth=7, classifier__min_samples_leaf=5, classifier__n_estimators=100; total time=   0.1s\n",
      "[CV] END classifier__max_depth=7, classifier__min_samples_leaf=5, classifier__n_estimators=100; total time=   0.1s\n",
      "[CV] END classifier__max_depth=7, classifier__min_samples_leaf=5, classifier__n_estimators=100; total time=   0.1s\n",
      "[CV] END classifier__max_depth=7, classifier__min_samples_leaf=5, classifier__n_estimators=150; total time=   0.2s\n",
      "[CV] END classifier__max_depth=7, classifier__min_samples_leaf=5, classifier__n_estimators=150; total time=   0.2s\n",
      "[CV] END classifier__max_depth=7, classifier__min_samples_leaf=5, classifier__n_estimators=150; total time=   0.2s\n",
      "[CV] END classifier__max_depth=7, classifier__min_samples_leaf=5, classifier__n_estimators=150; total time=   0.2s\n",
      "[CV] END classifier__max_depth=7, classifier__min_samples_leaf=5, classifier__n_estimators=200; total time=   0.3s\n",
      "[CV] END classifier__max_depth=7, classifier__min_samples_leaf=5, classifier__n_estimators=200; total time=   0.3s\n",
      "[CV] END classifier__max_depth=7, classifier__min_samples_leaf=5, classifier__n_estimators=200; total time=   0.3s\n",
      "[CV] END classifier__max_depth=7, classifier__min_samples_leaf=5, classifier__n_estimators=200; total time=   0.3s\n",
      "[CV] END classifier__max_depth=7, classifier__min_samples_leaf=5, classifier__n_estimators=250; total time=   0.4s\n",
      "[CV] END classifier__max_depth=7, classifier__min_samples_leaf=5, classifier__n_estimators=250; total time=   0.4s\n",
      "[CV] END classifier__max_depth=7, classifier__min_samples_leaf=5, classifier__n_estimators=250; total time=   0.5s\n",
      "[CV] END classifier__max_depth=7, classifier__min_samples_leaf=5, classifier__n_estimators=250; total time=   0.4s\n",
      "[CV] END classifier__max_depth=7, classifier__min_samples_leaf=10, classifier__n_estimators=50; total time=   0.1s\n",
      "[CV] END classifier__max_depth=7, classifier__min_samples_leaf=10, classifier__n_estimators=50; total time=   0.1s\n",
      "[CV] END classifier__max_depth=7, classifier__min_samples_leaf=10, classifier__n_estimators=50; total time=   0.1s\n",
      "[CV] END classifier__max_depth=7, classifier__min_samples_leaf=10, classifier__n_estimators=50; total time=   0.1s\n",
      "[CV] END classifier__max_depth=7, classifier__min_samples_leaf=10, classifier__n_estimators=100; total time=   0.1s\n",
      "[CV] END classifier__max_depth=7, classifier__min_samples_leaf=10, classifier__n_estimators=100; total time=   0.2s\n",
      "[CV] END classifier__max_depth=7, classifier__min_samples_leaf=10, classifier__n_estimators=100; total time=   0.1s\n"
     ]
    },
    {
     "name": "stdout",
     "output_type": "stream",
     "text": [
      "[CV] END classifier__max_depth=7, classifier__min_samples_leaf=10, classifier__n_estimators=100; total time=   0.1s\n",
      "[CV] END classifier__max_depth=7, classifier__min_samples_leaf=10, classifier__n_estimators=150; total time=   0.2s\n",
      "[CV] END classifier__max_depth=7, classifier__min_samples_leaf=10, classifier__n_estimators=150; total time=   0.4s\n",
      "[CV] END classifier__max_depth=7, classifier__min_samples_leaf=10, classifier__n_estimators=150; total time=   0.4s\n",
      "[CV] END classifier__max_depth=7, classifier__min_samples_leaf=10, classifier__n_estimators=150; total time=   0.2s\n",
      "[CV] END classifier__max_depth=7, classifier__min_samples_leaf=10, classifier__n_estimators=200; total time=   0.3s\n",
      "[CV] END classifier__max_depth=7, classifier__min_samples_leaf=10, classifier__n_estimators=200; total time=   0.3s\n",
      "[CV] END classifier__max_depth=7, classifier__min_samples_leaf=10, classifier__n_estimators=200; total time=   0.3s\n",
      "[CV] END classifier__max_depth=7, classifier__min_samples_leaf=10, classifier__n_estimators=200; total time=   0.3s\n",
      "[CV] END classifier__max_depth=7, classifier__min_samples_leaf=10, classifier__n_estimators=250; total time=   0.4s\n",
      "[CV] END classifier__max_depth=7, classifier__min_samples_leaf=10, classifier__n_estimators=250; total time=   0.4s\n",
      "[CV] END classifier__max_depth=7, classifier__min_samples_leaf=10, classifier__n_estimators=250; total time=   0.4s\n",
      "[CV] END classifier__max_depth=7, classifier__min_samples_leaf=10, classifier__n_estimators=250; total time=   0.4s\n",
      "[CV] END classifier__max_depth=8, classifier__min_samples_leaf=1, classifier__n_estimators=50; total time=   0.1s\n",
      "[CV] END classifier__max_depth=8, classifier__min_samples_leaf=1, classifier__n_estimators=50; total time=   0.1s\n",
      "[CV] END classifier__max_depth=8, classifier__min_samples_leaf=1, classifier__n_estimators=50; total time=   0.1s\n",
      "[CV] END classifier__max_depth=8, classifier__min_samples_leaf=1, classifier__n_estimators=50; total time=   0.1s\n",
      "[CV] END classifier__max_depth=8, classifier__min_samples_leaf=1, classifier__n_estimators=100; total time=   0.2s\n",
      "[CV] END classifier__max_depth=8, classifier__min_samples_leaf=1, classifier__n_estimators=100; total time=   0.1s\n",
      "[CV] END classifier__max_depth=8, classifier__min_samples_leaf=1, classifier__n_estimators=100; total time=   0.1s\n",
      "[CV] END classifier__max_depth=8, classifier__min_samples_leaf=1, classifier__n_estimators=100; total time=   0.2s\n",
      "[CV] END classifier__max_depth=8, classifier__min_samples_leaf=1, classifier__n_estimators=150; total time=   0.2s\n",
      "[CV] END classifier__max_depth=8, classifier__min_samples_leaf=1, classifier__n_estimators=150; total time=   0.2s\n",
      "[CV] END classifier__max_depth=8, classifier__min_samples_leaf=1, classifier__n_estimators=150; total time=   0.2s\n",
      "[CV] END classifier__max_depth=8, classifier__min_samples_leaf=1, classifier__n_estimators=150; total time=   0.3s\n",
      "[CV] END classifier__max_depth=8, classifier__min_samples_leaf=1, classifier__n_estimators=200; total time=   0.3s\n",
      "[CV] END classifier__max_depth=8, classifier__min_samples_leaf=1, classifier__n_estimators=200; total time=   0.3s\n",
      "[CV] END classifier__max_depth=8, classifier__min_samples_leaf=1, classifier__n_estimators=200; total time=   0.3s\n",
      "[CV] END classifier__max_depth=8, classifier__min_samples_leaf=1, classifier__n_estimators=200; total time=   0.3s\n",
      "[CV] END classifier__max_depth=8, classifier__min_samples_leaf=1, classifier__n_estimators=250; total time=   0.4s\n",
      "[CV] END classifier__max_depth=8, classifier__min_samples_leaf=1, classifier__n_estimators=250; total time=   0.4s\n",
      "[CV] END classifier__max_depth=8, classifier__min_samples_leaf=1, classifier__n_estimators=250; total time=   0.5s\n",
      "[CV] END classifier__max_depth=8, classifier__min_samples_leaf=1, classifier__n_estimators=250; total time=   0.5s\n",
      "[CV] END classifier__max_depth=8, classifier__min_samples_leaf=5, classifier__n_estimators=50; total time=   0.2s\n",
      "[CV] END classifier__max_depth=8, classifier__min_samples_leaf=5, classifier__n_estimators=50; total time=   0.1s\n",
      "[CV] END classifier__max_depth=8, classifier__min_samples_leaf=5, classifier__n_estimators=50; total time=   0.1s\n",
      "[CV] END classifier__max_depth=8, classifier__min_samples_leaf=5, classifier__n_estimators=50; total time=   0.1s\n",
      "[CV] END classifier__max_depth=8, classifier__min_samples_leaf=5, classifier__n_estimators=100; total time=   0.2s\n",
      "[CV] END classifier__max_depth=8, classifier__min_samples_leaf=5, classifier__n_estimators=100; total time=   0.2s\n",
      "[CV] END classifier__max_depth=8, classifier__min_samples_leaf=5, classifier__n_estimators=100; total time=   0.2s\n",
      "[CV] END classifier__max_depth=8, classifier__min_samples_leaf=5, classifier__n_estimators=100; total time=   0.2s\n",
      "[CV] END classifier__max_depth=8, classifier__min_samples_leaf=5, classifier__n_estimators=150; total time=   0.3s\n",
      "[CV] END classifier__max_depth=8, classifier__min_samples_leaf=5, classifier__n_estimators=150; total time=   0.3s\n",
      "[CV] END classifier__max_depth=8, classifier__min_samples_leaf=5, classifier__n_estimators=150; total time=   0.3s\n",
      "[CV] END classifier__max_depth=8, classifier__min_samples_leaf=5, classifier__n_estimators=150; total time=   0.3s\n",
      "[CV] END classifier__max_depth=8, classifier__min_samples_leaf=5, classifier__n_estimators=200; total time=   0.3s\n",
      "[CV] END classifier__max_depth=8, classifier__min_samples_leaf=5, classifier__n_estimators=200; total time=   0.3s\n",
      "[CV] END classifier__max_depth=8, classifier__min_samples_leaf=5, classifier__n_estimators=200; total time=   0.3s\n",
      "[CV] END classifier__max_depth=8, classifier__min_samples_leaf=5, classifier__n_estimators=200; total time=   0.3s\n",
      "[CV] END classifier__max_depth=8, classifier__min_samples_leaf=5, classifier__n_estimators=250; total time=   0.4s\n",
      "[CV] END classifier__max_depth=8, classifier__min_samples_leaf=5, classifier__n_estimators=250; total time=   0.4s\n",
      "[CV] END classifier__max_depth=8, classifier__min_samples_leaf=5, classifier__n_estimators=250; total time=   0.4s\n",
      "[CV] END classifier__max_depth=8, classifier__min_samples_leaf=5, classifier__n_estimators=250; total time=   0.4s\n",
      "[CV] END classifier__max_depth=8, classifier__min_samples_leaf=10, classifier__n_estimators=50; total time=   0.1s\n",
      "[CV] END classifier__max_depth=8, classifier__min_samples_leaf=10, classifier__n_estimators=50; total time=   0.1s\n",
      "[CV] END classifier__max_depth=8, classifier__min_samples_leaf=10, classifier__n_estimators=50; total time=   0.1s\n",
      "[CV] END classifier__max_depth=8, classifier__min_samples_leaf=10, classifier__n_estimators=50; total time=   0.1s\n",
      "[CV] END classifier__max_depth=8, classifier__min_samples_leaf=10, classifier__n_estimators=100; total time=   0.2s\n",
      "[CV] END classifier__max_depth=8, classifier__min_samples_leaf=10, classifier__n_estimators=100; total time=   0.2s\n",
      "[CV] END classifier__max_depth=8, classifier__min_samples_leaf=10, classifier__n_estimators=100; total time=   0.2s\n",
      "[CV] END classifier__max_depth=8, classifier__min_samples_leaf=10, classifier__n_estimators=100; total time=   0.2s\n",
      "[CV] END classifier__max_depth=8, classifier__min_samples_leaf=10, classifier__n_estimators=150; total time=   0.3s\n",
      "[CV] END classifier__max_depth=8, classifier__min_samples_leaf=10, classifier__n_estimators=150; total time=   0.2s\n",
      "[CV] END classifier__max_depth=8, classifier__min_samples_leaf=10, classifier__n_estimators=150; total time=   0.2s\n",
      "[CV] END classifier__max_depth=8, classifier__min_samples_leaf=10, classifier__n_estimators=150; total time=   0.2s\n",
      "[CV] END classifier__max_depth=8, classifier__min_samples_leaf=10, classifier__n_estimators=200; total time=   0.3s\n",
      "[CV] END classifier__max_depth=8, classifier__min_samples_leaf=10, classifier__n_estimators=200; total time=   0.3s\n",
      "[CV] END classifier__max_depth=8, classifier__min_samples_leaf=10, classifier__n_estimators=200; total time=   0.3s\n",
      "[CV] END classifier__max_depth=8, classifier__min_samples_leaf=10, classifier__n_estimators=200; total time=   0.3s\n",
      "[CV] END classifier__max_depth=8, classifier__min_samples_leaf=10, classifier__n_estimators=250; total time=   0.4s\n",
      "[CV] END classifier__max_depth=8, classifier__min_samples_leaf=10, classifier__n_estimators=250; total time=   0.5s\n",
      "[CV] END classifier__max_depth=8, classifier__min_samples_leaf=10, classifier__n_estimators=250; total time=   0.4s\n"
     ]
    },
    {
     "name": "stdout",
     "output_type": "stream",
     "text": [
      "[CV] END classifier__max_depth=8, classifier__min_samples_leaf=10, classifier__n_estimators=250; total time=   0.5s\n",
      "[CV] END classifier__max_depth=None, classifier__min_samples_leaf=1, classifier__n_estimators=50; total time=   0.1s\n",
      "[CV] END classifier__max_depth=None, classifier__min_samples_leaf=1, classifier__n_estimators=50; total time=   0.1s\n",
      "[CV] END classifier__max_depth=None, classifier__min_samples_leaf=1, classifier__n_estimators=50; total time=   0.1s\n",
      "[CV] END classifier__max_depth=None, classifier__min_samples_leaf=1, classifier__n_estimators=50; total time=   0.1s\n",
      "[CV] END classifier__max_depth=None, classifier__min_samples_leaf=1, classifier__n_estimators=100; total time=   0.2s\n",
      "[CV] END classifier__max_depth=None, classifier__min_samples_leaf=1, classifier__n_estimators=100; total time=   0.2s\n",
      "[CV] END classifier__max_depth=None, classifier__min_samples_leaf=1, classifier__n_estimators=100; total time=   0.1s\n",
      "[CV] END classifier__max_depth=None, classifier__min_samples_leaf=1, classifier__n_estimators=100; total time=   0.2s\n",
      "[CV] END classifier__max_depth=None, classifier__min_samples_leaf=1, classifier__n_estimators=150; total time=   0.3s\n",
      "[CV] END classifier__max_depth=None, classifier__min_samples_leaf=1, classifier__n_estimators=150; total time=   0.3s\n",
      "[CV] END classifier__max_depth=None, classifier__min_samples_leaf=1, classifier__n_estimators=150; total time=   0.3s\n",
      "[CV] END classifier__max_depth=None, classifier__min_samples_leaf=1, classifier__n_estimators=150; total time=   0.2s\n",
      "[CV] END classifier__max_depth=None, classifier__min_samples_leaf=1, classifier__n_estimators=200; total time=   0.3s\n",
      "[CV] END classifier__max_depth=None, classifier__min_samples_leaf=1, classifier__n_estimators=200; total time=   0.3s\n",
      "[CV] END classifier__max_depth=None, classifier__min_samples_leaf=1, classifier__n_estimators=200; total time=   0.4s\n",
      "[CV] END classifier__max_depth=None, classifier__min_samples_leaf=1, classifier__n_estimators=200; total time=   0.3s\n",
      "[CV] END classifier__max_depth=None, classifier__min_samples_leaf=1, classifier__n_estimators=250; total time=   0.4s\n",
      "[CV] END classifier__max_depth=None, classifier__min_samples_leaf=1, classifier__n_estimators=250; total time=   0.4s\n",
      "[CV] END classifier__max_depth=None, classifier__min_samples_leaf=1, classifier__n_estimators=250; total time=   0.4s\n",
      "[CV] END classifier__max_depth=None, classifier__min_samples_leaf=1, classifier__n_estimators=250; total time=   0.4s\n",
      "[CV] END classifier__max_depth=None, classifier__min_samples_leaf=5, classifier__n_estimators=50; total time=   0.1s\n",
      "[CV] END classifier__max_depth=None, classifier__min_samples_leaf=5, classifier__n_estimators=50; total time=   0.1s\n",
      "[CV] END classifier__max_depth=None, classifier__min_samples_leaf=5, classifier__n_estimators=50; total time=   0.1s\n",
      "[CV] END classifier__max_depth=None, classifier__min_samples_leaf=5, classifier__n_estimators=50; total time=   0.1s\n",
      "[CV] END classifier__max_depth=None, classifier__min_samples_leaf=5, classifier__n_estimators=100; total time=   0.2s\n",
      "[CV] END classifier__max_depth=None, classifier__min_samples_leaf=5, classifier__n_estimators=100; total time=   0.1s\n",
      "[CV] END classifier__max_depth=None, classifier__min_samples_leaf=5, classifier__n_estimators=100; total time=   0.2s\n",
      "[CV] END classifier__max_depth=None, classifier__min_samples_leaf=5, classifier__n_estimators=100; total time=   0.2s\n",
      "[CV] END classifier__max_depth=None, classifier__min_samples_leaf=5, classifier__n_estimators=150; total time=   0.2s\n",
      "[CV] END classifier__max_depth=None, classifier__min_samples_leaf=5, classifier__n_estimators=150; total time=   0.3s\n",
      "[CV] END classifier__max_depth=None, classifier__min_samples_leaf=5, classifier__n_estimators=150; total time=   0.2s\n",
      "[CV] END classifier__max_depth=None, classifier__min_samples_leaf=5, classifier__n_estimators=150; total time=   0.2s\n",
      "[CV] END classifier__max_depth=None, classifier__min_samples_leaf=5, classifier__n_estimators=200; total time=   0.3s\n",
      "[CV] END classifier__max_depth=None, classifier__min_samples_leaf=5, classifier__n_estimators=200; total time=   0.4s\n",
      "[CV] END classifier__max_depth=None, classifier__min_samples_leaf=5, classifier__n_estimators=200; total time=   0.3s\n",
      "[CV] END classifier__max_depth=None, classifier__min_samples_leaf=5, classifier__n_estimators=200; total time=   0.3s\n",
      "[CV] END classifier__max_depth=None, classifier__min_samples_leaf=5, classifier__n_estimators=250; total time=   0.4s\n",
      "[CV] END classifier__max_depth=None, classifier__min_samples_leaf=5, classifier__n_estimators=250; total time=   0.4s\n",
      "[CV] END classifier__max_depth=None, classifier__min_samples_leaf=5, classifier__n_estimators=250; total time=   0.4s\n",
      "[CV] END classifier__max_depth=None, classifier__min_samples_leaf=5, classifier__n_estimators=250; total time=   0.4s\n",
      "[CV] END classifier__max_depth=None, classifier__min_samples_leaf=10, classifier__n_estimators=50; total time=   0.1s\n",
      "[CV] END classifier__max_depth=None, classifier__min_samples_leaf=10, classifier__n_estimators=50; total time=   0.1s\n",
      "[CV] END classifier__max_depth=None, classifier__min_samples_leaf=10, classifier__n_estimators=50; total time=   0.1s\n",
      "[CV] END classifier__max_depth=None, classifier__min_samples_leaf=10, classifier__n_estimators=50; total time=   0.1s\n",
      "[CV] END classifier__max_depth=None, classifier__min_samples_leaf=10, classifier__n_estimators=100; total time=   0.2s\n",
      "[CV] END classifier__max_depth=None, classifier__min_samples_leaf=10, classifier__n_estimators=100; total time=   0.1s\n",
      "[CV] END classifier__max_depth=None, classifier__min_samples_leaf=10, classifier__n_estimators=100; total time=   0.2s\n",
      "[CV] END classifier__max_depth=None, classifier__min_samples_leaf=10, classifier__n_estimators=100; total time=   0.2s\n",
      "[CV] END classifier__max_depth=None, classifier__min_samples_leaf=10, classifier__n_estimators=150; total time=   0.2s\n",
      "[CV] END classifier__max_depth=None, classifier__min_samples_leaf=10, classifier__n_estimators=150; total time=   0.2s\n",
      "[CV] END classifier__max_depth=None, classifier__min_samples_leaf=10, classifier__n_estimators=150; total time=   0.2s\n",
      "[CV] END classifier__max_depth=None, classifier__min_samples_leaf=10, classifier__n_estimators=150; total time=   0.2s\n",
      "[CV] END classifier__max_depth=None, classifier__min_samples_leaf=10, classifier__n_estimators=200; total time=   0.3s\n",
      "[CV] END classifier__max_depth=None, classifier__min_samples_leaf=10, classifier__n_estimators=200; total time=   0.3s\n",
      "[CV] END classifier__max_depth=None, classifier__min_samples_leaf=10, classifier__n_estimators=200; total time=   0.3s\n",
      "[CV] END classifier__max_depth=None, classifier__min_samples_leaf=10, classifier__n_estimators=200; total time=   0.3s\n",
      "[CV] END classifier__max_depth=None, classifier__min_samples_leaf=10, classifier__n_estimators=250; total time=   0.4s\n",
      "[CV] END classifier__max_depth=None, classifier__min_samples_leaf=10, classifier__n_estimators=250; total time=   0.4s\n",
      "[CV] END classifier__max_depth=None, classifier__min_samples_leaf=10, classifier__n_estimators=250; total time=   0.4s\n",
      "[CV] END classifier__max_depth=None, classifier__min_samples_leaf=10, classifier__n_estimators=250; total time=   0.4s\n"
     ]
    },
    {
     "data": {
      "text/html": [
       "<style>#sk-container-id-13 {color: black;}#sk-container-id-13 pre{padding: 0;}#sk-container-id-13 div.sk-toggleable {background-color: white;}#sk-container-id-13 label.sk-toggleable__label {cursor: pointer;display: block;width: 100%;margin-bottom: 0;padding: 0.3em;box-sizing: border-box;text-align: center;}#sk-container-id-13 label.sk-toggleable__label-arrow:before {content: \"▸\";float: left;margin-right: 0.25em;color: #696969;}#sk-container-id-13 label.sk-toggleable__label-arrow:hover:before {color: black;}#sk-container-id-13 div.sk-estimator:hover label.sk-toggleable__label-arrow:before {color: black;}#sk-container-id-13 div.sk-toggleable__content {max-height: 0;max-width: 0;overflow: hidden;text-align: left;background-color: #f0f8ff;}#sk-container-id-13 div.sk-toggleable__content pre {margin: 0.2em;color: black;border-radius: 0.25em;background-color: #f0f8ff;}#sk-container-id-13 input.sk-toggleable__control:checked~div.sk-toggleable__content {max-height: 200px;max-width: 100%;overflow: auto;}#sk-container-id-13 input.sk-toggleable__control:checked~label.sk-toggleable__label-arrow:before {content: \"▾\";}#sk-container-id-13 div.sk-estimator input.sk-toggleable__control:checked~label.sk-toggleable__label {background-color: #d4ebff;}#sk-container-id-13 div.sk-label input.sk-toggleable__control:checked~label.sk-toggleable__label {background-color: #d4ebff;}#sk-container-id-13 input.sk-hidden--visually {border: 0;clip: rect(1px 1px 1px 1px);clip: rect(1px, 1px, 1px, 1px);height: 1px;margin: -1px;overflow: hidden;padding: 0;position: absolute;width: 1px;}#sk-container-id-13 div.sk-estimator {font-family: monospace;background-color: #f0f8ff;border: 1px dotted black;border-radius: 0.25em;box-sizing: border-box;margin-bottom: 0.5em;}#sk-container-id-13 div.sk-estimator:hover {background-color: #d4ebff;}#sk-container-id-13 div.sk-parallel-item::after {content: \"\";width: 100%;border-bottom: 1px solid gray;flex-grow: 1;}#sk-container-id-13 div.sk-label:hover label.sk-toggleable__label {background-color: #d4ebff;}#sk-container-id-13 div.sk-serial::before {content: \"\";position: absolute;border-left: 1px solid gray;box-sizing: border-box;top: 0;bottom: 0;left: 50%;z-index: 0;}#sk-container-id-13 div.sk-serial {display: flex;flex-direction: column;align-items: center;background-color: white;padding-right: 0.2em;padding-left: 0.2em;position: relative;}#sk-container-id-13 div.sk-item {position: relative;z-index: 1;}#sk-container-id-13 div.sk-parallel {display: flex;align-items: stretch;justify-content: center;background-color: white;position: relative;}#sk-container-id-13 div.sk-item::before, #sk-container-id-13 div.sk-parallel-item::before {content: \"\";position: absolute;border-left: 1px solid gray;box-sizing: border-box;top: 0;bottom: 0;left: 50%;z-index: -1;}#sk-container-id-13 div.sk-parallel-item {display: flex;flex-direction: column;z-index: 1;position: relative;background-color: white;}#sk-container-id-13 div.sk-parallel-item:first-child::after {align-self: flex-end;width: 50%;}#sk-container-id-13 div.sk-parallel-item:last-child::after {align-self: flex-start;width: 50%;}#sk-container-id-13 div.sk-parallel-item:only-child::after {width: 0;}#sk-container-id-13 div.sk-dashed-wrapped {border: 1px dashed gray;margin: 0 0.4em 0.5em 0.4em;box-sizing: border-box;padding-bottom: 0.4em;background-color: white;}#sk-container-id-13 div.sk-label label {font-family: monospace;font-weight: bold;display: inline-block;line-height: 1.2em;}#sk-container-id-13 div.sk-label-container {text-align: center;}#sk-container-id-13 div.sk-container {/* jupyter's `normalize.less` sets `[hidden] { display: none; }` but bootstrap.min.css set `[hidden] { display: none !important; }` so we also need the `!important` here to be able to override the default hidden behavior on the sphinx rendered scikit-learn.org. See: https://github.com/scikit-learn/scikit-learn/issues/21755 */display: inline-block !important;position: relative;}#sk-container-id-13 div.sk-text-repr-fallback {display: none;}</style><div id=\"sk-container-id-13\" class=\"sk-top-container\"><div class=\"sk-text-repr-fallback\"><pre>GridSearchCV(cv=KFold(n_splits=4, random_state=42, shuffle=True),\n",
       "             estimator=Pipeline(steps=[(&#x27;imputer&#x27;, KNNImputer(n_neighbors=3)),\n",
       "                                       (&#x27;scaler&#x27;, StandardScaler()),\n",
       "                                       (&#x27;classifier&#x27;,\n",
       "                                        RandomForestClassifier(n_jobs=-1,\n",
       "                                                               random_state=42))]),\n",
       "             param_grid={&#x27;classifier__max_depth&#x27;: [3, 4, 5, 6, 7, 8, None],\n",
       "                         &#x27;classifier__min_samples_leaf&#x27;: [1, 5, 10],\n",
       "                         &#x27;classifier__n_estimators&#x27;: [50, 100, 150, 200, 250]},\n",
       "             scoring=&#x27;accuracy&#x27;, verbose=2)</pre><b>In a Jupyter environment, please rerun this cell to show the HTML representation or trust the notebook. <br />On GitHub, the HTML representation is unable to render, please try loading this page with nbviewer.org.</b></div><div class=\"sk-container\" hidden><div class=\"sk-item sk-dashed-wrapped\"><div class=\"sk-label-container\"><div class=\"sk-label sk-toggleable\"><input class=\"sk-toggleable__control sk-hidden--visually\" id=\"sk-estimator-id-52\" type=\"checkbox\" ><label for=\"sk-estimator-id-52\" class=\"sk-toggleable__label sk-toggleable__label-arrow\">GridSearchCV</label><div class=\"sk-toggleable__content\"><pre>GridSearchCV(cv=KFold(n_splits=4, random_state=42, shuffle=True),\n",
       "             estimator=Pipeline(steps=[(&#x27;imputer&#x27;, KNNImputer(n_neighbors=3)),\n",
       "                                       (&#x27;scaler&#x27;, StandardScaler()),\n",
       "                                       (&#x27;classifier&#x27;,\n",
       "                                        RandomForestClassifier(n_jobs=-1,\n",
       "                                                               random_state=42))]),\n",
       "             param_grid={&#x27;classifier__max_depth&#x27;: [3, 4, 5, 6, 7, 8, None],\n",
       "                         &#x27;classifier__min_samples_leaf&#x27;: [1, 5, 10],\n",
       "                         &#x27;classifier__n_estimators&#x27;: [50, 100, 150, 200, 250]},\n",
       "             scoring=&#x27;accuracy&#x27;, verbose=2)</pre></div></div></div><div class=\"sk-parallel\"><div class=\"sk-parallel-item\"><div class=\"sk-item\"><div class=\"sk-label-container\"><div class=\"sk-label sk-toggleable\"><input class=\"sk-toggleable__control sk-hidden--visually\" id=\"sk-estimator-id-53\" type=\"checkbox\" ><label for=\"sk-estimator-id-53\" class=\"sk-toggleable__label sk-toggleable__label-arrow\">estimator: Pipeline</label><div class=\"sk-toggleable__content\"><pre>Pipeline(steps=[(&#x27;imputer&#x27;, KNNImputer(n_neighbors=3)),\n",
       "                (&#x27;scaler&#x27;, StandardScaler()),\n",
       "                (&#x27;classifier&#x27;,\n",
       "                 RandomForestClassifier(n_jobs=-1, random_state=42))])</pre></div></div></div><div class=\"sk-serial\"><div class=\"sk-item\"><div class=\"sk-serial\"><div class=\"sk-item\"><div class=\"sk-estimator sk-toggleable\"><input class=\"sk-toggleable__control sk-hidden--visually\" id=\"sk-estimator-id-54\" type=\"checkbox\" ><label for=\"sk-estimator-id-54\" class=\"sk-toggleable__label sk-toggleable__label-arrow\">KNNImputer</label><div class=\"sk-toggleable__content\"><pre>KNNImputer(n_neighbors=3)</pre></div></div></div><div class=\"sk-item\"><div class=\"sk-estimator sk-toggleable\"><input class=\"sk-toggleable__control sk-hidden--visually\" id=\"sk-estimator-id-55\" type=\"checkbox\" ><label for=\"sk-estimator-id-55\" class=\"sk-toggleable__label sk-toggleable__label-arrow\">StandardScaler</label><div class=\"sk-toggleable__content\"><pre>StandardScaler()</pre></div></div></div><div class=\"sk-item\"><div class=\"sk-estimator sk-toggleable\"><input class=\"sk-toggleable__control sk-hidden--visually\" id=\"sk-estimator-id-56\" type=\"checkbox\" ><label for=\"sk-estimator-id-56\" class=\"sk-toggleable__label sk-toggleable__label-arrow\">RandomForestClassifier</label><div class=\"sk-toggleable__content\"><pre>RandomForestClassifier(n_jobs=-1, random_state=42)</pre></div></div></div></div></div></div></div></div></div></div></div></div>"
      ],
      "text/plain": [
       "GridSearchCV(cv=KFold(n_splits=4, random_state=42, shuffle=True),\n",
       "             estimator=Pipeline(steps=[('imputer', KNNImputer(n_neighbors=3)),\n",
       "                                       ('scaler', StandardScaler()),\n",
       "                                       ('classifier',\n",
       "                                        RandomForestClassifier(n_jobs=-1,\n",
       "                                                               random_state=42))]),\n",
       "             param_grid={'classifier__max_depth': [3, 4, 5, 6, 7, 8, None],\n",
       "                         'classifier__min_samples_leaf': [1, 5, 10],\n",
       "                         'classifier__n_estimators': [50, 100, 150, 200, 250]},\n",
       "             scoring='accuracy', verbose=2)"
      ]
     },
     "execution_count": 64,
     "metadata": {},
     "output_type": "execute_result"
    }
   ],
   "source": [
    "grid_search.fit(x_train,y_train)"
   ]
  },
  {
   "cell_type": "code",
   "execution_count": 65,
   "metadata": {},
   "outputs": [
    {
     "name": "stdout",
     "output_type": "stream",
     "text": [
      "Best Hyperparameters: {'classifier__max_depth': 6, 'classifier__min_samples_leaf': 5, 'classifier__n_estimators': 50}\n",
      "Best Cross-Validation Score: 0.8173\n"
     ]
    }
   ],
   "source": [
    "print(f\"Best Hyperparameters: {grid_search.best_params_}\")\n",
    "print(f\"Best Cross-Validation Score: {grid_search.best_score_:.4f}\")"
   ]
  },
  {
   "cell_type": "code",
   "execution_count": 66,
   "metadata": {},
   "outputs": [],
   "source": [
    "best_rf_pipeline = grid_search.best_estimator_"
   ]
  },
  {
   "cell_type": "code",
   "execution_count": 67,
   "metadata": {},
   "outputs": [
    {
     "data": {
      "text/html": [
       "<style>#sk-container-id-14 {color: black;}#sk-container-id-14 pre{padding: 0;}#sk-container-id-14 div.sk-toggleable {background-color: white;}#sk-container-id-14 label.sk-toggleable__label {cursor: pointer;display: block;width: 100%;margin-bottom: 0;padding: 0.3em;box-sizing: border-box;text-align: center;}#sk-container-id-14 label.sk-toggleable__label-arrow:before {content: \"▸\";float: left;margin-right: 0.25em;color: #696969;}#sk-container-id-14 label.sk-toggleable__label-arrow:hover:before {color: black;}#sk-container-id-14 div.sk-estimator:hover label.sk-toggleable__label-arrow:before {color: black;}#sk-container-id-14 div.sk-toggleable__content {max-height: 0;max-width: 0;overflow: hidden;text-align: left;background-color: #f0f8ff;}#sk-container-id-14 div.sk-toggleable__content pre {margin: 0.2em;color: black;border-radius: 0.25em;background-color: #f0f8ff;}#sk-container-id-14 input.sk-toggleable__control:checked~div.sk-toggleable__content {max-height: 200px;max-width: 100%;overflow: auto;}#sk-container-id-14 input.sk-toggleable__control:checked~label.sk-toggleable__label-arrow:before {content: \"▾\";}#sk-container-id-14 div.sk-estimator input.sk-toggleable__control:checked~label.sk-toggleable__label {background-color: #d4ebff;}#sk-container-id-14 div.sk-label input.sk-toggleable__control:checked~label.sk-toggleable__label {background-color: #d4ebff;}#sk-container-id-14 input.sk-hidden--visually {border: 0;clip: rect(1px 1px 1px 1px);clip: rect(1px, 1px, 1px, 1px);height: 1px;margin: -1px;overflow: hidden;padding: 0;position: absolute;width: 1px;}#sk-container-id-14 div.sk-estimator {font-family: monospace;background-color: #f0f8ff;border: 1px dotted black;border-radius: 0.25em;box-sizing: border-box;margin-bottom: 0.5em;}#sk-container-id-14 div.sk-estimator:hover {background-color: #d4ebff;}#sk-container-id-14 div.sk-parallel-item::after {content: \"\";width: 100%;border-bottom: 1px solid gray;flex-grow: 1;}#sk-container-id-14 div.sk-label:hover label.sk-toggleable__label {background-color: #d4ebff;}#sk-container-id-14 div.sk-serial::before {content: \"\";position: absolute;border-left: 1px solid gray;box-sizing: border-box;top: 0;bottom: 0;left: 50%;z-index: 0;}#sk-container-id-14 div.sk-serial {display: flex;flex-direction: column;align-items: center;background-color: white;padding-right: 0.2em;padding-left: 0.2em;position: relative;}#sk-container-id-14 div.sk-item {position: relative;z-index: 1;}#sk-container-id-14 div.sk-parallel {display: flex;align-items: stretch;justify-content: center;background-color: white;position: relative;}#sk-container-id-14 div.sk-item::before, #sk-container-id-14 div.sk-parallel-item::before {content: \"\";position: absolute;border-left: 1px solid gray;box-sizing: border-box;top: 0;bottom: 0;left: 50%;z-index: -1;}#sk-container-id-14 div.sk-parallel-item {display: flex;flex-direction: column;z-index: 1;position: relative;background-color: white;}#sk-container-id-14 div.sk-parallel-item:first-child::after {align-self: flex-end;width: 50%;}#sk-container-id-14 div.sk-parallel-item:last-child::after {align-self: flex-start;width: 50%;}#sk-container-id-14 div.sk-parallel-item:only-child::after {width: 0;}#sk-container-id-14 div.sk-dashed-wrapped {border: 1px dashed gray;margin: 0 0.4em 0.5em 0.4em;box-sizing: border-box;padding-bottom: 0.4em;background-color: white;}#sk-container-id-14 div.sk-label label {font-family: monospace;font-weight: bold;display: inline-block;line-height: 1.2em;}#sk-container-id-14 div.sk-label-container {text-align: center;}#sk-container-id-14 div.sk-container {/* jupyter's `normalize.less` sets `[hidden] { display: none; }` but bootstrap.min.css set `[hidden] { display: none !important; }` so we also need the `!important` here to be able to override the default hidden behavior on the sphinx rendered scikit-learn.org. See: https://github.com/scikit-learn/scikit-learn/issues/21755 */display: inline-block !important;position: relative;}#sk-container-id-14 div.sk-text-repr-fallback {display: none;}</style><div id=\"sk-container-id-14\" class=\"sk-top-container\"><div class=\"sk-text-repr-fallback\"><pre>Pipeline(steps=[(&#x27;imputer&#x27;, KNNImputer(n_neighbors=3)),\n",
       "                (&#x27;scaler&#x27;, StandardScaler()),\n",
       "                (&#x27;classifier&#x27;,\n",
       "                 RandomForestClassifier(max_depth=6, min_samples_leaf=5,\n",
       "                                        n_estimators=50, n_jobs=-1,\n",
       "                                        random_state=42))])</pre><b>In a Jupyter environment, please rerun this cell to show the HTML representation or trust the notebook. <br />On GitHub, the HTML representation is unable to render, please try loading this page with nbviewer.org.</b></div><div class=\"sk-container\" hidden><div class=\"sk-item sk-dashed-wrapped\"><div class=\"sk-label-container\"><div class=\"sk-label sk-toggleable\"><input class=\"sk-toggleable__control sk-hidden--visually\" id=\"sk-estimator-id-57\" type=\"checkbox\" ><label for=\"sk-estimator-id-57\" class=\"sk-toggleable__label sk-toggleable__label-arrow\">Pipeline</label><div class=\"sk-toggleable__content\"><pre>Pipeline(steps=[(&#x27;imputer&#x27;, KNNImputer(n_neighbors=3)),\n",
       "                (&#x27;scaler&#x27;, StandardScaler()),\n",
       "                (&#x27;classifier&#x27;,\n",
       "                 RandomForestClassifier(max_depth=6, min_samples_leaf=5,\n",
       "                                        n_estimators=50, n_jobs=-1,\n",
       "                                        random_state=42))])</pre></div></div></div><div class=\"sk-serial\"><div class=\"sk-item\"><div class=\"sk-estimator sk-toggleable\"><input class=\"sk-toggleable__control sk-hidden--visually\" id=\"sk-estimator-id-58\" type=\"checkbox\" ><label for=\"sk-estimator-id-58\" class=\"sk-toggleable__label sk-toggleable__label-arrow\">KNNImputer</label><div class=\"sk-toggleable__content\"><pre>KNNImputer(n_neighbors=3)</pre></div></div></div><div class=\"sk-item\"><div class=\"sk-estimator sk-toggleable\"><input class=\"sk-toggleable__control sk-hidden--visually\" id=\"sk-estimator-id-59\" type=\"checkbox\" ><label for=\"sk-estimator-id-59\" class=\"sk-toggleable__label sk-toggleable__label-arrow\">StandardScaler</label><div class=\"sk-toggleable__content\"><pre>StandardScaler()</pre></div></div></div><div class=\"sk-item\"><div class=\"sk-estimator sk-toggleable\"><input class=\"sk-toggleable__control sk-hidden--visually\" id=\"sk-estimator-id-60\" type=\"checkbox\" ><label for=\"sk-estimator-id-60\" class=\"sk-toggleable__label sk-toggleable__label-arrow\">RandomForestClassifier</label><div class=\"sk-toggleable__content\"><pre>RandomForestClassifier(max_depth=6, min_samples_leaf=5, n_estimators=50,\n",
       "                       n_jobs=-1, random_state=42)</pre></div></div></div></div></div></div></div>"
      ],
      "text/plain": [
       "Pipeline(steps=[('imputer', KNNImputer(n_neighbors=3)),\n",
       "                ('scaler', StandardScaler()),\n",
       "                ('classifier',\n",
       "                 RandomForestClassifier(max_depth=6, min_samples_leaf=5,\n",
       "                                        n_estimators=50, n_jobs=-1,\n",
       "                                        random_state=42))])"
      ]
     },
     "execution_count": 67,
     "metadata": {},
     "output_type": "execute_result"
    }
   ],
   "source": [
    "best_rf_pipeline.fit(x_train,y_train)"
   ]
  },
  {
   "cell_type": "code",
   "execution_count": 68,
   "metadata": {},
   "outputs": [
    {
     "data": {
      "text/plain": [
       "(0.8565217391304348, 0.8217391304347826)"
      ]
     },
     "execution_count": 68,
     "metadata": {},
     "output_type": "execute_result"
    }
   ],
   "source": [
    "y_pred_rf = best_rf_pipeline.predict(x_train)\n",
    "accuracy_rf_train = accuracy_score(y_train, y_pred_rf)\n",
    "\n",
    "\n",
    "y_pred_rf = best_rf_pipeline.predict(x_test)\n",
    "accuracy_rf_test = accuracy_score(y_test, y_pred_rf)\n",
    "accuracy_rf_train, accuracy_rf_test"
   ]
  },
  {
   "cell_type": "markdown",
   "metadata": {},
   "source": [
    "### Creating ROC AUC curve"
   ]
  },
  {
   "cell_type": "code",
   "execution_count": 159,
   "metadata": {},
   "outputs": [],
   "source": [
    "y_pred = best_rf_pipeline.predict_proba(x_test)[:, 1]"
   ]
  },
  {
   "cell_type": "code",
   "execution_count": 160,
   "metadata": {},
   "outputs": [
    {
     "name": "stdout",
     "output_type": "stream",
     "text": [
      "ROC AUC is  0.8972325870646767\n"
     ]
    }
   ],
   "source": [
    "fpr, tpr, thresholds = roc_curve(y_test, y_pred)\n",
    "roc_auc = auc(fpr, tpr)\n",
    "print('ROC AUC is ',roc_auc)"
   ]
  },
  {
   "cell_type": "code",
   "execution_count": 161,
   "metadata": {},
   "outputs": [
    {
     "data": {
      "text/plain": [
       "<matplotlib.legend.Legend at 0x16efeb20880>"
      ]
     },
     "execution_count": 161,
     "metadata": {},
     "output_type": "execute_result"
    },
    {
     "data": {
      "image/png": "[encoded data removed]",
      "text/plain": [
       "<Figure size 1080x540 with 1 Axes>"
      ]
     },
     "metadata": {
      "needs_background": "light"
     },
     "output_type": "display_data"
    }
   ],
   "source": [
    "plt.figure(figsize=(15,7.5))\n",
    "plt.plot(fpr, tpr, label=f'ROC curve (AUC = {roc_auc:.4f})')\n",
    "plt.plot([0,1],[0,1], label='Random Guess (AUC = 0.5)')\n",
    "plt.xlabel('False Positive Rate (1 - Specificity)')\n",
    "plt.ylabel('True Positive Rate (Sensitivity/Recall)')\n",
    "plt.title('Receiver Operating Characteristic (ROC) Curve')\n",
    "plt.legend(loc='lower right')"
   ]
  },
  {
   "cell_type": "code",
   "execution_count": 162,
   "metadata": {
    "scrolled": true
   },
   "outputs": [
    {
     "data": {
      "text/html": [
       "<div>\n",
       "<style scoped>\n",
       "    .dataframe tbody tr th:only-of-type {\n",
       "        vertical-align: middle;\n",
       "    }\n",
       "\n",
       "    .dataframe tbody tr th {\n",
       "        vertical-align: top;\n",
       "    }\n",
       "\n",
       "    .dataframe thead th {\n",
       "        text-align: right;\n",
       "    }\n",
       "</style>\n",
       "<table border=\"1\" class=\"dataframe\">\n",
       "  <thead>\n",
       "    <tr style=\"text-align: right;\">\n",
       "      <th></th>\n",
       "      <th>fpr</th>\n",
       "      <th>tpr</th>\n",
       "      <th>threshold</th>\n",
       "      <th>dist_to_optimal</th>\n",
       "    </tr>\n",
       "  </thead>\n",
       "  <tbody>\n",
       "    <tr>\n",
       "      <th>0</th>\n",
       "      <td>0.000000</td>\n",
       "      <td>0.000000</td>\n",
       "      <td>inf</td>\n",
       "      <td>1.000000</td>\n",
       "    </tr>\n",
       "    <tr>\n",
       "      <th>1</th>\n",
       "      <td>0.000000</td>\n",
       "      <td>0.007463</td>\n",
       "      <td>0.955770</td>\n",
       "      <td>0.992537</td>\n",
       "    </tr>\n",
       "    <tr>\n",
       "      <th>2</th>\n",
       "      <td>0.000000</td>\n",
       "      <td>0.022388</td>\n",
       "      <td>0.945968</td>\n",
       "      <td>0.977612</td>\n",
       "    </tr>\n",
       "    <tr>\n",
       "      <th>3</th>\n",
       "      <td>0.010417</td>\n",
       "      <td>0.022388</td>\n",
       "      <td>0.943524</td>\n",
       "      <td>0.977667</td>\n",
       "    </tr>\n",
       "    <tr>\n",
       "      <th>4</th>\n",
       "      <td>0.010417</td>\n",
       "      <td>0.156716</td>\n",
       "      <td>0.901637</td>\n",
       "      <td>0.843348</td>\n",
       "    </tr>\n",
       "    <tr>\n",
       "      <th>5</th>\n",
       "      <td>0.020833</td>\n",
       "      <td>0.156716</td>\n",
       "      <td>0.896616</td>\n",
       "      <td>0.843541</td>\n",
       "    </tr>\n",
       "    <tr>\n",
       "      <th>6</th>\n",
       "      <td>0.020833</td>\n",
       "      <td>0.179104</td>\n",
       "      <td>0.892094</td>\n",
       "      <td>0.821160</td>\n",
       "    </tr>\n",
       "    <tr>\n",
       "      <th>7</th>\n",
       "      <td>0.031250</td>\n",
       "      <td>0.179104</td>\n",
       "      <td>0.887790</td>\n",
       "      <td>0.821490</td>\n",
       "    </tr>\n",
       "    <tr>\n",
       "      <th>8</th>\n",
       "      <td>0.031250</td>\n",
       "      <td>0.529851</td>\n",
       "      <td>0.780573</td>\n",
       "      <td>0.471187</td>\n",
       "    </tr>\n",
       "    <tr>\n",
       "      <th>9</th>\n",
       "      <td>0.041667</td>\n",
       "      <td>0.529851</td>\n",
       "      <td>0.777795</td>\n",
       "      <td>0.471992</td>\n",
       "    </tr>\n",
       "    <tr>\n",
       "      <th>10</th>\n",
       "      <td>0.041667</td>\n",
       "      <td>0.611940</td>\n",
       "      <td>0.724417</td>\n",
       "      <td>0.390290</td>\n",
       "    </tr>\n",
       "    <tr>\n",
       "      <th>11</th>\n",
       "      <td>0.052083</td>\n",
       "      <td>0.611940</td>\n",
       "      <td>0.720890</td>\n",
       "      <td>0.391539</td>\n",
       "    </tr>\n",
       "    <tr>\n",
       "      <th>12</th>\n",
       "      <td>0.052083</td>\n",
       "      <td>0.641791</td>\n",
       "      <td>0.713796</td>\n",
       "      <td>0.361976</td>\n",
       "    </tr>\n",
       "    <tr>\n",
       "      <th>13</th>\n",
       "      <td>0.062500</td>\n",
       "      <td>0.641791</td>\n",
       "      <td>0.710218</td>\n",
       "      <td>0.363621</td>\n",
       "    </tr>\n",
       "    <tr>\n",
       "      <th>14</th>\n",
       "      <td>0.062500</td>\n",
       "      <td>0.679104</td>\n",
       "      <td>0.672908</td>\n",
       "      <td>0.326925</td>\n",
       "    </tr>\n",
       "    <tr>\n",
       "      <th>15</th>\n",
       "      <td>0.072917</td>\n",
       "      <td>0.679104</td>\n",
       "      <td>0.667269</td>\n",
       "      <td>0.329076</td>\n",
       "    </tr>\n",
       "    <tr>\n",
       "      <th>16</th>\n",
       "      <td>0.072917</td>\n",
       "      <td>0.701493</td>\n",
       "      <td>0.658567</td>\n",
       "      <td>0.307284</td>\n",
       "    </tr>\n",
       "    <tr>\n",
       "      <th>17</th>\n",
       "      <td>0.093750</td>\n",
       "      <td>0.701493</td>\n",
       "      <td>0.644721</td>\n",
       "      <td>0.312883</td>\n",
       "    </tr>\n",
       "    <tr>\n",
       "      <th>18</th>\n",
       "      <td>0.093750</td>\n",
       "      <td>0.716418</td>\n",
       "      <td>0.629664</td>\n",
       "      <td>0.298677</td>\n",
       "    </tr>\n",
       "    <tr>\n",
       "      <th>19</th>\n",
       "      <td>0.104167</td>\n",
       "      <td>0.716418</td>\n",
       "      <td>0.628937</td>\n",
       "      <td>0.302108</td>\n",
       "    </tr>\n",
       "    <tr>\n",
       "      <th>20</th>\n",
       "      <td>0.104167</td>\n",
       "      <td>0.746269</td>\n",
       "      <td>0.622157</td>\n",
       "      <td>0.274281</td>\n",
       "    </tr>\n",
       "    <tr>\n",
       "      <th>21</th>\n",
       "      <td>0.135417</td>\n",
       "      <td>0.746269</td>\n",
       "      <td>0.617849</td>\n",
       "      <td>0.287606</td>\n",
       "    </tr>\n",
       "    <tr>\n",
       "      <th>22</th>\n",
       "      <td>0.135417</td>\n",
       "      <td>0.753731</td>\n",
       "      <td>0.607540</td>\n",
       "      <td>0.281044</td>\n",
       "    </tr>\n",
       "    <tr>\n",
       "      <th>23</th>\n",
       "      <td>0.166667</td>\n",
       "      <td>0.753731</td>\n",
       "      <td>0.602167</td>\n",
       "      <td>0.297365</td>\n",
       "    </tr>\n",
       "    <tr>\n",
       "      <th>24</th>\n",
       "      <td>0.166667</td>\n",
       "      <td>0.761194</td>\n",
       "      <td>0.595352</td>\n",
       "      <td>0.291215</td>\n",
       "    </tr>\n",
       "    <tr>\n",
       "      <th>25</th>\n",
       "      <td>0.177083</td>\n",
       "      <td>0.761194</td>\n",
       "      <td>0.591925</td>\n",
       "      <td>0.297299</td>\n",
       "    </tr>\n",
       "    <tr>\n",
       "      <th>26</th>\n",
       "      <td>0.177083</td>\n",
       "      <td>0.828358</td>\n",
       "      <td>0.529235</td>\n",
       "      <td>0.246616</td>\n",
       "    </tr>\n",
       "    <tr>\n",
       "      <th>27</th>\n",
       "      <td>0.218750</td>\n",
       "      <td>0.828358</td>\n",
       "      <td>0.509929</td>\n",
       "      <td>0.278051</td>\n",
       "    </tr>\n",
       "    <tr>\n",
       "      <th>28</th>\n",
       "      <td>0.218750</td>\n",
       "      <td>0.858209</td>\n",
       "      <td>0.493150</td>\n",
       "      <td>0.260684</td>\n",
       "    </tr>\n",
       "    <tr>\n",
       "      <th>29</th>\n",
       "      <td>0.239583</td>\n",
       "      <td>0.858209</td>\n",
       "      <td>0.480820</td>\n",
       "      <td>0.278397</td>\n",
       "    </tr>\n",
       "    <tr>\n",
       "      <th>30</th>\n",
       "      <td>0.239583</td>\n",
       "      <td>0.873134</td>\n",
       "      <td>0.456175</td>\n",
       "      <td>0.271100</td>\n",
       "    </tr>\n",
       "    <tr>\n",
       "      <th>31</th>\n",
       "      <td>0.250000</td>\n",
       "      <td>0.873134</td>\n",
       "      <td>0.449630</td>\n",
       "      <td>0.280348</td>\n",
       "    </tr>\n",
       "    <tr>\n",
       "      <th>32</th>\n",
       "      <td>0.250000</td>\n",
       "      <td>0.880597</td>\n",
       "      <td>0.443075</td>\n",
       "      <td>0.277051</td>\n",
       "    </tr>\n",
       "    <tr>\n",
       "      <th>33</th>\n",
       "      <td>0.281250</td>\n",
       "      <td>0.880597</td>\n",
       "      <td>0.419636</td>\n",
       "      <td>0.305546</td>\n",
       "    </tr>\n",
       "    <tr>\n",
       "      <th>34</th>\n",
       "      <td>0.281250</td>\n",
       "      <td>0.902985</td>\n",
       "      <td>0.390972</td>\n",
       "      <td>0.297512</td>\n",
       "    </tr>\n",
       "    <tr>\n",
       "      <th>35</th>\n",
       "      <td>0.291667</td>\n",
       "      <td>0.902985</td>\n",
       "      <td>0.390526</td>\n",
       "      <td>0.307378</td>\n",
       "    </tr>\n",
       "    <tr>\n",
       "      <th>36</th>\n",
       "      <td>0.291667</td>\n",
       "      <td>0.917910</td>\n",
       "      <td>0.370236</td>\n",
       "      <td>0.302999</td>\n",
       "    </tr>\n",
       "    <tr>\n",
       "      <th>37</th>\n",
       "      <td>0.333333</td>\n",
       "      <td>0.917910</td>\n",
       "      <td>0.356976</td>\n",
       "      <td>0.343293</td>\n",
       "    </tr>\n",
       "    <tr>\n",
       "      <th>38</th>\n",
       "      <td>0.333333</td>\n",
       "      <td>0.925373</td>\n",
       "      <td>0.343936</td>\n",
       "      <td>0.341585</td>\n",
       "    </tr>\n",
       "    <tr>\n",
       "      <th>39</th>\n",
       "      <td>0.375000</td>\n",
       "      <td>0.925373</td>\n",
       "      <td>0.316747</td>\n",
       "      <td>0.382353</td>\n",
       "    </tr>\n",
       "    <tr>\n",
       "      <th>40</th>\n",
       "      <td>0.375000</td>\n",
       "      <td>0.932836</td>\n",
       "      <td>0.312116</td>\n",
       "      <td>0.380967</td>\n",
       "    </tr>\n",
       "    <tr>\n",
       "      <th>41</th>\n",
       "      <td>0.385417</td>\n",
       "      <td>0.932836</td>\n",
       "      <td>0.302482</td>\n",
       "      <td>0.391225</td>\n",
       "    </tr>\n",
       "    <tr>\n",
       "      <th>42</th>\n",
       "      <td>0.385417</td>\n",
       "      <td>0.940299</td>\n",
       "      <td>0.300718</td>\n",
       "      <td>0.390013</td>\n",
       "    </tr>\n",
       "    <tr>\n",
       "      <th>43</th>\n",
       "      <td>0.416667</td>\n",
       "      <td>0.940299</td>\n",
       "      <td>0.280284</td>\n",
       "      <td>0.420922</td>\n",
       "    </tr>\n",
       "    <tr>\n",
       "      <th>44</th>\n",
       "      <td>0.416667</td>\n",
       "      <td>0.947761</td>\n",
       "      <td>0.280141</td>\n",
       "      <td>0.419929</td>\n",
       "    </tr>\n",
       "    <tr>\n",
       "      <th>45</th>\n",
       "      <td>0.437500</td>\n",
       "      <td>0.947761</td>\n",
       "      <td>0.270419</td>\n",
       "      <td>0.440608</td>\n",
       "    </tr>\n",
       "    <tr>\n",
       "      <th>46</th>\n",
       "      <td>0.437500</td>\n",
       "      <td>0.955224</td>\n",
       "      <td>0.266701</td>\n",
       "      <td>0.439785</td>\n",
       "    </tr>\n",
       "    <tr>\n",
       "      <th>47</th>\n",
       "      <td>0.510417</td>\n",
       "      <td>0.955224</td>\n",
       "      <td>0.236214</td>\n",
       "      <td>0.512377</td>\n",
       "    </tr>\n",
       "    <tr>\n",
       "      <th>48</th>\n",
       "      <td>0.510417</td>\n",
       "      <td>0.962687</td>\n",
       "      <td>0.235538</td>\n",
       "      <td>0.511779</td>\n",
       "    </tr>\n",
       "    <tr>\n",
       "      <th>49</th>\n",
       "      <td>0.562500</td>\n",
       "      <td>0.962687</td>\n",
       "      <td>0.189943</td>\n",
       "      <td>0.563736</td>\n",
       "    </tr>\n",
       "    <tr>\n",
       "      <th>50</th>\n",
       "      <td>0.562500</td>\n",
       "      <td>0.985075</td>\n",
       "      <td>0.180272</td>\n",
       "      <td>0.562698</td>\n",
       "    </tr>\n",
       "    <tr>\n",
       "      <th>51</th>\n",
       "      <td>0.583333</td>\n",
       "      <td>0.985075</td>\n",
       "      <td>0.177964</td>\n",
       "      <td>0.583524</td>\n",
       "    </tr>\n",
       "    <tr>\n",
       "      <th>52</th>\n",
       "      <td>0.583333</td>\n",
       "      <td>0.992537</td>\n",
       "      <td>0.173732</td>\n",
       "      <td>0.583381</td>\n",
       "    </tr>\n",
       "    <tr>\n",
       "      <th>53</th>\n",
       "      <td>0.593750</td>\n",
       "      <td>0.992537</td>\n",
       "      <td>0.172840</td>\n",
       "      <td>0.593797</td>\n",
       "    </tr>\n",
       "    <tr>\n",
       "      <th>54</th>\n",
       "      <td>0.593750</td>\n",
       "      <td>1.000000</td>\n",
       "      <td>0.169661</td>\n",
       "      <td>0.593750</td>\n",
       "    </tr>\n",
       "    <tr>\n",
       "      <th>55</th>\n",
       "      <td>1.000000</td>\n",
       "      <td>1.000000</td>\n",
       "      <td>0.031896</td>\n",
       "      <td>1.000000</td>\n",
       "    </tr>\n",
       "  </tbody>\n",
       "</table>\n",
       "</div>"
      ],
      "text/plain": [
       "         fpr       tpr  threshold  dist_to_optimal\n",
       "0   0.000000  0.000000        inf         1.000000\n",
       "1   0.000000  0.007463   0.955770         0.992537\n",
       "2   0.000000  0.022388   0.945968         0.977612\n",
       "3   0.010417  0.022388   0.943524         0.977667\n",
       "4   0.010417  0.156716   0.901637         0.843348\n",
       "5   0.020833  0.156716   0.896616         0.843541\n",
       "6   0.020833  0.179104   0.892094         0.821160\n",
       "7   0.031250  0.179104   0.887790         0.821490\n",
       "8   0.031250  0.529851   0.780573         0.471187\n",
       "9   0.041667  0.529851   0.777795         0.471992\n",
       "10  0.041667  0.611940   0.724417         0.390290\n",
       "11  0.052083  0.611940   0.720890         0.391539\n",
       "12  0.052083  0.641791   0.713796         0.361976\n",
       "13  0.062500  0.641791   0.710218         0.363621\n",
       "14  0.062500  0.679104   0.672908         0.326925\n",
       "15  0.072917  0.679104   0.667269         0.329076\n",
       "16  0.072917  0.701493   0.658567         0.307284\n",
       "17  0.093750  0.701493   0.644721         0.312883\n",
       "18  0.093750  0.716418   0.629664         0.298677\n",
       "19  0.104167  0.716418   0.628937         0.302108\n",
       "20  0.104167  0.746269   0.622157         0.274281\n",
       "21  0.135417  0.746269   0.617849         0.287606\n",
       "22  0.135417  0.753731   0.607540         0.281044\n",
       "23  0.166667  0.753731   0.602167         0.297365\n",
       "24  0.166667  0.761194   0.595352         0.291215\n",
       "25  0.177083  0.761194   0.591925         0.297299\n",
       "26  0.177083  0.828358   0.529235         0.246616\n",
       "27  0.218750  0.828358   0.509929         0.278051\n",
       "28  0.218750  0.858209   0.493150         0.260684\n",
       "29  0.239583  0.858209   0.480820         0.278397\n",
       "30  0.239583  0.873134   0.456175         0.271100\n",
       "31  0.250000  0.873134   0.449630         0.280348\n",
       "32  0.250000  0.880597   0.443075         0.277051\n",
       "33  0.281250  0.880597   0.419636         0.305546\n",
       "34  0.281250  0.902985   0.390972         0.297512\n",
       "35  0.291667  0.902985   0.390526         0.307378\n",
       "36  0.291667  0.917910   0.370236         0.302999\n",
       "37  0.333333  0.917910   0.356976         0.343293\n",
       "38  0.333333  0.925373   0.343936         0.341585\n",
       "39  0.375000  0.925373   0.316747         0.382353\n",
       "40  0.375000  0.932836   0.312116         0.380967\n",
       "41  0.385417  0.932836   0.302482         0.391225\n",
       "42  0.385417  0.940299   0.300718         0.390013\n",
       "43  0.416667  0.940299   0.280284         0.420922\n",
       "44  0.416667  0.947761   0.280141         0.419929\n",
       "45  0.437500  0.947761   0.270419         0.440608\n",
       "46  0.437500  0.955224   0.266701         0.439785\n",
       "47  0.510417  0.955224   0.236214         0.512377\n",
       "48  0.510417  0.962687   0.235538         0.511779\n",
       "49  0.562500  0.962687   0.189943         0.563736\n",
       "50  0.562500  0.985075   0.180272         0.562698\n",
       "51  0.583333  0.985075   0.177964         0.583524\n",
       "52  0.583333  0.992537   0.173732         0.583381\n",
       "53  0.593750  0.992537   0.172840         0.593797\n",
       "54  0.593750  1.000000   0.169661         0.593750\n",
       "55  1.000000  1.000000   0.031896         1.000000"
      ]
     },
     "execution_count": 162,
     "metadata": {},
     "output_type": "execute_result"
    }
   ],
   "source": [
    "curve = pd.DataFrame(data = {'fpr': fpr,'tpr':tpr, 'threshold':thresholds})\n",
    "curve['dist_to_optimal'] = np.sqrt((curve['fpr'] - 0)**2 + (curve['tpr'] - 1)**2)\n",
    "curve"
   ]
  },
  {
   "cell_type": "code",
   "execution_count": 164,
   "metadata": {},
   "outputs": [
    {
     "data": {
      "text/plain": [
       "26"
      ]
     },
     "execution_count": 164,
     "metadata": {},
     "output_type": "execute_result"
    }
   ],
   "source": [
    "curve['dist_to_optimal'].idxmin()"
   ]
  },
  {
   "cell_type": "code",
   "execution_count": 167,
   "metadata": {},
   "outputs": [
    {
     "data": {
      "text/plain": [
       "fpr                0.177083\n",
       "tpr                0.828358\n",
       "threshold          0.529235\n",
       "dist_to_optimal    0.246616\n",
       "Name: 26, dtype: float64"
      ]
     },
     "execution_count": 167,
     "metadata": {},
     "output_type": "execute_result"
    }
   ],
   "source": [
    "ideal_threshold = curve.iloc[26]\n",
    "ideal_threshold"
   ]
  },
  {
   "cell_type": "markdown",
   "metadata": {},
   "source": [
    "### Predict with the best threshold"
   ]
  },
  {
   "cell_type": "code",
   "execution_count": 168,
   "metadata": {},
   "outputs": [
    {
     "data": {
      "text/plain": [
       "0.8260869565217391"
      ]
     },
     "execution_count": 168,
     "metadata": {},
     "output_type": "execute_result"
    }
   ],
   "source": [
    "y_prob = best_rf_pipeline.predict_proba(x_test)[:,1]\n",
    "y_pred_opt_threshold = (y_prob >= ideal_threshold['threshold'])\n",
    "test_accuracy = accuracy_score(y_test, y_pred_opt_threshold)\n",
    "test_accuracy"
   ]
  },
  {
   "cell_type": "markdown",
   "metadata": {},
   "source": [
    "### Plot the confusion matrix"
   ]
  },
  {
   "cell_type": "code",
   "execution_count": 170,
   "metadata": {},
   "outputs": [
    {
     "data": {
      "image/png": "[encoded data removed]",
      "text/plain": [
       "<Figure size 432x288 with 2 Axes>"
      ]
     },
     "metadata": {
      "needs_background": "light"
     },
     "output_type": "display_data"
    }
   ],
   "source": [
    "disp = ConfusionMatrixDisplay.from_predictions(\n",
    "    y_test, \n",
    "    y_pred_opt_threshold, \n",
    "    cmap=plt.cm.Blues,\n",
    "    display_labels=['No HD', 'Yes HD'],\n",
    "    normalize=None # Set to 'true', 'pred', or 'all' to normalize the counts\n",
    ")\n",
    "\n",
    "disp.ax_.set_title('Confusion Matrix for Random Forest')\n",
    "plt.show()"
   ]
  },
  {
   "cell_type": "markdown",
   "metadata": {},
   "source": [
    "Performance metrics:\n",
    "1. Sensitivity (Recall): 82.8%\n",
    "2. Specificity: 82.3%\n",
    "3. Precision: 86.7%\n",
    "4. Accuracy: 82.6%"
   ]
  },
  {
   "cell_type": "markdown",
   "metadata": {},
   "source": [
    "### Reflections on Random Forest\n",
    "Since we didn't classify min sample at leaf or max depth, the model memorised the data and train accuracy = 1. Testing accuracy was higher than Logistic Regression.\n",
    "After hyperparameter tuning and opting for the best classification threshold, RF improved ROC AUC over Logistic Regression and increased specificity and precision. It slightly reduces sensitivity but the slight decrease is acceptable since RF increases ROC AUC the most robust metric. \n",
    "Having said that, if the cost for false negatives is very high (very imperative to find all positivs with good recall), it might help to keep the same model and chose a lower threshold that is ~0.49 instead of current 0.52."
   ]
  },
  {
   "cell_type": "markdown",
   "metadata": {},
   "source": [
    "## Support Vector Machines"
   ]
  },
  {
   "cell_type": "markdown",
   "metadata": {},
   "source": [
    "### Fit the model"
   ]
  },
  {
   "cell_type": "code",
   "execution_count": 6,
   "metadata": {},
   "outputs": [],
   "source": [
    "x_train, x_test, y_train, y_test = train_test_split(x, y, test_size=0.25, random_state=42, shuffle=True)"
   ]
  },
  {
   "cell_type": "code",
   "execution_count": 21,
   "metadata": {},
   "outputs": [],
   "source": [
    "scaler = StandardScaler()\n",
    "imputer = KNNImputer(n_neighbors=3)\n",
    "kf = KFold(n_splits = 4, shuffle = True, random_state = 42)"
   ]
  },
  {
   "cell_type": "code",
   "execution_count": 8,
   "metadata": {},
   "outputs": [],
   "source": [
    "pipeline = Pipeline(steps = [('imputer', imputer), ('scaler', scaler), ('classifier', SVC(random_state=42))])"
   ]
  },
  {
   "cell_type": "code",
   "execution_count": 9,
   "metadata": {},
   "outputs": [],
   "source": [
    "scores = cross_validate(estimator=pipeline, X=x_train, y=y_train, cv=kf, scoring='accuracy', return_train_score = True)"
   ]
  },
  {
   "cell_type": "code",
   "execution_count": 10,
   "metadata": {},
   "outputs": [
    {
     "data": {
      "text/plain": [
       "(0.8946840250031739, 0.776725702379352)"
      ]
     },
     "execution_count": 10,
     "metadata": {},
     "output_type": "execute_result"
    }
   ],
   "source": [
    "scores['train_score'].mean(), scores['test_score'].mean()"
   ]
  },
  {
   "cell_type": "code",
   "execution_count": 11,
   "metadata": {
    "scrolled": false
   },
   "outputs": [
    {
     "data": {
      "text/html": [
       "<style>#sk-container-id-1 {color: black;}#sk-container-id-1 pre{padding: 0;}#sk-container-id-1 div.sk-toggleable {background-color: white;}#sk-container-id-1 label.sk-toggleable__label {cursor: pointer;display: block;width: 100%;margin-bottom: 0;padding: 0.3em;box-sizing: border-box;text-align: center;}#sk-container-id-1 label.sk-toggleable__label-arrow:before {content: \"▸\";float: left;margin-right: 0.25em;color: #696969;}#sk-container-id-1 label.sk-toggleable__label-arrow:hover:before {color: black;}#sk-container-id-1 div.sk-estimator:hover label.sk-toggleable__label-arrow:before {color: black;}#sk-container-id-1 div.sk-toggleable__content {max-height: 0;max-width: 0;overflow: hidden;text-align: left;background-color: #f0f8ff;}#sk-container-id-1 div.sk-toggleable__content pre {margin: 0.2em;color: black;border-radius: 0.25em;background-color: #f0f8ff;}#sk-container-id-1 input.sk-toggleable__control:checked~div.sk-toggleable__content {max-height: 200px;max-width: 100%;overflow: auto;}#sk-container-id-1 input.sk-toggleable__control:checked~label.sk-toggleable__label-arrow:before {content: \"▾\";}#sk-container-id-1 div.sk-estimator input.sk-toggleable__control:checked~label.sk-toggleable__label {background-color: #d4ebff;}#sk-container-id-1 div.sk-label input.sk-toggleable__control:checked~label.sk-toggleable__label {background-color: #d4ebff;}#sk-container-id-1 input.sk-hidden--visually {border: 0;clip: rect(1px 1px 1px 1px);clip: rect(1px, 1px, 1px, 1px);height: 1px;margin: -1px;overflow: hidden;padding: 0;position: absolute;width: 1px;}#sk-container-id-1 div.sk-estimator {font-family: monospace;background-color: #f0f8ff;border: 1px dotted black;border-radius: 0.25em;box-sizing: border-box;margin-bottom: 0.5em;}#sk-container-id-1 div.sk-estimator:hover {background-color: #d4ebff;}#sk-container-id-1 div.sk-parallel-item::after {content: \"\";width: 100%;border-bottom: 1px solid gray;flex-grow: 1;}#sk-container-id-1 div.sk-label:hover label.sk-toggleable__label {background-color: #d4ebff;}#sk-container-id-1 div.sk-serial::before {content: \"\";position: absolute;border-left: 1px solid gray;box-sizing: border-box;top: 0;bottom: 0;left: 50%;z-index: 0;}#sk-container-id-1 div.sk-serial {display: flex;flex-direction: column;align-items: center;background-color: white;padding-right: 0.2em;padding-left: 0.2em;position: relative;}#sk-container-id-1 div.sk-item {position: relative;z-index: 1;}#sk-container-id-1 div.sk-parallel {display: flex;align-items: stretch;justify-content: center;background-color: white;position: relative;}#sk-container-id-1 div.sk-item::before, #sk-container-id-1 div.sk-parallel-item::before {content: \"\";position: absolute;border-left: 1px solid gray;box-sizing: border-box;top: 0;bottom: 0;left: 50%;z-index: -1;}#sk-container-id-1 div.sk-parallel-item {display: flex;flex-direction: column;z-index: 1;position: relative;background-color: white;}#sk-container-id-1 div.sk-parallel-item:first-child::after {align-self: flex-end;width: 50%;}#sk-container-id-1 div.sk-parallel-item:last-child::after {align-self: flex-start;width: 50%;}#sk-container-id-1 div.sk-parallel-item:only-child::after {width: 0;}#sk-container-id-1 div.sk-dashed-wrapped {border: 1px dashed gray;margin: 0 0.4em 0.5em 0.4em;box-sizing: border-box;padding-bottom: 0.4em;background-color: white;}#sk-container-id-1 div.sk-label label {font-family: monospace;font-weight: bold;display: inline-block;line-height: 1.2em;}#sk-container-id-1 div.sk-label-container {text-align: center;}#sk-container-id-1 div.sk-container {/* jupyter's `normalize.less` sets `[hidden] { display: none; }` but bootstrap.min.css set `[hidden] { display: none !important; }` so we also need the `!important` here to be able to override the default hidden behavior on the sphinx rendered scikit-learn.org. See: https://github.com/scikit-learn/scikit-learn/issues/21755 */display: inline-block !important;position: relative;}#sk-container-id-1 div.sk-text-repr-fallback {display: none;}</style><div id=\"sk-container-id-1\" class=\"sk-top-container\"><div class=\"sk-text-repr-fallback\"><pre>Pipeline(steps=[(&#x27;imputer&#x27;, KNNImputer(n_neighbors=3)),\n",
       "                (&#x27;scaler&#x27;, StandardScaler()),\n",
       "                (&#x27;classifier&#x27;, SVC(random_state=42))])</pre><b>In a Jupyter environment, please rerun this cell to show the HTML representation or trust the notebook. <br />On GitHub, the HTML representation is unable to render, please try loading this page with nbviewer.org.</b></div><div class=\"sk-container\" hidden><div class=\"sk-item sk-dashed-wrapped\"><div class=\"sk-label-container\"><div class=\"sk-label sk-toggleable\"><input class=\"sk-toggleable__control sk-hidden--visually\" id=\"sk-estimator-id-1\" type=\"checkbox\" ><label for=\"sk-estimator-id-1\" class=\"sk-toggleable__label sk-toggleable__label-arrow\">Pipeline</label><div class=\"sk-toggleable__content\"><pre>Pipeline(steps=[(&#x27;imputer&#x27;, KNNImputer(n_neighbors=3)),\n",
       "                (&#x27;scaler&#x27;, StandardScaler()),\n",
       "                (&#x27;classifier&#x27;, SVC(random_state=42))])</pre></div></div></div><div class=\"sk-serial\"><div class=\"sk-item\"><div class=\"sk-estimator sk-toggleable\"><input class=\"sk-toggleable__control sk-hidden--visually\" id=\"sk-estimator-id-2\" type=\"checkbox\" ><label for=\"sk-estimator-id-2\" class=\"sk-toggleable__label sk-toggleable__label-arrow\">KNNImputer</label><div class=\"sk-toggleable__content\"><pre>KNNImputer(n_neighbors=3)</pre></div></div></div><div class=\"sk-item\"><div class=\"sk-estimator sk-toggleable\"><input class=\"sk-toggleable__control sk-hidden--visually\" id=\"sk-estimator-id-3\" type=\"checkbox\" ><label for=\"sk-estimator-id-3\" class=\"sk-toggleable__label sk-toggleable__label-arrow\">StandardScaler</label><div class=\"sk-toggleable__content\"><pre>StandardScaler()</pre></div></div></div><div class=\"sk-item\"><div class=\"sk-estimator sk-toggleable\"><input class=\"sk-toggleable__control sk-hidden--visually\" id=\"sk-estimator-id-4\" type=\"checkbox\" ><label for=\"sk-estimator-id-4\" class=\"sk-toggleable__label sk-toggleable__label-arrow\">SVC</label><div class=\"sk-toggleable__content\"><pre>SVC(random_state=42)</pre></div></div></div></div></div></div></div>"
      ],
      "text/plain": [
       "Pipeline(steps=[('imputer', KNNImputer(n_neighbors=3)),\n",
       "                ('scaler', StandardScaler()),\n",
       "                ('classifier', SVC(random_state=42))])"
      ]
     },
     "execution_count": 11,
     "metadata": {},
     "output_type": "execute_result"
    }
   ],
   "source": [
    "pipeline.fit(x_train, y_train)"
   ]
  },
  {
   "cell_type": "code",
   "execution_count": 12,
   "metadata": {},
   "outputs": [
    {
     "data": {
      "text/plain": [
       "(0.8840579710144928, 0.8043478260869565)"
      ]
     },
     "execution_count": 12,
     "metadata": {},
     "output_type": "execute_result"
    }
   ],
   "source": [
    "y_pred_svm = pipeline.predict(x_test)\n",
    "accuracy_svm_test = accuracy_score(y_test, y_pred_svm)\n",
    "\n",
    "y_pred_svm = pipeline.predict(x_train)\n",
    "accuracy_svm_train = accuracy_score(y_train, y_pred_svm)\n",
    "\n",
    "accuracy_svm_train, accuracy_svm_test"
   ]
  },
  {
   "cell_type": "markdown",
   "metadata": {},
   "source": [
    "### Trying downsampling since SVM are now great with very large datasets\n",
    "The complexity of SVM computation scales with the size of dataset (since SVM calculates the distance between each point with every other point). Also SVM is not very good at handling class imbalance. In this example, the dataset is balanced and the computation didn't take too much time, we will still try downsampling to learn)"
   ]
  },
  {
   "cell_type": "code",
   "execution_count": 31,
   "metadata": {},
   "outputs": [
    {
     "data": {
      "text/plain": [
       "(509, 23)"
      ]
     },
     "execution_count": 31,
     "metadata": {},
     "output_type": "execute_result"
    }
   ],
   "source": [
    "df_hd = df[df['num'] == 1]\n",
    "df_no_hd = df[df['num'] == 0]\n",
    "df_hd.shape"
   ]
  },
  {
   "cell_type": "code",
   "execution_count": 32,
   "metadata": {},
   "outputs": [
    {
     "data": {
      "text/plain": [
       "400"
      ]
     },
     "execution_count": 32,
     "metadata": {},
     "output_type": "execute_result"
    }
   ],
   "source": [
    "df_hd_downsampled = resample(df_hd, replace=False, n_samples=400, random_state=42)\n",
    "len(df_hd_downsampled)"
   ]
  },
  {
   "cell_type": "code",
   "execution_count": 33,
   "metadata": {},
   "outputs": [
    {
     "data": {
      "text/plain": [
       "400"
      ]
     },
     "execution_count": 33,
     "metadata": {},
     "output_type": "execute_result"
    }
   ],
   "source": [
    "df_no_hd_downsampled = resample(df_no_hd, replace=False, n_samples=400, random_state=42)\n",
    "len(df_no_hd_downsampled)"
   ]
  },
  {
   "cell_type": "code",
   "execution_count": 34,
   "metadata": {},
   "outputs": [
    {
     "data": {
      "text/plain": [
       "(800, 23)"
      ]
     },
     "execution_count": 34,
     "metadata": {},
     "output_type": "execute_result"
    }
   ],
   "source": [
    "df_downsampled = pd.concat([df_no_hd_downsampled, df_hd_downsampled])\n",
    "df_downsampled.shape"
   ]
  },
  {
   "cell_type": "code",
   "execution_count": 35,
   "metadata": {},
   "outputs": [
    {
     "data": {
      "text/plain": [
       "(800, 22)"
      ]
     },
     "execution_count": 35,
     "metadata": {},
     "output_type": "execute_result"
    }
   ],
   "source": [
    "x = df_downsampled.drop('num', axis = 1)\n",
    "x.shape"
   ]
  },
  {
   "cell_type": "code",
   "execution_count": 36,
   "metadata": {},
   "outputs": [
    {
     "data": {
      "text/plain": [
       "(800,)"
      ]
     },
     "execution_count": 36,
     "metadata": {},
     "output_type": "execute_result"
    }
   ],
   "source": [
    "y = df_downsampled['num']\n",
    "y.shape"
   ]
  },
  {
   "cell_type": "code",
   "execution_count": 24,
   "metadata": {},
   "outputs": [],
   "source": [
    "x_train, x_test, y_train, y_test = train_test_split(x, y, test_size=0.25, random_state=42, shuffle=True)"
   ]
  },
  {
   "cell_type": "code",
   "execution_count": 25,
   "metadata": {},
   "outputs": [],
   "source": [
    "pipeline = Pipeline(steps = [('imputer', imputer), ('scaler', scaler), ('classifier', SVC(random_state=42))])"
   ]
  },
  {
   "cell_type": "code",
   "execution_count": 26,
   "metadata": {},
   "outputs": [
    {
     "data": {
      "text/html": [
       "<style>#sk-container-id-4 {color: black;}#sk-container-id-4 pre{padding: 0;}#sk-container-id-4 div.sk-toggleable {background-color: white;}#sk-container-id-4 label.sk-toggleable__label {cursor: pointer;display: block;width: 100%;margin-bottom: 0;padding: 0.3em;box-sizing: border-box;text-align: center;}#sk-container-id-4 label.sk-toggleable__label-arrow:before {content: \"▸\";float: left;margin-right: 0.25em;color: #696969;}#sk-container-id-4 label.sk-toggleable__label-arrow:hover:before {color: black;}#sk-container-id-4 div.sk-estimator:hover label.sk-toggleable__label-arrow:before {color: black;}#sk-container-id-4 div.sk-toggleable__content {max-height: 0;max-width: 0;overflow: hidden;text-align: left;background-color: #f0f8ff;}#sk-container-id-4 div.sk-toggleable__content pre {margin: 0.2em;color: black;border-radius: 0.25em;background-color: #f0f8ff;}#sk-container-id-4 input.sk-toggleable__control:checked~div.sk-toggleable__content {max-height: 200px;max-width: 100%;overflow: auto;}#sk-container-id-4 input.sk-toggleable__control:checked~label.sk-toggleable__label-arrow:before {content: \"▾\";}#sk-container-id-4 div.sk-estimator input.sk-toggleable__control:checked~label.sk-toggleable__label {background-color: #d4ebff;}#sk-container-id-4 div.sk-label input.sk-toggleable__control:checked~label.sk-toggleable__label {background-color: #d4ebff;}#sk-container-id-4 input.sk-hidden--visually {border: 0;clip: rect(1px 1px 1px 1px);clip: rect(1px, 1px, 1px, 1px);height: 1px;margin: -1px;overflow: hidden;padding: 0;position: absolute;width: 1px;}#sk-container-id-4 div.sk-estimator {font-family: monospace;background-color: #f0f8ff;border: 1px dotted black;border-radius: 0.25em;box-sizing: border-box;margin-bottom: 0.5em;}#sk-container-id-4 div.sk-estimator:hover {background-color: #d4ebff;}#sk-container-id-4 div.sk-parallel-item::after {content: \"\";width: 100%;border-bottom: 1px solid gray;flex-grow: 1;}#sk-container-id-4 div.sk-label:hover label.sk-toggleable__label {background-color: #d4ebff;}#sk-container-id-4 div.sk-serial::before {content: \"\";position: absolute;border-left: 1px solid gray;box-sizing: border-box;top: 0;bottom: 0;left: 50%;z-index: 0;}#sk-container-id-4 div.sk-serial {display: flex;flex-direction: column;align-items: center;background-color: white;padding-right: 0.2em;padding-left: 0.2em;position: relative;}#sk-container-id-4 div.sk-item {position: relative;z-index: 1;}#sk-container-id-4 div.sk-parallel {display: flex;align-items: stretch;justify-content: center;background-color: white;position: relative;}#sk-container-id-4 div.sk-item::before, #sk-container-id-4 div.sk-parallel-item::before {content: \"\";position: absolute;border-left: 1px solid gray;box-sizing: border-box;top: 0;bottom: 0;left: 50%;z-index: -1;}#sk-container-id-4 div.sk-parallel-item {display: flex;flex-direction: column;z-index: 1;position: relative;background-color: white;}#sk-container-id-4 div.sk-parallel-item:first-child::after {align-self: flex-end;width: 50%;}#sk-container-id-4 div.sk-parallel-item:last-child::after {align-self: flex-start;width: 50%;}#sk-container-id-4 div.sk-parallel-item:only-child::after {width: 0;}#sk-container-id-4 div.sk-dashed-wrapped {border: 1px dashed gray;margin: 0 0.4em 0.5em 0.4em;box-sizing: border-box;padding-bottom: 0.4em;background-color: white;}#sk-container-id-4 div.sk-label label {font-family: monospace;font-weight: bold;display: inline-block;line-height: 1.2em;}#sk-container-id-4 div.sk-label-container {text-align: center;}#sk-container-id-4 div.sk-container {/* jupyter's `normalize.less` sets `[hidden] { display: none; }` but bootstrap.min.css set `[hidden] { display: none !important; }` so we also need the `!important` here to be able to override the default hidden behavior on the sphinx rendered scikit-learn.org. See: https://github.com/scikit-learn/scikit-learn/issues/21755 */display: inline-block !important;position: relative;}#sk-container-id-4 div.sk-text-repr-fallback {display: none;}</style><div id=\"sk-container-id-4\" class=\"sk-top-container\"><div class=\"sk-text-repr-fallback\"><pre>Pipeline(steps=[(&#x27;imputer&#x27;, KNNImputer(n_neighbors=3)),\n",
       "                (&#x27;scaler&#x27;, StandardScaler()),\n",
       "                (&#x27;classifier&#x27;, SVC(random_state=42))])</pre><b>In a Jupyter environment, please rerun this cell to show the HTML representation or trust the notebook. <br />On GitHub, the HTML representation is unable to render, please try loading this page with nbviewer.org.</b></div><div class=\"sk-container\" hidden><div class=\"sk-item sk-dashed-wrapped\"><div class=\"sk-label-container\"><div class=\"sk-label sk-toggleable\"><input class=\"sk-toggleable__control sk-hidden--visually\" id=\"sk-estimator-id-14\" type=\"checkbox\" ><label for=\"sk-estimator-id-14\" class=\"sk-toggleable__label sk-toggleable__label-arrow\">Pipeline</label><div class=\"sk-toggleable__content\"><pre>Pipeline(steps=[(&#x27;imputer&#x27;, KNNImputer(n_neighbors=3)),\n",
       "                (&#x27;scaler&#x27;, StandardScaler()),\n",
       "                (&#x27;classifier&#x27;, SVC(random_state=42))])</pre></div></div></div><div class=\"sk-serial\"><div class=\"sk-item\"><div class=\"sk-estimator sk-toggleable\"><input class=\"sk-toggleable__control sk-hidden--visually\" id=\"sk-estimator-id-15\" type=\"checkbox\" ><label for=\"sk-estimator-id-15\" class=\"sk-toggleable__label sk-toggleable__label-arrow\">KNNImputer</label><div class=\"sk-toggleable__content\"><pre>KNNImputer(n_neighbors=3)</pre></div></div></div><div class=\"sk-item\"><div class=\"sk-estimator sk-toggleable\"><input class=\"sk-toggleable__control sk-hidden--visually\" id=\"sk-estimator-id-16\" type=\"checkbox\" ><label for=\"sk-estimator-id-16\" class=\"sk-toggleable__label sk-toggleable__label-arrow\">StandardScaler</label><div class=\"sk-toggleable__content\"><pre>StandardScaler()</pre></div></div></div><div class=\"sk-item\"><div class=\"sk-estimator sk-toggleable\"><input class=\"sk-toggleable__control sk-hidden--visually\" id=\"sk-estimator-id-17\" type=\"checkbox\" ><label for=\"sk-estimator-id-17\" class=\"sk-toggleable__label sk-toggleable__label-arrow\">SVC</label><div class=\"sk-toggleable__content\"><pre>SVC(random_state=42)</pre></div></div></div></div></div></div></div>"
      ],
      "text/plain": [
       "Pipeline(steps=[('imputer', KNNImputer(n_neighbors=3)),\n",
       "                ('scaler', StandardScaler()),\n",
       "                ('classifier', SVC(random_state=42))])"
      ]
     },
     "execution_count": 26,
     "metadata": {},
     "output_type": "execute_result"
    }
   ],
   "source": [
    "pipeline.fit(x_train, y_train)"
   ]
  },
  {
   "cell_type": "code",
   "execution_count": 27,
   "metadata": {},
   "outputs": [
    {
     "data": {
      "text/plain": [
       "(0.8840579710144928, 0.8043478260869565)"
      ]
     },
     "execution_count": 27,
     "metadata": {},
     "output_type": "execute_result"
    }
   ],
   "source": [
    "y_pred_svm = pipeline.predict(x_train)\n",
    "accuracy_svm_train = accuracy_score(y_train, y_pred_svm)\n",
    "\n",
    "y_pred_svm = pipeline.predict(x_test)\n",
    "accuracy_svm_test = accuracy_score(y_test, y_pred_svm)\n",
    "\n",
    "accuracy_svm_train, accuracy_svm_test"
   ]
  },
  {
   "cell_type": "code",
   "execution_count": 28,
   "metadata": {},
   "outputs": [
    {
     "data": {
      "image/png": "[encoded data removed]",
      "text/plain": [
       "<Figure size 432x288 with 2 Axes>"
      ]
     },
     "metadata": {
      "needs_background": "light"
     },
     "output_type": "display_data"
    }
   ],
   "source": [
    "disp = ConfusionMatrixDisplay.from_predictions(\n",
    "y_test, y_pred_svm, cmap=plt.cm.Blues, display_labels=['No HD', 'Yes HD'], normalize=None)\n",
    "plt.show()"
   ]
  },
  {
   "cell_type": "markdown",
   "metadata": {},
   "source": [
    "### Tune model using gridsearch CV"
   ]
  },
  {
   "cell_type": "code",
   "execution_count": 29,
   "metadata": {},
   "outputs": [],
   "source": [
    "param_grid = {\n",
    "    'classifier__C': [0.5, 1, 10, 100],\n",
    "    'classifier__gamma': ['scale', 1, 0.1, 0.01, 0.001, 0.0001],\n",
    "    'classifier__kernel': ['rbf']\n",
    "}\n",
    "\n",
    "grid_search = GridSearchCV(estimator= pipeline, param_grid=param_grid, scoring='accuracy', cv= kf, verbose=2)"
   ]
  },
  {
   "cell_type": "code",
   "execution_count": 30,
   "metadata": {
    "scrolled": true
   },
   "outputs": [
    {
     "name": "stdout",
     "output_type": "stream",
     "text": [
      "Fitting 4 folds for each of 24 candidates, totalling 96 fits\n",
      "[CV] END classifier__C=0.5, classifier__gamma=scale, classifier__kernel=rbf; total time=   0.0s\n",
      "[CV] END classifier__C=0.5, classifier__gamma=scale, classifier__kernel=rbf; total time=   0.0s\n",
      "[CV] END classifier__C=0.5, classifier__gamma=scale, classifier__kernel=rbf; total time=   0.0s\n",
      "[CV] END classifier__C=0.5, classifier__gamma=scale, classifier__kernel=rbf; total time=   0.0s\n",
      "[CV] END classifier__C=0.5, classifier__gamma=1, classifier__kernel=rbf; total time=   0.0s\n",
      "[CV] END classifier__C=0.5, classifier__gamma=1, classifier__kernel=rbf; total time=   0.0s\n",
      "[CV] END classifier__C=0.5, classifier__gamma=1, classifier__kernel=rbf; total time=   0.0s\n",
      "[CV] END classifier__C=0.5, classifier__gamma=1, classifier__kernel=rbf; total time=   0.0s\n",
      "[CV] END classifier__C=0.5, classifier__gamma=0.1, classifier__kernel=rbf; total time=   0.0s\n",
      "[CV] END classifier__C=0.5, classifier__gamma=0.1, classifier__kernel=rbf; total time=   0.0s\n",
      "[CV] END classifier__C=0.5, classifier__gamma=0.1, classifier__kernel=rbf; total time=   0.0s\n",
      "[CV] END classifier__C=0.5, classifier__gamma=0.1, classifier__kernel=rbf; total time=   0.0s\n",
      "[CV] END classifier__C=0.5, classifier__gamma=0.01, classifier__kernel=rbf; total time=   0.0s\n",
      "[CV] END classifier__C=0.5, classifier__gamma=0.01, classifier__kernel=rbf; total time=   0.0s\n",
      "[CV] END classifier__C=0.5, classifier__gamma=0.01, classifier__kernel=rbf; total time=   0.0s\n",
      "[CV] END classifier__C=0.5, classifier__gamma=0.01, classifier__kernel=rbf; total time=   0.0s\n",
      "[CV] END classifier__C=0.5, classifier__gamma=0.001, classifier__kernel=rbf; total time=   0.0s\n",
      "[CV] END classifier__C=0.5, classifier__gamma=0.001, classifier__kernel=rbf; total time=   0.0s\n",
      "[CV] END classifier__C=0.5, classifier__gamma=0.001, classifier__kernel=rbf; total time=   0.0s\n",
      "[CV] END classifier__C=0.5, classifier__gamma=0.001, classifier__kernel=rbf; total time=   0.0s\n",
      "[CV] END classifier__C=0.5, classifier__gamma=0.0001, classifier__kernel=rbf; total time=   0.0s\n",
      "[CV] END classifier__C=0.5, classifier__gamma=0.0001, classifier__kernel=rbf; total time=   0.0s\n",
      "[CV] END classifier__C=0.5, classifier__gamma=0.0001, classifier__kernel=rbf; total time=   0.0s\n",
      "[CV] END classifier__C=0.5, classifier__gamma=0.0001, classifier__kernel=rbf; total time=   0.0s\n",
      "[CV] END classifier__C=1, classifier__gamma=scale, classifier__kernel=rbf; total time=   0.0s\n",
      "[CV] END classifier__C=1, classifier__gamma=scale, classifier__kernel=rbf; total time=   0.0s\n",
      "[CV] END classifier__C=1, classifier__gamma=scale, classifier__kernel=rbf; total time=   0.0s\n",
      "[CV] END classifier__C=1, classifier__gamma=scale, classifier__kernel=rbf; total time=   0.0s\n",
      "[CV] END classifier__C=1, classifier__gamma=1, classifier__kernel=rbf; total time=   0.0s\n",
      "[CV] END classifier__C=1, classifier__gamma=1, classifier__kernel=rbf; total time=   0.0s\n",
      "[CV] END classifier__C=1, classifier__gamma=1, classifier__kernel=rbf; total time=   0.0s\n",
      "[CV] END classifier__C=1, classifier__gamma=1, classifier__kernel=rbf; total time=   0.0s\n",
      "[CV] END classifier__C=1, classifier__gamma=0.1, classifier__kernel=rbf; total time=   0.0s\n",
      "[CV] END classifier__C=1, classifier__gamma=0.1, classifier__kernel=rbf; total time=   0.0s\n",
      "[CV] END classifier__C=1, classifier__gamma=0.1, classifier__kernel=rbf; total time=   0.0s\n",
      "[CV] END classifier__C=1, classifier__gamma=0.1, classifier__kernel=rbf; total time=   0.0s\n",
      "[CV] END classifier__C=1, classifier__gamma=0.01, classifier__kernel=rbf; total time=   0.0s\n",
      "[CV] END classifier__C=1, classifier__gamma=0.01, classifier__kernel=rbf; total time=   0.0s\n",
      "[CV] END classifier__C=1, classifier__gamma=0.01, classifier__kernel=rbf; total time=   0.0s\n",
      "[CV] END classifier__C=1, classifier__gamma=0.01, classifier__kernel=rbf; total time=   0.0s\n",
      "[CV] END classifier__C=1, classifier__gamma=0.001, classifier__kernel=rbf; total time=   0.0s\n",
      "[CV] END classifier__C=1, classifier__gamma=0.001, classifier__kernel=rbf; total time=   0.0s\n",
      "[CV] END classifier__C=1, classifier__gamma=0.001, classifier__kernel=rbf; total time=   0.0s\n",
      "[CV] END classifier__C=1, classifier__gamma=0.001, classifier__kernel=rbf; total time=   0.0s\n",
      "[CV] END classifier__C=1, classifier__gamma=0.0001, classifier__kernel=rbf; total time=   0.0s\n",
      "[CV] END classifier__C=1, classifier__gamma=0.0001, classifier__kernel=rbf; total time=   0.0s\n",
      "[CV] END classifier__C=1, classifier__gamma=0.0001, classifier__kernel=rbf; total time=   0.0s\n",
      "[CV] END classifier__C=1, classifier__gamma=0.0001, classifier__kernel=rbf; total time=   0.0s\n",
      "[CV] END classifier__C=10, classifier__gamma=scale, classifier__kernel=rbf; total time=   0.0s\n",
      "[CV] END classifier__C=10, classifier__gamma=scale, classifier__kernel=rbf; total time=   0.0s\n",
      "[CV] END classifier__C=10, classifier__gamma=scale, classifier__kernel=rbf; total time=   0.0s\n",
      "[CV] END classifier__C=10, classifier__gamma=scale, classifier__kernel=rbf; total time=   0.0s\n",
      "[CV] END classifier__C=10, classifier__gamma=1, classifier__kernel=rbf; total time=   0.0s\n",
      "[CV] END classifier__C=10, classifier__gamma=1, classifier__kernel=rbf; total time=   0.0s\n",
      "[CV] END classifier__C=10, classifier__gamma=1, classifier__kernel=rbf; total time=   0.0s\n",
      "[CV] END classifier__C=10, classifier__gamma=1, classifier__kernel=rbf; total time=   0.0s\n",
      "[CV] END classifier__C=10, classifier__gamma=0.1, classifier__kernel=rbf; total time=   0.0s\n",
      "[CV] END classifier__C=10, classifier__gamma=0.1, classifier__kernel=rbf; total time=   0.0s\n",
      "[CV] END classifier__C=10, classifier__gamma=0.1, classifier__kernel=rbf; total time=   0.0s\n",
      "[CV] END classifier__C=10, classifier__gamma=0.1, classifier__kernel=rbf; total time=   0.0s\n",
      "[CV] END classifier__C=10, classifier__gamma=0.01, classifier__kernel=rbf; total time=   0.0s\n",
      "[CV] END classifier__C=10, classifier__gamma=0.01, classifier__kernel=rbf; total time=   0.0s\n",
      "[CV] END classifier__C=10, classifier__gamma=0.01, classifier__kernel=rbf; total time=   0.0s\n",
      "[CV] END classifier__C=10, classifier__gamma=0.01, classifier__kernel=rbf; total time=   0.0s\n",
      "[CV] END classifier__C=10, classifier__gamma=0.001, classifier__kernel=rbf; total time=   0.0s\n",
      "[CV] END classifier__C=10, classifier__gamma=0.001, classifier__kernel=rbf; total time=   0.0s\n",
      "[CV] END classifier__C=10, classifier__gamma=0.001, classifier__kernel=rbf; total time=   0.0s\n",
      "[CV] END classifier__C=10, classifier__gamma=0.001, classifier__kernel=rbf; total time=   0.0s\n",
      "[CV] END classifier__C=10, classifier__gamma=0.0001, classifier__kernel=rbf; total time=   0.0s\n",
      "[CV] END classifier__C=10, classifier__gamma=0.0001, classifier__kernel=rbf; total time=   0.0s\n",
      "[CV] END classifier__C=10, classifier__gamma=0.0001, classifier__kernel=rbf; total time=   0.0s\n",
      "[CV] END classifier__C=10, classifier__gamma=0.0001, classifier__kernel=rbf; total time=   0.0s\n",
      "[CV] END classifier__C=100, classifier__gamma=scale, classifier__kernel=rbf; total time=   0.0s\n",
      "[CV] END classifier__C=100, classifier__gamma=scale, classifier__kernel=rbf; total time=   0.0s\n",
      "[CV] END classifier__C=100, classifier__gamma=scale, classifier__kernel=rbf; total time=   0.0s\n",
      "[CV] END classifier__C=100, classifier__gamma=scale, classifier__kernel=rbf; total time=   0.0s\n",
      "[CV] END classifier__C=100, classifier__gamma=1, classifier__kernel=rbf; total time=   0.0s\n",
      "[CV] END classifier__C=100, classifier__gamma=1, classifier__kernel=rbf; total time=   0.0s\n",
      "[CV] END classifier__C=100, classifier__gamma=1, classifier__kernel=rbf; total time=   0.0s\n",
      "[CV] END classifier__C=100, classifier__gamma=1, classifier__kernel=rbf; total time=   0.0s\n",
      "[CV] END classifier__C=100, classifier__gamma=0.1, classifier__kernel=rbf; total time=   0.0s\n",
      "[CV] END classifier__C=100, classifier__gamma=0.1, classifier__kernel=rbf; total time=   0.0s\n",
      "[CV] END classifier__C=100, classifier__gamma=0.1, classifier__kernel=rbf; total time=   0.0s\n",
      "[CV] END classifier__C=100, classifier__gamma=0.1, classifier__kernel=rbf; total time=   0.0s\n",
      "[CV] END classifier__C=100, classifier__gamma=0.01, classifier__kernel=rbf; total time=   0.0s\n",
      "[CV] END classifier__C=100, classifier__gamma=0.01, classifier__kernel=rbf; total time=   0.0s\n",
      "[CV] END classifier__C=100, classifier__gamma=0.01, classifier__kernel=rbf; total time=   0.0s\n",
      "[CV] END classifier__C=100, classifier__gamma=0.01, classifier__kernel=rbf; total time=   0.0s\n",
      "[CV] END classifier__C=100, classifier__gamma=0.001, classifier__kernel=rbf; total time=   0.0s\n"
     ]
    },
    {
     "name": "stdout",
     "output_type": "stream",
     "text": [
      "[CV] END classifier__C=100, classifier__gamma=0.001, classifier__kernel=rbf; total time=   0.0s\n",
      "[CV] END classifier__C=100, classifier__gamma=0.001, classifier__kernel=rbf; total time=   0.0s\n",
      "[CV] END classifier__C=100, classifier__gamma=0.001, classifier__kernel=rbf; total time=   0.0s\n",
      "[CV] END classifier__C=100, classifier__gamma=0.0001, classifier__kernel=rbf; total time=   0.0s\n",
      "[CV] END classifier__C=100, classifier__gamma=0.0001, classifier__kernel=rbf; total time=   0.0s\n",
      "[CV] END classifier__C=100, classifier__gamma=0.0001, classifier__kernel=rbf; total time=   0.0s\n",
      "[CV] END classifier__C=100, classifier__gamma=0.0001, classifier__kernel=rbf; total time=   0.0s\n"
     ]
    },
    {
     "data": {
      "text/html": [
       "<style>#sk-container-id-5 {color: black;}#sk-container-id-5 pre{padding: 0;}#sk-container-id-5 div.sk-toggleable {background-color: white;}#sk-container-id-5 label.sk-toggleable__label {cursor: pointer;display: block;width: 100%;margin-bottom: 0;padding: 0.3em;box-sizing: border-box;text-align: center;}#sk-container-id-5 label.sk-toggleable__label-arrow:before {content: \"▸\";float: left;margin-right: 0.25em;color: #696969;}#sk-container-id-5 label.sk-toggleable__label-arrow:hover:before {color: black;}#sk-container-id-5 div.sk-estimator:hover label.sk-toggleable__label-arrow:before {color: black;}#sk-container-id-5 div.sk-toggleable__content {max-height: 0;max-width: 0;overflow: hidden;text-align: left;background-color: #f0f8ff;}#sk-container-id-5 div.sk-toggleable__content pre {margin: 0.2em;color: black;border-radius: 0.25em;background-color: #f0f8ff;}#sk-container-id-5 input.sk-toggleable__control:checked~div.sk-toggleable__content {max-height: 200px;max-width: 100%;overflow: auto;}#sk-container-id-5 input.sk-toggleable__control:checked~label.sk-toggleable__label-arrow:before {content: \"▾\";}#sk-container-id-5 div.sk-estimator input.sk-toggleable__control:checked~label.sk-toggleable__label {background-color: #d4ebff;}#sk-container-id-5 div.sk-label input.sk-toggleable__control:checked~label.sk-toggleable__label {background-color: #d4ebff;}#sk-container-id-5 input.sk-hidden--visually {border: 0;clip: rect(1px 1px 1px 1px);clip: rect(1px, 1px, 1px, 1px);height: 1px;margin: -1px;overflow: hidden;padding: 0;position: absolute;width: 1px;}#sk-container-id-5 div.sk-estimator {font-family: monospace;background-color: #f0f8ff;border: 1px dotted black;border-radius: 0.25em;box-sizing: border-box;margin-bottom: 0.5em;}#sk-container-id-5 div.sk-estimator:hover {background-color: #d4ebff;}#sk-container-id-5 div.sk-parallel-item::after {content: \"\";width: 100%;border-bottom: 1px solid gray;flex-grow: 1;}#sk-container-id-5 div.sk-label:hover label.sk-toggleable__label {background-color: #d4ebff;}#sk-container-id-5 div.sk-serial::before {content: \"\";position: absolute;border-left: 1px solid gray;box-sizing: border-box;top: 0;bottom: 0;left: 50%;z-index: 0;}#sk-container-id-5 div.sk-serial {display: flex;flex-direction: column;align-items: center;background-color: white;padding-right: 0.2em;padding-left: 0.2em;position: relative;}#sk-container-id-5 div.sk-item {position: relative;z-index: 1;}#sk-container-id-5 div.sk-parallel {display: flex;align-items: stretch;justify-content: center;background-color: white;position: relative;}#sk-container-id-5 div.sk-item::before, #sk-container-id-5 div.sk-parallel-item::before {content: \"\";position: absolute;border-left: 1px solid gray;box-sizing: border-box;top: 0;bottom: 0;left: 50%;z-index: -1;}#sk-container-id-5 div.sk-parallel-item {display: flex;flex-direction: column;z-index: 1;position: relative;background-color: white;}#sk-container-id-5 div.sk-parallel-item:first-child::after {align-self: flex-end;width: 50%;}#sk-container-id-5 div.sk-parallel-item:last-child::after {align-self: flex-start;width: 50%;}#sk-container-id-5 div.sk-parallel-item:only-child::after {width: 0;}#sk-container-id-5 div.sk-dashed-wrapped {border: 1px dashed gray;margin: 0 0.4em 0.5em 0.4em;box-sizing: border-box;padding-bottom: 0.4em;background-color: white;}#sk-container-id-5 div.sk-label label {font-family: monospace;font-weight: bold;display: inline-block;line-height: 1.2em;}#sk-container-id-5 div.sk-label-container {text-align: center;}#sk-container-id-5 div.sk-container {/* jupyter's `normalize.less` sets `[hidden] { display: none; }` but bootstrap.min.css set `[hidden] { display: none !important; }` so we also need the `!important` here to be able to override the default hidden behavior on the sphinx rendered scikit-learn.org. See: https://github.com/scikit-learn/scikit-learn/issues/21755 */display: inline-block !important;position: relative;}#sk-container-id-5 div.sk-text-repr-fallback {display: none;}</style><div id=\"sk-container-id-5\" class=\"sk-top-container\"><div class=\"sk-text-repr-fallback\"><pre>GridSearchCV(cv=KFold(n_splits=4, random_state=42, shuffle=True),\n",
       "             estimator=Pipeline(steps=[(&#x27;imputer&#x27;, KNNImputer(n_neighbors=3)),\n",
       "                                       (&#x27;scaler&#x27;, StandardScaler()),\n",
       "                                       (&#x27;classifier&#x27;, SVC(random_state=42))]),\n",
       "             param_grid={&#x27;classifier__C&#x27;: [0.5, 1, 10, 100],\n",
       "                         &#x27;classifier__gamma&#x27;: [&#x27;scale&#x27;, 1, 0.1, 0.01, 0.001,\n",
       "                                               0.0001],\n",
       "                         &#x27;classifier__kernel&#x27;: [&#x27;rbf&#x27;]},\n",
       "             scoring=&#x27;accuracy&#x27;, verbose=2)</pre><b>In a Jupyter environment, please rerun this cell to show the HTML representation or trust the notebook. <br />On GitHub, the HTML representation is unable to render, please try loading this page with nbviewer.org.</b></div><div class=\"sk-container\" hidden><div class=\"sk-item sk-dashed-wrapped\"><div class=\"sk-label-container\"><div class=\"sk-label sk-toggleable\"><input class=\"sk-toggleable__control sk-hidden--visually\" id=\"sk-estimator-id-18\" type=\"checkbox\" ><label for=\"sk-estimator-id-18\" class=\"sk-toggleable__label sk-toggleable__label-arrow\">GridSearchCV</label><div class=\"sk-toggleable__content\"><pre>GridSearchCV(cv=KFold(n_splits=4, random_state=42, shuffle=True),\n",
       "             estimator=Pipeline(steps=[(&#x27;imputer&#x27;, KNNImputer(n_neighbors=3)),\n",
       "                                       (&#x27;scaler&#x27;, StandardScaler()),\n",
       "                                       (&#x27;classifier&#x27;, SVC(random_state=42))]),\n",
       "             param_grid={&#x27;classifier__C&#x27;: [0.5, 1, 10, 100],\n",
       "                         &#x27;classifier__gamma&#x27;: [&#x27;scale&#x27;, 1, 0.1, 0.01, 0.001,\n",
       "                                               0.0001],\n",
       "                         &#x27;classifier__kernel&#x27;: [&#x27;rbf&#x27;]},\n",
       "             scoring=&#x27;accuracy&#x27;, verbose=2)</pre></div></div></div><div class=\"sk-parallel\"><div class=\"sk-parallel-item\"><div class=\"sk-item\"><div class=\"sk-label-container\"><div class=\"sk-label sk-toggleable\"><input class=\"sk-toggleable__control sk-hidden--visually\" id=\"sk-estimator-id-19\" type=\"checkbox\" ><label for=\"sk-estimator-id-19\" class=\"sk-toggleable__label sk-toggleable__label-arrow\">estimator: Pipeline</label><div class=\"sk-toggleable__content\"><pre>Pipeline(steps=[(&#x27;imputer&#x27;, KNNImputer(n_neighbors=3)),\n",
       "                (&#x27;scaler&#x27;, StandardScaler()),\n",
       "                (&#x27;classifier&#x27;, SVC(random_state=42))])</pre></div></div></div><div class=\"sk-serial\"><div class=\"sk-item\"><div class=\"sk-serial\"><div class=\"sk-item\"><div class=\"sk-estimator sk-toggleable\"><input class=\"sk-toggleable__control sk-hidden--visually\" id=\"sk-estimator-id-20\" type=\"checkbox\" ><label for=\"sk-estimator-id-20\" class=\"sk-toggleable__label sk-toggleable__label-arrow\">KNNImputer</label><div class=\"sk-toggleable__content\"><pre>KNNImputer(n_neighbors=3)</pre></div></div></div><div class=\"sk-item\"><div class=\"sk-estimator sk-toggleable\"><input class=\"sk-toggleable__control sk-hidden--visually\" id=\"sk-estimator-id-21\" type=\"checkbox\" ><label for=\"sk-estimator-id-21\" class=\"sk-toggleable__label sk-toggleable__label-arrow\">StandardScaler</label><div class=\"sk-toggleable__content\"><pre>StandardScaler()</pre></div></div></div><div class=\"sk-item\"><div class=\"sk-estimator sk-toggleable\"><input class=\"sk-toggleable__control sk-hidden--visually\" id=\"sk-estimator-id-22\" type=\"checkbox\" ><label for=\"sk-estimator-id-22\" class=\"sk-toggleable__label sk-toggleable__label-arrow\">SVC</label><div class=\"sk-toggleable__content\"><pre>SVC(random_state=42)</pre></div></div></div></div></div></div></div></div></div></div></div></div>"
      ],
      "text/plain": [
       "GridSearchCV(cv=KFold(n_splits=4, random_state=42, shuffle=True),\n",
       "             estimator=Pipeline(steps=[('imputer', KNNImputer(n_neighbors=3)),\n",
       "                                       ('scaler', StandardScaler()),\n",
       "                                       ('classifier', SVC(random_state=42))]),\n",
       "             param_grid={'classifier__C': [0.5, 1, 10, 100],\n",
       "                         'classifier__gamma': ['scale', 1, 0.1, 0.01, 0.001,\n",
       "                                               0.0001],\n",
       "                         'classifier__kernel': ['rbf']},\n",
       "             scoring='accuracy', verbose=2)"
      ]
     },
     "execution_count": 30,
     "metadata": {},
     "output_type": "execute_result"
    }
   ],
   "source": [
    "grid_search.fit(x_train,y_train)"
   ]
  },
  {
   "cell_type": "code",
   "execution_count": 31,
   "metadata": {},
   "outputs": [
    {
     "name": "stdout",
     "output_type": "stream",
     "text": [
      "Best Hyperparameters: {'classifier__C': 0.5, 'classifier__gamma': 0.001, 'classifier__kernel': 'rbf'}\n",
      "Best Cross-Validation Score: 0.8086\n"
     ]
    }
   ],
   "source": [
    "print(f\"Best Hyperparameters: {grid_search.best_params_}\")\n",
    "print(f\"Best Cross-Validation Score: {grid_search.best_score_:.4f}\")"
   ]
  },
  {
   "cell_type": "markdown",
   "metadata": {},
   "source": [
    "### Build evaluate, draw and interpret SVM"
   ]
  },
  {
   "cell_type": "code",
   "execution_count": 40,
   "metadata": {},
   "outputs": [
    {
     "data": {
      "text/html": [
       "<style>#sk-container-id-8 {color: black;}#sk-container-id-8 pre{padding: 0;}#sk-container-id-8 div.sk-toggleable {background-color: white;}#sk-container-id-8 label.sk-toggleable__label {cursor: pointer;display: block;width: 100%;margin-bottom: 0;padding: 0.3em;box-sizing: border-box;text-align: center;}#sk-container-id-8 label.sk-toggleable__label-arrow:before {content: \"▸\";float: left;margin-right: 0.25em;color: #696969;}#sk-container-id-8 label.sk-toggleable__label-arrow:hover:before {color: black;}#sk-container-id-8 div.sk-estimator:hover label.sk-toggleable__label-arrow:before {color: black;}#sk-container-id-8 div.sk-toggleable__content {max-height: 0;max-width: 0;overflow: hidden;text-align: left;background-color: #f0f8ff;}#sk-container-id-8 div.sk-toggleable__content pre {margin: 0.2em;color: black;border-radius: 0.25em;background-color: #f0f8ff;}#sk-container-id-8 input.sk-toggleable__control:checked~div.sk-toggleable__content {max-height: 200px;max-width: 100%;overflow: auto;}#sk-container-id-8 input.sk-toggleable__control:checked~label.sk-toggleable__label-arrow:before {content: \"▾\";}#sk-container-id-8 div.sk-estimator input.sk-toggleable__control:checked~label.sk-toggleable__label {background-color: #d4ebff;}#sk-container-id-8 div.sk-label input.sk-toggleable__control:checked~label.sk-toggleable__label {background-color: #d4ebff;}#sk-container-id-8 input.sk-hidden--visually {border: 0;clip: rect(1px 1px 1px 1px);clip: rect(1px, 1px, 1px, 1px);height: 1px;margin: -1px;overflow: hidden;padding: 0;position: absolute;width: 1px;}#sk-container-id-8 div.sk-estimator {font-family: monospace;background-color: #f0f8ff;border: 1px dotted black;border-radius: 0.25em;box-sizing: border-box;margin-bottom: 0.5em;}#sk-container-id-8 div.sk-estimator:hover {background-color: #d4ebff;}#sk-container-id-8 div.sk-parallel-item::after {content: \"\";width: 100%;border-bottom: 1px solid gray;flex-grow: 1;}#sk-container-id-8 div.sk-label:hover label.sk-toggleable__label {background-color: #d4ebff;}#sk-container-id-8 div.sk-serial::before {content: \"\";position: absolute;border-left: 1px solid gray;box-sizing: border-box;top: 0;bottom: 0;left: 50%;z-index: 0;}#sk-container-id-8 div.sk-serial {display: flex;flex-direction: column;align-items: center;background-color: white;padding-right: 0.2em;padding-left: 0.2em;position: relative;}#sk-container-id-8 div.sk-item {position: relative;z-index: 1;}#sk-container-id-8 div.sk-parallel {display: flex;align-items: stretch;justify-content: center;background-color: white;position: relative;}#sk-container-id-8 div.sk-item::before, #sk-container-id-8 div.sk-parallel-item::before {content: \"\";position: absolute;border-left: 1px solid gray;box-sizing: border-box;top: 0;bottom: 0;left: 50%;z-index: -1;}#sk-container-id-8 div.sk-parallel-item {display: flex;flex-direction: column;z-index: 1;position: relative;background-color: white;}#sk-container-id-8 div.sk-parallel-item:first-child::after {align-self: flex-end;width: 50%;}#sk-container-id-8 div.sk-parallel-item:last-child::after {align-self: flex-start;width: 50%;}#sk-container-id-8 div.sk-parallel-item:only-child::after {width: 0;}#sk-container-id-8 div.sk-dashed-wrapped {border: 1px dashed gray;margin: 0 0.4em 0.5em 0.4em;box-sizing: border-box;padding-bottom: 0.4em;background-color: white;}#sk-container-id-8 div.sk-label label {font-family: monospace;font-weight: bold;display: inline-block;line-height: 1.2em;}#sk-container-id-8 div.sk-label-container {text-align: center;}#sk-container-id-8 div.sk-container {/* jupyter's `normalize.less` sets `[hidden] { display: none; }` but bootstrap.min.css set `[hidden] { display: none !important; }` so we also need the `!important` here to be able to override the default hidden behavior on the sphinx rendered scikit-learn.org. See: https://github.com/scikit-learn/scikit-learn/issues/21755 */display: inline-block !important;position: relative;}#sk-container-id-8 div.sk-text-repr-fallback {display: none;}</style><div id=\"sk-container-id-8\" class=\"sk-top-container\"><div class=\"sk-text-repr-fallback\"><pre>Pipeline(steps=[(&#x27;imputer&#x27;, KNNImputer(n_neighbors=3)),\n",
       "                (&#x27;scaler&#x27;, StandardScaler()),\n",
       "                (&#x27;classifier&#x27;,\n",
       "                 SVC(C=0.5, gamma=0.001, probability=True, random_state=42))])</pre><b>In a Jupyter environment, please rerun this cell to show the HTML representation or trust the notebook. <br />On GitHub, the HTML representation is unable to render, please try loading this page with nbviewer.org.</b></div><div class=\"sk-container\" hidden><div class=\"sk-item sk-dashed-wrapped\"><div class=\"sk-label-container\"><div class=\"sk-label sk-toggleable\"><input class=\"sk-toggleable__control sk-hidden--visually\" id=\"sk-estimator-id-31\" type=\"checkbox\" ><label for=\"sk-estimator-id-31\" class=\"sk-toggleable__label sk-toggleable__label-arrow\">Pipeline</label><div class=\"sk-toggleable__content\"><pre>Pipeline(steps=[(&#x27;imputer&#x27;, KNNImputer(n_neighbors=3)),\n",
       "                (&#x27;scaler&#x27;, StandardScaler()),\n",
       "                (&#x27;classifier&#x27;,\n",
       "                 SVC(C=0.5, gamma=0.001, probability=True, random_state=42))])</pre></div></div></div><div class=\"sk-serial\"><div class=\"sk-item\"><div class=\"sk-estimator sk-toggleable\"><input class=\"sk-toggleable__control sk-hidden--visually\" id=\"sk-estimator-id-32\" type=\"checkbox\" ><label for=\"sk-estimator-id-32\" class=\"sk-toggleable__label sk-toggleable__label-arrow\">KNNImputer</label><div class=\"sk-toggleable__content\"><pre>KNNImputer(n_neighbors=3)</pre></div></div></div><div class=\"sk-item\"><div class=\"sk-estimator sk-toggleable\"><input class=\"sk-toggleable__control sk-hidden--visually\" id=\"sk-estimator-id-33\" type=\"checkbox\" ><label for=\"sk-estimator-id-33\" class=\"sk-toggleable__label sk-toggleable__label-arrow\">StandardScaler</label><div class=\"sk-toggleable__content\"><pre>StandardScaler()</pre></div></div></div><div class=\"sk-item\"><div class=\"sk-estimator sk-toggleable\"><input class=\"sk-toggleable__control sk-hidden--visually\" id=\"sk-estimator-id-34\" type=\"checkbox\" ><label for=\"sk-estimator-id-34\" class=\"sk-toggleable__label sk-toggleable__label-arrow\">SVC</label><div class=\"sk-toggleable__content\"><pre>SVC(C=0.5, gamma=0.001, probability=True, random_state=42)</pre></div></div></div></div></div></div></div>"
      ],
      "text/plain": [
       "Pipeline(steps=[('imputer', KNNImputer(n_neighbors=3)),\n",
       "                ('scaler', StandardScaler()),\n",
       "                ('classifier',\n",
       "                 SVC(C=0.5, gamma=0.001, probability=True, random_state=42))])"
      ]
     },
     "execution_count": 40,
     "metadata": {},
     "output_type": "execute_result"
    }
   ],
   "source": [
    "pipeline = Pipeline(steps = [('imputer', imputer), ('scaler', scaler), ('classifier', SVC(C=0.5, gamma=0.001, kernel='rbf', probability= True, random_state=42))])\n",
    "pipeline.fit(x_train, y_train)"
   ]
  },
  {
   "cell_type": "code",
   "execution_count": 41,
   "metadata": {},
   "outputs": [
    {
     "data": {
      "text/plain": [
       "(0.8173913043478261, 0.8173913043478261)"
      ]
     },
     "execution_count": 41,
     "metadata": {},
     "output_type": "execute_result"
    }
   ],
   "source": [
    "y_pred_svm = pipeline.predict(x_test)\n",
    "accuracy_svm_test = accuracy_score(y_test, y_pred_svm)\n",
    "\n",
    "y_pred_svm = pipeline.predict(x_train)\n",
    "accuracy_svm_train = accuracy_score(y_train, y_pred_svm)\n",
    "\n",
    "accuracy_svm_train, accuracy_svm_test"
   ]
  },
  {
   "cell_type": "code",
   "execution_count": 42,
   "metadata": {},
   "outputs": [
    {
     "data": {
      "image/png": "[encoded data removed]",
      "text/plain": [
       "<Figure size 432x288 with 2 Axes>"
      ]
     },
     "metadata": {
      "needs_background": "light"
     },
     "output_type": "display_data"
    }
   ],
   "source": [
    "y_pred = pipeline.predict(x_test)\n",
    "disp = ConfusionMatrixDisplay.from_predictions(\n",
    "y_test, y_pred, cmap=plt.cm.Blues, display_labels=['No HD', 'Yes HD'], normalize=None)\n",
    "plt.show()"
   ]
  },
  {
   "cell_type": "markdown",
   "metadata": {},
   "source": [
    "Performance metrics:\n",
    "1. Sensitivity (Recall): 86.57%\n",
    "2. Specificity: 75%\n",
    "3. Precision: 82.86%\n",
    "4. Accuracy: 81.74%"
   ]
  },
  {
   "cell_type": "code",
   "execution_count": 43,
   "metadata": {},
   "outputs": [],
   "source": [
    "y_pred = pipeline.predict_proba(x_test)[:, 1]"
   ]
  },
  {
   "cell_type": "code",
   "execution_count": 44,
   "metadata": {},
   "outputs": [
    {
     "name": "stdout",
     "output_type": "stream",
     "text": [
      "ROC AUC is  0.8840174129353235\n"
     ]
    }
   ],
   "source": [
    "fpr, tpr, thresholds = roc_curve(y_test, y_pred)\n",
    "roc_auc = auc(fpr, tpr)\n",
    "print('ROC AUC is ',roc_auc)"
   ]
  },
  {
   "cell_type": "code",
   "execution_count": 45,
   "metadata": {},
   "outputs": [
    {
     "data": {
      "text/plain": [
       "<matplotlib.legend.Legend at 0x2b3e1b1b040>"
      ]
     },
     "execution_count": 45,
     "metadata": {},
     "output_type": "execute_result"
    },
    {
     "data": {
      "image/png": "[encoded data removed]",
      "text/plain": [
       "<Figure size 1080x540 with 1 Axes>"
      ]
     },
     "metadata": {
      "needs_background": "light"
     },
     "output_type": "display_data"
    }
   ],
   "source": [
    "plt.figure(figsize=(15,7.5))\n",
    "plt.plot(fpr, tpr, label=f'ROC curve (AUC = {roc_auc:.4f})')\n",
    "plt.plot([0,1],[0,1], label='Random Guess (AUC = 0.5)')\n",
    "plt.xlabel('False Positive Rate (1 - Specificity)')\n",
    "plt.ylabel('True Positive Rate (Sensitivity/Recall)')\n",
    "plt.title('Receiver Operating Characteristic (ROC) Curve')\n",
    "plt.legend(loc='lower right')"
   ]
  },
  {
   "cell_type": "markdown",
   "metadata": {},
   "source": [
    "### Using Principal Component Analysis to draw the correlation and boundary"
   ]
  },
  {
   "cell_type": "code",
   "execution_count": 16,
   "metadata": {},
   "outputs": [],
   "source": [
    "x_train = imputer.fit_transform(x_train)\n",
    "x_train = scaler.fit_transform(x_train)"
   ]
  },
  {
   "cell_type": "code",
   "execution_count": 17,
   "metadata": {},
   "outputs": [
    {
     "data": {
      "image/png": "[encoded data removed]",
      "text/plain": [
       "<Figure size 720x432 with 1 Axes>"
      ]
     },
     "metadata": {
      "needs_background": "light"
     },
     "output_type": "display_data"
    }
   ],
   "source": [
    "pca = PCA()\n",
    "pca.fit(x_train)\n",
    "x_train_pca = pca.transform(x_train)\n",
    "\n",
    "per_var = np.round(pca.explained_variance_ratio_*100, decimals = 1)\n",
    "labels = [str(x) for x in range(len(per_var)+1)]\n",
    "\n",
    "plt.figure(figsize=(10, 6))\n",
    "plt.bar(x=np.arange(len(per_var)), height=per_var)\n",
    "plt.ylabel('Percentage of Explained Variance')\n",
    "plt.xlabel('Principal Component')\n",
    "plt.title('Scree Plot')\n",
    "plt.show()"
   ]
  },
  {
   "cell_type": "markdown",
   "metadata": {},
   "source": [
    "The goal of the scree plot is to ensure that the first 2 components explain much larger variance than the rest (so that the data can be simplified in 2 dimensions for easy visual here). The reason we only see 17 bars is because 5 featres are perfectly correlated with the first 17 features ( this includes 4 OHE features, dont know the last)"
   ]
  },
  {
   "cell_type": "code",
   "execution_count": 24,
   "metadata": {},
   "outputs": [],
   "source": [
    "train_pc1_coords = x_train_pca[:,0]\n",
    "train_pc2_coords = x_train_pca[:,1]\n",
    "pca_train_scaled = np.column_stack((train_pc1_coords, train_pc2_coords))"
   ]
  },
  {
   "cell_type": "code",
   "execution_count": 25,
   "metadata": {
    "scrolled": true
   },
   "outputs": [
    {
     "name": "stdout",
     "output_type": "stream",
     "text": [
      "Fitting 4 folds for each of 24 candidates, totalling 96 fits\n",
      "[CV] END .....................C=0.5, gamma=scale, kernel=rbf; total time=   0.0s\n",
      "[CV] END .....................C=0.5, gamma=scale, kernel=rbf; total time=   0.0s\n",
      "[CV] END .....................C=0.5, gamma=scale, kernel=rbf; total time=   0.0s\n",
      "[CV] END .....................C=0.5, gamma=scale, kernel=rbf; total time=   0.0s\n",
      "[CV] END .........................C=0.5, gamma=1, kernel=rbf; total time=   0.0s\n",
      "[CV] END .........................C=0.5, gamma=1, kernel=rbf; total time=   0.0s\n",
      "[CV] END .........................C=0.5, gamma=1, kernel=rbf; total time=   0.0s\n",
      "[CV] END .........................C=0.5, gamma=1, kernel=rbf; total time=   0.0s\n",
      "[CV] END .......................C=0.5, gamma=0.1, kernel=rbf; total time=   0.0s\n",
      "[CV] END .......................C=0.5, gamma=0.1, kernel=rbf; total time=   0.0s\n",
      "[CV] END .......................C=0.5, gamma=0.1, kernel=rbf; total time=   0.0s\n",
      "[CV] END .......................C=0.5, gamma=0.1, kernel=rbf; total time=   0.0s\n",
      "[CV] END ......................C=0.5, gamma=0.01, kernel=rbf; total time=   0.0s\n",
      "[CV] END ......................C=0.5, gamma=0.01, kernel=rbf; total time=   0.0s\n",
      "[CV] END ......................C=0.5, gamma=0.01, kernel=rbf; total time=   0.0s\n",
      "[CV] END ......................C=0.5, gamma=0.01, kernel=rbf; total time=   0.0s\n",
      "[CV] END .....................C=0.5, gamma=0.001, kernel=rbf; total time=   0.0s\n",
      "[CV] END .....................C=0.5, gamma=0.001, kernel=rbf; total time=   0.0s\n",
      "[CV] END .....................C=0.5, gamma=0.001, kernel=rbf; total time=   0.0s\n",
      "[CV] END .....................C=0.5, gamma=0.001, kernel=rbf; total time=   0.0s\n",
      "[CV] END ....................C=0.5, gamma=0.0001, kernel=rbf; total time=   0.0s\n",
      "[CV] END ....................C=0.5, gamma=0.0001, kernel=rbf; total time=   0.0s\n",
      "[CV] END ....................C=0.5, gamma=0.0001, kernel=rbf; total time=   0.0s\n",
      "[CV] END ....................C=0.5, gamma=0.0001, kernel=rbf; total time=   0.0s\n",
      "[CV] END .......................C=1, gamma=scale, kernel=rbf; total time=   0.0s\n",
      "[CV] END .......................C=1, gamma=scale, kernel=rbf; total time=   0.0s\n",
      "[CV] END .......................C=1, gamma=scale, kernel=rbf; total time=   0.0s\n",
      "[CV] END .......................C=1, gamma=scale, kernel=rbf; total time=   0.0s\n",
      "[CV] END ...........................C=1, gamma=1, kernel=rbf; total time=   0.0s\n",
      "[CV] END ...........................C=1, gamma=1, kernel=rbf; total time=   0.0s\n",
      "[CV] END ...........................C=1, gamma=1, kernel=rbf; total time=   0.0s\n",
      "[CV] END ...........................C=1, gamma=1, kernel=rbf; total time=   0.0s\n",
      "[CV] END .........................C=1, gamma=0.1, kernel=rbf; total time=   0.0s\n",
      "[CV] END .........................C=1, gamma=0.1, kernel=rbf; total time=   0.0s\n",
      "[CV] END .........................C=1, gamma=0.1, kernel=rbf; total time=   0.0s\n",
      "[CV] END .........................C=1, gamma=0.1, kernel=rbf; total time=   0.0s\n",
      "[CV] END ........................C=1, gamma=0.01, kernel=rbf; total time=   0.0s\n",
      "[CV] END ........................C=1, gamma=0.01, kernel=rbf; total time=   0.0s\n",
      "[CV] END ........................C=1, gamma=0.01, kernel=rbf; total time=   0.0s\n",
      "[CV] END ........................C=1, gamma=0.01, kernel=rbf; total time=   0.0s\n",
      "[CV] END .......................C=1, gamma=0.001, kernel=rbf; total time=   0.0s\n",
      "[CV] END .......................C=1, gamma=0.001, kernel=rbf; total time=   0.0s\n",
      "[CV] END .......................C=1, gamma=0.001, kernel=rbf; total time=   0.0s\n",
      "[CV] END .......................C=1, gamma=0.001, kernel=rbf; total time=   0.0s\n",
      "[CV] END ......................C=1, gamma=0.0001, kernel=rbf; total time=   0.0s\n",
      "[CV] END ......................C=1, gamma=0.0001, kernel=rbf; total time=   0.0s\n",
      "[CV] END ......................C=1, gamma=0.0001, kernel=rbf; total time=   0.0s\n",
      "[CV] END ......................C=1, gamma=0.0001, kernel=rbf; total time=   0.0s\n",
      "[CV] END ......................C=10, gamma=scale, kernel=rbf; total time=   0.0s\n",
      "[CV] END ......................C=10, gamma=scale, kernel=rbf; total time=   0.0s\n",
      "[CV] END ......................C=10, gamma=scale, kernel=rbf; total time=   0.0s\n",
      "[CV] END ......................C=10, gamma=scale, kernel=rbf; total time=   0.0s\n",
      "[CV] END ..........................C=10, gamma=1, kernel=rbf; total time=   0.0s\n",
      "[CV] END ..........................C=10, gamma=1, kernel=rbf; total time=   0.0s\n",
      "[CV] END ..........................C=10, gamma=1, kernel=rbf; total time=   0.0s\n",
      "[CV] END ..........................C=10, gamma=1, kernel=rbf; total time=   0.0s\n",
      "[CV] END ........................C=10, gamma=0.1, kernel=rbf; total time=   0.0s\n",
      "[CV] END ........................C=10, gamma=0.1, kernel=rbf; total time=   0.0s\n",
      "[CV] END ........................C=10, gamma=0.1, kernel=rbf; total time=   0.0s\n",
      "[CV] END ........................C=10, gamma=0.1, kernel=rbf; total time=   0.0s\n",
      "[CV] END .......................C=10, gamma=0.01, kernel=rbf; total time=   0.0s\n",
      "[CV] END .......................C=10, gamma=0.01, kernel=rbf; total time=   0.0s\n",
      "[CV] END .......................C=10, gamma=0.01, kernel=rbf; total time=   0.0s\n",
      "[CV] END .......................C=10, gamma=0.01, kernel=rbf; total time=   0.0s\n",
      "[CV] END ......................C=10, gamma=0.001, kernel=rbf; total time=   0.0s\n",
      "[CV] END ......................C=10, gamma=0.001, kernel=rbf; total time=   0.0s\n",
      "[CV] END ......................C=10, gamma=0.001, kernel=rbf; total time=   0.0s\n",
      "[CV] END ......................C=10, gamma=0.001, kernel=rbf; total time=   0.0s\n",
      "[CV] END .....................C=10, gamma=0.0001, kernel=rbf; total time=   0.0s\n",
      "[CV] END .....................C=10, gamma=0.0001, kernel=rbf; total time=   0.0s\n",
      "[CV] END .....................C=10, gamma=0.0001, kernel=rbf; total time=   0.0s\n",
      "[CV] END .....................C=10, gamma=0.0001, kernel=rbf; total time=   0.0s\n",
      "[CV] END .....................C=100, gamma=scale, kernel=rbf; total time=   0.0s\n",
      "[CV] END .....................C=100, gamma=scale, kernel=rbf; total time=   0.0s\n",
      "[CV] END .....................C=100, gamma=scale, kernel=rbf; total time=   0.0s\n",
      "[CV] END .....................C=100, gamma=scale, kernel=rbf; total time=   0.0s\n",
      "[CV] END .........................C=100, gamma=1, kernel=rbf; total time=   0.0s\n",
      "[CV] END .........................C=100, gamma=1, kernel=rbf; total time=   0.0s\n",
      "[CV] END .........................C=100, gamma=1, kernel=rbf; total time=   0.0s\n",
      "[CV] END .........................C=100, gamma=1, kernel=rbf; total time=   0.0s\n",
      "[CV] END .......................C=100, gamma=0.1, kernel=rbf; total time=   0.0s\n",
      "[CV] END .......................C=100, gamma=0.1, kernel=rbf; total time=   0.0s\n",
      "[CV] END .......................C=100, gamma=0.1, kernel=rbf; total time=   0.0s\n",
      "[CV] END .......................C=100, gamma=0.1, kernel=rbf; total time=   0.0s\n",
      "[CV] END ......................C=100, gamma=0.01, kernel=rbf; total time=   0.0s\n",
      "[CV] END ......................C=100, gamma=0.01, kernel=rbf; total time=   0.0s\n",
      "[CV] END ......................C=100, gamma=0.01, kernel=rbf; total time=   0.0s\n",
      "[CV] END ......................C=100, gamma=0.01, kernel=rbf; total time=   0.0s\n",
      "[CV] END .....................C=100, gamma=0.001, kernel=rbf; total time=   0.0s\n",
      "[CV] END .....................C=100, gamma=0.001, kernel=rbf; total time=   0.0s\n",
      "[CV] END .....................C=100, gamma=0.001, kernel=rbf; total time=   0.0s\n",
      "[CV] END .....................C=100, gamma=0.001, kernel=rbf; total time=   0.0s\n",
      "[CV] END ....................C=100, gamma=0.0001, kernel=rbf; total time=   0.0s\n",
      "[CV] END ....................C=100, gamma=0.0001, kernel=rbf; total time=   0.0s\n",
      "[CV] END ....................C=100, gamma=0.0001, kernel=rbf; total time=   0.0s\n",
      "[CV] END ....................C=100, gamma=0.0001, kernel=rbf; total time=   0.0s\n"
     ]
    },
    {
     "data": {
      "text/html": [
       "<style>#sk-container-id-2 {color: black;}#sk-container-id-2 pre{padding: 0;}#sk-container-id-2 div.sk-toggleable {background-color: white;}#sk-container-id-2 label.sk-toggleable__label {cursor: pointer;display: block;width: 100%;margin-bottom: 0;padding: 0.3em;box-sizing: border-box;text-align: center;}#sk-container-id-2 label.sk-toggleable__label-arrow:before {content: \"▸\";float: left;margin-right: 0.25em;color: #696969;}#sk-container-id-2 label.sk-toggleable__label-arrow:hover:before {color: black;}#sk-container-id-2 div.sk-estimator:hover label.sk-toggleable__label-arrow:before {color: black;}#sk-container-id-2 div.sk-toggleable__content {max-height: 0;max-width: 0;overflow: hidden;text-align: left;background-color: #f0f8ff;}#sk-container-id-2 div.sk-toggleable__content pre {margin: 0.2em;color: black;border-radius: 0.25em;background-color: #f0f8ff;}#sk-container-id-2 input.sk-toggleable__control:checked~div.sk-toggleable__content {max-height: 200px;max-width: 100%;overflow: auto;}#sk-container-id-2 input.sk-toggleable__control:checked~label.sk-toggleable__label-arrow:before {content: \"▾\";}#sk-container-id-2 div.sk-estimator input.sk-toggleable__control:checked~label.sk-toggleable__label {background-color: #d4ebff;}#sk-container-id-2 div.sk-label input.sk-toggleable__control:checked~label.sk-toggleable__label {background-color: #d4ebff;}#sk-container-id-2 input.sk-hidden--visually {border: 0;clip: rect(1px 1px 1px 1px);clip: rect(1px, 1px, 1px, 1px);height: 1px;margin: -1px;overflow: hidden;padding: 0;position: absolute;width: 1px;}#sk-container-id-2 div.sk-estimator {font-family: monospace;background-color: #f0f8ff;border: 1px dotted black;border-radius: 0.25em;box-sizing: border-box;margin-bottom: 0.5em;}#sk-container-id-2 div.sk-estimator:hover {background-color: #d4ebff;}#sk-container-id-2 div.sk-parallel-item::after {content: \"\";width: 100%;border-bottom: 1px solid gray;flex-grow: 1;}#sk-container-id-2 div.sk-label:hover label.sk-toggleable__label {background-color: #d4ebff;}#sk-container-id-2 div.sk-serial::before {content: \"\";position: absolute;border-left: 1px solid gray;box-sizing: border-box;top: 0;bottom: 0;left: 50%;z-index: 0;}#sk-container-id-2 div.sk-serial {display: flex;flex-direction: column;align-items: center;background-color: white;padding-right: 0.2em;padding-left: 0.2em;position: relative;}#sk-container-id-2 div.sk-item {position: relative;z-index: 1;}#sk-container-id-2 div.sk-parallel {display: flex;align-items: stretch;justify-content: center;background-color: white;position: relative;}#sk-container-id-2 div.sk-item::before, #sk-container-id-2 div.sk-parallel-item::before {content: \"\";position: absolute;border-left: 1px solid gray;box-sizing: border-box;top: 0;bottom: 0;left: 50%;z-index: -1;}#sk-container-id-2 div.sk-parallel-item {display: flex;flex-direction: column;z-index: 1;position: relative;background-color: white;}#sk-container-id-2 div.sk-parallel-item:first-child::after {align-self: flex-end;width: 50%;}#sk-container-id-2 div.sk-parallel-item:last-child::after {align-self: flex-start;width: 50%;}#sk-container-id-2 div.sk-parallel-item:only-child::after {width: 0;}#sk-container-id-2 div.sk-dashed-wrapped {border: 1px dashed gray;margin: 0 0.4em 0.5em 0.4em;box-sizing: border-box;padding-bottom: 0.4em;background-color: white;}#sk-container-id-2 div.sk-label label {font-family: monospace;font-weight: bold;display: inline-block;line-height: 1.2em;}#sk-container-id-2 div.sk-label-container {text-align: center;}#sk-container-id-2 div.sk-container {/* jupyter's `normalize.less` sets `[hidden] { display: none; }` but bootstrap.min.css set `[hidden] { display: none !important; }` so we also need the `!important` here to be able to override the default hidden behavior on the sphinx rendered scikit-learn.org. See: https://github.com/scikit-learn/scikit-learn/issues/21755 */display: inline-block !important;position: relative;}#sk-container-id-2 div.sk-text-repr-fallback {display: none;}</style><div id=\"sk-container-id-2\" class=\"sk-top-container\"><div class=\"sk-text-repr-fallback\"><pre>GridSearchCV(cv=KFold(n_splits=4, random_state=42, shuffle=True),\n",
       "             estimator=SVC(),\n",
       "             param_grid={&#x27;C&#x27;: [0.5, 1, 10, 100],\n",
       "                         &#x27;gamma&#x27;: [&#x27;scale&#x27;, 1, 0.1, 0.01, 0.001, 0.0001],\n",
       "                         &#x27;kernel&#x27;: [&#x27;rbf&#x27;]},\n",
       "             scoring=&#x27;accuracy&#x27;, verbose=2)</pre><b>In a Jupyter environment, please rerun this cell to show the HTML representation or trust the notebook. <br />On GitHub, the HTML representation is unable to render, please try loading this page with nbviewer.org.</b></div><div class=\"sk-container\" hidden><div class=\"sk-item sk-dashed-wrapped\"><div class=\"sk-label-container\"><div class=\"sk-label sk-toggleable\"><input class=\"sk-toggleable__control sk-hidden--visually\" id=\"sk-estimator-id-4\" type=\"checkbox\" ><label for=\"sk-estimator-id-4\" class=\"sk-toggleable__label sk-toggleable__label-arrow\">GridSearchCV</label><div class=\"sk-toggleable__content\"><pre>GridSearchCV(cv=KFold(n_splits=4, random_state=42, shuffle=True),\n",
       "             estimator=SVC(),\n",
       "             param_grid={&#x27;C&#x27;: [0.5, 1, 10, 100],\n",
       "                         &#x27;gamma&#x27;: [&#x27;scale&#x27;, 1, 0.1, 0.01, 0.001, 0.0001],\n",
       "                         &#x27;kernel&#x27;: [&#x27;rbf&#x27;]},\n",
       "             scoring=&#x27;accuracy&#x27;, verbose=2)</pre></div></div></div><div class=\"sk-parallel\"><div class=\"sk-parallel-item\"><div class=\"sk-item\"><div class=\"sk-label-container\"><div class=\"sk-label sk-toggleable\"><input class=\"sk-toggleable__control sk-hidden--visually\" id=\"sk-estimator-id-5\" type=\"checkbox\" ><label for=\"sk-estimator-id-5\" class=\"sk-toggleable__label sk-toggleable__label-arrow\">estimator: SVC</label><div class=\"sk-toggleable__content\"><pre>SVC()</pre></div></div></div><div class=\"sk-serial\"><div class=\"sk-item\"><div class=\"sk-estimator sk-toggleable\"><input class=\"sk-toggleable__control sk-hidden--visually\" id=\"sk-estimator-id-6\" type=\"checkbox\" ><label for=\"sk-estimator-id-6\" class=\"sk-toggleable__label sk-toggleable__label-arrow\">SVC</label><div class=\"sk-toggleable__content\"><pre>SVC()</pre></div></div></div></div></div></div></div></div></div></div>"
      ],
      "text/plain": [
       "GridSearchCV(cv=KFold(n_splits=4, random_state=42, shuffle=True),\n",
       "             estimator=SVC(),\n",
       "             param_grid={'C': [0.5, 1, 10, 100],\n",
       "                         'gamma': ['scale', 1, 0.1, 0.01, 0.001, 0.0001],\n",
       "                         'kernel': ['rbf']},\n",
       "             scoring='accuracy', verbose=2)"
      ]
     },
     "execution_count": 25,
     "metadata": {},
     "output_type": "execute_result"
    }
   ],
   "source": [
    "param_grid = {\n",
    "    'C': [0.5, 1, 10, 100],\n",
    "    'gamma': ['scale', 1, 0.1, 0.01, 0.001, 0.0001],\n",
    "    'kernel': ['rbf']\n",
    "}\n",
    "\n",
    "grid_search = GridSearchCV(estimator= SVC(), param_grid=param_grid, scoring='accuracy', cv= kf, verbose=2)\n",
    "grid_search.fit(pca_train_scaled,y_train)"
   ]
  },
  {
   "cell_type": "code",
   "execution_count": 27,
   "metadata": {},
   "outputs": [
    {
     "name": "stdout",
     "output_type": "stream",
     "text": [
      "Best Hyperparameters: {'C': 100, 'gamma': 0.001, 'kernel': 'rbf'}\n",
      "Best Cross-Validation Score: 0.8086\n"
     ]
    }
   ],
   "source": [
    "print(f\"Best Hyperparameters: {grid_search.best_params_}\")\n",
    "print(f\"Best Cross-Validation Score: {grid_search.best_score_:.4f}\")"
   ]
  },
  {
   "cell_type": "markdown",
   "metadata": {},
   "source": [
    "Reducing the data 2 most important dimensions for ease of plotting reduced the accuracy from 81.7% to 80.8%. This is because explained variance was not great for the second var. We can go on to plot the decision boundaries and visualise this but skipping it. How to do this is shown here:\n",
    "https://www.youtube.com/watch?v=8A7L0GsBiLQ&t=2104s"
   ]
  },
  {
   "cell_type": "markdown",
   "metadata": {},
   "source": [
    "### Reflections on Support Vector Machines:"
   ]
  },
  {
   "cell_type": "markdown",
   "metadata": {},
   "source": [
    "This technique is suited for cases where we wnat to accurately predict the output without caring much about how we got there (infinite dimensions in RBF). In this use case, however, SVM has an accuracy of 81.7% after tuning hyper parameters. This is worse than the accuracy from Random Forest (82.6%) and Logistic Regression (82.1%)"
   ]
  },
  {
   "cell_type": "markdown",
   "metadata": {},
   "source": [
    "## Gradient boosting"
   ]
  },
  {
   "cell_type": "markdown",
   "metadata": {},
   "source": [
    "### Fit the model"
   ]
  },
  {
   "cell_type": "code",
   "execution_count": 46,
   "metadata": {},
   "outputs": [
    {
     "data": {
      "text/html": [
       "<style>#sk-container-id-9 {color: black;}#sk-container-id-9 pre{padding: 0;}#sk-container-id-9 div.sk-toggleable {background-color: white;}#sk-container-id-9 label.sk-toggleable__label {cursor: pointer;display: block;width: 100%;margin-bottom: 0;padding: 0.3em;box-sizing: border-box;text-align: center;}#sk-container-id-9 label.sk-toggleable__label-arrow:before {content: \"▸\";float: left;margin-right: 0.25em;color: #696969;}#sk-container-id-9 label.sk-toggleable__label-arrow:hover:before {color: black;}#sk-container-id-9 div.sk-estimator:hover label.sk-toggleable__label-arrow:before {color: black;}#sk-container-id-9 div.sk-toggleable__content {max-height: 0;max-width: 0;overflow: hidden;text-align: left;background-color: #f0f8ff;}#sk-container-id-9 div.sk-toggleable__content pre {margin: 0.2em;color: black;border-radius: 0.25em;background-color: #f0f8ff;}#sk-container-id-9 input.sk-toggleable__control:checked~div.sk-toggleable__content {max-height: 200px;max-width: 100%;overflow: auto;}#sk-container-id-9 input.sk-toggleable__control:checked~label.sk-toggleable__label-arrow:before {content: \"▾\";}#sk-container-id-9 div.sk-estimator input.sk-toggleable__control:checked~label.sk-toggleable__label {background-color: #d4ebff;}#sk-container-id-9 div.sk-label input.sk-toggleable__control:checked~label.sk-toggleable__label {background-color: #d4ebff;}#sk-container-id-9 input.sk-hidden--visually {border: 0;clip: rect(1px 1px 1px 1px);clip: rect(1px, 1px, 1px, 1px);height: 1px;margin: -1px;overflow: hidden;padding: 0;position: absolute;width: 1px;}#sk-container-id-9 div.sk-estimator {font-family: monospace;background-color: #f0f8ff;border: 1px dotted black;border-radius: 0.25em;box-sizing: border-box;margin-bottom: 0.5em;}#sk-container-id-9 div.sk-estimator:hover {background-color: #d4ebff;}#sk-container-id-9 div.sk-parallel-item::after {content: \"\";width: 100%;border-bottom: 1px solid gray;flex-grow: 1;}#sk-container-id-9 div.sk-label:hover label.sk-toggleable__label {background-color: #d4ebff;}#sk-container-id-9 div.sk-serial::before {content: \"\";position: absolute;border-left: 1px solid gray;box-sizing: border-box;top: 0;bottom: 0;left: 50%;z-index: 0;}#sk-container-id-9 div.sk-serial {display: flex;flex-direction: column;align-items: center;background-color: white;padding-right: 0.2em;padding-left: 0.2em;position: relative;}#sk-container-id-9 div.sk-item {position: relative;z-index: 1;}#sk-container-id-9 div.sk-parallel {display: flex;align-items: stretch;justify-content: center;background-color: white;position: relative;}#sk-container-id-9 div.sk-item::before, #sk-container-id-9 div.sk-parallel-item::before {content: \"\";position: absolute;border-left: 1px solid gray;box-sizing: border-box;top: 0;bottom: 0;left: 50%;z-index: -1;}#sk-container-id-9 div.sk-parallel-item {display: flex;flex-direction: column;z-index: 1;position: relative;background-color: white;}#sk-container-id-9 div.sk-parallel-item:first-child::after {align-self: flex-end;width: 50%;}#sk-container-id-9 div.sk-parallel-item:last-child::after {align-self: flex-start;width: 50%;}#sk-container-id-9 div.sk-parallel-item:only-child::after {width: 0;}#sk-container-id-9 div.sk-dashed-wrapped {border: 1px dashed gray;margin: 0 0.4em 0.5em 0.4em;box-sizing: border-box;padding-bottom: 0.4em;background-color: white;}#sk-container-id-9 div.sk-label label {font-family: monospace;font-weight: bold;display: inline-block;line-height: 1.2em;}#sk-container-id-9 div.sk-label-container {text-align: center;}#sk-container-id-9 div.sk-container {/* jupyter's `normalize.less` sets `[hidden] { display: none; }` but bootstrap.min.css set `[hidden] { display: none !important; }` so we also need the `!important` here to be able to override the default hidden behavior on the sphinx rendered scikit-learn.org. See: https://github.com/scikit-learn/scikit-learn/issues/21755 */display: inline-block !important;position: relative;}#sk-container-id-9 div.sk-text-repr-fallback {display: none;}</style><div id=\"sk-container-id-9\" class=\"sk-top-container\"><div class=\"sk-text-repr-fallback\"><pre>Pipeline(steps=[(&#x27;imputer&#x27;, KNNImputer(n_neighbors=3)),\n",
       "                (&#x27;scaler&#x27;, StandardScaler()),\n",
       "                (&#x27;classifier&#x27;, GradientBoostingClassifier(random_state=42))])</pre><b>In a Jupyter environment, please rerun this cell to show the HTML representation or trust the notebook. <br />On GitHub, the HTML representation is unable to render, please try loading this page with nbviewer.org.</b></div><div class=\"sk-container\" hidden><div class=\"sk-item sk-dashed-wrapped\"><div class=\"sk-label-container\"><div class=\"sk-label sk-toggleable\"><input class=\"sk-toggleable__control sk-hidden--visually\" id=\"sk-estimator-id-35\" type=\"checkbox\" ><label for=\"sk-estimator-id-35\" class=\"sk-toggleable__label sk-toggleable__label-arrow\">Pipeline</label><div class=\"sk-toggleable__content\"><pre>Pipeline(steps=[(&#x27;imputer&#x27;, KNNImputer(n_neighbors=3)),\n",
       "                (&#x27;scaler&#x27;, StandardScaler()),\n",
       "                (&#x27;classifier&#x27;, GradientBoostingClassifier(random_state=42))])</pre></div></div></div><div class=\"sk-serial\"><div class=\"sk-item\"><div class=\"sk-estimator sk-toggleable\"><input class=\"sk-toggleable__control sk-hidden--visually\" id=\"sk-estimator-id-36\" type=\"checkbox\" ><label for=\"sk-estimator-id-36\" class=\"sk-toggleable__label sk-toggleable__label-arrow\">KNNImputer</label><div class=\"sk-toggleable__content\"><pre>KNNImputer(n_neighbors=3)</pre></div></div></div><div class=\"sk-item\"><div class=\"sk-estimator sk-toggleable\"><input class=\"sk-toggleable__control sk-hidden--visually\" id=\"sk-estimator-id-37\" type=\"checkbox\" ><label for=\"sk-estimator-id-37\" class=\"sk-toggleable__label sk-toggleable__label-arrow\">StandardScaler</label><div class=\"sk-toggleable__content\"><pre>StandardScaler()</pre></div></div></div><div class=\"sk-item\"><div class=\"sk-estimator sk-toggleable\"><input class=\"sk-toggleable__control sk-hidden--visually\" id=\"sk-estimator-id-38\" type=\"checkbox\" ><label for=\"sk-estimator-id-38\" class=\"sk-toggleable__label sk-toggleable__label-arrow\">GradientBoostingClassifier</label><div class=\"sk-toggleable__content\"><pre>GradientBoostingClassifier(random_state=42)</pre></div></div></div></div></div></div></div>"
      ],
      "text/plain": [
       "Pipeline(steps=[('imputer', KNNImputer(n_neighbors=3)),\n",
       "                ('scaler', StandardScaler()),\n",
       "                ('classifier', GradientBoostingClassifier(random_state=42))])"
      ]
     },
     "execution_count": 46,
     "metadata": {},
     "output_type": "execute_result"
    }
   ],
   "source": [
    "gb_clf = GradientBoostingClassifier(n_estimators=100, learning_rate=0.1, max_depth=3, random_state=42)\n",
    "pipeline = Pipeline(steps = [('imputer', imputer), ('scaler', scaler), ('classifier', gb_clf)])\n",
    "pipeline.fit(x_train, y_train)"
   ]
  },
  {
   "cell_type": "code",
   "execution_count": 47,
   "metadata": {},
   "outputs": [
    {
     "data": {
      "text/plain": [
       "(0.936231884057971, 0.8043478260869565)"
      ]
     },
     "execution_count": 47,
     "metadata": {},
     "output_type": "execute_result"
    }
   ],
   "source": [
    "y_pred_gb = pipeline.predict(x_test)\n",
    "accuracy_gb_test = accuracy_score(y_test, y_pred_gb)\n",
    "\n",
    "y_pred_gb = pipeline.predict(x_train)\n",
    "accuracy_gb_train = accuracy_score(y_train, y_pred_gb)\n",
    "\n",
    "accuracy_gb_train, accuracy_gb_test"
   ]
  },
  {
   "cell_type": "markdown",
   "metadata": {},
   "source": [
    "### Tune the model"
   ]
  },
  {
   "cell_type": "code",
   "execution_count": 48,
   "metadata": {
    "scrolled": true
   },
   "outputs": [
    {
     "name": "stdout",
     "output_type": "stream",
     "text": [
      "Fitting 4 folds for each of 100 candidates, totalling 400 fits\n",
      "[CV] END classifier__learning_rate=1, classifier__max_depth=2, classifier__n_estimators=10; total time=   0.0s\n",
      "[CV] END classifier__learning_rate=1, classifier__max_depth=2, classifier__n_estimators=10; total time=   0.0s\n",
      "[CV] END classifier__learning_rate=1, classifier__max_depth=2, classifier__n_estimators=10; total time=   0.0s\n",
      "[CV] END classifier__learning_rate=1, classifier__max_depth=2, classifier__n_estimators=10; total time=   0.0s\n",
      "[CV] END classifier__learning_rate=1, classifier__max_depth=2, classifier__n_estimators=20; total time=   0.0s\n",
      "[CV] END classifier__learning_rate=1, classifier__max_depth=2, classifier__n_estimators=20; total time=   0.0s\n",
      "[CV] END classifier__learning_rate=1, classifier__max_depth=2, classifier__n_estimators=20; total time=   0.0s\n",
      "[CV] END classifier__learning_rate=1, classifier__max_depth=2, classifier__n_estimators=20; total time=   0.0s\n",
      "[CV] END classifier__learning_rate=1, classifier__max_depth=2, classifier__n_estimators=50; total time=   0.0s\n",
      "[CV] END classifier__learning_rate=1, classifier__max_depth=2, classifier__n_estimators=50; total time=   0.0s\n",
      "[CV] END classifier__learning_rate=1, classifier__max_depth=2, classifier__n_estimators=50; total time=   0.0s\n",
      "[CV] END classifier__learning_rate=1, classifier__max_depth=2, classifier__n_estimators=50; total time=   0.0s\n",
      "[CV] END classifier__learning_rate=1, classifier__max_depth=2, classifier__n_estimators=100; total time=   0.1s\n",
      "[CV] END classifier__learning_rate=1, classifier__max_depth=2, classifier__n_estimators=100; total time=   0.1s\n",
      "[CV] END classifier__learning_rate=1, classifier__max_depth=2, classifier__n_estimators=100; total time=   0.1s\n",
      "[CV] END classifier__learning_rate=1, classifier__max_depth=2, classifier__n_estimators=100; total time=   0.1s\n",
      "[CV] END classifier__learning_rate=1, classifier__max_depth=2, classifier__n_estimators=150; total time=   0.1s\n",
      "[CV] END classifier__learning_rate=1, classifier__max_depth=2, classifier__n_estimators=150; total time=   0.1s\n",
      "[CV] END classifier__learning_rate=1, classifier__max_depth=2, classifier__n_estimators=150; total time=   0.1s\n",
      "[CV] END classifier__learning_rate=1, classifier__max_depth=2, classifier__n_estimators=150; total time=   0.1s\n",
      "[CV] END classifier__learning_rate=1, classifier__max_depth=3, classifier__n_estimators=10; total time=   0.0s\n",
      "[CV] END classifier__learning_rate=1, classifier__max_depth=3, classifier__n_estimators=10; total time=   0.0s\n",
      "[CV] END classifier__learning_rate=1, classifier__max_depth=3, classifier__n_estimators=10; total time=   0.0s\n",
      "[CV] END classifier__learning_rate=1, classifier__max_depth=3, classifier__n_estimators=10; total time=   0.0s\n",
      "[CV] END classifier__learning_rate=1, classifier__max_depth=3, classifier__n_estimators=20; total time=   0.0s\n",
      "[CV] END classifier__learning_rate=1, classifier__max_depth=3, classifier__n_estimators=20; total time=   0.0s\n",
      "[CV] END classifier__learning_rate=1, classifier__max_depth=3, classifier__n_estimators=20; total time=   0.0s\n",
      "[CV] END classifier__learning_rate=1, classifier__max_depth=3, classifier__n_estimators=20; total time=   0.0s\n",
      "[CV] END classifier__learning_rate=1, classifier__max_depth=3, classifier__n_estimators=50; total time=   0.0s\n",
      "[CV] END classifier__learning_rate=1, classifier__max_depth=3, classifier__n_estimators=50; total time=   0.0s\n",
      "[CV] END classifier__learning_rate=1, classifier__max_depth=3, classifier__n_estimators=50; total time=   0.0s\n",
      "[CV] END classifier__learning_rate=1, classifier__max_depth=3, classifier__n_estimators=50; total time=   0.0s\n",
      "[CV] END classifier__learning_rate=1, classifier__max_depth=3, classifier__n_estimators=100; total time=   0.1s\n",
      "[CV] END classifier__learning_rate=1, classifier__max_depth=3, classifier__n_estimators=100; total time=   0.1s\n",
      "[CV] END classifier__learning_rate=1, classifier__max_depth=3, classifier__n_estimators=100; total time=   0.1s\n",
      "[CV] END classifier__learning_rate=1, classifier__max_depth=3, classifier__n_estimators=100; total time=   0.1s\n",
      "[CV] END classifier__learning_rate=1, classifier__max_depth=3, classifier__n_estimators=150; total time=   0.2s\n",
      "[CV] END classifier__learning_rate=1, classifier__max_depth=3, classifier__n_estimators=150; total time=   0.2s\n",
      "[CV] END classifier__learning_rate=1, classifier__max_depth=3, classifier__n_estimators=150; total time=   0.2s\n",
      "[CV] END classifier__learning_rate=1, classifier__max_depth=3, classifier__n_estimators=150; total time=   0.2s\n",
      "[CV] END classifier__learning_rate=1, classifier__max_depth=4, classifier__n_estimators=10; total time=   0.0s\n",
      "[CV] END classifier__learning_rate=1, classifier__max_depth=4, classifier__n_estimators=10; total time=   0.0s\n",
      "[CV] END classifier__learning_rate=1, classifier__max_depth=4, classifier__n_estimators=10; total time=   0.0s\n",
      "[CV] END classifier__learning_rate=1, classifier__max_depth=4, classifier__n_estimators=10; total time=   0.0s\n",
      "[CV] END classifier__learning_rate=1, classifier__max_depth=4, classifier__n_estimators=20; total time=   0.0s\n",
      "[CV] END classifier__learning_rate=1, classifier__max_depth=4, classifier__n_estimators=20; total time=   0.0s\n",
      "[CV] END classifier__learning_rate=1, classifier__max_depth=4, classifier__n_estimators=20; total time=   0.0s\n",
      "[CV] END classifier__learning_rate=1, classifier__max_depth=4, classifier__n_estimators=20; total time=   0.0s\n",
      "[CV] END classifier__learning_rate=1, classifier__max_depth=4, classifier__n_estimators=50; total time=   0.1s\n",
      "[CV] END classifier__learning_rate=1, classifier__max_depth=4, classifier__n_estimators=50; total time=   0.1s\n",
      "[CV] END classifier__learning_rate=1, classifier__max_depth=4, classifier__n_estimators=50; total time=   0.1s\n",
      "[CV] END classifier__learning_rate=1, classifier__max_depth=4, classifier__n_estimators=50; total time=   0.1s\n",
      "[CV] END classifier__learning_rate=1, classifier__max_depth=4, classifier__n_estimators=100; total time=   0.2s\n",
      "[CV] END classifier__learning_rate=1, classifier__max_depth=4, classifier__n_estimators=100; total time=   0.2s\n",
      "[CV] END classifier__learning_rate=1, classifier__max_depth=4, classifier__n_estimators=100; total time=   0.2s\n",
      "[CV] END classifier__learning_rate=1, classifier__max_depth=4, classifier__n_estimators=100; total time=   0.2s\n",
      "[CV] END classifier__learning_rate=1, classifier__max_depth=4, classifier__n_estimators=150; total time=   0.3s\n",
      "[CV] END classifier__learning_rate=1, classifier__max_depth=4, classifier__n_estimators=150; total time=   0.3s\n",
      "[CV] END classifier__learning_rate=1, classifier__max_depth=4, classifier__n_estimators=150; total time=   0.3s\n",
      "[CV] END classifier__learning_rate=1, classifier__max_depth=4, classifier__n_estimators=150; total time=   0.3s\n",
      "[CV] END classifier__learning_rate=1, classifier__max_depth=5, classifier__n_estimators=10; total time=   0.0s\n",
      "[CV] END classifier__learning_rate=1, classifier__max_depth=5, classifier__n_estimators=10; total time=   0.0s\n",
      "[CV] END classifier__learning_rate=1, classifier__max_depth=5, classifier__n_estimators=10; total time=   0.0s\n",
      "[CV] END classifier__learning_rate=1, classifier__max_depth=5, classifier__n_estimators=10; total time=   0.0s\n",
      "[CV] END classifier__learning_rate=1, classifier__max_depth=5, classifier__n_estimators=20; total time=   0.0s\n",
      "[CV] END classifier__learning_rate=1, classifier__max_depth=5, classifier__n_estimators=20; total time=   0.0s\n",
      "[CV] END classifier__learning_rate=1, classifier__max_depth=5, classifier__n_estimators=20; total time=   0.0s\n",
      "[CV] END classifier__learning_rate=1, classifier__max_depth=5, classifier__n_estimators=20; total time=   0.0s\n",
      "[CV] END classifier__learning_rate=1, classifier__max_depth=5, classifier__n_estimators=50; total time=   0.1s\n",
      "[CV] END classifier__learning_rate=1, classifier__max_depth=5, classifier__n_estimators=50; total time=   0.1s\n",
      "[CV] END classifier__learning_rate=1, classifier__max_depth=5, classifier__n_estimators=50; total time=   0.1s\n",
      "[CV] END classifier__learning_rate=1, classifier__max_depth=5, classifier__n_estimators=50; total time=   0.1s\n",
      "[CV] END classifier__learning_rate=1, classifier__max_depth=5, classifier__n_estimators=100; total time=   0.3s\n",
      "[CV] END classifier__learning_rate=1, classifier__max_depth=5, classifier__n_estimators=100; total time=   0.3s\n"
     ]
    },
    {
     "name": "stdout",
     "output_type": "stream",
     "text": [
      "[CV] END classifier__learning_rate=1, classifier__max_depth=5, classifier__n_estimators=100; total time=   0.3s\n",
      "[CV] END classifier__learning_rate=1, classifier__max_depth=5, classifier__n_estimators=100; total time=   0.3s\n",
      "[CV] END classifier__learning_rate=1, classifier__max_depth=5, classifier__n_estimators=150; total time=   0.3s\n",
      "[CV] END classifier__learning_rate=1, classifier__max_depth=5, classifier__n_estimators=150; total time=   0.3s\n",
      "[CV] END classifier__learning_rate=1, classifier__max_depth=5, classifier__n_estimators=150; total time=   0.3s\n",
      "[CV] END classifier__learning_rate=1, classifier__max_depth=5, classifier__n_estimators=150; total time=   0.4s\n",
      "[CV] END classifier__learning_rate=0.5, classifier__max_depth=2, classifier__n_estimators=10; total time=   0.0s\n",
      "[CV] END classifier__learning_rate=0.5, classifier__max_depth=2, classifier__n_estimators=10; total time=   0.0s\n",
      "[CV] END classifier__learning_rate=0.5, classifier__max_depth=2, classifier__n_estimators=10; total time=   0.0s\n",
      "[CV] END classifier__learning_rate=0.5, classifier__max_depth=2, classifier__n_estimators=10; total time=   0.0s\n",
      "[CV] END classifier__learning_rate=0.5, classifier__max_depth=2, classifier__n_estimators=20; total time=   0.0s\n",
      "[CV] END classifier__learning_rate=0.5, classifier__max_depth=2, classifier__n_estimators=20; total time=   0.0s\n",
      "[CV] END classifier__learning_rate=0.5, classifier__max_depth=2, classifier__n_estimators=20; total time=   0.0s\n",
      "[CV] END classifier__learning_rate=0.5, classifier__max_depth=2, classifier__n_estimators=20; total time=   0.0s\n",
      "[CV] END classifier__learning_rate=0.5, classifier__max_depth=2, classifier__n_estimators=50; total time=   0.0s\n",
      "[CV] END classifier__learning_rate=0.5, classifier__max_depth=2, classifier__n_estimators=50; total time=   0.0s\n",
      "[CV] END classifier__learning_rate=0.5, classifier__max_depth=2, classifier__n_estimators=50; total time=   0.0s\n",
      "[CV] END classifier__learning_rate=0.5, classifier__max_depth=2, classifier__n_estimators=50; total time=   0.0s\n",
      "[CV] END classifier__learning_rate=0.5, classifier__max_depth=2, classifier__n_estimators=100; total time=   0.1s\n",
      "[CV] END classifier__learning_rate=0.5, classifier__max_depth=2, classifier__n_estimators=100; total time=   0.1s\n",
      "[CV] END classifier__learning_rate=0.5, classifier__max_depth=2, classifier__n_estimators=100; total time=   0.1s\n",
      "[CV] END classifier__learning_rate=0.5, classifier__max_depth=2, classifier__n_estimators=100; total time=   0.0s\n",
      "[CV] END classifier__learning_rate=0.5, classifier__max_depth=2, classifier__n_estimators=150; total time=   0.1s\n",
      "[CV] END classifier__learning_rate=0.5, classifier__max_depth=2, classifier__n_estimators=150; total time=   0.2s\n",
      "[CV] END classifier__learning_rate=0.5, classifier__max_depth=2, classifier__n_estimators=150; total time=   0.1s\n",
      "[CV] END classifier__learning_rate=0.5, classifier__max_depth=2, classifier__n_estimators=150; total time=   0.2s\n",
      "[CV] END classifier__learning_rate=0.5, classifier__max_depth=3, classifier__n_estimators=10; total time=   0.0s\n",
      "[CV] END classifier__learning_rate=0.5, classifier__max_depth=3, classifier__n_estimators=10; total time=   0.0s\n",
      "[CV] END classifier__learning_rate=0.5, classifier__max_depth=3, classifier__n_estimators=10; total time=   0.0s\n",
      "[CV] END classifier__learning_rate=0.5, classifier__max_depth=3, classifier__n_estimators=10; total time=   0.0s\n",
      "[CV] END classifier__learning_rate=0.5, classifier__max_depth=3, classifier__n_estimators=20; total time=   0.0s\n",
      "[CV] END classifier__learning_rate=0.5, classifier__max_depth=3, classifier__n_estimators=20; total time=   0.0s\n",
      "[CV] END classifier__learning_rate=0.5, classifier__max_depth=3, classifier__n_estimators=20; total time=   0.0s\n",
      "[CV] END classifier__learning_rate=0.5, classifier__max_depth=3, classifier__n_estimators=20; total time=   0.0s\n",
      "[CV] END classifier__learning_rate=0.5, classifier__max_depth=3, classifier__n_estimators=50; total time=   0.0s\n",
      "[CV] END classifier__learning_rate=0.5, classifier__max_depth=3, classifier__n_estimators=50; total time=   0.0s\n",
      "[CV] END classifier__learning_rate=0.5, classifier__max_depth=3, classifier__n_estimators=50; total time=   0.0s\n",
      "[CV] END classifier__learning_rate=0.5, classifier__max_depth=3, classifier__n_estimators=50; total time=   0.0s\n",
      "[CV] END classifier__learning_rate=0.5, classifier__max_depth=3, classifier__n_estimators=100; total time=   0.1s\n",
      "[CV] END classifier__learning_rate=0.5, classifier__max_depth=3, classifier__n_estimators=100; total time=   0.1s\n",
      "[CV] END classifier__learning_rate=0.5, classifier__max_depth=3, classifier__n_estimators=100; total time=   0.1s\n",
      "[CV] END classifier__learning_rate=0.5, classifier__max_depth=3, classifier__n_estimators=100; total time=   0.1s\n",
      "[CV] END classifier__learning_rate=0.5, classifier__max_depth=3, classifier__n_estimators=150; total time=   0.2s\n",
      "[CV] END classifier__learning_rate=0.5, classifier__max_depth=3, classifier__n_estimators=150; total time=   0.2s\n",
      "[CV] END classifier__learning_rate=0.5, classifier__max_depth=3, classifier__n_estimators=150; total time=   0.2s\n",
      "[CV] END classifier__learning_rate=0.5, classifier__max_depth=3, classifier__n_estimators=150; total time=   0.2s\n",
      "[CV] END classifier__learning_rate=0.5, classifier__max_depth=4, classifier__n_estimators=10; total time=   0.0s\n",
      "[CV] END classifier__learning_rate=0.5, classifier__max_depth=4, classifier__n_estimators=10; total time=   0.0s\n",
      "[CV] END classifier__learning_rate=0.5, classifier__max_depth=4, classifier__n_estimators=10; total time=   0.0s\n",
      "[CV] END classifier__learning_rate=0.5, classifier__max_depth=4, classifier__n_estimators=10; total time=   0.0s\n",
      "[CV] END classifier__learning_rate=0.5, classifier__max_depth=4, classifier__n_estimators=20; total time=   0.0s\n",
      "[CV] END classifier__learning_rate=0.5, classifier__max_depth=4, classifier__n_estimators=20; total time=   0.0s\n",
      "[CV] END classifier__learning_rate=0.5, classifier__max_depth=4, classifier__n_estimators=20; total time=   0.0s\n",
      "[CV] END classifier__learning_rate=0.5, classifier__max_depth=4, classifier__n_estimators=20; total time=   0.0s\n",
      "[CV] END classifier__learning_rate=0.5, classifier__max_depth=4, classifier__n_estimators=50; total time=   0.0s\n",
      "[CV] END classifier__learning_rate=0.5, classifier__max_depth=4, classifier__n_estimators=50; total time=   0.1s\n",
      "[CV] END classifier__learning_rate=0.5, classifier__max_depth=4, classifier__n_estimators=50; total time=   0.1s\n",
      "[CV] END classifier__learning_rate=0.5, classifier__max_depth=4, classifier__n_estimators=50; total time=   0.1s\n",
      "[CV] END classifier__learning_rate=0.5, classifier__max_depth=4, classifier__n_estimators=100; total time=   0.2s\n",
      "[CV] END classifier__learning_rate=0.5, classifier__max_depth=4, classifier__n_estimators=100; total time=   0.2s\n",
      "[CV] END classifier__learning_rate=0.5, classifier__max_depth=4, classifier__n_estimators=100; total time=   0.2s\n",
      "[CV] END classifier__learning_rate=0.5, classifier__max_depth=4, classifier__n_estimators=100; total time=   0.2s\n",
      "[CV] END classifier__learning_rate=0.5, classifier__max_depth=4, classifier__n_estimators=150; total time=   0.3s\n",
      "[CV] END classifier__learning_rate=0.5, classifier__max_depth=4, classifier__n_estimators=150; total time=   0.3s\n",
      "[CV] END classifier__learning_rate=0.5, classifier__max_depth=4, classifier__n_estimators=150; total time=   0.3s\n",
      "[CV] END classifier__learning_rate=0.5, classifier__max_depth=4, classifier__n_estimators=150; total time=   0.3s\n",
      "[CV] END classifier__learning_rate=0.5, classifier__max_depth=5, classifier__n_estimators=10; total time=   0.0s\n",
      "[CV] END classifier__learning_rate=0.5, classifier__max_depth=5, classifier__n_estimators=10; total time=   0.0s\n",
      "[CV] END classifier__learning_rate=0.5, classifier__max_depth=5, classifier__n_estimators=10; total time=   0.0s\n",
      "[CV] END classifier__learning_rate=0.5, classifier__max_depth=5, classifier__n_estimators=10; total time=   0.0s\n",
      "[CV] END classifier__learning_rate=0.5, classifier__max_depth=5, classifier__n_estimators=20; total time=   0.0s\n",
      "[CV] END classifier__learning_rate=0.5, classifier__max_depth=5, classifier__n_estimators=20; total time=   0.0s\n"
     ]
    },
    {
     "name": "stdout",
     "output_type": "stream",
     "text": [
      "[CV] END classifier__learning_rate=0.5, classifier__max_depth=5, classifier__n_estimators=20; total time=   0.0s\n",
      "[CV] END classifier__learning_rate=0.5, classifier__max_depth=5, classifier__n_estimators=20; total time=   0.0s\n",
      "[CV] END classifier__learning_rate=0.5, classifier__max_depth=5, classifier__n_estimators=50; total time=   0.1s\n",
      "[CV] END classifier__learning_rate=0.5, classifier__max_depth=5, classifier__n_estimators=50; total time=   0.1s\n",
      "[CV] END classifier__learning_rate=0.5, classifier__max_depth=5, classifier__n_estimators=50; total time=   0.1s\n",
      "[CV] END classifier__learning_rate=0.5, classifier__max_depth=5, classifier__n_estimators=50; total time=   0.1s\n",
      "[CV] END classifier__learning_rate=0.5, classifier__max_depth=5, classifier__n_estimators=100; total time=   0.3s\n",
      "[CV] END classifier__learning_rate=0.5, classifier__max_depth=5, classifier__n_estimators=100; total time=   0.3s\n",
      "[CV] END classifier__learning_rate=0.5, classifier__max_depth=5, classifier__n_estimators=100; total time=   0.3s\n",
      "[CV] END classifier__learning_rate=0.5, classifier__max_depth=5, classifier__n_estimators=100; total time=   0.3s\n",
      "[CV] END classifier__learning_rate=0.5, classifier__max_depth=5, classifier__n_estimators=150; total time=   0.4s\n",
      "[CV] END classifier__learning_rate=0.5, classifier__max_depth=5, classifier__n_estimators=150; total time=   0.4s\n",
      "[CV] END classifier__learning_rate=0.5, classifier__max_depth=5, classifier__n_estimators=150; total time=   0.5s\n",
      "[CV] END classifier__learning_rate=0.5, classifier__max_depth=5, classifier__n_estimators=150; total time=   0.4s\n",
      "[CV] END classifier__learning_rate=0.1, classifier__max_depth=2, classifier__n_estimators=10; total time=   0.0s\n",
      "[CV] END classifier__learning_rate=0.1, classifier__max_depth=2, classifier__n_estimators=10; total time=   0.0s\n",
      "[CV] END classifier__learning_rate=0.1, classifier__max_depth=2, classifier__n_estimators=10; total time=   0.0s\n",
      "[CV] END classifier__learning_rate=0.1, classifier__max_depth=2, classifier__n_estimators=10; total time=   0.0s\n",
      "[CV] END classifier__learning_rate=0.1, classifier__max_depth=2, classifier__n_estimators=20; total time=   0.0s\n",
      "[CV] END classifier__learning_rate=0.1, classifier__max_depth=2, classifier__n_estimators=20; total time=   0.0s\n",
      "[CV] END classifier__learning_rate=0.1, classifier__max_depth=2, classifier__n_estimators=20; total time=   0.0s\n",
      "[CV] END classifier__learning_rate=0.1, classifier__max_depth=2, classifier__n_estimators=20; total time=   0.0s\n",
      "[CV] END classifier__learning_rate=0.1, classifier__max_depth=2, classifier__n_estimators=50; total time=   0.0s\n",
      "[CV] END classifier__learning_rate=0.1, classifier__max_depth=2, classifier__n_estimators=50; total time=   0.0s\n",
      "[CV] END classifier__learning_rate=0.1, classifier__max_depth=2, classifier__n_estimators=50; total time=   0.0s\n",
      "[CV] END classifier__learning_rate=0.1, classifier__max_depth=2, classifier__n_estimators=50; total time=   0.0s\n",
      "[CV] END classifier__learning_rate=0.1, classifier__max_depth=2, classifier__n_estimators=100; total time=   0.0s\n",
      "[CV] END classifier__learning_rate=0.1, classifier__max_depth=2, classifier__n_estimators=100; total time=   0.1s\n",
      "[CV] END classifier__learning_rate=0.1, classifier__max_depth=2, classifier__n_estimators=100; total time=   0.1s\n",
      "[CV] END classifier__learning_rate=0.1, classifier__max_depth=2, classifier__n_estimators=100; total time=   0.1s\n",
      "[CV] END classifier__learning_rate=0.1, classifier__max_depth=2, classifier__n_estimators=150; total time=   0.2s\n",
      "[CV] END classifier__learning_rate=0.1, classifier__max_depth=2, classifier__n_estimators=150; total time=   0.1s\n",
      "[CV] END classifier__learning_rate=0.1, classifier__max_depth=2, classifier__n_estimators=150; total time=   0.1s\n",
      "[CV] END classifier__learning_rate=0.1, classifier__max_depth=2, classifier__n_estimators=150; total time=   0.1s\n",
      "[CV] END classifier__learning_rate=0.1, classifier__max_depth=3, classifier__n_estimators=10; total time=   0.0s\n",
      "[CV] END classifier__learning_rate=0.1, classifier__max_depth=3, classifier__n_estimators=10; total time=   0.0s\n",
      "[CV] END classifier__learning_rate=0.1, classifier__max_depth=3, classifier__n_estimators=10; total time=   0.0s\n",
      "[CV] END classifier__learning_rate=0.1, classifier__max_depth=3, classifier__n_estimators=10; total time=   0.0s\n",
      "[CV] END classifier__learning_rate=0.1, classifier__max_depth=3, classifier__n_estimators=20; total time=   0.0s\n",
      "[CV] END classifier__learning_rate=0.1, classifier__max_depth=3, classifier__n_estimators=20; total time=   0.0s\n",
      "[CV] END classifier__learning_rate=0.1, classifier__max_depth=3, classifier__n_estimators=20; total time=   0.0s\n",
      "[CV] END classifier__learning_rate=0.1, classifier__max_depth=3, classifier__n_estimators=20; total time=   0.0s\n",
      "[CV] END classifier__learning_rate=0.1, classifier__max_depth=3, classifier__n_estimators=50; total time=   0.0s\n",
      "[CV] END classifier__learning_rate=0.1, classifier__max_depth=3, classifier__n_estimators=50; total time=   0.1s\n",
      "[CV] END classifier__learning_rate=0.1, classifier__max_depth=3, classifier__n_estimators=50; total time=   0.0s\n",
      "[CV] END classifier__learning_rate=0.1, classifier__max_depth=3, classifier__n_estimators=50; total time=   0.0s\n",
      "[CV] END classifier__learning_rate=0.1, classifier__max_depth=3, classifier__n_estimators=100; total time=   0.2s\n",
      "[CV] END classifier__learning_rate=0.1, classifier__max_depth=3, classifier__n_estimators=100; total time=   0.1s\n",
      "[CV] END classifier__learning_rate=0.1, classifier__max_depth=3, classifier__n_estimators=100; total time=   0.1s\n",
      "[CV] END classifier__learning_rate=0.1, classifier__max_depth=3, classifier__n_estimators=100; total time=   0.1s\n",
      "[CV] END classifier__learning_rate=0.1, classifier__max_depth=3, classifier__n_estimators=150; total time=   0.2s\n",
      "[CV] END classifier__learning_rate=0.1, classifier__max_depth=3, classifier__n_estimators=150; total time=   0.2s\n",
      "[CV] END classifier__learning_rate=0.1, classifier__max_depth=3, classifier__n_estimators=150; total time=   0.2s\n",
      "[CV] END classifier__learning_rate=0.1, classifier__max_depth=3, classifier__n_estimators=150; total time=   0.2s\n",
      "[CV] END classifier__learning_rate=0.1, classifier__max_depth=4, classifier__n_estimators=10; total time=   0.0s\n",
      "[CV] END classifier__learning_rate=0.1, classifier__max_depth=4, classifier__n_estimators=10; total time=   0.0s\n",
      "[CV] END classifier__learning_rate=0.1, classifier__max_depth=4, classifier__n_estimators=10; total time=   0.0s\n",
      "[CV] END classifier__learning_rate=0.1, classifier__max_depth=4, classifier__n_estimators=10; total time=   0.0s\n",
      "[CV] END classifier__learning_rate=0.1, classifier__max_depth=4, classifier__n_estimators=20; total time=   0.0s\n",
      "[CV] END classifier__learning_rate=0.1, classifier__max_depth=4, classifier__n_estimators=20; total time=   0.0s\n",
      "[CV] END classifier__learning_rate=0.1, classifier__max_depth=4, classifier__n_estimators=20; total time=   0.0s\n",
      "[CV] END classifier__learning_rate=0.1, classifier__max_depth=4, classifier__n_estimators=20; total time=   0.0s\n",
      "[CV] END classifier__learning_rate=0.1, classifier__max_depth=4, classifier__n_estimators=50; total time=   0.1s\n",
      "[CV] END classifier__learning_rate=0.1, classifier__max_depth=4, classifier__n_estimators=50; total time=   0.1s\n",
      "[CV] END classifier__learning_rate=0.1, classifier__max_depth=4, classifier__n_estimators=50; total time=   0.1s\n",
      "[CV] END classifier__learning_rate=0.1, classifier__max_depth=4, classifier__n_estimators=50; total time=   0.1s\n",
      "[CV] END classifier__learning_rate=0.1, classifier__max_depth=4, classifier__n_estimators=100; total time=   0.2s\n",
      "[CV] END classifier__learning_rate=0.1, classifier__max_depth=4, classifier__n_estimators=100; total time=   0.2s\n",
      "[CV] END classifier__learning_rate=0.1, classifier__max_depth=4, classifier__n_estimators=100; total time=   0.2s\n",
      "[CV] END classifier__learning_rate=0.1, classifier__max_depth=4, classifier__n_estimators=100; total time=   0.2s\n",
      "[CV] END classifier__learning_rate=0.1, classifier__max_depth=4, classifier__n_estimators=150; total time=   0.4s\n",
      "[CV] END classifier__learning_rate=0.1, classifier__max_depth=4, classifier__n_estimators=150; total time=   0.3s\n",
      "[CV] END classifier__learning_rate=0.1, classifier__max_depth=4, classifier__n_estimators=150; total time=   0.3s\n"
     ]
    },
    {
     "name": "stdout",
     "output_type": "stream",
     "text": [
      "[CV] END classifier__learning_rate=0.1, classifier__max_depth=4, classifier__n_estimators=150; total time=   0.4s\n",
      "[CV] END classifier__learning_rate=0.1, classifier__max_depth=5, classifier__n_estimators=10; total time=   0.0s\n",
      "[CV] END classifier__learning_rate=0.1, classifier__max_depth=5, classifier__n_estimators=10; total time=   0.0s\n",
      "[CV] END classifier__learning_rate=0.1, classifier__max_depth=5, classifier__n_estimators=10; total time=   0.0s\n",
      "[CV] END classifier__learning_rate=0.1, classifier__max_depth=5, classifier__n_estimators=10; total time=   0.0s\n",
      "[CV] END classifier__learning_rate=0.1, classifier__max_depth=5, classifier__n_estimators=20; total time=   0.0s\n",
      "[CV] END classifier__learning_rate=0.1, classifier__max_depth=5, classifier__n_estimators=20; total time=   0.0s\n",
      "[CV] END classifier__learning_rate=0.1, classifier__max_depth=5, classifier__n_estimators=20; total time=   0.0s\n",
      "[CV] END classifier__learning_rate=0.1, classifier__max_depth=5, classifier__n_estimators=20; total time=   0.0s\n",
      "[CV] END classifier__learning_rate=0.1, classifier__max_depth=5, classifier__n_estimators=50; total time=   0.1s\n",
      "[CV] END classifier__learning_rate=0.1, classifier__max_depth=5, classifier__n_estimators=50; total time=   0.1s\n",
      "[CV] END classifier__learning_rate=0.1, classifier__max_depth=5, classifier__n_estimators=50; total time=   0.1s\n",
      "[CV] END classifier__learning_rate=0.1, classifier__max_depth=5, classifier__n_estimators=50; total time=   0.1s\n",
      "[CV] END classifier__learning_rate=0.1, classifier__max_depth=5, classifier__n_estimators=100; total time=   0.3s\n",
      "[CV] END classifier__learning_rate=0.1, classifier__max_depth=5, classifier__n_estimators=100; total time=   0.3s\n",
      "[CV] END classifier__learning_rate=0.1, classifier__max_depth=5, classifier__n_estimators=100; total time=   0.3s\n",
      "[CV] END classifier__learning_rate=0.1, classifier__max_depth=5, classifier__n_estimators=100; total time=   0.3s\n",
      "[CV] END classifier__learning_rate=0.1, classifier__max_depth=5, classifier__n_estimators=150; total time=   0.5s\n",
      "[CV] END classifier__learning_rate=0.1, classifier__max_depth=5, classifier__n_estimators=150; total time=   0.5s\n",
      "[CV] END classifier__learning_rate=0.1, classifier__max_depth=5, classifier__n_estimators=150; total time=   0.5s\n",
      "[CV] END classifier__learning_rate=0.1, classifier__max_depth=5, classifier__n_estimators=150; total time=   0.5s\n",
      "[CV] END classifier__learning_rate=0.01, classifier__max_depth=2, classifier__n_estimators=10; total time=   0.0s\n",
      "[CV] END classifier__learning_rate=0.01, classifier__max_depth=2, classifier__n_estimators=10; total time=   0.0s\n",
      "[CV] END classifier__learning_rate=0.01, classifier__max_depth=2, classifier__n_estimators=10; total time=   0.0s\n",
      "[CV] END classifier__learning_rate=0.01, classifier__max_depth=2, classifier__n_estimators=10; total time=   0.0s\n",
      "[CV] END classifier__learning_rate=0.01, classifier__max_depth=2, classifier__n_estimators=20; total time=   0.0s\n",
      "[CV] END classifier__learning_rate=0.01, classifier__max_depth=2, classifier__n_estimators=20; total time=   0.0s\n",
      "[CV] END classifier__learning_rate=0.01, classifier__max_depth=2, classifier__n_estimators=20; total time=   0.0s\n",
      "[CV] END classifier__learning_rate=0.01, classifier__max_depth=2, classifier__n_estimators=20; total time=   0.0s\n",
      "[CV] END classifier__learning_rate=0.01, classifier__max_depth=2, classifier__n_estimators=50; total time=   0.0s\n",
      "[CV] END classifier__learning_rate=0.01, classifier__max_depth=2, classifier__n_estimators=50; total time=   0.0s\n",
      "[CV] END classifier__learning_rate=0.01, classifier__max_depth=2, classifier__n_estimators=50; total time=   0.0s\n",
      "[CV] END classifier__learning_rate=0.01, classifier__max_depth=2, classifier__n_estimators=50; total time=   0.0s\n",
      "[CV] END classifier__learning_rate=0.01, classifier__max_depth=2, classifier__n_estimators=100; total time=   0.1s\n",
      "[CV] END classifier__learning_rate=0.01, classifier__max_depth=2, classifier__n_estimators=100; total time=   0.1s\n",
      "[CV] END classifier__learning_rate=0.01, classifier__max_depth=2, classifier__n_estimators=100; total time=   0.1s\n",
      "[CV] END classifier__learning_rate=0.01, classifier__max_depth=2, classifier__n_estimators=100; total time=   0.1s\n",
      "[CV] END classifier__learning_rate=0.01, classifier__max_depth=2, classifier__n_estimators=150; total time=   0.1s\n",
      "[CV] END classifier__learning_rate=0.01, classifier__max_depth=2, classifier__n_estimators=150; total time=   0.1s\n",
      "[CV] END classifier__learning_rate=0.01, classifier__max_depth=2, classifier__n_estimators=150; total time=   0.1s\n",
      "[CV] END classifier__learning_rate=0.01, classifier__max_depth=2, classifier__n_estimators=150; total time=   0.1s\n",
      "[CV] END classifier__learning_rate=0.01, classifier__max_depth=3, classifier__n_estimators=10; total time=   0.0s\n",
      "[CV] END classifier__learning_rate=0.01, classifier__max_depth=3, classifier__n_estimators=10; total time=   0.0s\n",
      "[CV] END classifier__learning_rate=0.01, classifier__max_depth=3, classifier__n_estimators=10; total time=   0.0s\n",
      "[CV] END classifier__learning_rate=0.01, classifier__max_depth=3, classifier__n_estimators=10; total time=   0.0s\n",
      "[CV] END classifier__learning_rate=0.01, classifier__max_depth=3, classifier__n_estimators=20; total time=   0.0s\n",
      "[CV] END classifier__learning_rate=0.01, classifier__max_depth=3, classifier__n_estimators=20; total time=   0.0s\n",
      "[CV] END classifier__learning_rate=0.01, classifier__max_depth=3, classifier__n_estimators=20; total time=   0.0s\n",
      "[CV] END classifier__learning_rate=0.01, classifier__max_depth=3, classifier__n_estimators=20; total time=   0.0s\n",
      "[CV] END classifier__learning_rate=0.01, classifier__max_depth=3, classifier__n_estimators=50; total time=   0.0s\n",
      "[CV] END classifier__learning_rate=0.01, classifier__max_depth=3, classifier__n_estimators=50; total time=   0.0s\n",
      "[CV] END classifier__learning_rate=0.01, classifier__max_depth=3, classifier__n_estimators=50; total time=   0.0s\n",
      "[CV] END classifier__learning_rate=0.01, classifier__max_depth=3, classifier__n_estimators=50; total time=   0.1s\n",
      "[CV] END classifier__learning_rate=0.01, classifier__max_depth=3, classifier__n_estimators=100; total time=   0.2s\n",
      "[CV] END classifier__learning_rate=0.01, classifier__max_depth=3, classifier__n_estimators=100; total time=   0.1s\n",
      "[CV] END classifier__learning_rate=0.01, classifier__max_depth=3, classifier__n_estimators=100; total time=   0.1s\n",
      "[CV] END classifier__learning_rate=0.01, classifier__max_depth=3, classifier__n_estimators=100; total time=   0.1s\n",
      "[CV] END classifier__learning_rate=0.01, classifier__max_depth=3, classifier__n_estimators=150; total time=   0.2s\n",
      "[CV] END classifier__learning_rate=0.01, classifier__max_depth=3, classifier__n_estimators=150; total time=   0.2s\n",
      "[CV] END classifier__learning_rate=0.01, classifier__max_depth=3, classifier__n_estimators=150; total time=   0.2s\n",
      "[CV] END classifier__learning_rate=0.01, classifier__max_depth=3, classifier__n_estimators=150; total time=   0.2s\n",
      "[CV] END classifier__learning_rate=0.01, classifier__max_depth=4, classifier__n_estimators=10; total time=   0.0s\n",
      "[CV] END classifier__learning_rate=0.01, classifier__max_depth=4, classifier__n_estimators=10; total time=   0.0s\n",
      "[CV] END classifier__learning_rate=0.01, classifier__max_depth=4, classifier__n_estimators=10; total time=   0.0s\n",
      "[CV] END classifier__learning_rate=0.01, classifier__max_depth=4, classifier__n_estimators=10; total time=   0.0s\n",
      "[CV] END classifier__learning_rate=0.01, classifier__max_depth=4, classifier__n_estimators=20; total time=   0.0s\n",
      "[CV] END classifier__learning_rate=0.01, classifier__max_depth=4, classifier__n_estimators=20; total time=   0.0s\n",
      "[CV] END classifier__learning_rate=0.01, classifier__max_depth=4, classifier__n_estimators=20; total time=   0.0s\n",
      "[CV] END classifier__learning_rate=0.01, classifier__max_depth=4, classifier__n_estimators=20; total time=   0.0s\n",
      "[CV] END classifier__learning_rate=0.01, classifier__max_depth=4, classifier__n_estimators=50; total time=   0.1s\n",
      "[CV] END classifier__learning_rate=0.01, classifier__max_depth=4, classifier__n_estimators=50; total time=   0.1s\n",
      "[CV] END classifier__learning_rate=0.01, classifier__max_depth=4, classifier__n_estimators=50; total time=   0.1s\n"
     ]
    },
    {
     "name": "stdout",
     "output_type": "stream",
     "text": [
      "[CV] END classifier__learning_rate=0.01, classifier__max_depth=4, classifier__n_estimators=50; total time=   0.1s\n",
      "[CV] END classifier__learning_rate=0.01, classifier__max_depth=4, classifier__n_estimators=100; total time=   0.2s\n",
      "[CV] END classifier__learning_rate=0.01, classifier__max_depth=4, classifier__n_estimators=100; total time=   0.2s\n",
      "[CV] END classifier__learning_rate=0.01, classifier__max_depth=4, classifier__n_estimators=100; total time=   0.2s\n",
      "[CV] END classifier__learning_rate=0.01, classifier__max_depth=4, classifier__n_estimators=100; total time=   0.2s\n",
      "[CV] END classifier__learning_rate=0.01, classifier__max_depth=4, classifier__n_estimators=150; total time=   0.4s\n",
      "[CV] END classifier__learning_rate=0.01, classifier__max_depth=4, classifier__n_estimators=150; total time=   0.4s\n",
      "[CV] END classifier__learning_rate=0.01, classifier__max_depth=4, classifier__n_estimators=150; total time=   0.4s\n",
      "[CV] END classifier__learning_rate=0.01, classifier__max_depth=4, classifier__n_estimators=150; total time=   0.4s\n",
      "[CV] END classifier__learning_rate=0.01, classifier__max_depth=5, classifier__n_estimators=10; total time=   0.0s\n",
      "[CV] END classifier__learning_rate=0.01, classifier__max_depth=5, classifier__n_estimators=10; total time=   0.0s\n",
      "[CV] END classifier__learning_rate=0.01, classifier__max_depth=5, classifier__n_estimators=10; total time=   0.0s\n",
      "[CV] END classifier__learning_rate=0.01, classifier__max_depth=5, classifier__n_estimators=10; total time=   0.0s\n",
      "[CV] END classifier__learning_rate=0.01, classifier__max_depth=5, classifier__n_estimators=20; total time=   0.0s\n",
      "[CV] END classifier__learning_rate=0.01, classifier__max_depth=5, classifier__n_estimators=20; total time=   0.0s\n",
      "[CV] END classifier__learning_rate=0.01, classifier__max_depth=5, classifier__n_estimators=20; total time=   0.0s\n",
      "[CV] END classifier__learning_rate=0.01, classifier__max_depth=5, classifier__n_estimators=20; total time=   0.0s\n",
      "[CV] END classifier__learning_rate=0.01, classifier__max_depth=5, classifier__n_estimators=50; total time=   0.1s\n",
      "[CV] END classifier__learning_rate=0.01, classifier__max_depth=5, classifier__n_estimators=50; total time=   0.2s\n",
      "[CV] END classifier__learning_rate=0.01, classifier__max_depth=5, classifier__n_estimators=50; total time=   0.1s\n",
      "[CV] END classifier__learning_rate=0.01, classifier__max_depth=5, classifier__n_estimators=50; total time=   0.1s\n",
      "[CV] END classifier__learning_rate=0.01, classifier__max_depth=5, classifier__n_estimators=100; total time=   0.3s\n",
      "[CV] END classifier__learning_rate=0.01, classifier__max_depth=5, classifier__n_estimators=100; total time=   0.4s\n",
      "[CV] END classifier__learning_rate=0.01, classifier__max_depth=5, classifier__n_estimators=100; total time=   0.3s\n",
      "[CV] END classifier__learning_rate=0.01, classifier__max_depth=5, classifier__n_estimators=100; total time=   0.3s\n",
      "[CV] END classifier__learning_rate=0.01, classifier__max_depth=5, classifier__n_estimators=150; total time=   0.5s\n",
      "[CV] END classifier__learning_rate=0.01, classifier__max_depth=5, classifier__n_estimators=150; total time=   0.5s\n",
      "[CV] END classifier__learning_rate=0.01, classifier__max_depth=5, classifier__n_estimators=150; total time=   0.5s\n",
      "[CV] END classifier__learning_rate=0.01, classifier__max_depth=5, classifier__n_estimators=150; total time=   0.5s\n",
      "[CV] END classifier__learning_rate=0.001, classifier__max_depth=2, classifier__n_estimators=10; total time=   0.0s\n",
      "[CV] END classifier__learning_rate=0.001, classifier__max_depth=2, classifier__n_estimators=10; total time=   0.0s\n",
      "[CV] END classifier__learning_rate=0.001, classifier__max_depth=2, classifier__n_estimators=10; total time=   0.0s\n",
      "[CV] END classifier__learning_rate=0.001, classifier__max_depth=2, classifier__n_estimators=10; total time=   0.0s\n",
      "[CV] END classifier__learning_rate=0.001, classifier__max_depth=2, classifier__n_estimators=20; total time=   0.0s\n",
      "[CV] END classifier__learning_rate=0.001, classifier__max_depth=2, classifier__n_estimators=20; total time=   0.0s\n",
      "[CV] END classifier__learning_rate=0.001, classifier__max_depth=2, classifier__n_estimators=20; total time=   0.0s\n",
      "[CV] END classifier__learning_rate=0.001, classifier__max_depth=2, classifier__n_estimators=20; total time=   0.0s\n",
      "[CV] END classifier__learning_rate=0.001, classifier__max_depth=2, classifier__n_estimators=50; total time=   0.0s\n",
      "[CV] END classifier__learning_rate=0.001, classifier__max_depth=2, classifier__n_estimators=50; total time=   0.0s\n",
      "[CV] END classifier__learning_rate=0.001, classifier__max_depth=2, classifier__n_estimators=50; total time=   0.0s\n",
      "[CV] END classifier__learning_rate=0.001, classifier__max_depth=2, classifier__n_estimators=50; total time=   0.0s\n",
      "[CV] END classifier__learning_rate=0.001, classifier__max_depth=2, classifier__n_estimators=100; total time=   0.1s\n",
      "[CV] END classifier__learning_rate=0.001, classifier__max_depth=2, classifier__n_estimators=100; total time=   0.1s\n",
      "[CV] END classifier__learning_rate=0.001, classifier__max_depth=2, classifier__n_estimators=100; total time=   0.1s\n",
      "[CV] END classifier__learning_rate=0.001, classifier__max_depth=2, classifier__n_estimators=100; total time=   0.1s\n",
      "[CV] END classifier__learning_rate=0.001, classifier__max_depth=2, classifier__n_estimators=150; total time=   0.1s\n",
      "[CV] END classifier__learning_rate=0.001, classifier__max_depth=2, classifier__n_estimators=150; total time=   0.2s\n",
      "[CV] END classifier__learning_rate=0.001, classifier__max_depth=2, classifier__n_estimators=150; total time=   0.1s\n",
      "[CV] END classifier__learning_rate=0.001, classifier__max_depth=2, classifier__n_estimators=150; total time=   0.1s\n",
      "[CV] END classifier__learning_rate=0.001, classifier__max_depth=3, classifier__n_estimators=10; total time=   0.0s\n",
      "[CV] END classifier__learning_rate=0.001, classifier__max_depth=3, classifier__n_estimators=10; total time=   0.0s\n",
      "[CV] END classifier__learning_rate=0.001, classifier__max_depth=3, classifier__n_estimators=10; total time=   0.0s\n",
      "[CV] END classifier__learning_rate=0.001, classifier__max_depth=3, classifier__n_estimators=10; total time=   0.0s\n",
      "[CV] END classifier__learning_rate=0.001, classifier__max_depth=3, classifier__n_estimators=20; total time=   0.0s\n",
      "[CV] END classifier__learning_rate=0.001, classifier__max_depth=3, classifier__n_estimators=20; total time=   0.0s\n",
      "[CV] END classifier__learning_rate=0.001, classifier__max_depth=3, classifier__n_estimators=20; total time=   0.0s\n",
      "[CV] END classifier__learning_rate=0.001, classifier__max_depth=3, classifier__n_estimators=20; total time=   0.0s\n",
      "[CV] END classifier__learning_rate=0.001, classifier__max_depth=3, classifier__n_estimators=50; total time=   0.0s\n",
      "[CV] END classifier__learning_rate=0.001, classifier__max_depth=3, classifier__n_estimators=50; total time=   0.0s\n",
      "[CV] END classifier__learning_rate=0.001, classifier__max_depth=3, classifier__n_estimators=50; total time=   0.0s\n",
      "[CV] END classifier__learning_rate=0.001, classifier__max_depth=3, classifier__n_estimators=50; total time=   0.0s\n",
      "[CV] END classifier__learning_rate=0.001, classifier__max_depth=3, classifier__n_estimators=100; total time=   0.1s\n",
      "[CV] END classifier__learning_rate=0.001, classifier__max_depth=3, classifier__n_estimators=100; total time=   0.1s\n",
      "[CV] END classifier__learning_rate=0.001, classifier__max_depth=3, classifier__n_estimators=100; total time=   0.1s\n",
      "[CV] END classifier__learning_rate=0.001, classifier__max_depth=3, classifier__n_estimators=100; total time=   0.1s\n",
      "[CV] END classifier__learning_rate=0.001, classifier__max_depth=3, classifier__n_estimators=150; total time=   0.2s\n",
      "[CV] END classifier__learning_rate=0.001, classifier__max_depth=3, classifier__n_estimators=150; total time=   0.2s\n",
      "[CV] END classifier__learning_rate=0.001, classifier__max_depth=3, classifier__n_estimators=150; total time=   0.2s\n",
      "[CV] END classifier__learning_rate=0.001, classifier__max_depth=3, classifier__n_estimators=150; total time=   0.2s\n",
      "[CV] END classifier__learning_rate=0.001, classifier__max_depth=4, classifier__n_estimators=10; total time=   0.0s\n",
      "[CV] END classifier__learning_rate=0.001, classifier__max_depth=4, classifier__n_estimators=10; total time=   0.0s\n",
      "[CV] END classifier__learning_rate=0.001, classifier__max_depth=4, classifier__n_estimators=10; total time=   0.0s\n"
     ]
    },
    {
     "name": "stdout",
     "output_type": "stream",
     "text": [
      "[CV] END classifier__learning_rate=0.001, classifier__max_depth=4, classifier__n_estimators=10; total time=   0.0s\n",
      "[CV] END classifier__learning_rate=0.001, classifier__max_depth=4, classifier__n_estimators=20; total time=   0.0s\n",
      "[CV] END classifier__learning_rate=0.001, classifier__max_depth=4, classifier__n_estimators=20; total time=   0.0s\n",
      "[CV] END classifier__learning_rate=0.001, classifier__max_depth=4, classifier__n_estimators=20; total time=   0.0s\n",
      "[CV] END classifier__learning_rate=0.001, classifier__max_depth=4, classifier__n_estimators=20; total time=   0.0s\n",
      "[CV] END classifier__learning_rate=0.001, classifier__max_depth=4, classifier__n_estimators=50; total time=   0.1s\n",
      "[CV] END classifier__learning_rate=0.001, classifier__max_depth=4, classifier__n_estimators=50; total time=   0.1s\n",
      "[CV] END classifier__learning_rate=0.001, classifier__max_depth=4, classifier__n_estimators=50; total time=   0.1s\n",
      "[CV] END classifier__learning_rate=0.001, classifier__max_depth=4, classifier__n_estimators=50; total time=   0.1s\n",
      "[CV] END classifier__learning_rate=0.001, classifier__max_depth=4, classifier__n_estimators=100; total time=   0.3s\n",
      "[CV] END classifier__learning_rate=0.001, classifier__max_depth=4, classifier__n_estimators=100; total time=   0.3s\n",
      "[CV] END classifier__learning_rate=0.001, classifier__max_depth=4, classifier__n_estimators=100; total time=   0.2s\n",
      "[CV] END classifier__learning_rate=0.001, classifier__max_depth=4, classifier__n_estimators=100; total time=   0.2s\n",
      "[CV] END classifier__learning_rate=0.001, classifier__max_depth=4, classifier__n_estimators=150; total time=   0.3s\n",
      "[CV] END classifier__learning_rate=0.001, classifier__max_depth=4, classifier__n_estimators=150; total time=   0.4s\n",
      "[CV] END classifier__learning_rate=0.001, classifier__max_depth=4, classifier__n_estimators=150; total time=   0.4s\n",
      "[CV] END classifier__learning_rate=0.001, classifier__max_depth=4, classifier__n_estimators=150; total time=   0.3s\n",
      "[CV] END classifier__learning_rate=0.001, classifier__max_depth=5, classifier__n_estimators=10; total time=   0.0s\n",
      "[CV] END classifier__learning_rate=0.001, classifier__max_depth=5, classifier__n_estimators=10; total time=   0.0s\n",
      "[CV] END classifier__learning_rate=0.001, classifier__max_depth=5, classifier__n_estimators=10; total time=   0.0s\n",
      "[CV] END classifier__learning_rate=0.001, classifier__max_depth=5, classifier__n_estimators=10; total time=   0.0s\n",
      "[CV] END classifier__learning_rate=0.001, classifier__max_depth=5, classifier__n_estimators=20; total time=   0.0s\n",
      "[CV] END classifier__learning_rate=0.001, classifier__max_depth=5, classifier__n_estimators=20; total time=   0.0s\n",
      "[CV] END classifier__learning_rate=0.001, classifier__max_depth=5, classifier__n_estimators=20; total time=   0.0s\n",
      "[CV] END classifier__learning_rate=0.001, classifier__max_depth=5, classifier__n_estimators=20; total time=   0.0s\n",
      "[CV] END classifier__learning_rate=0.001, classifier__max_depth=5, classifier__n_estimators=50; total time=   0.1s\n",
      "[CV] END classifier__learning_rate=0.001, classifier__max_depth=5, classifier__n_estimators=50; total time=   0.1s\n",
      "[CV] END classifier__learning_rate=0.001, classifier__max_depth=5, classifier__n_estimators=50; total time=   0.1s\n",
      "[CV] END classifier__learning_rate=0.001, classifier__max_depth=5, classifier__n_estimators=50; total time=   0.1s\n",
      "[CV] END classifier__learning_rate=0.001, classifier__max_depth=5, classifier__n_estimators=100; total time=   0.3s\n",
      "[CV] END classifier__learning_rate=0.001, classifier__max_depth=5, classifier__n_estimators=100; total time=   0.3s\n",
      "[CV] END classifier__learning_rate=0.001, classifier__max_depth=5, classifier__n_estimators=100; total time=   0.3s\n",
      "[CV] END classifier__learning_rate=0.001, classifier__max_depth=5, classifier__n_estimators=100; total time=   0.3s\n",
      "[CV] END classifier__learning_rate=0.001, classifier__max_depth=5, classifier__n_estimators=150; total time=   0.5s\n",
      "[CV] END classifier__learning_rate=0.001, classifier__max_depth=5, classifier__n_estimators=150; total time=   0.5s\n",
      "[CV] END classifier__learning_rate=0.001, classifier__max_depth=5, classifier__n_estimators=150; total time=   0.5s\n",
      "[CV] END classifier__learning_rate=0.001, classifier__max_depth=5, classifier__n_estimators=150; total time=   0.4s\n"
     ]
    },
    {
     "data": {
      "text/html": [
       "<style>#sk-container-id-10 {color: black;}#sk-container-id-10 pre{padding: 0;}#sk-container-id-10 div.sk-toggleable {background-color: white;}#sk-container-id-10 label.sk-toggleable__label {cursor: pointer;display: block;width: 100%;margin-bottom: 0;padding: 0.3em;box-sizing: border-box;text-align: center;}#sk-container-id-10 label.sk-toggleable__label-arrow:before {content: \"▸\";float: left;margin-right: 0.25em;color: #696969;}#sk-container-id-10 label.sk-toggleable__label-arrow:hover:before {color: black;}#sk-container-id-10 div.sk-estimator:hover label.sk-toggleable__label-arrow:before {color: black;}#sk-container-id-10 div.sk-toggleable__content {max-height: 0;max-width: 0;overflow: hidden;text-align: left;background-color: #f0f8ff;}#sk-container-id-10 div.sk-toggleable__content pre {margin: 0.2em;color: black;border-radius: 0.25em;background-color: #f0f8ff;}#sk-container-id-10 input.sk-toggleable__control:checked~div.sk-toggleable__content {max-height: 200px;max-width: 100%;overflow: auto;}#sk-container-id-10 input.sk-toggleable__control:checked~label.sk-toggleable__label-arrow:before {content: \"▾\";}#sk-container-id-10 div.sk-estimator input.sk-toggleable__control:checked~label.sk-toggleable__label {background-color: #d4ebff;}#sk-container-id-10 div.sk-label input.sk-toggleable__control:checked~label.sk-toggleable__label {background-color: #d4ebff;}#sk-container-id-10 input.sk-hidden--visually {border: 0;clip: rect(1px 1px 1px 1px);clip: rect(1px, 1px, 1px, 1px);height: 1px;margin: -1px;overflow: hidden;padding: 0;position: absolute;width: 1px;}#sk-container-id-10 div.sk-estimator {font-family: monospace;background-color: #f0f8ff;border: 1px dotted black;border-radius: 0.25em;box-sizing: border-box;margin-bottom: 0.5em;}#sk-container-id-10 div.sk-estimator:hover {background-color: #d4ebff;}#sk-container-id-10 div.sk-parallel-item::after {content: \"\";width: 100%;border-bottom: 1px solid gray;flex-grow: 1;}#sk-container-id-10 div.sk-label:hover label.sk-toggleable__label {background-color: #d4ebff;}#sk-container-id-10 div.sk-serial::before {content: \"\";position: absolute;border-left: 1px solid gray;box-sizing: border-box;top: 0;bottom: 0;left: 50%;z-index: 0;}#sk-container-id-10 div.sk-serial {display: flex;flex-direction: column;align-items: center;background-color: white;padding-right: 0.2em;padding-left: 0.2em;position: relative;}#sk-container-id-10 div.sk-item {position: relative;z-index: 1;}#sk-container-id-10 div.sk-parallel {display: flex;align-items: stretch;justify-content: center;background-color: white;position: relative;}#sk-container-id-10 div.sk-item::before, #sk-container-id-10 div.sk-parallel-item::before {content: \"\";position: absolute;border-left: 1px solid gray;box-sizing: border-box;top: 0;bottom: 0;left: 50%;z-index: -1;}#sk-container-id-10 div.sk-parallel-item {display: flex;flex-direction: column;z-index: 1;position: relative;background-color: white;}#sk-container-id-10 div.sk-parallel-item:first-child::after {align-self: flex-end;width: 50%;}#sk-container-id-10 div.sk-parallel-item:last-child::after {align-self: flex-start;width: 50%;}#sk-container-id-10 div.sk-parallel-item:only-child::after {width: 0;}#sk-container-id-10 div.sk-dashed-wrapped {border: 1px dashed gray;margin: 0 0.4em 0.5em 0.4em;box-sizing: border-box;padding-bottom: 0.4em;background-color: white;}#sk-container-id-10 div.sk-label label {font-family: monospace;font-weight: bold;display: inline-block;line-height: 1.2em;}#sk-container-id-10 div.sk-label-container {text-align: center;}#sk-container-id-10 div.sk-container {/* jupyter's `normalize.less` sets `[hidden] { display: none; }` but bootstrap.min.css set `[hidden] { display: none !important; }` so we also need the `!important` here to be able to override the default hidden behavior on the sphinx rendered scikit-learn.org. See: https://github.com/scikit-learn/scikit-learn/issues/21755 */display: inline-block !important;position: relative;}#sk-container-id-10 div.sk-text-repr-fallback {display: none;}</style><div id=\"sk-container-id-10\" class=\"sk-top-container\"><div class=\"sk-text-repr-fallback\"><pre>GridSearchCV(cv=KFold(n_splits=4, random_state=42, shuffle=True),\n",
       "             estimator=Pipeline(steps=[(&#x27;imputer&#x27;, KNNImputer(n_neighbors=3)),\n",
       "                                       (&#x27;scaler&#x27;, StandardScaler()),\n",
       "                                       (&#x27;classifier&#x27;,\n",
       "                                        GradientBoostingClassifier(random_state=42))]),\n",
       "             param_grid={&#x27;classifier__learning_rate&#x27;: [1, 0.5, 0.1, 0.01,\n",
       "                                                       0.001],\n",
       "                         &#x27;classifier__max_depth&#x27;: [2, 3, 4, 5],\n",
       "                         &#x27;classifier__n_estimators&#x27;: [10, 20, 50, 100, 150]},\n",
       "             scoring=&#x27;accuracy&#x27;, verbose=2)</pre><b>In a Jupyter environment, please rerun this cell to show the HTML representation or trust the notebook. <br />On GitHub, the HTML representation is unable to render, please try loading this page with nbviewer.org.</b></div><div class=\"sk-container\" hidden><div class=\"sk-item sk-dashed-wrapped\"><div class=\"sk-label-container\"><div class=\"sk-label sk-toggleable\"><input class=\"sk-toggleable__control sk-hidden--visually\" id=\"sk-estimator-id-39\" type=\"checkbox\" ><label for=\"sk-estimator-id-39\" class=\"sk-toggleable__label sk-toggleable__label-arrow\">GridSearchCV</label><div class=\"sk-toggleable__content\"><pre>GridSearchCV(cv=KFold(n_splits=4, random_state=42, shuffle=True),\n",
       "             estimator=Pipeline(steps=[(&#x27;imputer&#x27;, KNNImputer(n_neighbors=3)),\n",
       "                                       (&#x27;scaler&#x27;, StandardScaler()),\n",
       "                                       (&#x27;classifier&#x27;,\n",
       "                                        GradientBoostingClassifier(random_state=42))]),\n",
       "             param_grid={&#x27;classifier__learning_rate&#x27;: [1, 0.5, 0.1, 0.01,\n",
       "                                                       0.001],\n",
       "                         &#x27;classifier__max_depth&#x27;: [2, 3, 4, 5],\n",
       "                         &#x27;classifier__n_estimators&#x27;: [10, 20, 50, 100, 150]},\n",
       "             scoring=&#x27;accuracy&#x27;, verbose=2)</pre></div></div></div><div class=\"sk-parallel\"><div class=\"sk-parallel-item\"><div class=\"sk-item\"><div class=\"sk-label-container\"><div class=\"sk-label sk-toggleable\"><input class=\"sk-toggleable__control sk-hidden--visually\" id=\"sk-estimator-id-40\" type=\"checkbox\" ><label for=\"sk-estimator-id-40\" class=\"sk-toggleable__label sk-toggleable__label-arrow\">estimator: Pipeline</label><div class=\"sk-toggleable__content\"><pre>Pipeline(steps=[(&#x27;imputer&#x27;, KNNImputer(n_neighbors=3)),\n",
       "                (&#x27;scaler&#x27;, StandardScaler()),\n",
       "                (&#x27;classifier&#x27;, GradientBoostingClassifier(random_state=42))])</pre></div></div></div><div class=\"sk-serial\"><div class=\"sk-item\"><div class=\"sk-serial\"><div class=\"sk-item\"><div class=\"sk-estimator sk-toggleable\"><input class=\"sk-toggleable__control sk-hidden--visually\" id=\"sk-estimator-id-41\" type=\"checkbox\" ><label for=\"sk-estimator-id-41\" class=\"sk-toggleable__label sk-toggleable__label-arrow\">KNNImputer</label><div class=\"sk-toggleable__content\"><pre>KNNImputer(n_neighbors=3)</pre></div></div></div><div class=\"sk-item\"><div class=\"sk-estimator sk-toggleable\"><input class=\"sk-toggleable__control sk-hidden--visually\" id=\"sk-estimator-id-42\" type=\"checkbox\" ><label for=\"sk-estimator-id-42\" class=\"sk-toggleable__label sk-toggleable__label-arrow\">StandardScaler</label><div class=\"sk-toggleable__content\"><pre>StandardScaler()</pre></div></div></div><div class=\"sk-item\"><div class=\"sk-estimator sk-toggleable\"><input class=\"sk-toggleable__control sk-hidden--visually\" id=\"sk-estimator-id-43\" type=\"checkbox\" ><label for=\"sk-estimator-id-43\" class=\"sk-toggleable__label sk-toggleable__label-arrow\">GradientBoostingClassifier</label><div class=\"sk-toggleable__content\"><pre>GradientBoostingClassifier(random_state=42)</pre></div></div></div></div></div></div></div></div></div></div></div></div>"
      ],
      "text/plain": [
       "GridSearchCV(cv=KFold(n_splits=4, random_state=42, shuffle=True),\n",
       "             estimator=Pipeline(steps=[('imputer', KNNImputer(n_neighbors=3)),\n",
       "                                       ('scaler', StandardScaler()),\n",
       "                                       ('classifier',\n",
       "                                        GradientBoostingClassifier(random_state=42))]),\n",
       "             param_grid={'classifier__learning_rate': [1, 0.5, 0.1, 0.01,\n",
       "                                                       0.001],\n",
       "                         'classifier__max_depth': [2, 3, 4, 5],\n",
       "                         'classifier__n_estimators': [10, 20, 50, 100, 150]},\n",
       "             scoring='accuracy', verbose=2)"
      ]
     },
     "execution_count": 48,
     "metadata": {},
     "output_type": "execute_result"
    }
   ],
   "source": [
    "param_grid = {\n",
    "    'classifier__n_estimators': [10, 20, 50, 100, 150],\n",
    "    'classifier__learning_rate': [1, 0.5, 0.1, 0.01, 0.001],\n",
    "    'classifier__max_depth': [2, 3, 4, 5]\n",
    "}\n",
    "\n",
    "grid_search = GridSearchCV(estimator= pipeline, param_grid=param_grid, scoring='accuracy', cv= kf, verbose=2)\n",
    "grid_search.fit(x_train,y_train)"
   ]
  },
  {
   "cell_type": "code",
   "execution_count": 49,
   "metadata": {},
   "outputs": [
    {
     "name": "stdout",
     "output_type": "stream",
     "text": [
      "Best Hyperparameters: {'classifier__learning_rate': 0.1, 'classifier__max_depth': 2, 'classifier__n_estimators': 100}\n",
      "Best Cross-Validation Score: 0.8043\n"
     ]
    }
   ],
   "source": [
    "print(f\"Best Hyperparameters: {grid_search.best_params_}\")\n",
    "print(f\"Best Cross-Validation Score: {grid_search.best_score_:.4f}\")"
   ]
  },
  {
   "cell_type": "code",
   "execution_count": 50,
   "metadata": {},
   "outputs": [
    {
     "data": {
      "text/html": [
       "<style>#sk-container-id-11 {color: black;}#sk-container-id-11 pre{padding: 0;}#sk-container-id-11 div.sk-toggleable {background-color: white;}#sk-container-id-11 label.sk-toggleable__label {cursor: pointer;display: block;width: 100%;margin-bottom: 0;padding: 0.3em;box-sizing: border-box;text-align: center;}#sk-container-id-11 label.sk-toggleable__label-arrow:before {content: \"▸\";float: left;margin-right: 0.25em;color: #696969;}#sk-container-id-11 label.sk-toggleable__label-arrow:hover:before {color: black;}#sk-container-id-11 div.sk-estimator:hover label.sk-toggleable__label-arrow:before {color: black;}#sk-container-id-11 div.sk-toggleable__content {max-height: 0;max-width: 0;overflow: hidden;text-align: left;background-color: #f0f8ff;}#sk-container-id-11 div.sk-toggleable__content pre {margin: 0.2em;color: black;border-radius: 0.25em;background-color: #f0f8ff;}#sk-container-id-11 input.sk-toggleable__control:checked~div.sk-toggleable__content {max-height: 200px;max-width: 100%;overflow: auto;}#sk-container-id-11 input.sk-toggleable__control:checked~label.sk-toggleable__label-arrow:before {content: \"▾\";}#sk-container-id-11 div.sk-estimator input.sk-toggleable__control:checked~label.sk-toggleable__label {background-color: #d4ebff;}#sk-container-id-11 div.sk-label input.sk-toggleable__control:checked~label.sk-toggleable__label {background-color: #d4ebff;}#sk-container-id-11 input.sk-hidden--visually {border: 0;clip: rect(1px 1px 1px 1px);clip: rect(1px, 1px, 1px, 1px);height: 1px;margin: -1px;overflow: hidden;padding: 0;position: absolute;width: 1px;}#sk-container-id-11 div.sk-estimator {font-family: monospace;background-color: #f0f8ff;border: 1px dotted black;border-radius: 0.25em;box-sizing: border-box;margin-bottom: 0.5em;}#sk-container-id-11 div.sk-estimator:hover {background-color: #d4ebff;}#sk-container-id-11 div.sk-parallel-item::after {content: \"\";width: 100%;border-bottom: 1px solid gray;flex-grow: 1;}#sk-container-id-11 div.sk-label:hover label.sk-toggleable__label {background-color: #d4ebff;}#sk-container-id-11 div.sk-serial::before {content: \"\";position: absolute;border-left: 1px solid gray;box-sizing: border-box;top: 0;bottom: 0;left: 50%;z-index: 0;}#sk-container-id-11 div.sk-serial {display: flex;flex-direction: column;align-items: center;background-color: white;padding-right: 0.2em;padding-left: 0.2em;position: relative;}#sk-container-id-11 div.sk-item {position: relative;z-index: 1;}#sk-container-id-11 div.sk-parallel {display: flex;align-items: stretch;justify-content: center;background-color: white;position: relative;}#sk-container-id-11 div.sk-item::before, #sk-container-id-11 div.sk-parallel-item::before {content: \"\";position: absolute;border-left: 1px solid gray;box-sizing: border-box;top: 0;bottom: 0;left: 50%;z-index: -1;}#sk-container-id-11 div.sk-parallel-item {display: flex;flex-direction: column;z-index: 1;position: relative;background-color: white;}#sk-container-id-11 div.sk-parallel-item:first-child::after {align-self: flex-end;width: 50%;}#sk-container-id-11 div.sk-parallel-item:last-child::after {align-self: flex-start;width: 50%;}#sk-container-id-11 div.sk-parallel-item:only-child::after {width: 0;}#sk-container-id-11 div.sk-dashed-wrapped {border: 1px dashed gray;margin: 0 0.4em 0.5em 0.4em;box-sizing: border-box;padding-bottom: 0.4em;background-color: white;}#sk-container-id-11 div.sk-label label {font-family: monospace;font-weight: bold;display: inline-block;line-height: 1.2em;}#sk-container-id-11 div.sk-label-container {text-align: center;}#sk-container-id-11 div.sk-container {/* jupyter's `normalize.less` sets `[hidden] { display: none; }` but bootstrap.min.css set `[hidden] { display: none !important; }` so we also need the `!important` here to be able to override the default hidden behavior on the sphinx rendered scikit-learn.org. See: https://github.com/scikit-learn/scikit-learn/issues/21755 */display: inline-block !important;position: relative;}#sk-container-id-11 div.sk-text-repr-fallback {display: none;}</style><div id=\"sk-container-id-11\" class=\"sk-top-container\"><div class=\"sk-text-repr-fallback\"><pre>Pipeline(steps=[(&#x27;imputer&#x27;, KNNImputer(n_neighbors=3)),\n",
       "                (&#x27;scaler&#x27;, StandardScaler()),\n",
       "                (&#x27;classifier&#x27;,\n",
       "                 GradientBoostingClassifier(max_depth=2, random_state=42))])</pre><b>In a Jupyter environment, please rerun this cell to show the HTML representation or trust the notebook. <br />On GitHub, the HTML representation is unable to render, please try loading this page with nbviewer.org.</b></div><div class=\"sk-container\" hidden><div class=\"sk-item sk-dashed-wrapped\"><div class=\"sk-label-container\"><div class=\"sk-label sk-toggleable\"><input class=\"sk-toggleable__control sk-hidden--visually\" id=\"sk-estimator-id-44\" type=\"checkbox\" ><label for=\"sk-estimator-id-44\" class=\"sk-toggleable__label sk-toggleable__label-arrow\">Pipeline</label><div class=\"sk-toggleable__content\"><pre>Pipeline(steps=[(&#x27;imputer&#x27;, KNNImputer(n_neighbors=3)),\n",
       "                (&#x27;scaler&#x27;, StandardScaler()),\n",
       "                (&#x27;classifier&#x27;,\n",
       "                 GradientBoostingClassifier(max_depth=2, random_state=42))])</pre></div></div></div><div class=\"sk-serial\"><div class=\"sk-item\"><div class=\"sk-estimator sk-toggleable\"><input class=\"sk-toggleable__control sk-hidden--visually\" id=\"sk-estimator-id-45\" type=\"checkbox\" ><label for=\"sk-estimator-id-45\" class=\"sk-toggleable__label sk-toggleable__label-arrow\">KNNImputer</label><div class=\"sk-toggleable__content\"><pre>KNNImputer(n_neighbors=3)</pre></div></div></div><div class=\"sk-item\"><div class=\"sk-estimator sk-toggleable\"><input class=\"sk-toggleable__control sk-hidden--visually\" id=\"sk-estimator-id-46\" type=\"checkbox\" ><label for=\"sk-estimator-id-46\" class=\"sk-toggleable__label sk-toggleable__label-arrow\">StandardScaler</label><div class=\"sk-toggleable__content\"><pre>StandardScaler()</pre></div></div></div><div class=\"sk-item\"><div class=\"sk-estimator sk-toggleable\"><input class=\"sk-toggleable__control sk-hidden--visually\" id=\"sk-estimator-id-47\" type=\"checkbox\" ><label for=\"sk-estimator-id-47\" class=\"sk-toggleable__label sk-toggleable__label-arrow\">GradientBoostingClassifier</label><div class=\"sk-toggleable__content\"><pre>GradientBoostingClassifier(max_depth=2, random_state=42)</pre></div></div></div></div></div></div></div>"
      ],
      "text/plain": [
       "Pipeline(steps=[('imputer', KNNImputer(n_neighbors=3)),\n",
       "                ('scaler', StandardScaler()),\n",
       "                ('classifier',\n",
       "                 GradientBoostingClassifier(max_depth=2, random_state=42))])"
      ]
     },
     "execution_count": 50,
     "metadata": {},
     "output_type": "execute_result"
    }
   ],
   "source": [
    "best_gb_pipeline = grid_search.best_estimator_\n",
    "best_gb_pipeline"
   ]
  },
  {
   "cell_type": "code",
   "execution_count": 51,
   "metadata": {},
   "outputs": [
    {
     "data": {
      "text/html": [
       "<style>#sk-container-id-12 {color: black;}#sk-container-id-12 pre{padding: 0;}#sk-container-id-12 div.sk-toggleable {background-color: white;}#sk-container-id-12 label.sk-toggleable__label {cursor: pointer;display: block;width: 100%;margin-bottom: 0;padding: 0.3em;box-sizing: border-box;text-align: center;}#sk-container-id-12 label.sk-toggleable__label-arrow:before {content: \"▸\";float: left;margin-right: 0.25em;color: #696969;}#sk-container-id-12 label.sk-toggleable__label-arrow:hover:before {color: black;}#sk-container-id-12 div.sk-estimator:hover label.sk-toggleable__label-arrow:before {color: black;}#sk-container-id-12 div.sk-toggleable__content {max-height: 0;max-width: 0;overflow: hidden;text-align: left;background-color: #f0f8ff;}#sk-container-id-12 div.sk-toggleable__content pre {margin: 0.2em;color: black;border-radius: 0.25em;background-color: #f0f8ff;}#sk-container-id-12 input.sk-toggleable__control:checked~div.sk-toggleable__content {max-height: 200px;max-width: 100%;overflow: auto;}#sk-container-id-12 input.sk-toggleable__control:checked~label.sk-toggleable__label-arrow:before {content: \"▾\";}#sk-container-id-12 div.sk-estimator input.sk-toggleable__control:checked~label.sk-toggleable__label {background-color: #d4ebff;}#sk-container-id-12 div.sk-label input.sk-toggleable__control:checked~label.sk-toggleable__label {background-color: #d4ebff;}#sk-container-id-12 input.sk-hidden--visually {border: 0;clip: rect(1px 1px 1px 1px);clip: rect(1px, 1px, 1px, 1px);height: 1px;margin: -1px;overflow: hidden;padding: 0;position: absolute;width: 1px;}#sk-container-id-12 div.sk-estimator {font-family: monospace;background-color: #f0f8ff;border: 1px dotted black;border-radius: 0.25em;box-sizing: border-box;margin-bottom: 0.5em;}#sk-container-id-12 div.sk-estimator:hover {background-color: #d4ebff;}#sk-container-id-12 div.sk-parallel-item::after {content: \"\";width: 100%;border-bottom: 1px solid gray;flex-grow: 1;}#sk-container-id-12 div.sk-label:hover label.sk-toggleable__label {background-color: #d4ebff;}#sk-container-id-12 div.sk-serial::before {content: \"\";position: absolute;border-left: 1px solid gray;box-sizing: border-box;top: 0;bottom: 0;left: 50%;z-index: 0;}#sk-container-id-12 div.sk-serial {display: flex;flex-direction: column;align-items: center;background-color: white;padding-right: 0.2em;padding-left: 0.2em;position: relative;}#sk-container-id-12 div.sk-item {position: relative;z-index: 1;}#sk-container-id-12 div.sk-parallel {display: flex;align-items: stretch;justify-content: center;background-color: white;position: relative;}#sk-container-id-12 div.sk-item::before, #sk-container-id-12 div.sk-parallel-item::before {content: \"\";position: absolute;border-left: 1px solid gray;box-sizing: border-box;top: 0;bottom: 0;left: 50%;z-index: -1;}#sk-container-id-12 div.sk-parallel-item {display: flex;flex-direction: column;z-index: 1;position: relative;background-color: white;}#sk-container-id-12 div.sk-parallel-item:first-child::after {align-self: flex-end;width: 50%;}#sk-container-id-12 div.sk-parallel-item:last-child::after {align-self: flex-start;width: 50%;}#sk-container-id-12 div.sk-parallel-item:only-child::after {width: 0;}#sk-container-id-12 div.sk-dashed-wrapped {border: 1px dashed gray;margin: 0 0.4em 0.5em 0.4em;box-sizing: border-box;padding-bottom: 0.4em;background-color: white;}#sk-container-id-12 div.sk-label label {font-family: monospace;font-weight: bold;display: inline-block;line-height: 1.2em;}#sk-container-id-12 div.sk-label-container {text-align: center;}#sk-container-id-12 div.sk-container {/* jupyter's `normalize.less` sets `[hidden] { display: none; }` but bootstrap.min.css set `[hidden] { display: none !important; }` so we also need the `!important` here to be able to override the default hidden behavior on the sphinx rendered scikit-learn.org. See: https://github.com/scikit-learn/scikit-learn/issues/21755 */display: inline-block !important;position: relative;}#sk-container-id-12 div.sk-text-repr-fallback {display: none;}</style><div id=\"sk-container-id-12\" class=\"sk-top-container\"><div class=\"sk-text-repr-fallback\"><pre>Pipeline(steps=[(&#x27;imputer&#x27;, KNNImputer(n_neighbors=3)),\n",
       "                (&#x27;scaler&#x27;, StandardScaler()),\n",
       "                (&#x27;classifier&#x27;,\n",
       "                 GradientBoostingClassifier(max_depth=2, random_state=42))])</pre><b>In a Jupyter environment, please rerun this cell to show the HTML representation or trust the notebook. <br />On GitHub, the HTML representation is unable to render, please try loading this page with nbviewer.org.</b></div><div class=\"sk-container\" hidden><div class=\"sk-item sk-dashed-wrapped\"><div class=\"sk-label-container\"><div class=\"sk-label sk-toggleable\"><input class=\"sk-toggleable__control sk-hidden--visually\" id=\"sk-estimator-id-48\" type=\"checkbox\" ><label for=\"sk-estimator-id-48\" class=\"sk-toggleable__label sk-toggleable__label-arrow\">Pipeline</label><div class=\"sk-toggleable__content\"><pre>Pipeline(steps=[(&#x27;imputer&#x27;, KNNImputer(n_neighbors=3)),\n",
       "                (&#x27;scaler&#x27;, StandardScaler()),\n",
       "                (&#x27;classifier&#x27;,\n",
       "                 GradientBoostingClassifier(max_depth=2, random_state=42))])</pre></div></div></div><div class=\"sk-serial\"><div class=\"sk-item\"><div class=\"sk-estimator sk-toggleable\"><input class=\"sk-toggleable__control sk-hidden--visually\" id=\"sk-estimator-id-49\" type=\"checkbox\" ><label for=\"sk-estimator-id-49\" class=\"sk-toggleable__label sk-toggleable__label-arrow\">KNNImputer</label><div class=\"sk-toggleable__content\"><pre>KNNImputer(n_neighbors=3)</pre></div></div></div><div class=\"sk-item\"><div class=\"sk-estimator sk-toggleable\"><input class=\"sk-toggleable__control sk-hidden--visually\" id=\"sk-estimator-id-50\" type=\"checkbox\" ><label for=\"sk-estimator-id-50\" class=\"sk-toggleable__label sk-toggleable__label-arrow\">StandardScaler</label><div class=\"sk-toggleable__content\"><pre>StandardScaler()</pre></div></div></div><div class=\"sk-item\"><div class=\"sk-estimator sk-toggleable\"><input class=\"sk-toggleable__control sk-hidden--visually\" id=\"sk-estimator-id-51\" type=\"checkbox\" ><label for=\"sk-estimator-id-51\" class=\"sk-toggleable__label sk-toggleable__label-arrow\">GradientBoostingClassifier</label><div class=\"sk-toggleable__content\"><pre>GradientBoostingClassifier(max_depth=2, random_state=42)</pre></div></div></div></div></div></div></div>"
      ],
      "text/plain": [
       "Pipeline(steps=[('imputer', KNNImputer(n_neighbors=3)),\n",
       "                ('scaler', StandardScaler()),\n",
       "                ('classifier',\n",
       "                 GradientBoostingClassifier(max_depth=2, random_state=42))])"
      ]
     },
     "execution_count": 51,
     "metadata": {},
     "output_type": "execute_result"
    }
   ],
   "source": [
    "gb_clf = GradientBoostingClassifier(n_estimators=100, learning_rate=0.1, max_depth=2, random_state=42)\n",
    "best_gb_pipeline = Pipeline(steps = [('imputer', imputer), ('scaler', scaler), ('classifier', gb_clf)])\n",
    "best_gb_pipeline.fit(x_train, y_train)"
   ]
  },
  {
   "cell_type": "code",
   "execution_count": 52,
   "metadata": {},
   "outputs": [
    {
     "data": {
      "text/plain": [
       "(0.8739130434782608, 0.8043478260869565)"
      ]
     },
     "execution_count": 52,
     "metadata": {},
     "output_type": "execute_result"
    }
   ],
   "source": [
    "y_pred_gb = best_gb_pipeline.predict(x_test)\n",
    "accuracy_gb_test = accuracy_score(y_test, y_pred_gb)\n",
    "\n",
    "y_pred_gb = best_gb_pipeline.predict(x_train)\n",
    "accuracy_gb_train = accuracy_score(y_train, y_pred_gb)\n",
    "\n",
    "accuracy_gb_train, accuracy_gb_test"
   ]
  },
  {
   "cell_type": "code",
   "execution_count": 54,
   "metadata": {},
   "outputs": [
    {
     "data": {
      "image/png": "[encoded data removed]",
      "text/plain": [
       "<Figure size 432x288 with 2 Axes>"
      ]
     },
     "metadata": {
      "needs_background": "light"
     },
     "output_type": "display_data"
    }
   ],
   "source": [
    "y_pred = best_gb_pipeline.predict(x_test)\n",
    "disp = ConfusionMatrixDisplay.from_predictions(\n",
    "y_test, y_pred, cmap=plt.cm.Blues, display_labels=['No HD', 'Yes HD'], normalize=None)\n",
    "plt.show()"
   ]
  },
  {
   "cell_type": "markdown",
   "metadata": {},
   "source": [
    "Performance metrics:\n",
    "1. Sensitivity (Recall): 80.6%\n",
    "2. Specificity: 80.2%\n",
    "3. Precision: 85%\n",
    "4. Accuracy: 80.43%"
   ]
  },
  {
   "cell_type": "code",
   "execution_count": 55,
   "metadata": {},
   "outputs": [
    {
     "name": "stdout",
     "output_type": "stream",
     "text": [
      "ROC AUC is  0.882734763681592\n"
     ]
    }
   ],
   "source": [
    "y_pred = best_gb_pipeline.predict_proba(x_test)[:, 1]\n",
    "fpr, tpr, thresholds = roc_curve(y_test, y_pred)\n",
    "roc_auc = auc(fpr, tpr)\n",
    "print('ROC AUC is ',roc_auc)"
   ]
  },
  {
   "cell_type": "code",
   "execution_count": 56,
   "metadata": {},
   "outputs": [
    {
     "data": {
      "text/plain": [
       "<matplotlib.legend.Legend at 0x2b3e1cd15e0>"
      ]
     },
     "execution_count": 56,
     "metadata": {},
     "output_type": "execute_result"
    },
    {
     "data": {
      "image/png": "[encoded data removed]",
      "text/plain": [
       "<Figure size 1080x540 with 1 Axes>"
      ]
     },
     "metadata": {
      "needs_background": "light"
     },
     "output_type": "display_data"
    }
   ],
   "source": [
    "plt.figure(figsize=(15,7.5))\n",
    "plt.plot(fpr, tpr, label=f'ROC curve (AUC = {roc_auc:.4f})')\n",
    "plt.plot([0,1],[0,1], label='Random Guess (AUC = 0.5)')\n",
    "plt.xlabel('False Positive Rate (1 - Specificity)')\n",
    "plt.ylabel('True Positive Rate (Sensitivity/Recall)')\n",
    "plt.title('Receiver Operating Characteristic (ROC) Curve')\n",
    "plt.legend(loc='lower right')"
   ]
  },
  {
   "cell_type": "markdown",
   "metadata": {},
   "source": [
    "### Reflections on Gradient Boost:\n",
    "While Gradient Boosting gave a strong result of 80% test accuracy however, RF has an edge of 82%. This is because RF focuses on reducing variance by being a more robust method of prediction, while GB focuses on progressively reducing bias. We can see this effect in GB train accuracy being 87% which is much better than RF train accuracy of 85.6%. RF in this case proves to be a much better and robust estimator with higher ROC AUC also due to the small sample size which has many outliers. \n",
    "Models like XGB or Light GBM improve on GB, those can yield better performance."
   ]
  },
  {
   "cell_type": "markdown",
   "metadata": {},
   "source": [
    "## XGBoost:"
   ]
  },
  {
   "cell_type": "markdown",
   "metadata": {},
   "source": [
    "### Fit the model"
   ]
  },
  {
   "cell_type": "code",
   "execution_count": 6,
   "metadata": {},
   "outputs": [
    {
     "data": {
      "text/plain": [
       "0.5532608695652174"
      ]
     },
     "execution_count": 6,
     "metadata": {},
     "output_type": "execute_result"
    }
   ],
   "source": [
    "sum(y)/len(y)\n",
    "## Roughly balanced dataset, no need to startify (i.e. ensure both train and test contain equal percentage of yes)"
   ]
  },
  {
   "cell_type": "code",
   "execution_count": 7,
   "metadata": {},
   "outputs": [],
   "source": [
    "x_train, x_test, y_train, y_test = train_test_split(x, y, random_state=42, shuffle=True)"
   ]
  },
  {
   "cell_type": "code",
   "execution_count": 8,
   "metadata": {},
   "outputs": [
    {
     "data": {
      "text/plain": [
       "(0.5434782608695652, 0.5826086956521739)"
      ]
     },
     "execution_count": 8,
     "metadata": {},
     "output_type": "execute_result"
    }
   ],
   "source": [
    "sum(y_train)/len(y_train), sum(y_test)/len(y_test)"
   ]
  },
  {
   "cell_type": "code",
   "execution_count": 33,
   "metadata": {},
   "outputs": [
    {
     "name": "stdout",
     "output_type": "stream",
     "text": [
      "[0]\tvalidation_0-error:0.23043\n",
      "[1]\tvalidation_0-error:0.23478\n",
      "[2]\tvalidation_0-error:0.21739\n",
      "[3]\tvalidation_0-error:0.20870\n",
      "[4]\tvalidation_0-error:0.22609\n",
      "[5]\tvalidation_0-error:0.22174\n",
      "[6]\tvalidation_0-error:0.20870\n",
      "[7]\tvalidation_0-error:0.21304\n",
      "[8]\tvalidation_0-error:0.20435\n",
      "[9]\tvalidation_0-error:0.20000\n",
      "[10]\tvalidation_0-error:0.19130\n",
      "[11]\tvalidation_0-error:0.18696\n",
      "[12]\tvalidation_0-error:0.18696\n",
      "[13]\tvalidation_0-error:0.18696\n",
      "[14]\tvalidation_0-error:0.18261\n",
      "[15]\tvalidation_0-error:0.18261\n",
      "[16]\tvalidation_0-error:0.18261\n",
      "[17]\tvalidation_0-error:0.19130\n",
      "[18]\tvalidation_0-error:0.19130\n",
      "[19]\tvalidation_0-error:0.18261\n",
      "[20]\tvalidation_0-error:0.18261\n",
      "[21]\tvalidation_0-error:0.18261\n",
      "[22]\tvalidation_0-error:0.17826\n",
      "[23]\tvalidation_0-error:0.18696\n",
      "[24]\tvalidation_0-error:0.18261\n",
      "[25]\tvalidation_0-error:0.18261\n",
      "[26]\tvalidation_0-error:0.17826\n",
      "[27]\tvalidation_0-error:0.17826\n",
      "[28]\tvalidation_0-error:0.17826\n",
      "[29]\tvalidation_0-error:0.17391\n",
      "[30]\tvalidation_0-error:0.17826\n",
      "[31]\tvalidation_0-error:0.17391\n",
      "[32]\tvalidation_0-error:0.17391\n",
      "[33]\tvalidation_0-error:0.17391\n",
      "[34]\tvalidation_0-error:0.17826\n",
      "[35]\tvalidation_0-error:0.18261\n",
      "[36]\tvalidation_0-error:0.17826\n",
      "[37]\tvalidation_0-error:0.17826\n",
      "[38]\tvalidation_0-error:0.17826\n"
     ]
    },
    {
     "data": {
      "text/html": [
       "<style>#sk-container-id-5 {color: black;}#sk-container-id-5 pre{padding: 0;}#sk-container-id-5 div.sk-toggleable {background-color: white;}#sk-container-id-5 label.sk-toggleable__label {cursor: pointer;display: block;width: 100%;margin-bottom: 0;padding: 0.3em;box-sizing: border-box;text-align: center;}#sk-container-id-5 label.sk-toggleable__label-arrow:before {content: \"▸\";float: left;margin-right: 0.25em;color: #696969;}#sk-container-id-5 label.sk-toggleable__label-arrow:hover:before {color: black;}#sk-container-id-5 div.sk-estimator:hover label.sk-toggleable__label-arrow:before {color: black;}#sk-container-id-5 div.sk-toggleable__content {max-height: 0;max-width: 0;overflow: hidden;text-align: left;background-color: #f0f8ff;}#sk-container-id-5 div.sk-toggleable__content pre {margin: 0.2em;color: black;border-radius: 0.25em;background-color: #f0f8ff;}#sk-container-id-5 input.sk-toggleable__control:checked~div.sk-toggleable__content {max-height: 200px;max-width: 100%;overflow: auto;}#sk-container-id-5 input.sk-toggleable__control:checked~label.sk-toggleable__label-arrow:before {content: \"▾\";}#sk-container-id-5 div.sk-estimator input.sk-toggleable__control:checked~label.sk-toggleable__label {background-color: #d4ebff;}#sk-container-id-5 div.sk-label input.sk-toggleable__control:checked~label.sk-toggleable__label {background-color: #d4ebff;}#sk-container-id-5 input.sk-hidden--visually {border: 0;clip: rect(1px 1px 1px 1px);clip: rect(1px, 1px, 1px, 1px);height: 1px;margin: -1px;overflow: hidden;padding: 0;position: absolute;width: 1px;}#sk-container-id-5 div.sk-estimator {font-family: monospace;background-color: #f0f8ff;border: 1px dotted black;border-radius: 0.25em;box-sizing: border-box;margin-bottom: 0.5em;}#sk-container-id-5 div.sk-estimator:hover {background-color: #d4ebff;}#sk-container-id-5 div.sk-parallel-item::after {content: \"\";width: 100%;border-bottom: 1px solid gray;flex-grow: 1;}#sk-container-id-5 div.sk-label:hover label.sk-toggleable__label {background-color: #d4ebff;}#sk-container-id-5 div.sk-serial::before {content: \"\";position: absolute;border-left: 1px solid gray;box-sizing: border-box;top: 0;bottom: 0;left: 50%;z-index: 0;}#sk-container-id-5 div.sk-serial {display: flex;flex-direction: column;align-items: center;background-color: white;padding-right: 0.2em;padding-left: 0.2em;position: relative;}#sk-container-id-5 div.sk-item {position: relative;z-index: 1;}#sk-container-id-5 div.sk-parallel {display: flex;align-items: stretch;justify-content: center;background-color: white;position: relative;}#sk-container-id-5 div.sk-item::before, #sk-container-id-5 div.sk-parallel-item::before {content: \"\";position: absolute;border-left: 1px solid gray;box-sizing: border-box;top: 0;bottom: 0;left: 50%;z-index: -1;}#sk-container-id-5 div.sk-parallel-item {display: flex;flex-direction: column;z-index: 1;position: relative;background-color: white;}#sk-container-id-5 div.sk-parallel-item:first-child::after {align-self: flex-end;width: 50%;}#sk-container-id-5 div.sk-parallel-item:last-child::after {align-self: flex-start;width: 50%;}#sk-container-id-5 div.sk-parallel-item:only-child::after {width: 0;}#sk-container-id-5 div.sk-dashed-wrapped {border: 1px dashed gray;margin: 0 0.4em 0.5em 0.4em;box-sizing: border-box;padding-bottom: 0.4em;background-color: white;}#sk-container-id-5 div.sk-label label {font-family: monospace;font-weight: bold;display: inline-block;line-height: 1.2em;}#sk-container-id-5 div.sk-label-container {text-align: center;}#sk-container-id-5 div.sk-container {/* jupyter's `normalize.less` sets `[hidden] { display: none; }` but bootstrap.min.css set `[hidden] { display: none !important; }` so we also need the `!important` here to be able to override the default hidden behavior on the sphinx rendered scikit-learn.org. See: https://github.com/scikit-learn/scikit-learn/issues/21755 */display: inline-block !important;position: relative;}#sk-container-id-5 div.sk-text-repr-fallback {display: none;}</style><div id=\"sk-container-id-5\" class=\"sk-top-container\"><div class=\"sk-text-repr-fallback\"><pre>XGBClassifier(base_score=None, booster=None, callbacks=None,\n",
       "              colsample_bylevel=None, colsample_bynode=None,\n",
       "              colsample_bytree=None, device=None, early_stopping_rounds=10,\n",
       "              enable_categorical=False, eval_metric=&#x27;error&#x27;, feature_types=None,\n",
       "              gamma=None, grow_policy=None, importance_type=None,\n",
       "              interaction_constraints=None, learning_rate=None, max_bin=None,\n",
       "              max_cat_threshold=None, max_cat_to_onehot=None,\n",
       "              max_delta_step=None, max_depth=None, max_leaves=None,\n",
       "              min_child_weight=None, missing=nan, monotone_constraints=None,\n",
       "              multi_strategy=None, n_estimators=None, n_jobs=None,\n",
       "              num_parallel_tree=None, random_state=None, ...)</pre><b>In a Jupyter environment, please rerun this cell to show the HTML representation or trust the notebook. <br />On GitHub, the HTML representation is unable to render, please try loading this page with nbviewer.org.</b></div><div class=\"sk-container\" hidden><div class=\"sk-item\"><div class=\"sk-estimator sk-toggleable\"><input class=\"sk-toggleable__control sk-hidden--visually\" id=\"sk-estimator-id-10\" type=\"checkbox\" checked><label for=\"sk-estimator-id-10\" class=\"sk-toggleable__label sk-toggleable__label-arrow\">XGBClassifier</label><div class=\"sk-toggleable__content\"><pre>XGBClassifier(base_score=None, booster=None, callbacks=None,\n",
       "              colsample_bylevel=None, colsample_bynode=None,\n",
       "              colsample_bytree=None, device=None, early_stopping_rounds=10,\n",
       "              enable_categorical=False, eval_metric=&#x27;error&#x27;, feature_types=None,\n",
       "              gamma=None, grow_policy=None, importance_type=None,\n",
       "              interaction_constraints=None, learning_rate=None, max_bin=None,\n",
       "              max_cat_threshold=None, max_cat_to_onehot=None,\n",
       "              max_delta_step=None, max_depth=None, max_leaves=None,\n",
       "              min_child_weight=None, missing=nan, monotone_constraints=None,\n",
       "              multi_strategy=None, n_estimators=None, n_jobs=None,\n",
       "              num_parallel_tree=None, random_state=None, ...)</pre></div></div></div></div></div>"
      ],
      "text/plain": [
       "XGBClassifier(base_score=None, booster=None, callbacks=None,\n",
       "              colsample_bylevel=None, colsample_bynode=None,\n",
       "              colsample_bytree=None, device=None, early_stopping_rounds=10,\n",
       "              enable_categorical=False, eval_metric='error', feature_types=None,\n",
       "              gamma=None, grow_policy=None, importance_type=None,\n",
       "              interaction_constraints=None, learning_rate=None, max_bin=None,\n",
       "              max_cat_threshold=None, max_cat_to_onehot=None,\n",
       "              max_delta_step=None, max_depth=None, max_leaves=None,\n",
       "              min_child_weight=None, missing=nan, monotone_constraints=None,\n",
       "              multi_strategy=None, n_estimators=None, n_jobs=None,\n",
       "              num_parallel_tree=None, random_state=None, ...)"
      ]
     },
     "execution_count": 33,
     "metadata": {},
     "output_type": "execute_result"
    }
   ],
   "source": [
    "clf_xgb = xgb.XGBClassifier(objective='binary:logistic', seed = 42, early_stopping_rounds=10, eval_metric='error')\n",
    "pipeline = Pipeline(steps = [('imputer', imputer), ('scaler', scaler), ('classifier', clf_xgb)])\n",
    "pipeline.fit(x_train, y_train,  classifier__eval_set=[(x_test, y_test)])\n",
    "\n",
    "\n",
    "\n",
    "clf_xgb.fit(x_train, y_train, verbose=True,  eval_set=[(x_test, y_test)])"
   ]
  },
  {
   "cell_type": "code",
   "execution_count": 32,
   "metadata": {},
   "outputs": [
    {
     "data": {
      "image/png": "[encoded data removed]",
      "text/plain": [
       "<Figure size 432x288 with 2 Axes>"
      ]
     },
     "metadata": {
      "needs_background": "light"
     },
     "output_type": "display_data"
    }
   ],
   "source": [
    "y_pred = pipeline.predict(x_test)\n",
    "disp = ConfusionMatrixDisplay.from_predictions(\n",
    "y_test, y_pred, cmap=plt.cm.Blues, display_labels=['No HD', 'Yes HD'], normalize=None)\n",
    "plt.show()"
   ]
  },
  {
   "cell_type": "markdown",
   "metadata": {},
   "source": [
    "Accuracy: 81.7%"
   ]
  },
  {
   "cell_type": "code",
   "execution_count": 34,
   "metadata": {},
   "outputs": [
    {
     "data": {
      "image/png": "[encoded data removed]",
      "text/plain": [
       "<Figure size 432x288 with 2 Axes>"
      ]
     },
     "metadata": {
      "needs_background": "light"
     },
     "output_type": "display_data"
    }
   ],
   "source": [
    "y_pred = clf_xgb.predict(x_test)\n",
    "disp = ConfusionMatrixDisplay.from_predictions(\n",
    "y_test, y_pred, cmap=plt.cm.Blues, display_labels=['No HD', 'Yes HD'], normalize=None)\n",
    "plt.show()"
   ]
  },
  {
   "cell_type": "markdown",
   "metadata": {},
   "source": [
    "Performance metrics:\n",
    "1. Sensitivity (Recall): 81.3%\n",
    "2. Specificity: 84.4%\n",
    "3. Precision: 87.9%\n",
    "4. Accuracy: 82.6%"
   ]
  },
  {
   "cell_type": "code",
   "execution_count": 39,
   "metadata": {},
   "outputs": [
    {
     "name": "stdout",
     "output_type": "stream",
     "text": [
      "ROC AUC is  0.8107120646766169\n"
     ]
    }
   ],
   "source": [
    "y_pred = pipeline.predict_proba(x_test)[:, 1]\n",
    "fpr, tpr, thresholds = roc_curve(y_test, y_pred)\n",
    "roc_auc = auc(fpr, tpr)\n",
    "print('ROC AUC is ',roc_auc)"
   ]
  },
  {
   "cell_type": "code",
   "execution_count": 37,
   "metadata": {},
   "outputs": [
    {
     "name": "stdout",
     "output_type": "stream",
     "text": [
      "ROC AUC is  0.8856498756218906\n"
     ]
    }
   ],
   "source": [
    "y_pred = clf_xgb.predict_proba(x_test)[:, 1]\n",
    "fpr, tpr, thresholds = roc_curve(y_test, y_pred)\n",
    "roc_auc = auc(fpr, tpr)\n",
    "print('ROC AUC is ',roc_auc)"
   ]
  },
  {
   "cell_type": "code",
   "execution_count": 40,
   "metadata": {},
   "outputs": [
    {
     "data": {
      "text/plain": [
       "<matplotlib.legend.Legend at 0x25824ec26a0>"
      ]
     },
     "execution_count": 40,
     "metadata": {},
     "output_type": "execute_result"
    },
    {
     "data": {
      "image/png": "[encoded data removed]",
      "text/plain": [
       "<Figure size 1080x540 with 1 Axes>"
      ]
     },
     "metadata": {
      "needs_background": "light"
     },
     "output_type": "display_data"
    }
   ],
   "source": [
    "plt.figure(figsize=(15,7.5))\n",
    "plt.plot(fpr, tpr, label=f'ROC curve (AUC = {roc_auc:.4f})')\n",
    "plt.plot([0,1],[0,1], label='Random Guess (AUC = 0.5)')\n",
    "plt.xlabel('False Positive Rate (1 - Specificity)')\n",
    "plt.ylabel('True Positive Rate (Sensitivity/Recall)')\n",
    "plt.title('Receiver Operating Characteristic (ROC) Curve')\n",
    "plt.legend(loc='lower right')"
   ]
  },
  {
   "cell_type": "markdown",
   "metadata": {},
   "source": [
    "### Optimize hyperparameters"
   ]
  },
  {
   "cell_type": "code",
   "execution_count": 47,
   "metadata": {
    "scrolled": true
   },
   "outputs": [
    {
     "name": "stdout",
     "output_type": "stream",
     "text": [
      "Fitting 4 folds for each of 135 candidates, totalling 540 fits\n",
      "[CV] END classifier__gamma=0, classifier__learning_rate=1, classifier__max_depth=3, classifier__reg_lambda=0; total time=   0.0s\n",
      "[CV] END classifier__gamma=0, classifier__learning_rate=1, classifier__max_depth=3, classifier__reg_lambda=0; total time=   0.0s\n",
      "[CV] END classifier__gamma=0, classifier__learning_rate=1, classifier__max_depth=3, classifier__reg_lambda=0; total time=   0.0s\n",
      "[CV] END classifier__gamma=0, classifier__learning_rate=1, classifier__max_depth=3, classifier__reg_lambda=0; total time=   0.0s\n",
      "[CV] END classifier__gamma=0, classifier__learning_rate=1, classifier__max_depth=3, classifier__reg_lambda=1; total time=   0.0s\n",
      "[CV] END classifier__gamma=0, classifier__learning_rate=1, classifier__max_depth=3, classifier__reg_lambda=1; total time=   0.0s\n",
      "[CV] END classifier__gamma=0, classifier__learning_rate=1, classifier__max_depth=3, classifier__reg_lambda=1; total time=   0.0s\n",
      "[CV] END classifier__gamma=0, classifier__learning_rate=1, classifier__max_depth=3, classifier__reg_lambda=1; total time=   0.0s\n",
      "[CV] END classifier__gamma=0, classifier__learning_rate=1, classifier__max_depth=3, classifier__reg_lambda=10; total time=   0.0s\n",
      "[CV] END classifier__gamma=0, classifier__learning_rate=1, classifier__max_depth=3, classifier__reg_lambda=10; total time=   0.0s\n",
      "[CV] END classifier__gamma=0, classifier__learning_rate=1, classifier__max_depth=3, classifier__reg_lambda=10; total time=   0.0s\n",
      "[CV] END classifier__gamma=0, classifier__learning_rate=1, classifier__max_depth=3, classifier__reg_lambda=10; total time=   0.0s\n",
      "[CV] END classifier__gamma=0, classifier__learning_rate=1, classifier__max_depth=4, classifier__reg_lambda=0; total time=   0.0s\n",
      "[CV] END classifier__gamma=0, classifier__learning_rate=1, classifier__max_depth=4, classifier__reg_lambda=0; total time=   0.0s\n",
      "[CV] END classifier__gamma=0, classifier__learning_rate=1, classifier__max_depth=4, classifier__reg_lambda=0; total time=   0.0s\n",
      "[CV] END classifier__gamma=0, classifier__learning_rate=1, classifier__max_depth=4, classifier__reg_lambda=0; total time=   0.0s\n",
      "[CV] END classifier__gamma=0, classifier__learning_rate=1, classifier__max_depth=4, classifier__reg_lambda=1; total time=   0.0s\n",
      "[CV] END classifier__gamma=0, classifier__learning_rate=1, classifier__max_depth=4, classifier__reg_lambda=1; total time=   0.0s\n",
      "[CV] END classifier__gamma=0, classifier__learning_rate=1, classifier__max_depth=4, classifier__reg_lambda=1; total time=   0.0s\n",
      "[CV] END classifier__gamma=0, classifier__learning_rate=1, classifier__max_depth=4, classifier__reg_lambda=1; total time=   0.0s\n",
      "[CV] END classifier__gamma=0, classifier__learning_rate=1, classifier__max_depth=4, classifier__reg_lambda=10; total time=   0.0s\n",
      "[CV] END classifier__gamma=0, classifier__learning_rate=1, classifier__max_depth=4, classifier__reg_lambda=10; total time=   0.0s\n",
      "[CV] END classifier__gamma=0, classifier__learning_rate=1, classifier__max_depth=4, classifier__reg_lambda=10; total time=   0.0s\n",
      "[CV] END classifier__gamma=0, classifier__learning_rate=1, classifier__max_depth=4, classifier__reg_lambda=10; total time=   0.0s\n",
      "[CV] END classifier__gamma=0, classifier__learning_rate=1, classifier__max_depth=5, classifier__reg_lambda=0; total time=   0.0s\n",
      "[CV] END classifier__gamma=0, classifier__learning_rate=1, classifier__max_depth=5, classifier__reg_lambda=0; total time=   0.0s\n",
      "[CV] END classifier__gamma=0, classifier__learning_rate=1, classifier__max_depth=5, classifier__reg_lambda=0; total time=   0.0s\n",
      "[CV] END classifier__gamma=0, classifier__learning_rate=1, classifier__max_depth=5, classifier__reg_lambda=0; total time=   0.0s\n",
      "[CV] END classifier__gamma=0, classifier__learning_rate=1, classifier__max_depth=5, classifier__reg_lambda=1; total time=   0.0s\n",
      "[CV] END classifier__gamma=0, classifier__learning_rate=1, classifier__max_depth=5, classifier__reg_lambda=1; total time=   0.0s\n",
      "[CV] END classifier__gamma=0, classifier__learning_rate=1, classifier__max_depth=5, classifier__reg_lambda=1; total time=   0.0s\n",
      "[CV] END classifier__gamma=0, classifier__learning_rate=1, classifier__max_depth=5, classifier__reg_lambda=1; total time=   0.0s\n",
      "[CV] END classifier__gamma=0, classifier__learning_rate=1, classifier__max_depth=5, classifier__reg_lambda=10; total time=   0.0s\n",
      "[CV] END classifier__gamma=0, classifier__learning_rate=1, classifier__max_depth=5, classifier__reg_lambda=10; total time=   0.0s\n",
      "[CV] END classifier__gamma=0, classifier__learning_rate=1, classifier__max_depth=5, classifier__reg_lambda=10; total time=   0.0s\n",
      "[CV] END classifier__gamma=0, classifier__learning_rate=1, classifier__max_depth=5, classifier__reg_lambda=10; total time=   0.0s\n",
      "[CV] END classifier__gamma=0, classifier__learning_rate=0.5, classifier__max_depth=3, classifier__reg_lambda=0; total time=   0.0s\n",
      "[CV] END classifier__gamma=0, classifier__learning_rate=0.5, classifier__max_depth=3, classifier__reg_lambda=0; total time=   0.0s\n",
      "[CV] END classifier__gamma=0, classifier__learning_rate=0.5, classifier__max_depth=3, classifier__reg_lambda=0; total time=   0.0s\n",
      "[CV] END classifier__gamma=0, classifier__learning_rate=0.5, classifier__max_depth=3, classifier__reg_lambda=0; total time=   0.0s\n",
      "[CV] END classifier__gamma=0, classifier__learning_rate=0.5, classifier__max_depth=3, classifier__reg_lambda=1; total time=   0.0s\n",
      "[CV] END classifier__gamma=0, classifier__learning_rate=0.5, classifier__max_depth=3, classifier__reg_lambda=1; total time=   0.0s\n",
      "[CV] END classifier__gamma=0, classifier__learning_rate=0.5, classifier__max_depth=3, classifier__reg_lambda=1; total time=   0.0s\n",
      "[CV] END classifier__gamma=0, classifier__learning_rate=0.5, classifier__max_depth=3, classifier__reg_lambda=1; total time=   0.0s\n",
      "[CV] END classifier__gamma=0, classifier__learning_rate=0.5, classifier__max_depth=3, classifier__reg_lambda=10; total time=   0.0s\n",
      "[CV] END classifier__gamma=0, classifier__learning_rate=0.5, classifier__max_depth=3, classifier__reg_lambda=10; total time=   0.0s\n",
      "[CV] END classifier__gamma=0, classifier__learning_rate=0.5, classifier__max_depth=3, classifier__reg_lambda=10; total time=   0.0s\n",
      "[CV] END classifier__gamma=0, classifier__learning_rate=0.5, classifier__max_depth=3, classifier__reg_lambda=10; total time=   0.0s\n",
      "[CV] END classifier__gamma=0, classifier__learning_rate=0.5, classifier__max_depth=4, classifier__reg_lambda=0; total time=   0.0s\n",
      "[CV] END classifier__gamma=0, classifier__learning_rate=0.5, classifier__max_depth=4, classifier__reg_lambda=0; total time=   0.0s\n",
      "[CV] END classifier__gamma=0, classifier__learning_rate=0.5, classifier__max_depth=4, classifier__reg_lambda=0; total time=   0.0s\n",
      "[CV] END classifier__gamma=0, classifier__learning_rate=0.5, classifier__max_depth=4, classifier__reg_lambda=0; total time=   0.0s\n",
      "[CV] END classifier__gamma=0, classifier__learning_rate=0.5, classifier__max_depth=4, classifier__reg_lambda=1; total time=   0.0s\n",
      "[CV] END classifier__gamma=0, classifier__learning_rate=0.5, classifier__max_depth=4, classifier__reg_lambda=1; total time=   0.0s\n",
      "[CV] END classifier__gamma=0, classifier__learning_rate=0.5, classifier__max_depth=4, classifier__reg_lambda=1; total time=   0.0s\n",
      "[CV] END classifier__gamma=0, classifier__learning_rate=0.5, classifier__max_depth=4, classifier__reg_lambda=1; total time=   0.0s\n",
      "[CV] END classifier__gamma=0, classifier__learning_rate=0.5, classifier__max_depth=4, classifier__reg_lambda=10; total time=   0.0s\n",
      "[CV] END classifier__gamma=0, classifier__learning_rate=0.5, classifier__max_depth=4, classifier__reg_lambda=10; total time=   0.0s\n",
      "[CV] END classifier__gamma=0, classifier__learning_rate=0.5, classifier__max_depth=4, classifier__reg_lambda=10; total time=   0.0s\n",
      "[CV] END classifier__gamma=0, classifier__learning_rate=0.5, classifier__max_depth=4, classifier__reg_lambda=10; total time=   0.0s\n",
      "[CV] END classifier__gamma=0, classifier__learning_rate=0.5, classifier__max_depth=5, classifier__reg_lambda=0; total time=   0.0s\n",
      "[CV] END classifier__gamma=0, classifier__learning_rate=0.5, classifier__max_depth=5, classifier__reg_lambda=0; total time=   0.0s\n",
      "[CV] END classifier__gamma=0, classifier__learning_rate=0.5, classifier__max_depth=5, classifier__reg_lambda=0; total time=   0.0s\n",
      "[CV] END classifier__gamma=0, classifier__learning_rate=0.5, classifier__max_depth=5, classifier__reg_lambda=0; total time=   0.0s\n"
     ]
    },
    {
     "name": "stdout",
     "output_type": "stream",
     "text": [
      "[CV] END classifier__gamma=0, classifier__learning_rate=0.5, classifier__max_depth=5, classifier__reg_lambda=1; total time=   0.0s\n",
      "[CV] END classifier__gamma=0, classifier__learning_rate=0.5, classifier__max_depth=5, classifier__reg_lambda=1; total time=   0.0s\n",
      "[CV] END classifier__gamma=0, classifier__learning_rate=0.5, classifier__max_depth=5, classifier__reg_lambda=1; total time=   0.0s\n",
      "[CV] END classifier__gamma=0, classifier__learning_rate=0.5, classifier__max_depth=5, classifier__reg_lambda=1; total time=   0.0s\n",
      "[CV] END classifier__gamma=0, classifier__learning_rate=0.5, classifier__max_depth=5, classifier__reg_lambda=10; total time=   0.0s\n",
      "[CV] END classifier__gamma=0, classifier__learning_rate=0.5, classifier__max_depth=5, classifier__reg_lambda=10; total time=   0.0s\n",
      "[CV] END classifier__gamma=0, classifier__learning_rate=0.5, classifier__max_depth=5, classifier__reg_lambda=10; total time=   0.0s\n",
      "[CV] END classifier__gamma=0, classifier__learning_rate=0.5, classifier__max_depth=5, classifier__reg_lambda=10; total time=   0.0s\n",
      "[CV] END classifier__gamma=0, classifier__learning_rate=0.1, classifier__max_depth=3, classifier__reg_lambda=0; total time=   0.0s\n",
      "[CV] END classifier__gamma=0, classifier__learning_rate=0.1, classifier__max_depth=3, classifier__reg_lambda=0; total time=   0.0s\n",
      "[CV] END classifier__gamma=0, classifier__learning_rate=0.1, classifier__max_depth=3, classifier__reg_lambda=0; total time=   0.0s\n",
      "[CV] END classifier__gamma=0, classifier__learning_rate=0.1, classifier__max_depth=3, classifier__reg_lambda=0; total time=   0.0s\n",
      "[CV] END classifier__gamma=0, classifier__learning_rate=0.1, classifier__max_depth=3, classifier__reg_lambda=1; total time=   0.0s\n",
      "[CV] END classifier__gamma=0, classifier__learning_rate=0.1, classifier__max_depth=3, classifier__reg_lambda=1; total time=   0.0s\n",
      "[CV] END classifier__gamma=0, classifier__learning_rate=0.1, classifier__max_depth=3, classifier__reg_lambda=1; total time=   0.0s\n",
      "[CV] END classifier__gamma=0, classifier__learning_rate=0.1, classifier__max_depth=3, classifier__reg_lambda=1; total time=   0.0s\n",
      "[CV] END classifier__gamma=0, classifier__learning_rate=0.1, classifier__max_depth=3, classifier__reg_lambda=10; total time=   0.0s\n",
      "[CV] END classifier__gamma=0, classifier__learning_rate=0.1, classifier__max_depth=3, classifier__reg_lambda=10; total time=   0.0s\n",
      "[CV] END classifier__gamma=0, classifier__learning_rate=0.1, classifier__max_depth=3, classifier__reg_lambda=10; total time=   0.0s\n",
      "[CV] END classifier__gamma=0, classifier__learning_rate=0.1, classifier__max_depth=3, classifier__reg_lambda=10; total time=   0.0s\n",
      "[CV] END classifier__gamma=0, classifier__learning_rate=0.1, classifier__max_depth=4, classifier__reg_lambda=0; total time=   0.1s\n",
      "[CV] END classifier__gamma=0, classifier__learning_rate=0.1, classifier__max_depth=4, classifier__reg_lambda=0; total time=   0.1s\n",
      "[CV] END classifier__gamma=0, classifier__learning_rate=0.1, classifier__max_depth=4, classifier__reg_lambda=0; total time=   0.0s\n",
      "[CV] END classifier__gamma=0, classifier__learning_rate=0.1, classifier__max_depth=4, classifier__reg_lambda=0; total time=   0.0s\n",
      "[CV] END classifier__gamma=0, classifier__learning_rate=0.1, classifier__max_depth=4, classifier__reg_lambda=1; total time=   0.0s\n",
      "[CV] END classifier__gamma=0, classifier__learning_rate=0.1, classifier__max_depth=4, classifier__reg_lambda=1; total time=   0.0s\n",
      "[CV] END classifier__gamma=0, classifier__learning_rate=0.1, classifier__max_depth=4, classifier__reg_lambda=1; total time=   0.2s\n",
      "[CV] END classifier__gamma=0, classifier__learning_rate=0.1, classifier__max_depth=4, classifier__reg_lambda=1; total time=   0.0s\n",
      "[CV] END classifier__gamma=0, classifier__learning_rate=0.1, classifier__max_depth=4, classifier__reg_lambda=10; total time=   0.0s\n",
      "[CV] END classifier__gamma=0, classifier__learning_rate=0.1, classifier__max_depth=4, classifier__reg_lambda=10; total time=   0.0s\n",
      "[CV] END classifier__gamma=0, classifier__learning_rate=0.1, classifier__max_depth=4, classifier__reg_lambda=10; total time=   0.0s\n",
      "[CV] END classifier__gamma=0, classifier__learning_rate=0.1, classifier__max_depth=4, classifier__reg_lambda=10; total time=   0.0s\n",
      "[CV] END classifier__gamma=0, classifier__learning_rate=0.1, classifier__max_depth=5, classifier__reg_lambda=0; total time=   0.0s\n",
      "[CV] END classifier__gamma=0, classifier__learning_rate=0.1, classifier__max_depth=5, classifier__reg_lambda=0; total time=   0.0s\n",
      "[CV] END classifier__gamma=0, classifier__learning_rate=0.1, classifier__max_depth=5, classifier__reg_lambda=0; total time=   0.0s\n",
      "[CV] END classifier__gamma=0, classifier__learning_rate=0.1, classifier__max_depth=5, classifier__reg_lambda=0; total time=   0.0s\n",
      "[CV] END classifier__gamma=0, classifier__learning_rate=0.1, classifier__max_depth=5, classifier__reg_lambda=1; total time=   0.0s\n",
      "[CV] END classifier__gamma=0, classifier__learning_rate=0.1, classifier__max_depth=5, classifier__reg_lambda=1; total time=   0.0s\n",
      "[CV] END classifier__gamma=0, classifier__learning_rate=0.1, classifier__max_depth=5, classifier__reg_lambda=1; total time=   0.0s\n",
      "[CV] END classifier__gamma=0, classifier__learning_rate=0.1, classifier__max_depth=5, classifier__reg_lambda=1; total time=   0.0s\n",
      "[CV] END classifier__gamma=0, classifier__learning_rate=0.1, classifier__max_depth=5, classifier__reg_lambda=10; total time=   0.0s\n",
      "[CV] END classifier__gamma=0, classifier__learning_rate=0.1, classifier__max_depth=5, classifier__reg_lambda=10; total time=   0.0s\n",
      "[CV] END classifier__gamma=0, classifier__learning_rate=0.1, classifier__max_depth=5, classifier__reg_lambda=10; total time=   0.0s\n",
      "[CV] END classifier__gamma=0, classifier__learning_rate=0.1, classifier__max_depth=5, classifier__reg_lambda=10; total time=   0.0s\n",
      "[CV] END classifier__gamma=0, classifier__learning_rate=0.05, classifier__max_depth=3, classifier__reg_lambda=0; total time=   0.0s\n",
      "[CV] END classifier__gamma=0, classifier__learning_rate=0.05, classifier__max_depth=3, classifier__reg_lambda=0; total time=   0.0s\n",
      "[CV] END classifier__gamma=0, classifier__learning_rate=0.05, classifier__max_depth=3, classifier__reg_lambda=0; total time=   0.0s\n",
      "[CV] END classifier__gamma=0, classifier__learning_rate=0.05, classifier__max_depth=3, classifier__reg_lambda=0; total time=   0.0s\n",
      "[CV] END classifier__gamma=0, classifier__learning_rate=0.05, classifier__max_depth=3, classifier__reg_lambda=1; total time=   0.0s\n",
      "[CV] END classifier__gamma=0, classifier__learning_rate=0.05, classifier__max_depth=3, classifier__reg_lambda=1; total time=   0.0s\n",
      "[CV] END classifier__gamma=0, classifier__learning_rate=0.05, classifier__max_depth=3, classifier__reg_lambda=1; total time=   0.2s\n",
      "[CV] END classifier__gamma=0, classifier__learning_rate=0.05, classifier__max_depth=3, classifier__reg_lambda=1; total time=   0.0s\n",
      "[CV] END classifier__gamma=0, classifier__learning_rate=0.05, classifier__max_depth=3, classifier__reg_lambda=10; total time=   0.0s\n",
      "[CV] END classifier__gamma=0, classifier__learning_rate=0.05, classifier__max_depth=3, classifier__reg_lambda=10; total time=   0.0s\n",
      "[CV] END classifier__gamma=0, classifier__learning_rate=0.05, classifier__max_depth=3, classifier__reg_lambda=10; total time=   0.0s\n",
      "[CV] END classifier__gamma=0, classifier__learning_rate=0.05, classifier__max_depth=3, classifier__reg_lambda=10; total time=   0.0s\n",
      "[CV] END classifier__gamma=0, classifier__learning_rate=0.05, classifier__max_depth=4, classifier__reg_lambda=0; total time=   0.0s\n",
      "[CV] END classifier__gamma=0, classifier__learning_rate=0.05, classifier__max_depth=4, classifier__reg_lambda=0; total time=   0.0s\n",
      "[CV] END classifier__gamma=0, classifier__learning_rate=0.05, classifier__max_depth=4, classifier__reg_lambda=0; total time=   0.0s\n",
      "[CV] END classifier__gamma=0, classifier__learning_rate=0.05, classifier__max_depth=4, classifier__reg_lambda=0; total time=   0.0s\n",
      "[CV] END classifier__gamma=0, classifier__learning_rate=0.05, classifier__max_depth=4, classifier__reg_lambda=1; total time=   0.0s\n",
      "[CV] END classifier__gamma=0, classifier__learning_rate=0.05, classifier__max_depth=4, classifier__reg_lambda=1; total time=   0.0s\n"
     ]
    },
    {
     "name": "stdout",
     "output_type": "stream",
     "text": [
      "[CV] END classifier__gamma=0, classifier__learning_rate=0.05, classifier__max_depth=4, classifier__reg_lambda=1; total time=   0.0s\n",
      "[CV] END classifier__gamma=0, classifier__learning_rate=0.05, classifier__max_depth=4, classifier__reg_lambda=1; total time=   0.0s\n",
      "[CV] END classifier__gamma=0, classifier__learning_rate=0.05, classifier__max_depth=4, classifier__reg_lambda=10; total time=   0.0s\n",
      "[CV] END classifier__gamma=0, classifier__learning_rate=0.05, classifier__max_depth=4, classifier__reg_lambda=10; total time=   0.0s\n",
      "[CV] END classifier__gamma=0, classifier__learning_rate=0.05, classifier__max_depth=4, classifier__reg_lambda=10; total time=   0.0s\n",
      "[CV] END classifier__gamma=0, classifier__learning_rate=0.05, classifier__max_depth=4, classifier__reg_lambda=10; total time=   0.0s\n",
      "[CV] END classifier__gamma=0, classifier__learning_rate=0.05, classifier__max_depth=5, classifier__reg_lambda=0; total time=   0.0s\n",
      "[CV] END classifier__gamma=0, classifier__learning_rate=0.05, classifier__max_depth=5, classifier__reg_lambda=0; total time=   0.0s\n",
      "[CV] END classifier__gamma=0, classifier__learning_rate=0.05, classifier__max_depth=5, classifier__reg_lambda=0; total time=   0.0s\n",
      "[CV] END classifier__gamma=0, classifier__learning_rate=0.05, classifier__max_depth=5, classifier__reg_lambda=0; total time=   0.0s\n",
      "[CV] END classifier__gamma=0, classifier__learning_rate=0.05, classifier__max_depth=5, classifier__reg_lambda=1; total time=   0.0s\n",
      "[CV] END classifier__gamma=0, classifier__learning_rate=0.05, classifier__max_depth=5, classifier__reg_lambda=1; total time=   0.0s\n",
      "[CV] END classifier__gamma=0, classifier__learning_rate=0.05, classifier__max_depth=5, classifier__reg_lambda=1; total time=   0.0s\n",
      "[CV] END classifier__gamma=0, classifier__learning_rate=0.05, classifier__max_depth=5, classifier__reg_lambda=1; total time=   0.0s\n",
      "[CV] END classifier__gamma=0, classifier__learning_rate=0.05, classifier__max_depth=5, classifier__reg_lambda=10; total time=   0.0s\n",
      "[CV] END classifier__gamma=0, classifier__learning_rate=0.05, classifier__max_depth=5, classifier__reg_lambda=10; total time=   0.0s\n",
      "[CV] END classifier__gamma=0, classifier__learning_rate=0.05, classifier__max_depth=5, classifier__reg_lambda=10; total time=   0.0s\n",
      "[CV] END classifier__gamma=0, classifier__learning_rate=0.05, classifier__max_depth=5, classifier__reg_lambda=10; total time=   0.0s\n",
      "[CV] END classifier__gamma=0, classifier__learning_rate=0.01, classifier__max_depth=3, classifier__reg_lambda=0; total time=   0.0s\n",
      "[CV] END classifier__gamma=0, classifier__learning_rate=0.01, classifier__max_depth=3, classifier__reg_lambda=0; total time=   0.0s\n",
      "[CV] END classifier__gamma=0, classifier__learning_rate=0.01, classifier__max_depth=3, classifier__reg_lambda=0; total time=   0.0s\n",
      "[CV] END classifier__gamma=0, classifier__learning_rate=0.01, classifier__max_depth=3, classifier__reg_lambda=0; total time=   0.0s\n",
      "[CV] END classifier__gamma=0, classifier__learning_rate=0.01, classifier__max_depth=3, classifier__reg_lambda=1; total time=   0.0s\n",
      "[CV] END classifier__gamma=0, classifier__learning_rate=0.01, classifier__max_depth=3, classifier__reg_lambda=1; total time=   0.0s\n",
      "[CV] END classifier__gamma=0, classifier__learning_rate=0.01, classifier__max_depth=3, classifier__reg_lambda=1; total time=   0.0s\n",
      "[CV] END classifier__gamma=0, classifier__learning_rate=0.01, classifier__max_depth=3, classifier__reg_lambda=1; total time=   0.0s\n",
      "[CV] END classifier__gamma=0, classifier__learning_rate=0.01, classifier__max_depth=3, classifier__reg_lambda=10; total time=   0.0s\n",
      "[CV] END classifier__gamma=0, classifier__learning_rate=0.01, classifier__max_depth=3, classifier__reg_lambda=10; total time=   0.0s\n",
      "[CV] END classifier__gamma=0, classifier__learning_rate=0.01, classifier__max_depth=3, classifier__reg_lambda=10; total time=   0.0s\n",
      "[CV] END classifier__gamma=0, classifier__learning_rate=0.01, classifier__max_depth=3, classifier__reg_lambda=10; total time=   0.0s\n",
      "[CV] END classifier__gamma=0, classifier__learning_rate=0.01, classifier__max_depth=4, classifier__reg_lambda=0; total time=   0.0s\n",
      "[CV] END classifier__gamma=0, classifier__learning_rate=0.01, classifier__max_depth=4, classifier__reg_lambda=0; total time=   0.0s\n",
      "[CV] END classifier__gamma=0, classifier__learning_rate=0.01, classifier__max_depth=4, classifier__reg_lambda=0; total time=   0.0s\n",
      "[CV] END classifier__gamma=0, classifier__learning_rate=0.01, classifier__max_depth=4, classifier__reg_lambda=0; total time=   0.0s\n",
      "[CV] END classifier__gamma=0, classifier__learning_rate=0.01, classifier__max_depth=4, classifier__reg_lambda=1; total time=   0.0s\n",
      "[CV] END classifier__gamma=0, classifier__learning_rate=0.01, classifier__max_depth=4, classifier__reg_lambda=1; total time=   0.0s\n",
      "[CV] END classifier__gamma=0, classifier__learning_rate=0.01, classifier__max_depth=4, classifier__reg_lambda=1; total time=   0.0s\n",
      "[CV] END classifier__gamma=0, classifier__learning_rate=0.01, classifier__max_depth=4, classifier__reg_lambda=1; total time=   0.0s\n",
      "[CV] END classifier__gamma=0, classifier__learning_rate=0.01, classifier__max_depth=4, classifier__reg_lambda=10; total time=   0.0s\n",
      "[CV] END classifier__gamma=0, classifier__learning_rate=0.01, classifier__max_depth=4, classifier__reg_lambda=10; total time=   0.0s\n",
      "[CV] END classifier__gamma=0, classifier__learning_rate=0.01, classifier__max_depth=4, classifier__reg_lambda=10; total time=   0.0s\n",
      "[CV] END classifier__gamma=0, classifier__learning_rate=0.01, classifier__max_depth=4, classifier__reg_lambda=10; total time=   0.0s\n",
      "[CV] END classifier__gamma=0, classifier__learning_rate=0.01, classifier__max_depth=5, classifier__reg_lambda=0; total time=   0.0s\n",
      "[CV] END classifier__gamma=0, classifier__learning_rate=0.01, classifier__max_depth=5, classifier__reg_lambda=0; total time=   0.0s\n",
      "[CV] END classifier__gamma=0, classifier__learning_rate=0.01, classifier__max_depth=5, classifier__reg_lambda=0; total time=   0.1s\n",
      "[CV] END classifier__gamma=0, classifier__learning_rate=0.01, classifier__max_depth=5, classifier__reg_lambda=0; total time=   0.1s\n",
      "[CV] END classifier__gamma=0, classifier__learning_rate=0.01, classifier__max_depth=5, classifier__reg_lambda=1; total time=   0.1s\n",
      "[CV] END classifier__gamma=0, classifier__learning_rate=0.01, classifier__max_depth=5, classifier__reg_lambda=1; total time=   0.1s\n",
      "[CV] END classifier__gamma=0, classifier__learning_rate=0.01, classifier__max_depth=5, classifier__reg_lambda=1; total time=   0.1s\n",
      "[CV] END classifier__gamma=0, classifier__learning_rate=0.01, classifier__max_depth=5, classifier__reg_lambda=1; total time=   0.1s\n",
      "[CV] END classifier__gamma=0, classifier__learning_rate=0.01, classifier__max_depth=5, classifier__reg_lambda=10; total time=   0.0s\n",
      "[CV] END classifier__gamma=0, classifier__learning_rate=0.01, classifier__max_depth=5, classifier__reg_lambda=10; total time=   0.0s\n",
      "[CV] END classifier__gamma=0, classifier__learning_rate=0.01, classifier__max_depth=5, classifier__reg_lambda=10; total time=   0.0s\n",
      "[CV] END classifier__gamma=0, classifier__learning_rate=0.01, classifier__max_depth=5, classifier__reg_lambda=10; total time=   0.0s\n",
      "[CV] END classifier__gamma=0.25, classifier__learning_rate=1, classifier__max_depth=3, classifier__reg_lambda=0; total time=   0.0s\n",
      "[CV] END classifier__gamma=0.25, classifier__learning_rate=1, classifier__max_depth=3, classifier__reg_lambda=0; total time=   0.0s\n",
      "[CV] END classifier__gamma=0.25, classifier__learning_rate=1, classifier__max_depth=3, classifier__reg_lambda=0; total time=   0.0s\n",
      "[CV] END classifier__gamma=0.25, classifier__learning_rate=1, classifier__max_depth=3, classifier__reg_lambda=0; total time=   0.0s\n",
      "[CV] END classifier__gamma=0.25, classifier__learning_rate=1, classifier__max_depth=3, classifier__reg_lambda=1; total time=   0.0s\n",
      "[CV] END classifier__gamma=0.25, classifier__learning_rate=1, classifier__max_depth=3, classifier__reg_lambda=1; total time=   0.0s\n",
      "[CV] END classifier__gamma=0.25, classifier__learning_rate=1, classifier__max_depth=3, classifier__reg_lambda=1; total time=   0.0s\n"
     ]
    },
    {
     "name": "stdout",
     "output_type": "stream",
     "text": [
      "[CV] END classifier__gamma=0.25, classifier__learning_rate=1, classifier__max_depth=3, classifier__reg_lambda=1; total time=   0.0s\n",
      "[CV] END classifier__gamma=0.25, classifier__learning_rate=1, classifier__max_depth=3, classifier__reg_lambda=10; total time=   0.0s\n",
      "[CV] END classifier__gamma=0.25, classifier__learning_rate=1, classifier__max_depth=3, classifier__reg_lambda=10; total time=   0.0s\n",
      "[CV] END classifier__gamma=0.25, classifier__learning_rate=1, classifier__max_depth=3, classifier__reg_lambda=10; total time=   0.0s\n",
      "[CV] END classifier__gamma=0.25, classifier__learning_rate=1, classifier__max_depth=3, classifier__reg_lambda=10; total time=   0.0s\n",
      "[CV] END classifier__gamma=0.25, classifier__learning_rate=1, classifier__max_depth=4, classifier__reg_lambda=0; total time=   0.0s\n",
      "[CV] END classifier__gamma=0.25, classifier__learning_rate=1, classifier__max_depth=4, classifier__reg_lambda=0; total time=   0.0s\n",
      "[CV] END classifier__gamma=0.25, classifier__learning_rate=1, classifier__max_depth=4, classifier__reg_lambda=0; total time=   0.0s\n",
      "[CV] END classifier__gamma=0.25, classifier__learning_rate=1, classifier__max_depth=4, classifier__reg_lambda=0; total time=   0.0s\n",
      "[CV] END classifier__gamma=0.25, classifier__learning_rate=1, classifier__max_depth=4, classifier__reg_lambda=1; total time=   0.0s\n",
      "[CV] END classifier__gamma=0.25, classifier__learning_rate=1, classifier__max_depth=4, classifier__reg_lambda=1; total time=   0.0s\n",
      "[CV] END classifier__gamma=0.25, classifier__learning_rate=1, classifier__max_depth=4, classifier__reg_lambda=1; total time=   0.0s\n",
      "[CV] END classifier__gamma=0.25, classifier__learning_rate=1, classifier__max_depth=4, classifier__reg_lambda=1; total time=   0.0s\n",
      "[CV] END classifier__gamma=0.25, classifier__learning_rate=1, classifier__max_depth=4, classifier__reg_lambda=10; total time=   0.0s\n",
      "[CV] END classifier__gamma=0.25, classifier__learning_rate=1, classifier__max_depth=4, classifier__reg_lambda=10; total time=   0.0s\n",
      "[CV] END classifier__gamma=0.25, classifier__learning_rate=1, classifier__max_depth=4, classifier__reg_lambda=10; total time=   0.0s\n",
      "[CV] END classifier__gamma=0.25, classifier__learning_rate=1, classifier__max_depth=4, classifier__reg_lambda=10; total time=   0.0s\n",
      "[CV] END classifier__gamma=0.25, classifier__learning_rate=1, classifier__max_depth=5, classifier__reg_lambda=0; total time=   0.0s\n",
      "[CV] END classifier__gamma=0.25, classifier__learning_rate=1, classifier__max_depth=5, classifier__reg_lambda=0; total time=   0.0s\n",
      "[CV] END classifier__gamma=0.25, classifier__learning_rate=1, classifier__max_depth=5, classifier__reg_lambda=0; total time=   0.0s\n",
      "[CV] END classifier__gamma=0.25, classifier__learning_rate=1, classifier__max_depth=5, classifier__reg_lambda=0; total time=   0.0s\n",
      "[CV] END classifier__gamma=0.25, classifier__learning_rate=1, classifier__max_depth=5, classifier__reg_lambda=1; total time=   0.0s\n",
      "[CV] END classifier__gamma=0.25, classifier__learning_rate=1, classifier__max_depth=5, classifier__reg_lambda=1; total time=   0.0s\n",
      "[CV] END classifier__gamma=0.25, classifier__learning_rate=1, classifier__max_depth=5, classifier__reg_lambda=1; total time=   0.0s\n",
      "[CV] END classifier__gamma=0.25, classifier__learning_rate=1, classifier__max_depth=5, classifier__reg_lambda=1; total time=   0.0s\n",
      "[CV] END classifier__gamma=0.25, classifier__learning_rate=1, classifier__max_depth=5, classifier__reg_lambda=10; total time=   0.0s\n",
      "[CV] END classifier__gamma=0.25, classifier__learning_rate=1, classifier__max_depth=5, classifier__reg_lambda=10; total time=   0.0s\n",
      "[CV] END classifier__gamma=0.25, classifier__learning_rate=1, classifier__max_depth=5, classifier__reg_lambda=10; total time=   0.0s\n",
      "[CV] END classifier__gamma=0.25, classifier__learning_rate=1, classifier__max_depth=5, classifier__reg_lambda=10; total time=   0.0s\n",
      "[CV] END classifier__gamma=0.25, classifier__learning_rate=0.5, classifier__max_depth=3, classifier__reg_lambda=0; total time=   0.0s\n",
      "[CV] END classifier__gamma=0.25, classifier__learning_rate=0.5, classifier__max_depth=3, classifier__reg_lambda=0; total time=   0.0s\n",
      "[CV] END classifier__gamma=0.25, classifier__learning_rate=0.5, classifier__max_depth=3, classifier__reg_lambda=0; total time=   0.0s\n",
      "[CV] END classifier__gamma=0.25, classifier__learning_rate=0.5, classifier__max_depth=3, classifier__reg_lambda=0; total time=   0.0s\n",
      "[CV] END classifier__gamma=0.25, classifier__learning_rate=0.5, classifier__max_depth=3, classifier__reg_lambda=1; total time=   0.0s\n",
      "[CV] END classifier__gamma=0.25, classifier__learning_rate=0.5, classifier__max_depth=3, classifier__reg_lambda=1; total time=   0.0s\n",
      "[CV] END classifier__gamma=0.25, classifier__learning_rate=0.5, classifier__max_depth=3, classifier__reg_lambda=1; total time=   0.0s\n",
      "[CV] END classifier__gamma=0.25, classifier__learning_rate=0.5, classifier__max_depth=3, classifier__reg_lambda=1; total time=   0.0s\n",
      "[CV] END classifier__gamma=0.25, classifier__learning_rate=0.5, classifier__max_depth=3, classifier__reg_lambda=10; total time=   0.0s\n",
      "[CV] END classifier__gamma=0.25, classifier__learning_rate=0.5, classifier__max_depth=3, classifier__reg_lambda=10; total time=   0.0s\n",
      "[CV] END classifier__gamma=0.25, classifier__learning_rate=0.5, classifier__max_depth=3, classifier__reg_lambda=10; total time=   0.0s\n",
      "[CV] END classifier__gamma=0.25, classifier__learning_rate=0.5, classifier__max_depth=3, classifier__reg_lambda=10; total time=   0.0s\n",
      "[CV] END classifier__gamma=0.25, classifier__learning_rate=0.5, classifier__max_depth=4, classifier__reg_lambda=0; total time=   0.0s\n",
      "[CV] END classifier__gamma=0.25, classifier__learning_rate=0.5, classifier__max_depth=4, classifier__reg_lambda=0; total time=   0.0s\n",
      "[CV] END classifier__gamma=0.25, classifier__learning_rate=0.5, classifier__max_depth=4, classifier__reg_lambda=0; total time=   0.0s\n",
      "[CV] END classifier__gamma=0.25, classifier__learning_rate=0.5, classifier__max_depth=4, classifier__reg_lambda=0; total time=   0.0s\n",
      "[CV] END classifier__gamma=0.25, classifier__learning_rate=0.5, classifier__max_depth=4, classifier__reg_lambda=1; total time=   0.0s\n",
      "[CV] END classifier__gamma=0.25, classifier__learning_rate=0.5, classifier__max_depth=4, classifier__reg_lambda=1; total time=   0.0s\n",
      "[CV] END classifier__gamma=0.25, classifier__learning_rate=0.5, classifier__max_depth=4, classifier__reg_lambda=1; total time=   0.0s\n",
      "[CV] END classifier__gamma=0.25, classifier__learning_rate=0.5, classifier__max_depth=4, classifier__reg_lambda=1; total time=   0.0s\n",
      "[CV] END classifier__gamma=0.25, classifier__learning_rate=0.5, classifier__max_depth=4, classifier__reg_lambda=10; total time=   0.0s\n",
      "[CV] END classifier__gamma=0.25, classifier__learning_rate=0.5, classifier__max_depth=4, classifier__reg_lambda=10; total time=   0.0s\n",
      "[CV] END classifier__gamma=0.25, classifier__learning_rate=0.5, classifier__max_depth=4, classifier__reg_lambda=10; total time=   0.0s\n",
      "[CV] END classifier__gamma=0.25, classifier__learning_rate=0.5, classifier__max_depth=4, classifier__reg_lambda=10; total time=   0.0s\n",
      "[CV] END classifier__gamma=0.25, classifier__learning_rate=0.5, classifier__max_depth=5, classifier__reg_lambda=0; total time=   0.0s\n",
      "[CV] END classifier__gamma=0.25, classifier__learning_rate=0.5, classifier__max_depth=5, classifier__reg_lambda=0; total time=   0.0s\n",
      "[CV] END classifier__gamma=0.25, classifier__learning_rate=0.5, classifier__max_depth=5, classifier__reg_lambda=0; total time=   0.0s\n",
      "[CV] END classifier__gamma=0.25, classifier__learning_rate=0.5, classifier__max_depth=5, classifier__reg_lambda=0; total time=   0.0s\n",
      "[CV] END classifier__gamma=0.25, classifier__learning_rate=0.5, classifier__max_depth=5, classifier__reg_lambda=1; total time=   0.0s\n",
      "[CV] END classifier__gamma=0.25, classifier__learning_rate=0.5, classifier__max_depth=5, classifier__reg_lambda=1; total time=   0.0s\n",
      "[CV] END classifier__gamma=0.25, classifier__learning_rate=0.5, classifier__max_depth=5, classifier__reg_lambda=1; total time=   0.0s\n",
      "[CV] END classifier__gamma=0.25, classifier__learning_rate=0.5, classifier__max_depth=5, classifier__reg_lambda=1; total time=   0.0s\n",
      "[CV] END classifier__gamma=0.25, classifier__learning_rate=0.5, classifier__max_depth=5, classifier__reg_lambda=10; total time=   0.0s\n",
      "[CV] END classifier__gamma=0.25, classifier__learning_rate=0.5, classifier__max_depth=5, classifier__reg_lambda=10; total time=   0.0s\n"
     ]
    },
    {
     "name": "stdout",
     "output_type": "stream",
     "text": [
      "[CV] END classifier__gamma=0.25, classifier__learning_rate=0.5, classifier__max_depth=5, classifier__reg_lambda=10; total time=   0.0s\n",
      "[CV] END classifier__gamma=0.25, classifier__learning_rate=0.5, classifier__max_depth=5, classifier__reg_lambda=10; total time=   0.0s\n",
      "[CV] END classifier__gamma=0.25, classifier__learning_rate=0.1, classifier__max_depth=3, classifier__reg_lambda=0; total time=   0.0s\n",
      "[CV] END classifier__gamma=0.25, classifier__learning_rate=0.1, classifier__max_depth=3, classifier__reg_lambda=0; total time=   0.0s\n",
      "[CV] END classifier__gamma=0.25, classifier__learning_rate=0.1, classifier__max_depth=3, classifier__reg_lambda=0; total time=   0.0s\n",
      "[CV] END classifier__gamma=0.25, classifier__learning_rate=0.1, classifier__max_depth=3, classifier__reg_lambda=0; total time=   0.0s\n",
      "[CV] END classifier__gamma=0.25, classifier__learning_rate=0.1, classifier__max_depth=3, classifier__reg_lambda=1; total time=   0.0s\n",
      "[CV] END classifier__gamma=0.25, classifier__learning_rate=0.1, classifier__max_depth=3, classifier__reg_lambda=1; total time=   0.0s\n",
      "[CV] END classifier__gamma=0.25, classifier__learning_rate=0.1, classifier__max_depth=3, classifier__reg_lambda=1; total time=   0.0s\n",
      "[CV] END classifier__gamma=0.25, classifier__learning_rate=0.1, classifier__max_depth=3, classifier__reg_lambda=1; total time=   0.0s\n",
      "[CV] END classifier__gamma=0.25, classifier__learning_rate=0.1, classifier__max_depth=3, classifier__reg_lambda=10; total time=   0.0s\n",
      "[CV] END classifier__gamma=0.25, classifier__learning_rate=0.1, classifier__max_depth=3, classifier__reg_lambda=10; total time=   0.0s\n",
      "[CV] END classifier__gamma=0.25, classifier__learning_rate=0.1, classifier__max_depth=3, classifier__reg_lambda=10; total time=   0.0s\n",
      "[CV] END classifier__gamma=0.25, classifier__learning_rate=0.1, classifier__max_depth=3, classifier__reg_lambda=10; total time=   0.0s\n",
      "[CV] END classifier__gamma=0.25, classifier__learning_rate=0.1, classifier__max_depth=4, classifier__reg_lambda=0; total time=   0.0s\n",
      "[CV] END classifier__gamma=0.25, classifier__learning_rate=0.1, classifier__max_depth=4, classifier__reg_lambda=0; total time=   0.0s\n",
      "[CV] END classifier__gamma=0.25, classifier__learning_rate=0.1, classifier__max_depth=4, classifier__reg_lambda=0; total time=   0.0s\n",
      "[CV] END classifier__gamma=0.25, classifier__learning_rate=0.1, classifier__max_depth=4, classifier__reg_lambda=0; total time=   0.0s\n",
      "[CV] END classifier__gamma=0.25, classifier__learning_rate=0.1, classifier__max_depth=4, classifier__reg_lambda=1; total time=   0.0s\n",
      "[CV] END classifier__gamma=0.25, classifier__learning_rate=0.1, classifier__max_depth=4, classifier__reg_lambda=1; total time=   0.0s\n",
      "[CV] END classifier__gamma=0.25, classifier__learning_rate=0.1, classifier__max_depth=4, classifier__reg_lambda=1; total time=   0.0s\n",
      "[CV] END classifier__gamma=0.25, classifier__learning_rate=0.1, classifier__max_depth=4, classifier__reg_lambda=1; total time=   0.0s\n",
      "[CV] END classifier__gamma=0.25, classifier__learning_rate=0.1, classifier__max_depth=4, classifier__reg_lambda=10; total time=   0.0s\n",
      "[CV] END classifier__gamma=0.25, classifier__learning_rate=0.1, classifier__max_depth=4, classifier__reg_lambda=10; total time=   0.0s\n",
      "[CV] END classifier__gamma=0.25, classifier__learning_rate=0.1, classifier__max_depth=4, classifier__reg_lambda=10; total time=   0.0s\n",
      "[CV] END classifier__gamma=0.25, classifier__learning_rate=0.1, classifier__max_depth=4, classifier__reg_lambda=10; total time=   0.0s\n",
      "[CV] END classifier__gamma=0.25, classifier__learning_rate=0.1, classifier__max_depth=5, classifier__reg_lambda=0; total time=   0.0s\n",
      "[CV] END classifier__gamma=0.25, classifier__learning_rate=0.1, classifier__max_depth=5, classifier__reg_lambda=0; total time=   0.0s\n",
      "[CV] END classifier__gamma=0.25, classifier__learning_rate=0.1, classifier__max_depth=5, classifier__reg_lambda=0; total time=   0.0s\n",
      "[CV] END classifier__gamma=0.25, classifier__learning_rate=0.1, classifier__max_depth=5, classifier__reg_lambda=0; total time=   0.0s\n",
      "[CV] END classifier__gamma=0.25, classifier__learning_rate=0.1, classifier__max_depth=5, classifier__reg_lambda=1; total time=   0.0s\n",
      "[CV] END classifier__gamma=0.25, classifier__learning_rate=0.1, classifier__max_depth=5, classifier__reg_lambda=1; total time=   0.0s\n",
      "[CV] END classifier__gamma=0.25, classifier__learning_rate=0.1, classifier__max_depth=5, classifier__reg_lambda=1; total time=   0.0s\n",
      "[CV] END classifier__gamma=0.25, classifier__learning_rate=0.1, classifier__max_depth=5, classifier__reg_lambda=1; total time=   0.0s\n",
      "[CV] END classifier__gamma=0.25, classifier__learning_rate=0.1, classifier__max_depth=5, classifier__reg_lambda=10; total time=   0.0s\n",
      "[CV] END classifier__gamma=0.25, classifier__learning_rate=0.1, classifier__max_depth=5, classifier__reg_lambda=10; total time=   0.0s\n",
      "[CV] END classifier__gamma=0.25, classifier__learning_rate=0.1, classifier__max_depth=5, classifier__reg_lambda=10; total time=   0.0s\n",
      "[CV] END classifier__gamma=0.25, classifier__learning_rate=0.1, classifier__max_depth=5, classifier__reg_lambda=10; total time=   0.0s\n",
      "[CV] END classifier__gamma=0.25, classifier__learning_rate=0.05, classifier__max_depth=3, classifier__reg_lambda=0; total time=   0.0s\n",
      "[CV] END classifier__gamma=0.25, classifier__learning_rate=0.05, classifier__max_depth=3, classifier__reg_lambda=0; total time=   0.0s\n",
      "[CV] END classifier__gamma=0.25, classifier__learning_rate=0.05, classifier__max_depth=3, classifier__reg_lambda=0; total time=   0.0s\n",
      "[CV] END classifier__gamma=0.25, classifier__learning_rate=0.05, classifier__max_depth=3, classifier__reg_lambda=0; total time=   0.0s\n",
      "[CV] END classifier__gamma=0.25, classifier__learning_rate=0.05, classifier__max_depth=3, classifier__reg_lambda=1; total time=   0.0s\n",
      "[CV] END classifier__gamma=0.25, classifier__learning_rate=0.05, classifier__max_depth=3, classifier__reg_lambda=1; total time=   0.0s\n",
      "[CV] END classifier__gamma=0.25, classifier__learning_rate=0.05, classifier__max_depth=3, classifier__reg_lambda=1; total time=   0.0s\n",
      "[CV] END classifier__gamma=0.25, classifier__learning_rate=0.05, classifier__max_depth=3, classifier__reg_lambda=1; total time=   0.0s\n",
      "[CV] END classifier__gamma=0.25, classifier__learning_rate=0.05, classifier__max_depth=3, classifier__reg_lambda=10; total time=   0.0s\n",
      "[CV] END classifier__gamma=0.25, classifier__learning_rate=0.05, classifier__max_depth=3, classifier__reg_lambda=10; total time=   0.0s\n",
      "[CV] END classifier__gamma=0.25, classifier__learning_rate=0.05, classifier__max_depth=3, classifier__reg_lambda=10; total time=   0.0s\n",
      "[CV] END classifier__gamma=0.25, classifier__learning_rate=0.05, classifier__max_depth=3, classifier__reg_lambda=10; total time=   0.0s\n",
      "[CV] END classifier__gamma=0.25, classifier__learning_rate=0.05, classifier__max_depth=4, classifier__reg_lambda=0; total time=   0.0s\n",
      "[CV] END classifier__gamma=0.25, classifier__learning_rate=0.05, classifier__max_depth=4, classifier__reg_lambda=0; total time=   0.0s\n",
      "[CV] END classifier__gamma=0.25, classifier__learning_rate=0.05, classifier__max_depth=4, classifier__reg_lambda=0; total time=   0.0s\n",
      "[CV] END classifier__gamma=0.25, classifier__learning_rate=0.05, classifier__max_depth=4, classifier__reg_lambda=0; total time=   0.0s\n",
      "[CV] END classifier__gamma=0.25, classifier__learning_rate=0.05, classifier__max_depth=4, classifier__reg_lambda=1; total time=   0.0s\n",
      "[CV] END classifier__gamma=0.25, classifier__learning_rate=0.05, classifier__max_depth=4, classifier__reg_lambda=1; total time=   0.0s\n",
      "[CV] END classifier__gamma=0.25, classifier__learning_rate=0.05, classifier__max_depth=4, classifier__reg_lambda=1; total time=   0.0s\n",
      "[CV] END classifier__gamma=0.25, classifier__learning_rate=0.05, classifier__max_depth=4, classifier__reg_lambda=1; total time=   0.0s\n",
      "[CV] END classifier__gamma=0.25, classifier__learning_rate=0.05, classifier__max_depth=4, classifier__reg_lambda=10; total time=   0.0s\n",
      "[CV] END classifier__gamma=0.25, classifier__learning_rate=0.05, classifier__max_depth=4, classifier__reg_lambda=10; total time=   0.0s\n",
      "[CV] END classifier__gamma=0.25, classifier__learning_rate=0.05, classifier__max_depth=4, classifier__reg_lambda=10; total time=   0.0s\n"
     ]
    },
    {
     "name": "stdout",
     "output_type": "stream",
     "text": [
      "[CV] END classifier__gamma=0.25, classifier__learning_rate=0.05, classifier__max_depth=4, classifier__reg_lambda=10; total time=   0.0s\n",
      "[CV] END classifier__gamma=0.25, classifier__learning_rate=0.05, classifier__max_depth=5, classifier__reg_lambda=0; total time=   0.0s\n",
      "[CV] END classifier__gamma=0.25, classifier__learning_rate=0.05, classifier__max_depth=5, classifier__reg_lambda=0; total time=   0.0s\n",
      "[CV] END classifier__gamma=0.25, classifier__learning_rate=0.05, classifier__max_depth=5, classifier__reg_lambda=0; total time=   0.0s\n",
      "[CV] END classifier__gamma=0.25, classifier__learning_rate=0.05, classifier__max_depth=5, classifier__reg_lambda=0; total time=   0.0s\n",
      "[CV] END classifier__gamma=0.25, classifier__learning_rate=0.05, classifier__max_depth=5, classifier__reg_lambda=1; total time=   0.0s\n",
      "[CV] END classifier__gamma=0.25, classifier__learning_rate=0.05, classifier__max_depth=5, classifier__reg_lambda=1; total time=   0.0s\n",
      "[CV] END classifier__gamma=0.25, classifier__learning_rate=0.05, classifier__max_depth=5, classifier__reg_lambda=1; total time=   0.0s\n",
      "[CV] END classifier__gamma=0.25, classifier__learning_rate=0.05, classifier__max_depth=5, classifier__reg_lambda=1; total time=   0.0s\n",
      "[CV] END classifier__gamma=0.25, classifier__learning_rate=0.05, classifier__max_depth=5, classifier__reg_lambda=10; total time=   0.0s\n",
      "[CV] END classifier__gamma=0.25, classifier__learning_rate=0.05, classifier__max_depth=5, classifier__reg_lambda=10; total time=   0.0s\n",
      "[CV] END classifier__gamma=0.25, classifier__learning_rate=0.05, classifier__max_depth=5, classifier__reg_lambda=10; total time=   0.0s\n",
      "[CV] END classifier__gamma=0.25, classifier__learning_rate=0.05, classifier__max_depth=5, classifier__reg_lambda=10; total time=   0.0s\n",
      "[CV] END classifier__gamma=0.25, classifier__learning_rate=0.01, classifier__max_depth=3, classifier__reg_lambda=0; total time=   0.0s\n",
      "[CV] END classifier__gamma=0.25, classifier__learning_rate=0.01, classifier__max_depth=3, classifier__reg_lambda=0; total time=   0.0s\n",
      "[CV] END classifier__gamma=0.25, classifier__learning_rate=0.01, classifier__max_depth=3, classifier__reg_lambda=0; total time=   0.0s\n",
      "[CV] END classifier__gamma=0.25, classifier__learning_rate=0.01, classifier__max_depth=3, classifier__reg_lambda=0; total time=   0.0s\n",
      "[CV] END classifier__gamma=0.25, classifier__learning_rate=0.01, classifier__max_depth=3, classifier__reg_lambda=1; total time=   0.0s\n",
      "[CV] END classifier__gamma=0.25, classifier__learning_rate=0.01, classifier__max_depth=3, classifier__reg_lambda=1; total time=   0.0s\n",
      "[CV] END classifier__gamma=0.25, classifier__learning_rate=0.01, classifier__max_depth=3, classifier__reg_lambda=1; total time=   0.0s\n",
      "[CV] END classifier__gamma=0.25, classifier__learning_rate=0.01, classifier__max_depth=3, classifier__reg_lambda=1; total time=   0.0s\n",
      "[CV] END classifier__gamma=0.25, classifier__learning_rate=0.01, classifier__max_depth=3, classifier__reg_lambda=10; total time=   0.0s\n",
      "[CV] END classifier__gamma=0.25, classifier__learning_rate=0.01, classifier__max_depth=3, classifier__reg_lambda=10; total time=   0.0s\n",
      "[CV] END classifier__gamma=0.25, classifier__learning_rate=0.01, classifier__max_depth=3, classifier__reg_lambda=10; total time=   0.0s\n",
      "[CV] END classifier__gamma=0.25, classifier__learning_rate=0.01, classifier__max_depth=3, classifier__reg_lambda=10; total time=   0.0s\n",
      "[CV] END classifier__gamma=0.25, classifier__learning_rate=0.01, classifier__max_depth=4, classifier__reg_lambda=0; total time=   0.0s\n",
      "[CV] END classifier__gamma=0.25, classifier__learning_rate=0.01, classifier__max_depth=4, classifier__reg_lambda=0; total time=   0.0s\n",
      "[CV] END classifier__gamma=0.25, classifier__learning_rate=0.01, classifier__max_depth=4, classifier__reg_lambda=0; total time=   0.0s\n",
      "[CV] END classifier__gamma=0.25, classifier__learning_rate=0.01, classifier__max_depth=4, classifier__reg_lambda=0; total time=   0.0s\n",
      "[CV] END classifier__gamma=0.25, classifier__learning_rate=0.01, classifier__max_depth=4, classifier__reg_lambda=1; total time=   0.0s\n",
      "[CV] END classifier__gamma=0.25, classifier__learning_rate=0.01, classifier__max_depth=4, classifier__reg_lambda=1; total time=   0.0s\n",
      "[CV] END classifier__gamma=0.25, classifier__learning_rate=0.01, classifier__max_depth=4, classifier__reg_lambda=1; total time=   0.0s\n",
      "[CV] END classifier__gamma=0.25, classifier__learning_rate=0.01, classifier__max_depth=4, classifier__reg_lambda=1; total time=   0.0s\n",
      "[CV] END classifier__gamma=0.25, classifier__learning_rate=0.01, classifier__max_depth=4, classifier__reg_lambda=10; total time=   0.0s\n",
      "[CV] END classifier__gamma=0.25, classifier__learning_rate=0.01, classifier__max_depth=4, classifier__reg_lambda=10; total time=   0.0s\n",
      "[CV] END classifier__gamma=0.25, classifier__learning_rate=0.01, classifier__max_depth=4, classifier__reg_lambda=10; total time=   0.0s\n",
      "[CV] END classifier__gamma=0.25, classifier__learning_rate=0.01, classifier__max_depth=4, classifier__reg_lambda=10; total time=   0.0s\n",
      "[CV] END classifier__gamma=0.25, classifier__learning_rate=0.01, classifier__max_depth=5, classifier__reg_lambda=0; total time=   0.0s\n",
      "[CV] END classifier__gamma=0.25, classifier__learning_rate=0.01, classifier__max_depth=5, classifier__reg_lambda=0; total time=   0.0s\n",
      "[CV] END classifier__gamma=0.25, classifier__learning_rate=0.01, classifier__max_depth=5, classifier__reg_lambda=0; total time=   0.0s\n",
      "[CV] END classifier__gamma=0.25, classifier__learning_rate=0.01, classifier__max_depth=5, classifier__reg_lambda=0; total time=   0.0s\n",
      "[CV] END classifier__gamma=0.25, classifier__learning_rate=0.01, classifier__max_depth=5, classifier__reg_lambda=1; total time=   0.0s\n",
      "[CV] END classifier__gamma=0.25, classifier__learning_rate=0.01, classifier__max_depth=5, classifier__reg_lambda=1; total time=   0.0s\n",
      "[CV] END classifier__gamma=0.25, classifier__learning_rate=0.01, classifier__max_depth=5, classifier__reg_lambda=1; total time=   0.0s\n",
      "[CV] END classifier__gamma=0.25, classifier__learning_rate=0.01, classifier__max_depth=5, classifier__reg_lambda=1; total time=   0.0s\n",
      "[CV] END classifier__gamma=0.25, classifier__learning_rate=0.01, classifier__max_depth=5, classifier__reg_lambda=10; total time=   0.0s\n",
      "[CV] END classifier__gamma=0.25, classifier__learning_rate=0.01, classifier__max_depth=5, classifier__reg_lambda=10; total time=   0.0s\n",
      "[CV] END classifier__gamma=0.25, classifier__learning_rate=0.01, classifier__max_depth=5, classifier__reg_lambda=10; total time=   0.0s\n",
      "[CV] END classifier__gamma=0.25, classifier__learning_rate=0.01, classifier__max_depth=5, classifier__reg_lambda=10; total time=   0.0s\n",
      "[CV] END classifier__gamma=1, classifier__learning_rate=1, classifier__max_depth=3, classifier__reg_lambda=0; total time=   0.0s\n",
      "[CV] END classifier__gamma=1, classifier__learning_rate=1, classifier__max_depth=3, classifier__reg_lambda=0; total time=   0.0s\n",
      "[CV] END classifier__gamma=1, classifier__learning_rate=1, classifier__max_depth=3, classifier__reg_lambda=0; total time=   0.0s\n",
      "[CV] END classifier__gamma=1, classifier__learning_rate=1, classifier__max_depth=3, classifier__reg_lambda=0; total time=   0.0s\n",
      "[CV] END classifier__gamma=1, classifier__learning_rate=1, classifier__max_depth=3, classifier__reg_lambda=1; total time=   0.0s\n",
      "[CV] END classifier__gamma=1, classifier__learning_rate=1, classifier__max_depth=3, classifier__reg_lambda=1; total time=   0.0s\n",
      "[CV] END classifier__gamma=1, classifier__learning_rate=1, classifier__max_depth=3, classifier__reg_lambda=1; total time=   0.0s\n",
      "[CV] END classifier__gamma=1, classifier__learning_rate=1, classifier__max_depth=3, classifier__reg_lambda=1; total time=   0.0s\n",
      "[CV] END classifier__gamma=1, classifier__learning_rate=1, classifier__max_depth=3, classifier__reg_lambda=10; total time=   0.0s\n",
      "[CV] END classifier__gamma=1, classifier__learning_rate=1, classifier__max_depth=3, classifier__reg_lambda=10; total time=   0.0s\n",
      "[CV] END classifier__gamma=1, classifier__learning_rate=1, classifier__max_depth=3, classifier__reg_lambda=10; total time=   0.0s\n",
      "[CV] END classifier__gamma=1, classifier__learning_rate=1, classifier__max_depth=3, classifier__reg_lambda=10; total time=   0.0s\n"
     ]
    },
    {
     "name": "stdout",
     "output_type": "stream",
     "text": [
      "[CV] END classifier__gamma=1, classifier__learning_rate=1, classifier__max_depth=4, classifier__reg_lambda=0; total time=   0.0s\n",
      "[CV] END classifier__gamma=1, classifier__learning_rate=1, classifier__max_depth=4, classifier__reg_lambda=0; total time=   0.0s\n",
      "[CV] END classifier__gamma=1, classifier__learning_rate=1, classifier__max_depth=4, classifier__reg_lambda=0; total time=   0.0s\n",
      "[CV] END classifier__gamma=1, classifier__learning_rate=1, classifier__max_depth=4, classifier__reg_lambda=0; total time=   0.0s\n",
      "[CV] END classifier__gamma=1, classifier__learning_rate=1, classifier__max_depth=4, classifier__reg_lambda=1; total time=   0.0s\n",
      "[CV] END classifier__gamma=1, classifier__learning_rate=1, classifier__max_depth=4, classifier__reg_lambda=1; total time=   0.0s\n",
      "[CV] END classifier__gamma=1, classifier__learning_rate=1, classifier__max_depth=4, classifier__reg_lambda=1; total time=   0.0s\n",
      "[CV] END classifier__gamma=1, classifier__learning_rate=1, classifier__max_depth=4, classifier__reg_lambda=1; total time=   0.0s\n",
      "[CV] END classifier__gamma=1, classifier__learning_rate=1, classifier__max_depth=4, classifier__reg_lambda=10; total time=   0.0s\n",
      "[CV] END classifier__gamma=1, classifier__learning_rate=1, classifier__max_depth=4, classifier__reg_lambda=10; total time=   0.0s\n",
      "[CV] END classifier__gamma=1, classifier__learning_rate=1, classifier__max_depth=4, classifier__reg_lambda=10; total time=   0.0s\n",
      "[CV] END classifier__gamma=1, classifier__learning_rate=1, classifier__max_depth=4, classifier__reg_lambda=10; total time=   0.0s\n",
      "[CV] END classifier__gamma=1, classifier__learning_rate=1, classifier__max_depth=5, classifier__reg_lambda=0; total time=   0.0s\n",
      "[CV] END classifier__gamma=1, classifier__learning_rate=1, classifier__max_depth=5, classifier__reg_lambda=0; total time=   0.0s\n",
      "[CV] END classifier__gamma=1, classifier__learning_rate=1, classifier__max_depth=5, classifier__reg_lambda=0; total time=   0.0s\n",
      "[CV] END classifier__gamma=1, classifier__learning_rate=1, classifier__max_depth=5, classifier__reg_lambda=0; total time=   0.0s\n",
      "[CV] END classifier__gamma=1, classifier__learning_rate=1, classifier__max_depth=5, classifier__reg_lambda=1; total time=   0.0s\n",
      "[CV] END classifier__gamma=1, classifier__learning_rate=1, classifier__max_depth=5, classifier__reg_lambda=1; total time=   0.0s\n",
      "[CV] END classifier__gamma=1, classifier__learning_rate=1, classifier__max_depth=5, classifier__reg_lambda=1; total time=   0.0s\n",
      "[CV] END classifier__gamma=1, classifier__learning_rate=1, classifier__max_depth=5, classifier__reg_lambda=1; total time=   0.0s\n",
      "[CV] END classifier__gamma=1, classifier__learning_rate=1, classifier__max_depth=5, classifier__reg_lambda=10; total time=   0.0s\n",
      "[CV] END classifier__gamma=1, classifier__learning_rate=1, classifier__max_depth=5, classifier__reg_lambda=10; total time=   0.0s\n",
      "[CV] END classifier__gamma=1, classifier__learning_rate=1, classifier__max_depth=5, classifier__reg_lambda=10; total time=   0.0s\n",
      "[CV] END classifier__gamma=1, classifier__learning_rate=1, classifier__max_depth=5, classifier__reg_lambda=10; total time=   0.0s\n",
      "[CV] END classifier__gamma=1, classifier__learning_rate=0.5, classifier__max_depth=3, classifier__reg_lambda=0; total time=   0.0s\n",
      "[CV] END classifier__gamma=1, classifier__learning_rate=0.5, classifier__max_depth=3, classifier__reg_lambda=0; total time=   0.0s\n",
      "[CV] END classifier__gamma=1, classifier__learning_rate=0.5, classifier__max_depth=3, classifier__reg_lambda=0; total time=   0.0s\n",
      "[CV] END classifier__gamma=1, classifier__learning_rate=0.5, classifier__max_depth=3, classifier__reg_lambda=0; total time=   0.0s\n",
      "[CV] END classifier__gamma=1, classifier__learning_rate=0.5, classifier__max_depth=3, classifier__reg_lambda=1; total time=   0.0s\n",
      "[CV] END classifier__gamma=1, classifier__learning_rate=0.5, classifier__max_depth=3, classifier__reg_lambda=1; total time=   0.0s\n",
      "[CV] END classifier__gamma=1, classifier__learning_rate=0.5, classifier__max_depth=3, classifier__reg_lambda=1; total time=   0.0s\n",
      "[CV] END classifier__gamma=1, classifier__learning_rate=0.5, classifier__max_depth=3, classifier__reg_lambda=1; total time=   0.0s\n",
      "[CV] END classifier__gamma=1, classifier__learning_rate=0.5, classifier__max_depth=3, classifier__reg_lambda=10; total time=   0.0s\n",
      "[CV] END classifier__gamma=1, classifier__learning_rate=0.5, classifier__max_depth=3, classifier__reg_lambda=10; total time=   0.0s\n",
      "[CV] END classifier__gamma=1, classifier__learning_rate=0.5, classifier__max_depth=3, classifier__reg_lambda=10; total time=   0.0s\n",
      "[CV] END classifier__gamma=1, classifier__learning_rate=0.5, classifier__max_depth=3, classifier__reg_lambda=10; total time=   0.0s\n",
      "[CV] END classifier__gamma=1, classifier__learning_rate=0.5, classifier__max_depth=4, classifier__reg_lambda=0; total time=   0.0s\n",
      "[CV] END classifier__gamma=1, classifier__learning_rate=0.5, classifier__max_depth=4, classifier__reg_lambda=0; total time=   0.0s\n",
      "[CV] END classifier__gamma=1, classifier__learning_rate=0.5, classifier__max_depth=4, classifier__reg_lambda=0; total time=   0.0s\n",
      "[CV] END classifier__gamma=1, classifier__learning_rate=0.5, classifier__max_depth=4, classifier__reg_lambda=0; total time=   0.0s\n",
      "[CV] END classifier__gamma=1, classifier__learning_rate=0.5, classifier__max_depth=4, classifier__reg_lambda=1; total time=   0.0s\n",
      "[CV] END classifier__gamma=1, classifier__learning_rate=0.5, classifier__max_depth=4, classifier__reg_lambda=1; total time=   0.0s\n",
      "[CV] END classifier__gamma=1, classifier__learning_rate=0.5, classifier__max_depth=4, classifier__reg_lambda=1; total time=   0.0s\n",
      "[CV] END classifier__gamma=1, classifier__learning_rate=0.5, classifier__max_depth=4, classifier__reg_lambda=1; total time=   0.0s\n",
      "[CV] END classifier__gamma=1, classifier__learning_rate=0.5, classifier__max_depth=4, classifier__reg_lambda=10; total time=   0.0s\n",
      "[CV] END classifier__gamma=1, classifier__learning_rate=0.5, classifier__max_depth=4, classifier__reg_lambda=10; total time=   0.0s\n",
      "[CV] END classifier__gamma=1, classifier__learning_rate=0.5, classifier__max_depth=4, classifier__reg_lambda=10; total time=   0.0s\n",
      "[CV] END classifier__gamma=1, classifier__learning_rate=0.5, classifier__max_depth=4, classifier__reg_lambda=10; total time=   0.0s\n",
      "[CV] END classifier__gamma=1, classifier__learning_rate=0.5, classifier__max_depth=5, classifier__reg_lambda=0; total time=   0.0s\n",
      "[CV] END classifier__gamma=1, classifier__learning_rate=0.5, classifier__max_depth=5, classifier__reg_lambda=0; total time=   0.0s\n",
      "[CV] END classifier__gamma=1, classifier__learning_rate=0.5, classifier__max_depth=5, classifier__reg_lambda=0; total time=   0.0s\n",
      "[CV] END classifier__gamma=1, classifier__learning_rate=0.5, classifier__max_depth=5, classifier__reg_lambda=0; total time=   0.0s\n",
      "[CV] END classifier__gamma=1, classifier__learning_rate=0.5, classifier__max_depth=5, classifier__reg_lambda=1; total time=   0.0s\n",
      "[CV] END classifier__gamma=1, classifier__learning_rate=0.5, classifier__max_depth=5, classifier__reg_lambda=1; total time=   0.0s\n",
      "[CV] END classifier__gamma=1, classifier__learning_rate=0.5, classifier__max_depth=5, classifier__reg_lambda=1; total time=   0.0s\n",
      "[CV] END classifier__gamma=1, classifier__learning_rate=0.5, classifier__max_depth=5, classifier__reg_lambda=1; total time=   0.0s\n",
      "[CV] END classifier__gamma=1, classifier__learning_rate=0.5, classifier__max_depth=5, classifier__reg_lambda=10; total time=   0.0s\n",
      "[CV] END classifier__gamma=1, classifier__learning_rate=0.5, classifier__max_depth=5, classifier__reg_lambda=10; total time=   0.0s\n",
      "[CV] END classifier__gamma=1, classifier__learning_rate=0.5, classifier__max_depth=5, classifier__reg_lambda=10; total time=   0.0s\n",
      "[CV] END classifier__gamma=1, classifier__learning_rate=0.5, classifier__max_depth=5, classifier__reg_lambda=10; total time=   0.0s\n",
      "[CV] END classifier__gamma=1, classifier__learning_rate=0.1, classifier__max_depth=3, classifier__reg_lambda=0; total time=   0.0s\n",
      "[CV] END classifier__gamma=1, classifier__learning_rate=0.1, classifier__max_depth=3, classifier__reg_lambda=0; total time=   0.0s\n",
      "[CV] END classifier__gamma=1, classifier__learning_rate=0.1, classifier__max_depth=3, classifier__reg_lambda=0; total time=   0.0s\n",
      "[CV] END classifier__gamma=1, classifier__learning_rate=0.1, classifier__max_depth=3, classifier__reg_lambda=0; total time=   0.0s\n"
     ]
    },
    {
     "name": "stdout",
     "output_type": "stream",
     "text": [
      "[CV] END classifier__gamma=1, classifier__learning_rate=0.1, classifier__max_depth=3, classifier__reg_lambda=1; total time=   0.0s\n",
      "[CV] END classifier__gamma=1, classifier__learning_rate=0.1, classifier__max_depth=3, classifier__reg_lambda=1; total time=   0.0s\n",
      "[CV] END classifier__gamma=1, classifier__learning_rate=0.1, classifier__max_depth=3, classifier__reg_lambda=1; total time=   0.0s\n",
      "[CV] END classifier__gamma=1, classifier__learning_rate=0.1, classifier__max_depth=3, classifier__reg_lambda=1; total time=   0.0s\n",
      "[CV] END classifier__gamma=1, classifier__learning_rate=0.1, classifier__max_depth=3, classifier__reg_lambda=10; total time=   0.0s\n",
      "[CV] END classifier__gamma=1, classifier__learning_rate=0.1, classifier__max_depth=3, classifier__reg_lambda=10; total time=   0.0s\n",
      "[CV] END classifier__gamma=1, classifier__learning_rate=0.1, classifier__max_depth=3, classifier__reg_lambda=10; total time=   0.0s\n",
      "[CV] END classifier__gamma=1, classifier__learning_rate=0.1, classifier__max_depth=3, classifier__reg_lambda=10; total time=   0.0s\n",
      "[CV] END classifier__gamma=1, classifier__learning_rate=0.1, classifier__max_depth=4, classifier__reg_lambda=0; total time=   0.0s\n",
      "[CV] END classifier__gamma=1, classifier__learning_rate=0.1, classifier__max_depth=4, classifier__reg_lambda=0; total time=   0.0s\n",
      "[CV] END classifier__gamma=1, classifier__learning_rate=0.1, classifier__max_depth=4, classifier__reg_lambda=0; total time=   0.0s\n",
      "[CV] END classifier__gamma=1, classifier__learning_rate=0.1, classifier__max_depth=4, classifier__reg_lambda=0; total time=   0.0s\n",
      "[CV] END classifier__gamma=1, classifier__learning_rate=0.1, classifier__max_depth=4, classifier__reg_lambda=1; total time=   0.0s\n",
      "[CV] END classifier__gamma=1, classifier__learning_rate=0.1, classifier__max_depth=4, classifier__reg_lambda=1; total time=   0.0s\n",
      "[CV] END classifier__gamma=1, classifier__learning_rate=0.1, classifier__max_depth=4, classifier__reg_lambda=1; total time=   0.0s\n",
      "[CV] END classifier__gamma=1, classifier__learning_rate=0.1, classifier__max_depth=4, classifier__reg_lambda=1; total time=   0.0s\n",
      "[CV] END classifier__gamma=1, classifier__learning_rate=0.1, classifier__max_depth=4, classifier__reg_lambda=10; total time=   0.0s\n",
      "[CV] END classifier__gamma=1, classifier__learning_rate=0.1, classifier__max_depth=4, classifier__reg_lambda=10; total time=   0.0s\n",
      "[CV] END classifier__gamma=1, classifier__learning_rate=0.1, classifier__max_depth=4, classifier__reg_lambda=10; total time=   0.0s\n",
      "[CV] END classifier__gamma=1, classifier__learning_rate=0.1, classifier__max_depth=4, classifier__reg_lambda=10; total time=   0.0s\n",
      "[CV] END classifier__gamma=1, classifier__learning_rate=0.1, classifier__max_depth=5, classifier__reg_lambda=0; total time=   0.0s\n",
      "[CV] END classifier__gamma=1, classifier__learning_rate=0.1, classifier__max_depth=5, classifier__reg_lambda=0; total time=   0.0s\n",
      "[CV] END classifier__gamma=1, classifier__learning_rate=0.1, classifier__max_depth=5, classifier__reg_lambda=0; total time=   0.0s\n",
      "[CV] END classifier__gamma=1, classifier__learning_rate=0.1, classifier__max_depth=5, classifier__reg_lambda=0; total time=   0.0s\n",
      "[CV] END classifier__gamma=1, classifier__learning_rate=0.1, classifier__max_depth=5, classifier__reg_lambda=1; total time=   0.0s\n",
      "[CV] END classifier__gamma=1, classifier__learning_rate=0.1, classifier__max_depth=5, classifier__reg_lambda=1; total time=   0.0s\n",
      "[CV] END classifier__gamma=1, classifier__learning_rate=0.1, classifier__max_depth=5, classifier__reg_lambda=1; total time=   0.0s\n",
      "[CV] END classifier__gamma=1, classifier__learning_rate=0.1, classifier__max_depth=5, classifier__reg_lambda=1; total time=   0.0s\n",
      "[CV] END classifier__gamma=1, classifier__learning_rate=0.1, classifier__max_depth=5, classifier__reg_lambda=10; total time=   0.0s\n",
      "[CV] END classifier__gamma=1, classifier__learning_rate=0.1, classifier__max_depth=5, classifier__reg_lambda=10; total time=   0.0s\n",
      "[CV] END classifier__gamma=1, classifier__learning_rate=0.1, classifier__max_depth=5, classifier__reg_lambda=10; total time=   0.0s\n",
      "[CV] END classifier__gamma=1, classifier__learning_rate=0.1, classifier__max_depth=5, classifier__reg_lambda=10; total time=   0.0s\n",
      "[CV] END classifier__gamma=1, classifier__learning_rate=0.05, classifier__max_depth=3, classifier__reg_lambda=0; total time=   0.0s\n",
      "[CV] END classifier__gamma=1, classifier__learning_rate=0.05, classifier__max_depth=3, classifier__reg_lambda=0; total time=   0.0s\n",
      "[CV] END classifier__gamma=1, classifier__learning_rate=0.05, classifier__max_depth=3, classifier__reg_lambda=0; total time=   0.0s\n",
      "[CV] END classifier__gamma=1, classifier__learning_rate=0.05, classifier__max_depth=3, classifier__reg_lambda=0; total time=   0.0s\n",
      "[CV] END classifier__gamma=1, classifier__learning_rate=0.05, classifier__max_depth=3, classifier__reg_lambda=1; total time=   0.0s\n",
      "[CV] END classifier__gamma=1, classifier__learning_rate=0.05, classifier__max_depth=3, classifier__reg_lambda=1; total time=   0.0s\n",
      "[CV] END classifier__gamma=1, classifier__learning_rate=0.05, classifier__max_depth=3, classifier__reg_lambda=1; total time=   0.0s\n",
      "[CV] END classifier__gamma=1, classifier__learning_rate=0.05, classifier__max_depth=3, classifier__reg_lambda=1; total time=   0.0s\n",
      "[CV] END classifier__gamma=1, classifier__learning_rate=0.05, classifier__max_depth=3, classifier__reg_lambda=10; total time=   0.0s\n",
      "[CV] END classifier__gamma=1, classifier__learning_rate=0.05, classifier__max_depth=3, classifier__reg_lambda=10; total time=   0.0s\n",
      "[CV] END classifier__gamma=1, classifier__learning_rate=0.05, classifier__max_depth=3, classifier__reg_lambda=10; total time=   0.0s\n",
      "[CV] END classifier__gamma=1, classifier__learning_rate=0.05, classifier__max_depth=3, classifier__reg_lambda=10; total time=   0.0s\n",
      "[CV] END classifier__gamma=1, classifier__learning_rate=0.05, classifier__max_depth=4, classifier__reg_lambda=0; total time=   0.0s\n",
      "[CV] END classifier__gamma=1, classifier__learning_rate=0.05, classifier__max_depth=4, classifier__reg_lambda=0; total time=   0.0s\n",
      "[CV] END classifier__gamma=1, classifier__learning_rate=0.05, classifier__max_depth=4, classifier__reg_lambda=0; total time=   0.0s\n",
      "[CV] END classifier__gamma=1, classifier__learning_rate=0.05, classifier__max_depth=4, classifier__reg_lambda=0; total time=   0.0s\n",
      "[CV] END classifier__gamma=1, classifier__learning_rate=0.05, classifier__max_depth=4, classifier__reg_lambda=1; total time=   0.0s\n",
      "[CV] END classifier__gamma=1, classifier__learning_rate=0.05, classifier__max_depth=4, classifier__reg_lambda=1; total time=   0.0s\n",
      "[CV] END classifier__gamma=1, classifier__learning_rate=0.05, classifier__max_depth=4, classifier__reg_lambda=1; total time=   0.0s\n",
      "[CV] END classifier__gamma=1, classifier__learning_rate=0.05, classifier__max_depth=4, classifier__reg_lambda=1; total time=   0.0s\n",
      "[CV] END classifier__gamma=1, classifier__learning_rate=0.05, classifier__max_depth=4, classifier__reg_lambda=10; total time=   0.0s\n",
      "[CV] END classifier__gamma=1, classifier__learning_rate=0.05, classifier__max_depth=4, classifier__reg_lambda=10; total time=   0.0s\n",
      "[CV] END classifier__gamma=1, classifier__learning_rate=0.05, classifier__max_depth=4, classifier__reg_lambda=10; total time=   0.0s\n",
      "[CV] END classifier__gamma=1, classifier__learning_rate=0.05, classifier__max_depth=4, classifier__reg_lambda=10; total time=   0.0s\n",
      "[CV] END classifier__gamma=1, classifier__learning_rate=0.05, classifier__max_depth=5, classifier__reg_lambda=0; total time=   0.0s\n",
      "[CV] END classifier__gamma=1, classifier__learning_rate=0.05, classifier__max_depth=5, classifier__reg_lambda=0; total time=   0.0s\n",
      "[CV] END classifier__gamma=1, classifier__learning_rate=0.05, classifier__max_depth=5, classifier__reg_lambda=0; total time=   0.0s\n",
      "[CV] END classifier__gamma=1, classifier__learning_rate=0.05, classifier__max_depth=5, classifier__reg_lambda=0; total time=   0.0s\n",
      "[CV] END classifier__gamma=1, classifier__learning_rate=0.05, classifier__max_depth=5, classifier__reg_lambda=1; total time=   0.0s\n",
      "[CV] END classifier__gamma=1, classifier__learning_rate=0.05, classifier__max_depth=5, classifier__reg_lambda=1; total time=   0.0s\n",
      "[CV] END classifier__gamma=1, classifier__learning_rate=0.05, classifier__max_depth=5, classifier__reg_lambda=1; total time=   0.0s\n",
      "[CV] END classifier__gamma=1, classifier__learning_rate=0.05, classifier__max_depth=5, classifier__reg_lambda=1; total time=   0.0s\n"
     ]
    },
    {
     "name": "stdout",
     "output_type": "stream",
     "text": [
      "[CV] END classifier__gamma=1, classifier__learning_rate=0.05, classifier__max_depth=5, classifier__reg_lambda=10; total time=   0.0s\n",
      "[CV] END classifier__gamma=1, classifier__learning_rate=0.05, classifier__max_depth=5, classifier__reg_lambda=10; total time=   0.0s\n",
      "[CV] END classifier__gamma=1, classifier__learning_rate=0.05, classifier__max_depth=5, classifier__reg_lambda=10; total time=   0.0s\n",
      "[CV] END classifier__gamma=1, classifier__learning_rate=0.05, classifier__max_depth=5, classifier__reg_lambda=10; total time=   0.0s\n",
      "[CV] END classifier__gamma=1, classifier__learning_rate=0.01, classifier__max_depth=3, classifier__reg_lambda=0; total time=   0.0s\n",
      "[CV] END classifier__gamma=1, classifier__learning_rate=0.01, classifier__max_depth=3, classifier__reg_lambda=0; total time=   0.0s\n",
      "[CV] END classifier__gamma=1, classifier__learning_rate=0.01, classifier__max_depth=3, classifier__reg_lambda=0; total time=   0.0s\n",
      "[CV] END classifier__gamma=1, classifier__learning_rate=0.01, classifier__max_depth=3, classifier__reg_lambda=0; total time=   0.0s\n",
      "[CV] END classifier__gamma=1, classifier__learning_rate=0.01, classifier__max_depth=3, classifier__reg_lambda=1; total time=   0.0s\n",
      "[CV] END classifier__gamma=1, classifier__learning_rate=0.01, classifier__max_depth=3, classifier__reg_lambda=1; total time=   0.0s\n",
      "[CV] END classifier__gamma=1, classifier__learning_rate=0.01, classifier__max_depth=3, classifier__reg_lambda=1; total time=   0.0s\n",
      "[CV] END classifier__gamma=1, classifier__learning_rate=0.01, classifier__max_depth=3, classifier__reg_lambda=1; total time=   0.0s\n",
      "[CV] END classifier__gamma=1, classifier__learning_rate=0.01, classifier__max_depth=3, classifier__reg_lambda=10; total time=   0.0s\n",
      "[CV] END classifier__gamma=1, classifier__learning_rate=0.01, classifier__max_depth=3, classifier__reg_lambda=10; total time=   0.0s\n",
      "[CV] END classifier__gamma=1, classifier__learning_rate=0.01, classifier__max_depth=3, classifier__reg_lambda=10; total time=   0.0s\n",
      "[CV] END classifier__gamma=1, classifier__learning_rate=0.01, classifier__max_depth=3, classifier__reg_lambda=10; total time=   0.0s\n",
      "[CV] END classifier__gamma=1, classifier__learning_rate=0.01, classifier__max_depth=4, classifier__reg_lambda=0; total time=   0.0s\n",
      "[CV] END classifier__gamma=1, classifier__learning_rate=0.01, classifier__max_depth=4, classifier__reg_lambda=0; total time=   0.0s\n",
      "[CV] END classifier__gamma=1, classifier__learning_rate=0.01, classifier__max_depth=4, classifier__reg_lambda=0; total time=   0.0s\n",
      "[CV] END classifier__gamma=1, classifier__learning_rate=0.01, classifier__max_depth=4, classifier__reg_lambda=0; total time=   0.0s\n",
      "[CV] END classifier__gamma=1, classifier__learning_rate=0.01, classifier__max_depth=4, classifier__reg_lambda=1; total time=   0.0s\n",
      "[CV] END classifier__gamma=1, classifier__learning_rate=0.01, classifier__max_depth=4, classifier__reg_lambda=1; total time=   0.0s\n",
      "[CV] END classifier__gamma=1, classifier__learning_rate=0.01, classifier__max_depth=4, classifier__reg_lambda=1; total time=   0.0s\n",
      "[CV] END classifier__gamma=1, classifier__learning_rate=0.01, classifier__max_depth=4, classifier__reg_lambda=1; total time=   0.0s\n",
      "[CV] END classifier__gamma=1, classifier__learning_rate=0.01, classifier__max_depth=4, classifier__reg_lambda=10; total time=   0.0s\n",
      "[CV] END classifier__gamma=1, classifier__learning_rate=0.01, classifier__max_depth=4, classifier__reg_lambda=10; total time=   0.0s\n",
      "[CV] END classifier__gamma=1, classifier__learning_rate=0.01, classifier__max_depth=4, classifier__reg_lambda=10; total time=   0.0s\n",
      "[CV] END classifier__gamma=1, classifier__learning_rate=0.01, classifier__max_depth=4, classifier__reg_lambda=10; total time=   0.0s\n",
      "[CV] END classifier__gamma=1, classifier__learning_rate=0.01, classifier__max_depth=5, classifier__reg_lambda=0; total time=   0.0s\n",
      "[CV] END classifier__gamma=1, classifier__learning_rate=0.01, classifier__max_depth=5, classifier__reg_lambda=0; total time=   0.1s\n",
      "[CV] END classifier__gamma=1, classifier__learning_rate=0.01, classifier__max_depth=5, classifier__reg_lambda=0; total time=   0.0s\n",
      "[CV] END classifier__gamma=1, classifier__learning_rate=0.01, classifier__max_depth=5, classifier__reg_lambda=0; total time=   0.0s\n",
      "[CV] END classifier__gamma=1, classifier__learning_rate=0.01, classifier__max_depth=5, classifier__reg_lambda=1; total time=   0.0s\n",
      "[CV] END classifier__gamma=1, classifier__learning_rate=0.01, classifier__max_depth=5, classifier__reg_lambda=1; total time=   0.0s\n",
      "[CV] END classifier__gamma=1, classifier__learning_rate=0.01, classifier__max_depth=5, classifier__reg_lambda=1; total time=   0.0s\n",
      "[CV] END classifier__gamma=1, classifier__learning_rate=0.01, classifier__max_depth=5, classifier__reg_lambda=1; total time=   0.0s\n",
      "[CV] END classifier__gamma=1, classifier__learning_rate=0.01, classifier__max_depth=5, classifier__reg_lambda=10; total time=   0.0s\n",
      "[CV] END classifier__gamma=1, classifier__learning_rate=0.01, classifier__max_depth=5, classifier__reg_lambda=10; total time=   0.0s\n",
      "[CV] END classifier__gamma=1, classifier__learning_rate=0.01, classifier__max_depth=5, classifier__reg_lambda=10; total time=   0.0s\n",
      "[CV] END classifier__gamma=1, classifier__learning_rate=0.01, classifier__max_depth=5, classifier__reg_lambda=10; total time=   0.0s\n"
     ]
    },
    {
     "data": {
      "text/html": [
       "<style>#sk-container-id-7 {color: black;}#sk-container-id-7 pre{padding: 0;}#sk-container-id-7 div.sk-toggleable {background-color: white;}#sk-container-id-7 label.sk-toggleable__label {cursor: pointer;display: block;width: 100%;margin-bottom: 0;padding: 0.3em;box-sizing: border-box;text-align: center;}#sk-container-id-7 label.sk-toggleable__label-arrow:before {content: \"▸\";float: left;margin-right: 0.25em;color: #696969;}#sk-container-id-7 label.sk-toggleable__label-arrow:hover:before {color: black;}#sk-container-id-7 div.sk-estimator:hover label.sk-toggleable__label-arrow:before {color: black;}#sk-container-id-7 div.sk-toggleable__content {max-height: 0;max-width: 0;overflow: hidden;text-align: left;background-color: #f0f8ff;}#sk-container-id-7 div.sk-toggleable__content pre {margin: 0.2em;color: black;border-radius: 0.25em;background-color: #f0f8ff;}#sk-container-id-7 input.sk-toggleable__control:checked~div.sk-toggleable__content {max-height: 200px;max-width: 100%;overflow: auto;}#sk-container-id-7 input.sk-toggleable__control:checked~label.sk-toggleable__label-arrow:before {content: \"▾\";}#sk-container-id-7 div.sk-estimator input.sk-toggleable__control:checked~label.sk-toggleable__label {background-color: #d4ebff;}#sk-container-id-7 div.sk-label input.sk-toggleable__control:checked~label.sk-toggleable__label {background-color: #d4ebff;}#sk-container-id-7 input.sk-hidden--visually {border: 0;clip: rect(1px 1px 1px 1px);clip: rect(1px, 1px, 1px, 1px);height: 1px;margin: -1px;overflow: hidden;padding: 0;position: absolute;width: 1px;}#sk-container-id-7 div.sk-estimator {font-family: monospace;background-color: #f0f8ff;border: 1px dotted black;border-radius: 0.25em;box-sizing: border-box;margin-bottom: 0.5em;}#sk-container-id-7 div.sk-estimator:hover {background-color: #d4ebff;}#sk-container-id-7 div.sk-parallel-item::after {content: \"\";width: 100%;border-bottom: 1px solid gray;flex-grow: 1;}#sk-container-id-7 div.sk-label:hover label.sk-toggleable__label {background-color: #d4ebff;}#sk-container-id-7 div.sk-serial::before {content: \"\";position: absolute;border-left: 1px solid gray;box-sizing: border-box;top: 0;bottom: 0;left: 50%;z-index: 0;}#sk-container-id-7 div.sk-serial {display: flex;flex-direction: column;align-items: center;background-color: white;padding-right: 0.2em;padding-left: 0.2em;position: relative;}#sk-container-id-7 div.sk-item {position: relative;z-index: 1;}#sk-container-id-7 div.sk-parallel {display: flex;align-items: stretch;justify-content: center;background-color: white;position: relative;}#sk-container-id-7 div.sk-item::before, #sk-container-id-7 div.sk-parallel-item::before {content: \"\";position: absolute;border-left: 1px solid gray;box-sizing: border-box;top: 0;bottom: 0;left: 50%;z-index: -1;}#sk-container-id-7 div.sk-parallel-item {display: flex;flex-direction: column;z-index: 1;position: relative;background-color: white;}#sk-container-id-7 div.sk-parallel-item:first-child::after {align-self: flex-end;width: 50%;}#sk-container-id-7 div.sk-parallel-item:last-child::after {align-self: flex-start;width: 50%;}#sk-container-id-7 div.sk-parallel-item:only-child::after {width: 0;}#sk-container-id-7 div.sk-dashed-wrapped {border: 1px dashed gray;margin: 0 0.4em 0.5em 0.4em;box-sizing: border-box;padding-bottom: 0.4em;background-color: white;}#sk-container-id-7 div.sk-label label {font-family: monospace;font-weight: bold;display: inline-block;line-height: 1.2em;}#sk-container-id-7 div.sk-label-container {text-align: center;}#sk-container-id-7 div.sk-container {/* jupyter's `normalize.less` sets `[hidden] { display: none; }` but bootstrap.min.css set `[hidden] { display: none !important; }` so we also need the `!important` here to be able to override the default hidden behavior on the sphinx rendered scikit-learn.org. See: https://github.com/scikit-learn/scikit-learn/issues/21755 */display: inline-block !important;position: relative;}#sk-container-id-7 div.sk-text-repr-fallback {display: none;}</style><div id=\"sk-container-id-7\" class=\"sk-top-container\"><div class=\"sk-text-repr-fallback\"><pre>GridSearchCV(cv=KFold(n_splits=4, random_state=42, shuffle=True),\n",
       "             estimator=Pipeline(steps=[(&#x27;imputer&#x27;, KNNImputer(n_neighbors=3)),\n",
       "                                       (&#x27;scaler&#x27;, StandardScaler()),\n",
       "                                       (&#x27;classifier&#x27;,\n",
       "                                        XGBClassifier(base_score=None,\n",
       "                                                      booster=None,\n",
       "                                                      callbacks=None,\n",
       "                                                      colsample_bylevel=None,\n",
       "                                                      colsample_bynode=None,\n",
       "                                                      colsample_bytree=None,\n",
       "                                                      device=None,\n",
       "                                                      early_stopping_rounds=None,\n",
       "                                                      enable_categorica...\n",
       "                                                      max_leaves=None,\n",
       "                                                      min_child_weight=None,\n",
       "                                                      missing=nan,\n",
       "                                                      monotone_constraints=None,\n",
       "                                                      multi_strategy=None,\n",
       "                                                      n_estimators=None,\n",
       "                                                      n_jobs=None,\n",
       "                                                      num_parallel_tree=None,\n",
       "                                                      random_state=None, ...))]),\n",
       "             param_grid={&#x27;classifier__gamma&#x27;: [0, 0.25, 1],\n",
       "                         &#x27;classifier__learning_rate&#x27;: [1, 0.5, 0.1, 0.05, 0.01],\n",
       "                         &#x27;classifier__max_depth&#x27;: [3, 4, 5],\n",
       "                         &#x27;classifier__reg_lambda&#x27;: [0, 1, 10]},\n",
       "             scoring=&#x27;accuracy&#x27;, verbose=2)</pre><b>In a Jupyter environment, please rerun this cell to show the HTML representation or trust the notebook. <br />On GitHub, the HTML representation is unable to render, please try loading this page with nbviewer.org.</b></div><div class=\"sk-container\" hidden><div class=\"sk-item sk-dashed-wrapped\"><div class=\"sk-label-container\"><div class=\"sk-label sk-toggleable\"><input class=\"sk-toggleable__control sk-hidden--visually\" id=\"sk-estimator-id-16\" type=\"checkbox\" ><label for=\"sk-estimator-id-16\" class=\"sk-toggleable__label sk-toggleable__label-arrow\">GridSearchCV</label><div class=\"sk-toggleable__content\"><pre>GridSearchCV(cv=KFold(n_splits=4, random_state=42, shuffle=True),\n",
       "             estimator=Pipeline(steps=[(&#x27;imputer&#x27;, KNNImputer(n_neighbors=3)),\n",
       "                                       (&#x27;scaler&#x27;, StandardScaler()),\n",
       "                                       (&#x27;classifier&#x27;,\n",
       "                                        XGBClassifier(base_score=None,\n",
       "                                                      booster=None,\n",
       "                                                      callbacks=None,\n",
       "                                                      colsample_bylevel=None,\n",
       "                                                      colsample_bynode=None,\n",
       "                                                      colsample_bytree=None,\n",
       "                                                      device=None,\n",
       "                                                      early_stopping_rounds=None,\n",
       "                                                      enable_categorica...\n",
       "                                                      max_leaves=None,\n",
       "                                                      min_child_weight=None,\n",
       "                                                      missing=nan,\n",
       "                                                      monotone_constraints=None,\n",
       "                                                      multi_strategy=None,\n",
       "                                                      n_estimators=None,\n",
       "                                                      n_jobs=None,\n",
       "                                                      num_parallel_tree=None,\n",
       "                                                      random_state=None, ...))]),\n",
       "             param_grid={&#x27;classifier__gamma&#x27;: [0, 0.25, 1],\n",
       "                         &#x27;classifier__learning_rate&#x27;: [1, 0.5, 0.1, 0.05, 0.01],\n",
       "                         &#x27;classifier__max_depth&#x27;: [3, 4, 5],\n",
       "                         &#x27;classifier__reg_lambda&#x27;: [0, 1, 10]},\n",
       "             scoring=&#x27;accuracy&#x27;, verbose=2)</pre></div></div></div><div class=\"sk-parallel\"><div class=\"sk-parallel-item\"><div class=\"sk-item\"><div class=\"sk-label-container\"><div class=\"sk-label sk-toggleable\"><input class=\"sk-toggleable__control sk-hidden--visually\" id=\"sk-estimator-id-17\" type=\"checkbox\" ><label for=\"sk-estimator-id-17\" class=\"sk-toggleable__label sk-toggleable__label-arrow\">estimator: Pipeline</label><div class=\"sk-toggleable__content\"><pre>Pipeline(steps=[(&#x27;imputer&#x27;, KNNImputer(n_neighbors=3)),\n",
       "                (&#x27;scaler&#x27;, StandardScaler()),\n",
       "                (&#x27;classifier&#x27;,\n",
       "                 XGBClassifier(base_score=None, booster=None, callbacks=None,\n",
       "                               colsample_bylevel=None, colsample_bynode=None,\n",
       "                               colsample_bytree=None, device=None,\n",
       "                               early_stopping_rounds=None,\n",
       "                               enable_categorical=False, eval_metric=&#x27;error&#x27;,\n",
       "                               feature_types=None, gamma=None, grow_policy=None,\n",
       "                               importance_type=None,\n",
       "                               interaction_constraints=None, learning_rate=None,\n",
       "                               max_bin=None, max_cat_threshold=None,\n",
       "                               max_cat_to_onehot=None, max_delta_step=None,\n",
       "                               max_depth=None, max_leaves=None,\n",
       "                               min_child_weight=None, missing=nan,\n",
       "                               monotone_constraints=None, multi_strategy=None,\n",
       "                               n_estimators=None, n_jobs=None,\n",
       "                               num_parallel_tree=None, random_state=None, ...))])</pre></div></div></div><div class=\"sk-serial\"><div class=\"sk-item\"><div class=\"sk-serial\"><div class=\"sk-item\"><div class=\"sk-estimator sk-toggleable\"><input class=\"sk-toggleable__control sk-hidden--visually\" id=\"sk-estimator-id-18\" type=\"checkbox\" ><label for=\"sk-estimator-id-18\" class=\"sk-toggleable__label sk-toggleable__label-arrow\">KNNImputer</label><div class=\"sk-toggleable__content\"><pre>KNNImputer(n_neighbors=3)</pre></div></div></div><div class=\"sk-item\"><div class=\"sk-estimator sk-toggleable\"><input class=\"sk-toggleable__control sk-hidden--visually\" id=\"sk-estimator-id-19\" type=\"checkbox\" ><label for=\"sk-estimator-id-19\" class=\"sk-toggleable__label sk-toggleable__label-arrow\">StandardScaler</label><div class=\"sk-toggleable__content\"><pre>StandardScaler()</pre></div></div></div><div class=\"sk-item\"><div class=\"sk-estimator sk-toggleable\"><input class=\"sk-toggleable__control sk-hidden--visually\" id=\"sk-estimator-id-20\" type=\"checkbox\" ><label for=\"sk-estimator-id-20\" class=\"sk-toggleable__label sk-toggleable__label-arrow\">XGBClassifier</label><div class=\"sk-toggleable__content\"><pre>XGBClassifier(base_score=None, booster=None, callbacks=None,\n",
       "              colsample_bylevel=None, colsample_bynode=None,\n",
       "              colsample_bytree=None, device=None, early_stopping_rounds=None,\n",
       "              enable_categorical=False, eval_metric=&#x27;error&#x27;, feature_types=None,\n",
       "              gamma=None, grow_policy=None, importance_type=None,\n",
       "              interaction_constraints=None, learning_rate=None, max_bin=None,\n",
       "              max_cat_threshold=None, max_cat_to_onehot=None,\n",
       "              max_delta_step=None, max_depth=None, max_leaves=None,\n",
       "              min_child_weight=None, missing=nan, monotone_constraints=None,\n",
       "              multi_strategy=None, n_estimators=None, n_jobs=None,\n",
       "              num_parallel_tree=None, random_state=None, ...)</pre></div></div></div></div></div></div></div></div></div></div></div></div>"
      ],
      "text/plain": [
       "GridSearchCV(cv=KFold(n_splits=4, random_state=42, shuffle=True),\n",
       "             estimator=Pipeline(steps=[('imputer', KNNImputer(n_neighbors=3)),\n",
       "                                       ('scaler', StandardScaler()),\n",
       "                                       ('classifier',\n",
       "                                        XGBClassifier(base_score=None,\n",
       "                                                      booster=None,\n",
       "                                                      callbacks=None,\n",
       "                                                      colsample_bylevel=None,\n",
       "                                                      colsample_bynode=None,\n",
       "                                                      colsample_bytree=None,\n",
       "                                                      device=None,\n",
       "                                                      early_stopping_rounds=None,\n",
       "                                                      enable_categorica...\n",
       "                                                      max_leaves=None,\n",
       "                                                      min_child_weight=None,\n",
       "                                                      missing=nan,\n",
       "                                                      monotone_constraints=None,\n",
       "                                                      multi_strategy=None,\n",
       "                                                      n_estimators=None,\n",
       "                                                      n_jobs=None,\n",
       "                                                      num_parallel_tree=None,\n",
       "                                                      random_state=None, ...))]),\n",
       "             param_grid={'classifier__gamma': [0, 0.25, 1],\n",
       "                         'classifier__learning_rate': [1, 0.5, 0.1, 0.05, 0.01],\n",
       "                         'classifier__max_depth': [3, 4, 5],\n",
       "                         'classifier__reg_lambda': [0, 1, 10]},\n",
       "             scoring='accuracy', verbose=2)"
      ]
     },
     "execution_count": 47,
     "metadata": {},
     "output_type": "execute_result"
    }
   ],
   "source": [
    "clf_xgb = xgb.XGBClassifier(objective='binary:logistic', seed = 42, eval_metric='error')\n",
    "pipeline = Pipeline(steps = [('imputer', imputer), ('scaler', scaler), ('classifier', clf_xgb)])\n",
    "param_grid = {\n",
    "    'classifier__max_depth': [3, 4, 5],\n",
    "    'classifier__learning_rate': [1, 0.5, 0.1, 0.05, 0.01],\n",
    "    'classifier__gamma': [0, 0.25, 1],\n",
    "    'classifier__reg_lambda': [0, 1, 10]\n",
    "}\n",
    "\n",
    "grid_search = GridSearchCV(estimator= pipeline, param_grid=param_grid, scoring='accuracy', cv= kf, verbose=2)\n",
    "grid_search.fit(x_train,y_train)"
   ]
  },
  {
   "cell_type": "code",
   "execution_count": 48,
   "metadata": {},
   "outputs": [
    {
     "name": "stdout",
     "output_type": "stream",
     "text": [
      "Best Hyperparameters: {'classifier__gamma': 0.25, 'classifier__learning_rate': 0.1, 'classifier__max_depth': 3, 'classifier__reg_lambda': 0}\n",
      "Best Cross-Validation Score: 0.8173\n"
     ]
    }
   ],
   "source": [
    "print(f\"Best Hyperparameters: {grid_search.best_params_}\")\n",
    "print(f\"Best Cross-Validation Score: {grid_search.best_score_:.4f}\")"
   ]
  },
  {
   "cell_type": "code",
   "execution_count": 26,
   "metadata": {},
   "outputs": [
    {
     "name": "stdout",
     "output_type": "stream",
     "text": [
      "Best Hyperparameters: {'gamma': 0, 'learning_rate': 0.05, 'max_depth': 3, 'reg_lambda': 0}\n",
      "Best Cross-Validation Score: 0.8188\n"
     ]
    }
   ],
   "source": [
    "print(f\"Best Hyperparameters: {grid_search.best_params_}\")\n",
    "print(f\"Best Cross-Validation Score: {grid_search.best_score_:.4f}\")"
   ]
  },
  {
   "cell_type": "code",
   "execution_count": 49,
   "metadata": {},
   "outputs": [
    {
     "data": {
      "text/html": [
       "<style>#sk-container-id-8 {color: black;}#sk-container-id-8 pre{padding: 0;}#sk-container-id-8 div.sk-toggleable {background-color: white;}#sk-container-id-8 label.sk-toggleable__label {cursor: pointer;display: block;width: 100%;margin-bottom: 0;padding: 0.3em;box-sizing: border-box;text-align: center;}#sk-container-id-8 label.sk-toggleable__label-arrow:before {content: \"▸\";float: left;margin-right: 0.25em;color: #696969;}#sk-container-id-8 label.sk-toggleable__label-arrow:hover:before {color: black;}#sk-container-id-8 div.sk-estimator:hover label.sk-toggleable__label-arrow:before {color: black;}#sk-container-id-8 div.sk-toggleable__content {max-height: 0;max-width: 0;overflow: hidden;text-align: left;background-color: #f0f8ff;}#sk-container-id-8 div.sk-toggleable__content pre {margin: 0.2em;color: black;border-radius: 0.25em;background-color: #f0f8ff;}#sk-container-id-8 input.sk-toggleable__control:checked~div.sk-toggleable__content {max-height: 200px;max-width: 100%;overflow: auto;}#sk-container-id-8 input.sk-toggleable__control:checked~label.sk-toggleable__label-arrow:before {content: \"▾\";}#sk-container-id-8 div.sk-estimator input.sk-toggleable__control:checked~label.sk-toggleable__label {background-color: #d4ebff;}#sk-container-id-8 div.sk-label input.sk-toggleable__control:checked~label.sk-toggleable__label {background-color: #d4ebff;}#sk-container-id-8 input.sk-hidden--visually {border: 0;clip: rect(1px 1px 1px 1px);clip: rect(1px, 1px, 1px, 1px);height: 1px;margin: -1px;overflow: hidden;padding: 0;position: absolute;width: 1px;}#sk-container-id-8 div.sk-estimator {font-family: monospace;background-color: #f0f8ff;border: 1px dotted black;border-radius: 0.25em;box-sizing: border-box;margin-bottom: 0.5em;}#sk-container-id-8 div.sk-estimator:hover {background-color: #d4ebff;}#sk-container-id-8 div.sk-parallel-item::after {content: \"\";width: 100%;border-bottom: 1px solid gray;flex-grow: 1;}#sk-container-id-8 div.sk-label:hover label.sk-toggleable__label {background-color: #d4ebff;}#sk-container-id-8 div.sk-serial::before {content: \"\";position: absolute;border-left: 1px solid gray;box-sizing: border-box;top: 0;bottom: 0;left: 50%;z-index: 0;}#sk-container-id-8 div.sk-serial {display: flex;flex-direction: column;align-items: center;background-color: white;padding-right: 0.2em;padding-left: 0.2em;position: relative;}#sk-container-id-8 div.sk-item {position: relative;z-index: 1;}#sk-container-id-8 div.sk-parallel {display: flex;align-items: stretch;justify-content: center;background-color: white;position: relative;}#sk-container-id-8 div.sk-item::before, #sk-container-id-8 div.sk-parallel-item::before {content: \"\";position: absolute;border-left: 1px solid gray;box-sizing: border-box;top: 0;bottom: 0;left: 50%;z-index: -1;}#sk-container-id-8 div.sk-parallel-item {display: flex;flex-direction: column;z-index: 1;position: relative;background-color: white;}#sk-container-id-8 div.sk-parallel-item:first-child::after {align-self: flex-end;width: 50%;}#sk-container-id-8 div.sk-parallel-item:last-child::after {align-self: flex-start;width: 50%;}#sk-container-id-8 div.sk-parallel-item:only-child::after {width: 0;}#sk-container-id-8 div.sk-dashed-wrapped {border: 1px dashed gray;margin: 0 0.4em 0.5em 0.4em;box-sizing: border-box;padding-bottom: 0.4em;background-color: white;}#sk-container-id-8 div.sk-label label {font-family: monospace;font-weight: bold;display: inline-block;line-height: 1.2em;}#sk-container-id-8 div.sk-label-container {text-align: center;}#sk-container-id-8 div.sk-container {/* jupyter's `normalize.less` sets `[hidden] { display: none; }` but bootstrap.min.css set `[hidden] { display: none !important; }` so we also need the `!important` here to be able to override the default hidden behavior on the sphinx rendered scikit-learn.org. See: https://github.com/scikit-learn/scikit-learn/issues/21755 */display: inline-block !important;position: relative;}#sk-container-id-8 div.sk-text-repr-fallback {display: none;}</style><div id=\"sk-container-id-8\" class=\"sk-top-container\"><div class=\"sk-text-repr-fallback\"><pre>Pipeline(steps=[(&#x27;imputer&#x27;, KNNImputer(n_neighbors=3)),\n",
       "                (&#x27;scaler&#x27;, StandardScaler()),\n",
       "                (&#x27;classifier&#x27;,\n",
       "                 XGBClassifier(base_score=None, booster=None, callbacks=None,\n",
       "                               colsample_bylevel=None, colsample_bynode=None,\n",
       "                               colsample_bytree=None, device=None,\n",
       "                               early_stopping_rounds=None,\n",
       "                               enable_categorical=False, eval_metric=&#x27;error&#x27;,\n",
       "                               feature_types=None, gamma=0.25, grow_policy=None,\n",
       "                               importance_type=None,\n",
       "                               interaction_constraints=None, learning_rate=0.1,\n",
       "                               max_bin=None, max_cat_threshold=None,\n",
       "                               max_cat_to_onehot=None, max_delta_step=None,\n",
       "                               max_depth=3, max_leaves=None,\n",
       "                               min_child_weight=None, missing=nan,\n",
       "                               monotone_constraints=None, multi_strategy=None,\n",
       "                               n_estimators=None, n_jobs=None,\n",
       "                               num_parallel_tree=None, random_state=None, ...))])</pre><b>In a Jupyter environment, please rerun this cell to show the HTML representation or trust the notebook. <br />On GitHub, the HTML representation is unable to render, please try loading this page with nbviewer.org.</b></div><div class=\"sk-container\" hidden><div class=\"sk-item sk-dashed-wrapped\"><div class=\"sk-label-container\"><div class=\"sk-label sk-toggleable\"><input class=\"sk-toggleable__control sk-hidden--visually\" id=\"sk-estimator-id-21\" type=\"checkbox\" ><label for=\"sk-estimator-id-21\" class=\"sk-toggleable__label sk-toggleable__label-arrow\">Pipeline</label><div class=\"sk-toggleable__content\"><pre>Pipeline(steps=[(&#x27;imputer&#x27;, KNNImputer(n_neighbors=3)),\n",
       "                (&#x27;scaler&#x27;, StandardScaler()),\n",
       "                (&#x27;classifier&#x27;,\n",
       "                 XGBClassifier(base_score=None, booster=None, callbacks=None,\n",
       "                               colsample_bylevel=None, colsample_bynode=None,\n",
       "                               colsample_bytree=None, device=None,\n",
       "                               early_stopping_rounds=None,\n",
       "                               enable_categorical=False, eval_metric=&#x27;error&#x27;,\n",
       "                               feature_types=None, gamma=0.25, grow_policy=None,\n",
       "                               importance_type=None,\n",
       "                               interaction_constraints=None, learning_rate=0.1,\n",
       "                               max_bin=None, max_cat_threshold=None,\n",
       "                               max_cat_to_onehot=None, max_delta_step=None,\n",
       "                               max_depth=3, max_leaves=None,\n",
       "                               min_child_weight=None, missing=nan,\n",
       "                               monotone_constraints=None, multi_strategy=None,\n",
       "                               n_estimators=None, n_jobs=None,\n",
       "                               num_parallel_tree=None, random_state=None, ...))])</pre></div></div></div><div class=\"sk-serial\"><div class=\"sk-item\"><div class=\"sk-estimator sk-toggleable\"><input class=\"sk-toggleable__control sk-hidden--visually\" id=\"sk-estimator-id-22\" type=\"checkbox\" ><label for=\"sk-estimator-id-22\" class=\"sk-toggleable__label sk-toggleable__label-arrow\">KNNImputer</label><div class=\"sk-toggleable__content\"><pre>KNNImputer(n_neighbors=3)</pre></div></div></div><div class=\"sk-item\"><div class=\"sk-estimator sk-toggleable\"><input class=\"sk-toggleable__control sk-hidden--visually\" id=\"sk-estimator-id-23\" type=\"checkbox\" ><label for=\"sk-estimator-id-23\" class=\"sk-toggleable__label sk-toggleable__label-arrow\">StandardScaler</label><div class=\"sk-toggleable__content\"><pre>StandardScaler()</pre></div></div></div><div class=\"sk-item\"><div class=\"sk-estimator sk-toggleable\"><input class=\"sk-toggleable__control sk-hidden--visually\" id=\"sk-estimator-id-24\" type=\"checkbox\" ><label for=\"sk-estimator-id-24\" class=\"sk-toggleable__label sk-toggleable__label-arrow\">XGBClassifier</label><div class=\"sk-toggleable__content\"><pre>XGBClassifier(base_score=None, booster=None, callbacks=None,\n",
       "              colsample_bylevel=None, colsample_bynode=None,\n",
       "              colsample_bytree=None, device=None, early_stopping_rounds=None,\n",
       "              enable_categorical=False, eval_metric=&#x27;error&#x27;, feature_types=None,\n",
       "              gamma=0.25, grow_policy=None, importance_type=None,\n",
       "              interaction_constraints=None, learning_rate=0.1, max_bin=None,\n",
       "              max_cat_threshold=None, max_cat_to_onehot=None,\n",
       "              max_delta_step=None, max_depth=3, max_leaves=None,\n",
       "              min_child_weight=None, missing=nan, monotone_constraints=None,\n",
       "              multi_strategy=None, n_estimators=None, n_jobs=None,\n",
       "              num_parallel_tree=None, random_state=None, ...)</pre></div></div></div></div></div></div></div>"
      ],
      "text/plain": [
       "Pipeline(steps=[('imputer', KNNImputer(n_neighbors=3)),\n",
       "                ('scaler', StandardScaler()),\n",
       "                ('classifier',\n",
       "                 XGBClassifier(base_score=None, booster=None, callbacks=None,\n",
       "                               colsample_bylevel=None, colsample_bynode=None,\n",
       "                               colsample_bytree=None, device=None,\n",
       "                               early_stopping_rounds=None,\n",
       "                               enable_categorical=False, eval_metric='error',\n",
       "                               feature_types=None, gamma=0.25, grow_policy=None,\n",
       "                               importance_type=None,\n",
       "                               interaction_constraints=None, learning_rate=0.1,\n",
       "                               max_bin=None, max_cat_threshold=None,\n",
       "                               max_cat_to_onehot=None, max_delta_step=None,\n",
       "                               max_depth=3, max_leaves=None,\n",
       "                               min_child_weight=None, missing=nan,\n",
       "                               monotone_constraints=None, multi_strategy=None,\n",
       "                               n_estimators=None, n_jobs=None,\n",
       "                               num_parallel_tree=None, random_state=None, ...))])"
      ]
     },
     "execution_count": 49,
     "metadata": {},
     "output_type": "execute_result"
    }
   ],
   "source": [
    "best_xgb = grid_search.best_estimator_\n",
    "best_xgb.fit(x_train, y_train)"
   ]
  },
  {
   "cell_type": "code",
   "execution_count": 50,
   "metadata": {},
   "outputs": [
    {
     "data": {
      "image/png": "[encoded data removed]",
      "text/plain": [
       "<Figure size 432x288 with 2 Axes>"
      ]
     },
     "metadata": {
      "needs_background": "light"
     },
     "output_type": "display_data"
    }
   ],
   "source": [
    "y_pred = best_xgb.predict(x_test)\n",
    "disp = ConfusionMatrixDisplay.from_predictions(\n",
    "y_test, y_pred, cmap=plt.cm.Blues, display_labels=['No HD', 'Yes HD'], normalize=None)\n",
    "plt.show()"
   ]
  },
  {
   "cell_type": "code",
   "execution_count": null,
   "metadata": {},
   "outputs": [],
   "source": []
  },
  {
   "cell_type": "code",
   "execution_count": null,
   "metadata": {},
   "outputs": [],
   "source": []
  },
  {
   "cell_type": "code",
   "execution_count": null,
   "metadata": {},
   "outputs": [],
   "source": []
  },
  {
   "cell_type": "code",
   "execution_count": null,
   "metadata": {},
   "outputs": [],
   "source": []
  }
 ],
 "metadata": {
  "kernelspec": {
   "display_name": "Python 3",
   "language": "python",
   "name": "python3"
  },
  "language_info": {
   "codemirror_mode": {
    "name": "ipython",
    "version": 3
   },
   "file_extension": ".py",
   "mimetype": "text/x-python",
   "name": "python",
   "nbconvert_exporter": "python",
   "pygments_lexer": "ipython3",
   "version": "3.8.5"
  }
 },
 "nbformat": 4,
 "nbformat_minor": 4
}
