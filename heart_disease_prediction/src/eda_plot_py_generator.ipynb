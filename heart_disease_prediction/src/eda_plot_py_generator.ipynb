{
 "cells": [
  {
   "cell_type": "code",
   "execution_count": 5,
   "metadata": {},
   "outputs": [
    {
     "name": "stdout",
     "output_type": "stream",
     "text": [
      "Overwriting eda_plot.py\n"
     ]
    }
   ],
   "source": [
    "%%writefile eda_plot.py\n",
    "\n",
    "from data_cleaning import load_data, get_processed_data\n",
    "import os\n",
    "\n",
    "path_to_dataset = r'C:\\\\Users\\\\patil\\\\Documents\\\\GitHub\\\\ml_projects\\\\heart_disease_prediction\\\\data\\\\processed'\n",
    "filename = 'processed_data_py.csv'\n",
    "folder_path = r'C:\\\\Users\\\\patil\\\\Documents\\\\GitHub\\\\ml_projects\\\\heart_disease_prediction\\\\data\\\\processed'\n",
    "figname = 'feature_distributions.jpeg'\n",
    "\n",
    "def plot_features(df, filename):\n",
    "    \"\"\" Plots distributions of all features as well as input features plotted against output feature\"\"\"\n",
    "    n_plots = len(numeric_cols) + len(categorical_cols)\n",
    "    n_cols = 3\n",
    "    n_rows = n_plots // n_cols + 1\n",
    "    \n",
    "    fig, axes = plt.subplots(n_rows, n_cols, figsize = (5*n_cols, 8*n_rows))\n",
    "    axes = axes.flatten()\n",
    "    \n",
    "    for i, col in enumerate(numeric_cols):\n",
    "        ax = axes[i]\n",
    "        sns.histplot(df[col], kde = True, ax = ax, color = 'skyblue')\n",
    "        ax.set_title(f'Distribution of {col}', fontsize = 12)\n",
    "        ax.set_xlabel(col)\n",
    "        ax.set_ylabel('Count')\n",
    "        \n",
    "    for i, col in enumerate(categorical_cols):\n",
    "        ax = axes[i+ len(numeric_cols)]\n",
    "        val_counts = df[col].value_counts()\n",
    "        sns.barplot(x = val_counts.index, y = val_counts.values, ax = ax, color = 'lightpink')\n",
    "        ax.set_title(f'Distribution of {col}', fontsize = 12)\n",
    "        ax.set_xlabel(col)\n",
    "        ax.set_ylabel('Count')\n",
    "        ax.tick_params(axis='x', rotation=45)\n",
    "    \n",
    "    for i in range(n_plots, n_cols*n_rows):\n",
    "        fig.delaxes(axes[i])\n",
    "    plt.tight_layout()\n",
    "    plt.savefig(file_name)\n",
    "if __name__ == '__main__':\n",
    "    full_file_path = os.path.join(path_to_dataset, filename)\n",
    "    df = load_data(full_file_path)\n",
    "    _, _, _, _, _ = get_processed_data(df)\n",
    "    \n",
    "    print(df['num'].value_counts())\n",
    "    print(df.isnull().sum())\n",
    "    full_file_path = os.path.join(folder_path, figname)\n",
    "    plot_features(df, full_file_path)"
   ]
  }
 ],
 "metadata": {
  "kernelspec": {
   "display_name": "Python 3",
   "language": "python",
   "name": "python3"
  },
  "language_info": {
   "codemirror_mode": {
    "name": "ipython",
    "version": 3
   },
   "file_extension": ".py",
   "mimetype": "text/x-python",
   "name": "python",
   "nbconvert_exporter": "python",
   "pygments_lexer": "ipython3",
   "version": "3.8.5"
  }
 },
 "nbformat": 4,
 "nbformat_minor": 4
}
