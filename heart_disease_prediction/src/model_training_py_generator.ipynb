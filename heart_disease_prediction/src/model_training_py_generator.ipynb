{
 "cells": [
  {
   "cell_type": "code",
   "execution_count": 21,
   "metadata": {},
   "outputs": [
    {
     "name": "stdout",
     "output_type": "stream",
     "text": [
      "Overwriting model_training.py\n"
     ]
    }
   ],
   "source": [
    "%%writefile model_training.py\n",
    "\n",
    "from sklearn.pipeline import Pipeline\n",
    "from data_cleaning import load_data, get_processed_data\n",
    "from sklearn.ensemble import RandomForestClassifier\n",
    "import os\n",
    "import joblib\n",
    "\n",
    "path_to_dataset = r'C:\\\\Users\\\\patil\\\\Documents\\\\GitHub\\\\ml_projects\\\\heart_disease_prediction\\\\data\\\\raw\\datasets\\redwankarimsony\\heart-disease-data\\versions\\6'\n",
    "filename = 'heart_disease_uci.csv'\n",
    "path_to_model = r'C:\\\\Users\\\\patil\\\\Documents\\\\GitHub\\\\ml_projects\\\\heart_disease_prediction\\\\models'\n",
    "MODEL_FILE = 'rf_classifier.joblib'\n",
    "\n",
    "def train_model(X_train, y_train, preprocessor):\n",
    "    \"\"\"\n",
    "    Creates and trains the full pipeline: Preprocessor + Random Forest Classifier.\n",
    "    \n",
    "    We use the best parameters found during hyperparameter tuning.\n",
    "    \"\"\"\n",
    "    rf_model = RandomForestClassifier(n_estimators=50,      \n",
    "        max_depth=6,        \n",
    "        min_samples_leaf=5,    \n",
    "        random_state=42,       \n",
    "        n_jobs=-1)\n",
    "    full_pipeline = Pipeline(steps=[('preprocessor', preprocessor), ('classifier', rf_model)])\n",
    "    print(\"Fitting the full pipeline (Preprocessor + Random Forest)...\")\n",
    "    full_pipeline.fit(X_train, y_train)\n",
    "    return full_pipeline\n",
    "\n",
    "def save_model(model, filename):\n",
    "    \"\"\" Saves the trained model pipeline to a file. \"\"\"\n",
    "    joblib.dump(model, filename)\n",
    "    print(f\"\\nModel successfully trained and saved as {filename}\")\n",
    "\n",
    "if __name__ == '__main__':\n",
    "    full_file_path = os.path.join(path_to_dataset, filename)\n",
    "    df = load_data(full_file_path)\n",
    "    X_train, X_test, y_train, y_test, preprocessor = get_processed_data(df)\n",
    "    trained_model = train_model(X_train, y_train, preprocessor)\n",
    "    full_file_path = os.path.join(path_to_model, MODEL_FILE)\n",
    "    save_model(trained_model, full_file_path)"
   ]
  },
  {
   "cell_type": "code",
   "execution_count": null,
   "metadata": {},
   "outputs": [],
   "source": []
  }
 ],
 "metadata": {
  "kernelspec": {
   "display_name": "Python 3",
   "language": "python",
   "name": "python3"
  },
  "language_info": {
   "codemirror_mode": {
    "name": "ipython",
    "version": 3
   },
   "file_extension": ".py",
   "mimetype": "text/x-python",
   "name": "python",
   "nbconvert_exporter": "python",
   "pygments_lexer": "ipython3",
   "version": "3.8.5"
  }
 },
 "nbformat": 4,
 "nbformat_minor": 4
}
